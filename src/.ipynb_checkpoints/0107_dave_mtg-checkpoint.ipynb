{
 "cells": [
  {
   "cell_type": "code",
   "execution_count": 1,
   "metadata": {},
   "outputs": [],
   "source": [
    "import pandas as pd, numpy as np\n",
    "import imp, re\n",
    "\n",
    "import z2_save_jaspar, z1_save_oligos, z3_transformations\n",
    "from scipy.stats import ks_2samp\n",
    "import scipy.stats as stats\n",
    "idx = pd.IndexSlice\n",
    "\n",
    "import matplotlib.pyplot as plt\n",
    "import seaborn as sns\n",
    "%matplotlib inline\n",
    "\n"
   ]
  },
  {
   "cell_type": "code",
   "execution_count": 2,
   "metadata": {},
   "outputs": [],
   "source": [
    "\n",
    "#LOAD JASPAR & OLIGO DATA\n",
    "jaspar = z2_save_jaspar.load_jaspar()\n",
    "oligos,oligos_by_exp = z1_save_oligos.load_oligos_plus()\n",
    "oligos_by_exp[\"analysis_group_key\"] = oligos_by_exp.exp.copy()\n",
    "all_obe = oligos_by_exp.reset_index().loc[lambda x:x.mutant_num<5].groupby([\"starts\",\"mutant_num\",\"analysis_group_key\"]).norm_mu.mean()\n"
   ]
  },
  {
   "cell_type": "code",
   "execution_count": null,
   "metadata": {},
   "outputs": [],
   "source": []
  },
  {
   "cell_type": "code",
   "execution_count": null,
   "metadata": {},
   "outputs": [
    {
     "name": "stderr",
     "output_type": "stream",
     "text": [
      "/usr/local/anaconda3/lib/python3.7/site-packages/numpy/lib/nanfunctions.py:1666: RuntimeWarning: Degrees of freedom <= 0 for slice.\n",
      "  keepdims=keepdims)\n"
     ]
    }
   ],
   "source": [
    "filters =  z3_transformations.compute_filters(all_obe, hq = False)\n"
   ]
  },
  {
   "cell_type": "code",
   "execution_count": null,
   "metadata": {},
   "outputs": [],
   "source": [
    "print(f\"\"\"{oligos_by_exp.n_bcs.sum()} barcodes,  {oligos_by_exp.n_transcripts.sum()} total UMIs. \n",
    "{oligos_by_exp.n_transcripts.sum() / oligos_by_exp.n_bcs.sum()} umis per barcode\n",
    "{oligos_by_exp.groupby([\"oligo\",\"analysis_group_key\"]).n_transcripts.sum().mean()}\n",
    "\"\"\")\n",
    "\n"
   ]
  },
  {
   "cell_type": "code",
   "execution_count": null,
   "metadata": {},
   "outputs": [],
   "source": [
    "tile_sets_nmu = oligos_by_exp.groupby([\"starts\"]).mean().norm_mu\n",
    "wt_tiles_nmu = oligos_by_exp.loc[lambda x: x.mutant_num == 0].groupby([\"starts\"]).mean().norm_mu\n",
    "\n",
    "e5_tile_starts = oligos_by_exp.loc[lambda x: x.mutant_num == 0]\\\n",
    "    .groupby([\"starts\"]).mean().loc[lambda x: x.norm_mu >= x.norm_mu.quantile(.95) ].index\n",
    "e1_tile_starts = oligos_by_exp.loc[lambda x: x.mutant_num == 0]\\\n",
    "    .groupby([\"starts\"]).mean().loc[lambda x: x.norm_mu > x.norm_mu.quantile(.99) ].index\n",
    "\n",
    "print(f\"\"\"average normalized mu over all tile sets in all experiments {tile_sets_nmu.mean()}\n",
    "average normalized my over all wildtype tiles {wt_tiles_nmu.mean()}\n",
    "\n",
    "the 95th percentile value of enmu over all wildtype tiles is {wt_tiles_nmu.quantile(.95)}\n",
    "the 99th percentile value of enmu over all wiltype tiles is {wt_tiles_nmu.quantile(.99)}\n",
    "\n",
    "the 95th percentile value of enmu over all tiles is {tile_sets_nmu.quantile(.95)}\n",
    "the 99th percentile value of enmu over all tiles is {tile_sets_nmu.quantile(.99)}\n",
    "\n",
    "We will define the e5 and e1 groups using the average expression levels of wild type oligos\n",
    "being over the 95th and 99th percentiles respectively.\n",
    "\n",
    "{len(e5_tile_starts)} and {len(e1_tile_starts)} of {oligos_by_exp.starts.nunique()} were identified in \n",
    "the e5 and e1 sets respectively.\n",
    "\"\"\")"
   ]
  },
  {
   "cell_type": "code",
   "execution_count": null,
   "metadata": {},
   "outputs": [],
   "source": [
    "obe_by_start = oligos_by_exp.reset_index().set_index(\"starts\").sort_index()"
   ]
  },
  {
   "cell_type": "code",
   "execution_count": null,
   "metadata": {},
   "outputs": [],
   "source": [
    "\n",
    "oligo_types =pd.concat([pd.concat([\n",
    "obe_by_start.loc[max(mutant_start_position-150,0):mutant_start_position].loc[lambda x: x.mutant_start == mutant_start_position].assign(tile_class=\"ablation\"),\n",
    "obe_by_start.loc[max(mutant_start_position-150,0):mutant_start_position].loc[lambda x: (x.mutant_num > 0) &(x.mutant_num < 5) & (x.mutant_start != mutant_start_position)].assign(tile_class=\"other\"),    \n",
    "obe_by_start.loc[max(mutant_start_position-150,0):max(0,mutant_start_position-30)].loc[lambda x: x.mutant_num ==0].assign(tile_class=\"wildtype\"),\n",
    "obe_by_start.loc[max(mutant_start_position-150,0):mutant_start_position+30].loc[lambda x: (x.mutant_start == mutant_start_position) | \n",
    "                                                                                ( (x.mutant_start+30) == mutant_start_position)].assign(tile_class=\"ablation60\"),    \n",
    "obe_by_start.loc[max(mutant_start_position-150,0):mutant_start_position+30].loc[lambda x: (x.mutant_num > 0) &(x.mutant_num < 5) &\n",
    "                                                                                ( (x.mutant_start != mutant_start_position) & \n",
    "                                                                                ( (x.mutant_start+30) != mutant_start_position))].assign(tile_class=\"other60\"),    \n",
    "obe_by_start.loc[max(mutant_start_position-150,0):max(0,mutant_start_position)].loc[lambda x: x.mutant_num ==0].assign(tile_class=\"wildtype60\"),\n",
    "    \n",
    "    ], ignore_index =True).assign(mutant_tile_start = mutant_start_position) for mutant_start_position in oligos_by_exp.mutant_start.unique()]).set_index([\"mutant_tile_start\",\"tile_class\"])\n"
   ]
  },
  {
   "cell_type": "code",
   "execution_count": null,
   "metadata": {},
   "outputs": [],
   "source": [
    "oligo_types[\"starts\"] = oligo_types.join(oligos_by_exp.reset_index().drop_duplicates(\"oligo\").set_index(\"oligo\")[[\"starts\"]],on=\"oligo\").starts"
   ]
  },
  {
   "cell_type": "code",
   "execution_count": null,
   "metadata": {},
   "outputs": [],
   "source": [
    "oligo_types = oligo_types.sort_index(level=[0,1])"
   ]
  },
  {
   "cell_type": "code",
   "execution_count": null,
   "metadata": {},
   "outputs": [],
   "source": [
    "\n",
    "#means = pd.Series(mutant_starts).apply(lambda s: oligo_types.loc[idx[s,:],:].groupby(\"tile_class\").norm_mu.mean())\n",
    "\n",
    "def get_stats(s):\n",
    "    tile_groups = oligo_types.loc[idx[s,:],:].groupby(\"tile_class\")\n",
    "    if not set([\"ablation\",\"other\",\"wildtype\",\n",
    "                \"ablation60\",\"other60\",\"wildtype60\"]).issubset(tile_groups.groups.keys()): \n",
    "        print (f\"skipping position {s}\")\n",
    "        return pd.Series().rename(s)\n",
    "\n",
    "    ablations = tile_groups.get_group(\"ablation\")\n",
    "    others = tile_groups.get_group(\"other\")\n",
    "    wildtypes = tile_groups.get_group(\"wildtype\")\n",
    "    \n",
    "    ab1_dld1 = tile_groups.get_group(\"ablation\").loc[lambda x: x.exp==\"DLD1_WT_BR1\"]\n",
    "    ot1_dld1 = tile_groups.get_group(\"other\").loc[lambda x: x.exp==\"DLD1_WT_BR1\"]\n",
    "    wt1_dld1 = tile_groups.get_group(\"wildtype\").loc[lambda x: x.exp==\"DLD1_WT_BR1\"]\n",
    "    \n",
    "    ab2_dld1 = tile_groups.get_group(\"ablation\").loc[lambda x: x.exp==\"DLD1_WT_BR2\"]\n",
    "    ot2_dld1 = tile_groups.get_group(\"other\").loc[lambda x: x.exp==\"DLD1_WT_BR2\"]\n",
    "    wt2_dld1 = tile_groups.get_group(\"wildtype\").loc[lambda x: x.exp==\"DLD1_WT_BR2\"]\n",
    "\n",
    "\n",
    "    ablations60 = tile_groups.get_group(\"ablation60\")\n",
    "    others60 = tile_groups.get_group(\"other60\")\n",
    "    wildtypes60 = tile_groups.get_group(\"wildtype60\")\n",
    "    \n",
    "    wt_tt = stats.ttest_ind( ablations.norm_mu, wildtypes.norm_mu)\n",
    "    all_tt = stats.ttest_ind( ablations.norm_mu, pd.concat([wildtypes.norm_mu,others.norm_mu]))\n",
    "    \n",
    "    r1_tt = stats.ttest_ind( ab1_dld1.norm_mu, wt1_dld1.norm_mu)\n",
    "    r2_tt = stats.ttest_ind( ab2_dld1.norm_mu, wt2_dld1.norm_mu)\n",
    "    \n",
    "    r1_aott = stats.ttest_ind( ab1_dld1.norm_mu, pd.concat([wt1_dld1.norm_mu,ot1_dld1.norm_mu]))\n",
    "    r2_aott = stats.ttest_ind( ab2_dld1.norm_mu, pd.concat([wt2_dld1.norm_mu,ot2_dld1.norm_mu]))\n",
    "            \n",
    "        \n",
    "#     wt_rep_tt = stats.ttest_ind( ablations.norm_mu, wildtypes.norm_mu)\n",
    "#     all_rep_tt = stats.ttest_ind( ablations.norm_mu, pd.concat([wildtypes.norm_mu,others.norm_mu]))\n",
    "    \n",
    "    \n",
    "    return pd.Series({\n",
    "\n",
    "        \"mu_wt\":wildtypes.norm_mu.mean(),\n",
    "        \"mu_ot\":others.norm_mu.mean(),\n",
    "        \"mu_ab\":ablations.norm_mu.mean(),\n",
    "\n",
    "        \"mu_wt60\":wildtypes60.norm_mu.mean(),\n",
    "        \"mu_ot60\":others60.norm_mu.mean(),\n",
    "        \"mu_ab60\":ablations60.norm_mu.mean(),\n",
    "        \n",
    "        \"tt_wt_pval\":-1 * np.log(wt_tt[1]),\n",
    "        \"tt_all_pval\":-1 * np.log(all_tt[1]),\n",
    "        \n",
    "                \n",
    "        \"tt_wt_ttstat\":wt_tt[0],\n",
    "        \"tt_all_ttstat\":all_tt[0],\n",
    "        \n",
    "                        \n",
    "        \"tt_r1_ttstat\":r1_tt[0],\n",
    "        \"tt_r2_ttstat\":r2_tt[0],\n",
    "                                \n",
    "        \"tt_r1_aottstat\":r1_aott[0],\n",
    "        \"tt_r2_aottstat\":r2_aott[0],\n",
    "        \n",
    "        \"tt_r1_aott_pval\":-1 * np.log(r1_aott[1]),\n",
    "        \"tt_r2_aott_pval\":-1 * np.log(r2_aott[1]),\n",
    "        \n",
    "                \n",
    "\n",
    "    }).rename(s)\n",
    "\n",
    "\n",
    "\n"
   ]
  },
  {
   "cell_type": "code",
   "execution_count": null,
   "metadata": {},
   "outputs": [],
   "source": [
    "enriched_starts = e1_tile_starts\n",
    "mutant_starts = oligos_by_exp.loc[lambda x: x.starts.isin(enriched_starts)].mutant_start.unique()\n",
    "e1_stats = pd.Series(mutant_starts, index = mutant_starts).apply(get_stats)\n",
    "\n",
    "\n",
    "enriched_starts = e5_tile_starts\n",
    "mutant_starts = oligos_by_exp.loc[lambda x: x.starts.isin(enriched_starts)].mutant_start.unique()\n",
    "e5_stats = pd.Series(mutant_starts, index = mutant_starts).apply(get_stats)\n"
   ]
  },
  {
   "cell_type": "code",
   "execution_count": null,
   "metadata": {},
   "outputs": [],
   "source": [
    "import seaborn as sns\n",
    "%matplotlib inline"
   ]
  },
  {
   "cell_type": "code",
   "execution_count": null,
   "metadata": {},
   "outputs": [],
   "source": [
    "sns.jointplot( x = \"tt_r1_aott_pval\", y = \"tt_r1_pval\", data = pd.concat([\n",
    "    e5_stats.assign(enrichment=0),\n",
    "    e1_stats.assign(enrichment=1)]))"
   ]
  },
  {
   "cell_type": "code",
   "execution_count": null,
   "metadata": {},
   "outputs": [],
   "source": [
    "sns.jointplot( x = \"tt_r1_ttstat\", y = \"tt_r2_ttstat\", data = pd.concat([\n",
    "    e5_stats.assign(enrichment=0),\n",
    "    e1_stats.assign(enrichment=1)]))"
   ]
  },
  {
   "cell_type": "code",
   "execution_count": null,
   "metadata": {},
   "outputs": [],
   "source": [
    "sns.jointplot( x = \"tt_wt_ttstat\", y = \"tt_all_ttstat\", data = pd.concat([\n",
    "    e5_stats.assign(enrichment=0),\n",
    "    e1_stats.assign(enrichment=1)]))"
   ]
  },
  {
   "cell_type": "code",
   "execution_count": null,
   "metadata": {},
   "outputs": [],
   "source": [
    "\n",
    "f = plt.gca()\n",
    "\n",
    "sns.jointplot( x = \"tt_wt_pval\", y = \"tt_all_pval\", data = pd.concat([\n",
    "    e5_stats.assign(enrichment=0),\n",
    "    e1_stats.assign(enrichment=1)]))"
   ]
  },
  {
   "cell_type": "code",
   "execution_count": null,
   "metadata": {},
   "outputs": [],
   "source": [
    "\n",
    "f = plt.gca()\n",
    "\n",
    "sns.jointplot( x = \"tt_wt_pval\", y = \"tt_all_pval\", data = pd.concat([\n",
    "    e5_stats.assign(enrichment=0),\n",
    "    e1_stats.assign(enrichment=1)]))"
   ]
  },
  {
   "cell_type": "code",
   "execution_count": null,
   "metadata": {},
   "outputs": [],
   "source": [
    "\n",
    "for enriched_starts in [ oligos_by_exp.starts.unique() ]: \n",
    "\n",
    "    \n",
    "    \n",
    "    mutant_starts = oligos_by_exp.loc[lambda x: x.starts.isin(enriched_starts)].mutant_start.unique()\n",
    "    \n",
    "    #means = pd.Series(mutant_starts).apply(lambda s: oligo_types.loc[idx[s,:],:].groupby(\"tile_class\").norm_mu.mean())\n",
    "    \n",
    "    def get_stats(s):\n",
    "        tile_groups = oligo_types.loc[idx[s,:],:].groupby(\"tile_class\")\n",
    "        if not set([\"ablation\",\"other\",\"wildtype\",\n",
    "                    \"ablation60\",\"other60\",\"wildtype60\"]).issubset(tile_groups.groups.keys()): \n",
    "            print (f\"skipping position {s}\")\n",
    "            return pd.Series().rename(s)\n",
    "        \n",
    "        ablations = tile_groups.get_group(\"ablation\")\n",
    "        others = tile_groups.get_group(\"other\")\n",
    "        wildtypes = tile_groups.get_group(\"wildtype\")\n",
    "        \n",
    "        ablations60 = tile_groups.get_group(\"ablation60\")\n",
    "        others60 = tile_groups.get_group(\"other60\")\n",
    "        wildtypes60 = tile_groups.get_group(\"wildtype60\")\n",
    "\n",
    "        wt_tt = stats.ttest_ind( ablations.norm_mu, wildtypes.norm_mu)\n",
    "        all_tt = stats.ttest_ind( ablations.norm_mu, pd.concat([wildtypes.norm_mu,others.norm_mu]))\n",
    "\n",
    "        return pd.Series({\n",
    "\n",
    "            \"mu_wt\":wildtypes.norm_mu.mean(),\n",
    "            \"mu_ot\":others.norm_mu.mean(),\n",
    "            \"mu_ab\":ablations.norm_mu.mean(),\n",
    "\n",
    "            \"mu_wt60\":wildtypes60.norm_mu.mean(),\n",
    "            \"mu_ot60\":others60.norm_mu.mean(),\n",
    "            \"mu_ab60\":ablations60.norm_mu.mean(),\n",
    "\n",
    "            \"tt_wt_pval\":wt_tt[1],\n",
    "            \"tt_all_pval\":wt_tt[1],\n",
    "\n",
    "            }).rename(s)\n",
    "\n",
    "    stats2 = pd.Series(mutant_starts, index = mutant_starts).apply(get_stats)\n",
    "\n",
    "        \n",
    "  "
   ]
  },
  {
   "cell_type": "code",
   "execution_count": null,
   "metadata": {},
   "outputs": [],
   "source": []
  },
  {
   "cell_type": "code",
   "execution_count": null,
   "metadata": {},
   "outputs": [],
   "source": [
    "oligo_types.loc[idx[s,:],:].loc[idx[1526,\"wildtype60\"],:]"
   ]
  },
  {
   "cell_type": "code",
   "execution_count": null,
   "metadata": {},
   "outputs": [],
   "source": [
    "oligo_types.loc[idx[s,:],:].groupby(\"tile_class\").mean()"
   ]
  },
  {
   "cell_type": "code",
   "execution_count": null,
   "metadata": {},
   "outputs": [],
   "source": [
    "oligo_types.reset_index().tile_class.value_counts()"
   ]
  },
  {
   "cell_type": "code",
   "execution_count": null,
   "metadata": {},
   "outputs": [],
   "source": [
    "oligo_types.reset_index().tile_class.unique()"
   ]
  }
 ],
 "metadata": {
  "kernelspec": {
   "display_name": "Python 3",
   "language": "python",
   "name": "python3"
  },
  "language_info": {
   "codemirror_mode": {
    "name": "ipython",
    "version": 3
   },
   "file_extension": ".py",
   "mimetype": "text/x-python",
   "name": "python",
   "nbconvert_exporter": "python",
   "pygments_lexer": "ipython3",
   "version": "3.7.4"
  }
 },
 "nbformat": 4,
 "nbformat_minor": 4
}
