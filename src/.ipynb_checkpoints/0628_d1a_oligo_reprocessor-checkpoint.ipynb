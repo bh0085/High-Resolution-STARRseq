{
 "cells": [
  {
   "cell_type": "code",
   "execution_count": 1,
   "metadata": {},
   "outputs": [],
   "source": [
    "from _config import OLIGO_LIBRARY, POSITIVE_CONTROLS_FILE"
   ]
  },
  {
   "cell_type": "code",
   "execution_count": 2,
   "metadata": {},
   "outputs": [],
   "source": [
    "import numpy as np\n",
    "import pandas as pd, re"
   ]
  },
  {
   "cell_type": "code",
   "execution_count": 3,
   "metadata": {},
   "outputs": [],
   "source": [
    "output = pd.read_csv(\"../out/d1_aggregrate_results.csv\")"
   ]
  },
  {
   "cell_type": "code",
   "execution_count": 74,
   "metadata": {},
   "outputs": [
    {
     "data": {
      "text/plain": [
       "1058320"
      ]
     },
     "execution_count": 74,
     "metadata": {},
     "output_type": "execute_result"
    }
   ],
   "source": [
    "output.umi.nunique()"
   ]
  },
  {
   "cell_type": "code",
   "execution_count": 4,
   "metadata": {},
   "outputs": [],
   "source": [
    "import matplotlib.pyplot as plt\n",
    "%matplotlib inline"
   ]
  },
  {
   "cell_type": "code",
   "execution_count": 5,
   "metadata": {},
   "outputs": [],
   "source": [
    "all_results = output.iloc[:1000000]"
   ]
  },
  {
   "cell_type": "code",
   "execution_count": 6,
   "metadata": {},
   "outputs": [
    {
     "name": "stdout",
     "output_type": "stream",
     "text": [
      "CPU times: user 2min 9s, sys: 19.3 s, total: 2min 29s\n",
      "Wall time: 2min 27s\n"
     ]
    }
   ],
   "source": [
    "%%time\n",
    "\n",
    "subs = output\n",
    "dedup = subs.drop_duplicates([\"bc\",\"umi\"])\n",
    "n_bcs = dedup.groupby(\"oligo\").bc.nunique()\n",
    "n_umis = dedup.groupby(\"oligo\").umi.nunique()\n",
    "oligo_info = pd.concat([n_bcs.rename(\"n_bcs\"),n_umis.rename(\"n_transcripts\")],axis = 1)\n",
    "oligo_info.to_csv(\"../out/0628_d1a_all_oligo_info.csv\")\n"
   ]
  },
  {
   "cell_type": "code",
   "execution_count": 7,
   "metadata": {},
   "outputs": [],
   "source": [
    "dedup_bcs = subs.drop_duplicates([\"bc\",\"umi\"]).groupby(\"bc\").size()"
   ]
  },
  {
   "cell_type": "code",
   "execution_count": 8,
   "metadata": {},
   "outputs": [],
   "source": [
    "all_bcs_tx_counts = output.drop_duplicates([\"bc\",\"umi\"]).groupby(\"bc\").size()"
   ]
  },
  {
   "cell_type": "code",
   "execution_count": 12,
   "metadata": {},
   "outputs": [
    {
     "name": "stdout",
     "output_type": "stream",
     "text": [
      "hi\n"
     ]
    }
   ],
   "source": [
    "print(\"hi\")"
   ]
  },
  {
   "cell_type": "code",
   "execution_count": 10,
   "metadata": {},
   "outputs": [],
   "source": []
  },
  {
   "cell_type": "code",
   "execution_count": null,
   "metadata": {},
   "outputs": [],
   "source": []
  },
  {
   "cell_type": "code",
   "execution_count": 11,
   "metadata": {},
   "outputs": [
    {
     "name": "stdout",
     "output_type": "stream",
     "text": [
      "CPU times: user 3min, sys: 25.3 s, total: 3min 26s\n",
      "Wall time: 3min 23s\n"
     ]
    }
   ],
   "source": [
    "%%time\n",
    "# n = 4000000\n",
    "# #all_results_exp_oligo = all_results[[\"bc\",\"umi\"]].set_index([\"exp\",\"oligo\"])\n",
    "# unique_bcs2 = output[[\"exp\",\"oligo\",\"bc\"]].drop_duplicates().groupby(by=[\"exp\",\"oligo\"]).size()\n",
    "# unique_umis2 = output[[\"exp\",\"oligo\",\"umi\"]].drop_duplicates().groupby(by=[\"exp\",\"oligo\"]).size()\n",
    "\n",
    "\n",
    "\n",
    "subs = output\n",
    "dedup = subs.drop_duplicates([\"exp\",\"bc\",\"umi\"])\n",
    "n_bcs = dedup.groupby([\"exp\",\"oligo\"]).bc.nunique()\n",
    "n_umis = dedup.groupby([\"exp\",\"oligo\"]).umi.nunique()\n",
    "oligo_exp_info = pd.concat([n_bcs.rename(\"n_bcs\"),n_umis.rename(\"n_transcripts\")],axis = 1)\n",
    "oligo_exp_info.to_csv(\"../out/0628_d1a_all_exp_oligo_info.csv\")\n",
    "\n"
   ]
  },
  {
   "cell_type": "code",
   "execution_count": 15,
   "metadata": {},
   "outputs": [],
   "source": []
  },
  {
   "cell_type": "code",
   "execution_count": 16,
   "metadata": {},
   "outputs": [
    {
     "ename": "KeyboardInterrupt",
     "evalue": "",
     "output_type": "error",
     "traceback": [
      "\u001b[0;31m---------------------------------------------------------------------------\u001b[0m",
      "\u001b[0;31mKeyboardInterrupt\u001b[0m                         Traceback (most recent call last)",
      "\u001b[0;32m<ipython-input-16-6abdc57574cd>\u001b[0m in \u001b[0;36m<module>\u001b[0;34m\u001b[0m\n\u001b[1;32m      1\u001b[0m \u001b[0mbc_output\u001b[0m \u001b[0;34m=\u001b[0m \u001b[0moutput\u001b[0m\u001b[0;34m.\u001b[0m\u001b[0mset_index\u001b[0m\u001b[0;34m(\u001b[0m\u001b[0;34m\"bc\"\u001b[0m\u001b[0;34m)\u001b[0m\u001b[0;34m\u001b[0m\u001b[0;34m\u001b[0m\u001b[0m\n\u001b[0;32m----> 2\u001b[0;31m \u001b[0mbc_output\u001b[0m \u001b[0;34m=\u001b[0m \u001b[0mbc_output\u001b[0m\u001b[0;34m.\u001b[0m\u001b[0msort_index\u001b[0m\u001b[0;34m(\u001b[0m\u001b[0;34m)\u001b[0m\u001b[0;34m\u001b[0m\u001b[0;34m\u001b[0m\u001b[0m\n\u001b[0m\u001b[1;32m      3\u001b[0m \u001b[0;34m\u001b[0m\u001b[0m\n",
      "\u001b[0;32m~/anaconda27/envs/py3/lib/python3.7/site-packages/pandas/core/frame.py\u001b[0m in \u001b[0;36msort_index\u001b[0;34m(self, axis, level, ascending, inplace, kind, na_position, sort_remaining, by)\u001b[0m\n\u001b[1;32m   4776\u001b[0m             \u001b[0;31m# Check monotonic-ness before sort an index\u001b[0m\u001b[0;34m\u001b[0m\u001b[0;34m\u001b[0m\u001b[0;34m\u001b[0m\u001b[0m\n\u001b[1;32m   4777\u001b[0m             \u001b[0;31m# GH11080\u001b[0m\u001b[0;34m\u001b[0m\u001b[0;34m\u001b[0m\u001b[0;34m\u001b[0m\u001b[0m\n\u001b[0;32m-> 4778\u001b[0;31m             if ((ascending and labels.is_monotonic_increasing) or\n\u001b[0m\u001b[1;32m   4779\u001b[0m                     (not ascending and labels.is_monotonic_decreasing)):\n\u001b[1;32m   4780\u001b[0m                 \u001b[0;32mif\u001b[0m \u001b[0minplace\u001b[0m\u001b[0;34m:\u001b[0m\u001b[0;34m\u001b[0m\u001b[0;34m\u001b[0m\u001b[0m\n",
      "\u001b[0;32m~/anaconda27/envs/py3/lib/python3.7/site-packages/pandas/core/indexes/base.py\u001b[0m in \u001b[0;36mis_monotonic_increasing\u001b[0;34m(self)\u001b[0m\n\u001b[1;32m   1600\u001b[0m         \u001b[0;32mFalse\u001b[0m\u001b[0;34m\u001b[0m\u001b[0;34m\u001b[0m\u001b[0m\n\u001b[1;32m   1601\u001b[0m         \"\"\"\n\u001b[0;32m-> 1602\u001b[0;31m         \u001b[0;32mreturn\u001b[0m \u001b[0mself\u001b[0m\u001b[0;34m.\u001b[0m\u001b[0m_engine\u001b[0m\u001b[0;34m.\u001b[0m\u001b[0mis_monotonic_increasing\u001b[0m\u001b[0;34m\u001b[0m\u001b[0;34m\u001b[0m\u001b[0m\n\u001b[0m\u001b[1;32m   1603\u001b[0m \u001b[0;34m\u001b[0m\u001b[0m\n\u001b[1;32m   1604\u001b[0m     \u001b[0;34m@\u001b[0m\u001b[0mproperty\u001b[0m\u001b[0;34m\u001b[0m\u001b[0;34m\u001b[0m\u001b[0m\n",
      "\u001b[0;31mKeyboardInterrupt\u001b[0m: "
     ]
    }
   ],
   "source": [
    "bc_output = output.set_index(\"bc\")\n",
    "bc_output = bc_output.sort_index()\n",
    "\n"
   ]
  },
  {
   "cell_type": "code",
   "execution_count": null,
   "metadata": {},
   "outputs": [],
   "source": [
    "\n"
   ]
  },
  {
   "cell_type": "code",
   "execution_count": 29,
   "metadata": {},
   "outputs": [
    {
     "data": {
      "text/plain": [
       "1301084"
      ]
     },
     "execution_count": 29,
     "metadata": {},
     "output_type": "execute_result"
    }
   ],
   "source": []
  },
  {
   "cell_type": "markdown",
   "metadata": {},
   "source": [
    "## Library lookup proocessing ##"
   ]
  },
  {
   "cell_type": "markdown",
   "metadata": {},
   "source": [
    "Q: What percent of barcodes map uniquely to oligos"
   ]
  },
  {
   "cell_type": "code",
   "execution_count": 32,
   "metadata": {},
   "outputs": [
    {
     "name": "stdout",
     "output_type": "stream",
     "text": [
      "Not very many. Of 1310493 total observed barcodes, 9409 are associated with two or mor e library oligos.\n"
     ]
    }
   ],
   "source": [
    "bc_match_counts = output.drop_duplicates([\"bc\",\"oligo\"]).bc.value_counts()\n",
    "n_ambiguous_barcodes = bc_match_counts.loc[bc_match_counts>1].size\n",
    "n_unique_barcodes = bc_match_counts.loc[bc_match_counts==1].size\n",
    "print(f\"\"\"Not very many. Of {bc_match_counts.size} total observed barcodes, {n_ambiguous_barcodes} are associated with two or mor e library oligos.\"\"\")"
   ]
  },
  {
   "cell_type": "markdown",
   "metadata": {},
   "source": [
    "Q: Sorting all our barcodes by the number of transcript umis observed with each one, do we see a clear dropoff defining approximately 1M barcodes as being in the highly transcribed, bottlenecked pool?"
   ]
  },
  {
   "cell_type": "code",
   "execution_count": 57,
   "metadata": {},
   "outputs": [
    {
     "name": "stdout",
     "output_type": "stream",
     "text": [
      "A: not exactly... the graphs of the top 1m and top 5m barcodes don't really appear to show any pattern like this.\n"
     ]
    },
    {
     "data": {
      "image/png": "[encoded data removed]",
      "text/plain": [
       "<Figure size 576x360 with 2 Axes>"
      ]
     },
     "metadata": {
      "needs_background": "light"
     },
     "output_type": "display_data"
    }
   ],
   "source": [
    "# all_bcs_tx_counts.sort_values(ascending = False,inplace = True)\n",
    "# all_bcs_unique_tx_counts=all_bcs_tx_counts.loc[bc_match_counts==1]\n",
    "# top1m = all_bcs_unique_tx_counts.iloc[:int(1e6)]\n",
    "# top5m = all_bcs_unique_tx_counts.iloc[:int(5e6)]\n",
    "\n",
    "# subs = output\n",
    "# dedup = subs.drop_duplicates([\"bc\",\"umi\"])\n",
    "# dedup2 = dedup.set_index(\"bc\")\n",
    "# dedup3 = dedup2.sort_index()\n",
    "\n",
    "f,subs = plt.subplots(1,2)\n",
    "f.set_size_inches(8,5)\n",
    "\n",
    "plt.sca(subs[0])\n",
    "top1m.iloc[::10000].plot()\n",
    "ax = plt.gca()\n",
    "ax.set_yscale(\"log\")\n",
    "ax.set_title(\"transcript count dropoff for top 1m barcodes\")\n",
    "ax.set_xticklabels([])\n",
    "\n",
    "plt.sca(subs[1])\n",
    "\n",
    "top5m.iloc[::10000].plot()\n",
    "ax = plt.gca()\n",
    "ax.set_title(\"transcript count dropoff for top 5m barcodes\")\n",
    "ax.set_yscale(\"log\")\n",
    "ax.set_xticklabels([])\n",
    "plt.tight_layout()\n",
    "\n",
    "print(\"\"\"A: not exactly... the graphs of the top 1m and top 5m barcodes don't really appear to show any pattern like this.\"\"\")"
   ]
  },
  {
   "cell_type": "markdown",
   "metadata": {},
   "source": [
    "Q: Looking at only the set of barcodes which appear in the bottlenecked experiments, do we\n",
    "see on average a larger number of transcript umis associated with each bar code than from the \n",
    "experiments pooled together?"
   ]
  },
  {
   "cell_type": "code",
   "execution_count": 47,
   "metadata": {},
   "outputs": [],
   "source": [
    "dedup_exp = output.drop_duplicates([\"exp\",\"bc\",\"umi\"])\n"
   ]
  },
  {
   "cell_type": "code",
   "execution_count": 51,
   "metadata": {},
   "outputs": [
    {
     "data": {
      "text/plain": [
       "14359448"
      ]
     },
     "execution_count": 51,
     "metadata": {},
     "output_type": "execute_result"
    }
   ],
   "source": [
    "len(dedup_exp)"
   ]
  },
  {
   "cell_type": "code",
   "execution_count": 66,
   "metadata": {},
   "outputs": [],
   "source": [
    "new_exps = dedup_exp.loc[dedup_exp.exp.isin([ \"HCT116_Gemcitabine2uM_BR1\",\"HCT116_Gemcitabine2uM_BR2\"])| dedup_exp.exp.str.contains(\"NFKB\") ]\n",
    "new_bcs = new_exps.bc.unique()\n"
   ]
  },
  {
   "cell_type": "code",
   "execution_count": 67,
   "metadata": {},
   "outputs": [
    {
     "data": {
      "text/plain": [
       "4540198"
      ]
     },
     "execution_count": 67,
     "metadata": {},
     "output_type": "execute_result"
    }
   ],
   "source": [
    "len(new_exps)"
   ]
  },
  {
   "cell_type": "code",
   "execution_count": 71,
   "metadata": {},
   "outputs": [],
   "source": [
    "old_exps = dedup_exp.loc[ dedup_exp.exp.str.contains(\"DLD1\") | dedup_exp.exp.str.contains(\"U2OS\")  ]\n",
    "old_bcs = old_exps.bc.unique()"
   ]
  },
  {
   "cell_type": "code",
   "execution_count": 68,
   "metadata": {},
   "outputs": [
    {
     "data": {
      "text/plain": [
       "818194"
      ]
     },
     "execution_count": 68,
     "metadata": {},
     "output_type": "execute_result"
    }
   ],
   "source": [
    "len(new_bcs)"
   ]
  },
  {
   "cell_type": "code",
   "execution_count": 72,
   "metadata": {},
   "outputs": [
    {
     "data": {
      "text/plain": [
       "1153516"
      ]
     },
     "execution_count": 72,
     "metadata": {},
     "output_type": "execute_result"
    }
   ],
   "source": [
    "len(old_bcs)"
   ]
  },
  {
   "cell_type": "code",
   "execution_count": 73,
   "metadata": {},
   "outputs": [
    {
     "data": {
      "text/plain": [
       "1310493"
      ]
     },
     "execution_count": 73,
     "metadata": {},
     "output_type": "execute_result"
    }
   ],
   "source": [
    "dedup.bc.nunique()"
   ]
  },
  {
   "cell_type": "code",
   "execution_count": 50,
   "metadata": {},
   "outputs": [
    {
     "data": {
      "text/plain": [
       "other                                              2519041\n",
       "DLD1_WT_BR1                                        1854574\n",
       "DLD1_WT_BR2                                        1636054\n",
       "U2OS_WT_BR1                                        1138315\n",
       "U2OS_WT_BR2                                         991515\n",
       "HCT116_WT_BR1                                       871939\n",
       "HCT116_WT_BR2                                       807812\n",
       "HCT116_Gemcitabine2uM_BR2                           643538\n",
       "U2OS_NFKB2KO_Sorted_GFPpos_BR1                      639012\n",
       "HCT116_Gemcitabine2uM_BR1                           600186\n",
       "U2OS_NFKB2KO_Sorted_GFPpos_BR2                      558451\n",
       "U2OS_NFKB2KO_Sorted_GFPneg_BR1_with_ML120B_20uM     413957\n",
       "U2OS_NFKB1KO_Sorted_GFPneg_BR2_with_ML120B_20uM     365884\n",
       "U2OS_NFKB1KO_Sorted_GFPneg_BR1_with_ML120B_20uM     357509\n",
       "U2OS_NFKB1KO_Sorted_GFPpos_BR2                      334315\n",
       "U2OS_NFKB2KO_Sorted_GFPneg_BR2_with_ML120B_20uM     332138\n",
       "U2OS_NFKB1KO_Sorted_GFPpos_BR1                      295208\n",
       "Name: exp, dtype: int64"
      ]
     },
     "execution_count": 50,
     "metadata": {},
     "output_type": "execute_result"
    }
   ],
   "source": [
    "dedup_exp.exp.value_counts()"
   ]
  }
 ],
 "metadata": {
  "kernelspec": {
   "display_name": "py3",
   "language": "python",
   "name": "py3-test"
  },
  "language_info": {
   "codemirror_mode": {
    "name": "ipython",
    "version": 3
   },
   "file_extension": ".py",
   "mimetype": "text/x-python",
   "name": "python",
   "nbconvert_exporter": "python",
   "pygments_lexer": "ipython3",
   "version": "3.7.3"
  }
 },
 "nbformat": 4,
 "nbformat_minor": 2
}
