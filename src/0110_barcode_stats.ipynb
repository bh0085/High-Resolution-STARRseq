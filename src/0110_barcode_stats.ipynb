{
 "cells": [
  {
   "cell_type": "code",
   "execution_count": 300,
   "metadata": {},
   "outputs": [],
   "source": [
    "import pandas as pd\n",
    "import numpy as np"
   ]
  },
  {
   "cell_type": "code",
   "execution_count": null,
   "metadata": {},
   "outputs": [],
   "source": [
    "def rc(seq):\n",
    " return \"\".join([{\n",
    "     \"A\":\"T\",\n",
    "     \"T\":\"A\",\n",
    "     \"G\":\"C\",\n",
    "     \"C\":\"G\"\n",
    " }[e] for e in seq][::-1])\n"
   ]
  },
  {
   "cell_type": "code",
   "execution_count": 301,
   "metadata": {},
   "outputs": [],
   "source": []
  },
  {
   "cell_type": "code",
   "execution_count": 304,
   "metadata": {},
   "outputs": [],
   "source": []
  },
  {
   "cell_type": "code",
   "execution_count": 289,
   "metadata": {},
   "outputs": [],
   "source": [
    "fa_found = []\n",
    "def wfun(arg,dirname,fnames):\n",
    "    for f in fnames:\n",
    "        if f[-2:]==\"fa\":\n",
    "            fa_found.append(os.path.join(dirname,f))\n",
    "            \n",
    "import os\n",
    "os.path.walk(\"../out/b_demultiplex/\",wfun,None)\n",
    "\n",
    "r2 = [f for f in fa_found if \"R2_\" in f and \"HCT116_Gemcitabine2uM_BR1\" in f and \"14\" in f]\n",
    "r1 = [f for f in fa_found if \"R1_\" in f and \"HCT116_Gemcitabine2uM_BR1\" in f and \"14\" in f]\n",
    "\n",
    "f2 = r2[0]\n",
    "f1 = r1[0]\n",
    "\n",
    "umis = []\n",
    "t_umis = []\n",
    "with open(f1) as f1open:\n",
    "  with open(f2) as f2open:\n",
    "    i = -1\n",
    "    while 1:\n",
    "        i+=1\n",
    "        try:\n",
    "            l1 = f1open.next()\n",
    "            l2 = f2open.next()\n",
    "        except StopIteration:\n",
    "            break\n",
    "            \n",
    "        if i %2 == 0: continue\n",
    "        if \"N\" in l2[:16]: continue\n",
    "        umi = rc(l2[:15].strip())\n",
    "        umis.append(umi)          \n",
    "        t_umi = l1[:10].strip()\n",
    "        t_umis.append(t_umi)\n",
    "        \n",
    "        \n"
   ]
  },
  {
   "cell_type": "code",
   "execution_count": 338,
   "metadata": {},
   "outputs": [],
   "source": [
    "most_oligos_2_transcripts = dict()\n",
    "doubled_oligos_2_transcripts = dict()\n",
    "positive_ctrl_oligos_2_transcripts = dict()\n",
    "\n",
    "with open(f1) as f1open:\n",
    "  with open(f2) as f2open:\n",
    "    i = -1\n",
    "    while 1:\n",
    "        i+=1\n",
    "        try:\n",
    "            l1 = f1open.next()\n",
    "            l2 = f2open.next()\n",
    "        except StopIteration:\n",
    "            break\n",
    "            \n",
    "        if i %2 == 0: continue\n",
    "        if \"N\" in l2[:16]: continue\n",
    "        o_umi = l2[:15].strip()\n",
    "        t_umi = l1.strip()[:10]\n",
    "        \n",
    "        if o_umi in longest_umis:\n",
    "            most_oligos_2_transcripts[o_umi] = most_oligos_2_transcripts.get(o_umi,[])+[t_umi]\n",
    "            \n",
    "        if o_umi in doubled_umis:\n",
    "            doubled_oligos_2_transcripts[o_umi] = doubled_oligos_2_transcripts.get(o_umi,[])+[t_umi]\n",
    "            \n",
    "        if o_umi in all_barcodes_list:\n",
    "            positive_ctrl_oligos_2_transcripts[o_umi] = positive_ctrl_oligos_2_transcripts.get(o_umi,[])+[t_umi]\n"
   ]
  },
  {
   "cell_type": "code",
   "execution_count": 342,
   "metadata": {},
   "outputs": [
    {
     "name": "stdout",
     "output_type": "stream",
     "text": [
      "16\n",
      "28\n"
     ]
    }
   ],
   "source": [
    "print len(positive_ctrl_oligos_2_transcripts)\n",
    "print sum([len(v) for v in positive_ctrl_oligos_2_transcripts.values()])\n",
    "\n"
   ]
  },
  {
   "cell_type": "code",
   "execution_count": 339,
   "metadata": {},
   "outputs": [
    {
     "name": "stdout",
     "output_type": "stream",
     "text": [
      "[5, 1, 5, 8, 1766, 3, 2, 2, 2, 17]\n",
      "[5, 1, 5, 8, 1857, 3, 2, 2, 2, 17]\n",
      "[]\n",
      "[]\n",
      "[1, 1, 1, 1, 1, 1, 1, 1, 1, 1, 2, 3, 1, 1, 2, 2]\n",
      "[1, 1, 2, 2, 2, 1, 1, 1, 1, 1, 2, 4, 1, 1, 3, 4]\n"
     ]
    },
    {
     "data": {
      "image/png": "[encoded data removed]",
      "text/plain": [
       "<Figure size 792x576 with 6 Axes>"
      ]
     },
     "metadata": {},
     "output_type": "display_data"
    }
   ],
   "source": [
    "oligo_t_counts = dict([(k,len(v)) for k, v in most_oligos_2_transcripts.iteritems()])\n",
    "oligo_t_unique_counts = dict([(k,len(set(v))) for k, v in most_oligos_2_transcripts.iteritems()])\n",
    "\n",
    "fig,subs = plt.subplots(3,2)\n",
    "fig.set_size_inches(11,8)\n",
    "\n",
    "subs[0][0].hist(oligo_t_counts.values(),bins = linspace(-1,50,51))\n",
    "subs[0][1].hist(oligo_t_unique_counts.values(),bins = linspace(-1,50,51))\n",
    "\n",
    "\n",
    "print oligo_t_unique_counts.values()\n",
    "print oligo_t_counts.values()\n",
    "\n",
    "\n",
    "oligo_t_counts = dict([(k,len(v)) for k, v in doubled_oligos_2_transcripts.iteritems()])\n",
    "oligo_t_unique_counts = dict([(k,len(set(v))) for k, v in doubled_oligos_2_transcripts.iteritems()])\n",
    "\n",
    "subs[1][0].hist(oligo_t_counts.values(),bins = linspace(-1,50,51))\n",
    "subs[1][1].hist(oligo_t_unique_counts.values(),bins = linspace(-1,50,51))\n",
    "\n",
    "\n",
    "print oligo_t_unique_counts.values()\n",
    "print oligo_t_counts.values()\n",
    "\n",
    "oligo_t_counts = dict([(k,len(v)) for k, v in positive_ctrl_oligos_2_transcripts.iteritems()])\n",
    "oligo_t_unique_counts = dict([(k,len(set(v))) for k, v in positive_ctrl_oligos_2_transcripts.iteritems()])\n",
    "\n",
    "subs[2][0].hist(oligo_t_counts.values(),bins = linspace(-1,50,51))\n",
    "subs[2][1].hist(oligo_t_unique_counts.values(),bins = linspace(-1,50,51))\n",
    "\n",
    "\n",
    "print oligo_t_unique_counts.values()\n",
    "print oligo_t_counts.values()\n",
    "\n",
    "\n"
   ]
  },
  {
   "cell_type": "code",
   "execution_count": 292,
   "metadata": {},
   "outputs": [],
   "source": [
    "import itertools as it\n",
    "sorted_umis = sorted(umis)\n",
    "lens = [ len(list(g)) for k,g in it.groupby(sorted_umis) ]\n",
    "umi_counts = dict([[k,len(list(g))] for k,g in it.groupby(sorted_umis)])\n",
    "longest_umis = [e[0] for e in sorted(umi_counts.iteritems(),key=lambda x:x[1])][-20:][::-1]\n",
    "doubled_umis = [k for k,v in umi_counts.iteritems() if v== 2][-20:][::-1]\n",
    "\n",
    "sorted_t_umis = sorted(t_umis)\n",
    "t_umi_lens = [ len(list(g)) for k,g in it.groupby(sorted_t_umis) ]\n",
    "t_umi_counts = dict([[k,len(list(g))] for k,g in it.groupby(sorted_t_umis)])\n",
    "longest_t_umis = [e[0] for e in sorted(t_umi_counts.iteritems(),key=lambda x:x[1])][-20:][::-1]\n",
    "doubled_t_umis = [k for k,v in t_umi_counts.iteritems() if v== 2][-20:][::-1]"
   ]
  },
  {
   "cell_type": "code",
   "execution_count": 295,
   "metadata": {},
   "outputs": [
    {
     "name": "stdout",
     "output_type": "stream",
     "text": [
      "786909\n",
      "1826829\n"
     ]
    }
   ],
   "source": [
    "print len(t_umi_counts)\n",
    "print len(umi_counts)\n"
   ]
  },
  {
   "cell_type": "code",
   "execution_count": 298,
   "metadata": {},
   "outputs": [
    {
     "data": {
      "text/plain": [
       "Text(0.5,1,'oligo umi frequency distirbution')"
      ]
     },
     "execution_count": 298,
     "metadata": {},
     "output_type": "execute_result"
    },
    {
     "data": {
      "image/png": "[encoded data removed]",
      "text/plain": [
       "<Figure size 432x288 with 2 Axes>"
      ]
     },
     "metadata": {},
     "output_type": "display_data"
    }
   ],
   "source": [
    "bins = np.linspace(-1,50,51)\n",
    "\n",
    "f,subs = plt.subplots(2,1)\n",
    "subs[0].hist(t_umi_lens, bins = bins)\n",
    "subs[1].hist(lens, bins = bins)\n",
    "subs[0].set_title( \"transcript umi frequency distribution\")\n",
    "subs[1].set_title( \"oligo umi frequency distirbution\")"
   ]
  },
  {
   "cell_type": "code",
   "execution_count": 214,
   "metadata": {},
   "outputs": [
    {
     "data": {
      "text/plain": [
       "<itertools.groupby at 0x7f9d3a9204c8>"
      ]
     },
     "execution_count": 214,
     "metadata": {},
     "output_type": "execute_result"
    }
   ],
   "source": [
    "it.groupby(sorted_umis)"
   ]
  },
  {
   "cell_type": "code",
   "execution_count": 211,
   "metadata": {},
   "outputs": [],
   "source": [
    "x = sorted(umi_counts.iteritems(),key=lambda x:x[1])"
   ]
  },
  {
   "cell_type": "code",
   "execution_count": 154,
   "metadata": {},
   "outputs": [
    {
     "name": "stdout",
     "output_type": "stream",
     "text": [
      "1857\n",
      "2744076\n",
      "[0, 1198476, 428194, 140372, 41909, 12257, 3738, 1172, 417, 148]\n",
      "428194\n",
      "13 umis observed 20x or more\n",
      "2 umis observed 100x or more\n"
     ]
    }
   ],
   "source": [
    "import numpy as np\n",
    "import matplotlib\n",
    "%matplotlib inline\n",
    "import matplotlib.pyplot as plt\n",
    "print max(lens)\n",
    "print sum(lens)\n",
    "print [lens.count(i) for i in range(10)]\n",
    "print lens.count(2)\n",
    "\n",
    "print \"{0} umis observed 20x or more\".format(len([l for l in lens if l>20]))\n",
    "print \"{0} umis observed 100x or more\".format(len([l for l in lens if l>100]))\n",
    "\n",
    "#h= np.histogram(np.log(lens))\n",
    "\n",
    "#print h[0]\n",
    "#print h[1]\n",
    "#plt.bar( h[1][:-1],np.log(h[0]))\n",
    "#plt.hist(np.log(lens),bins = np.linspace(-1,20))"
   ]
  },
  {
   "cell_type": "code",
   "execution_count": null,
   "metadata": {},
   "outputs": [],
   "source": []
  },
  {
   "cell_type": "code",
   "execution_count": 155,
   "metadata": {},
   "outputs": [
    {
     "name": "stdout",
     "output_type": "stream",
     "text": [
      "1808384.0\n",
      "935692.0\n",
      "[4.28194e+05 4.21116e+05 2.51454e+05 1.22570e+05 5.60700e+04 2.46120e+04\n",
      " 1.16760e+04 5.32800e+03 3.06000e+03 1.43000e+03 9.90000e+02 8.58000e+02\n",
      " 1.82000e+02 2.10000e+02 2.40000e+02 4.08000e+02 0.00000e+00 5.13000e+02\n",
      " 1.90000e+02 2.10000e+02 2.31000e+02 5.06000e+02 2.76000e+02 3.00000e+02\n",
      " 0.00000e+00 3.51000e+02 3.78000e+02 0.00000e+00 0.00000e+00 4.65000e+02\n",
      " 4.96000e+02 0.00000e+00 0.00000e+00 0.00000e+00 0.00000e+00 0.00000e+00\n",
      " 0.00000e+00 0.00000e+00 0.00000e+00 0.00000e+00 0.00000e+00 0.00000e+00\n",
      " 0.00000e+00 0.00000e+00 0.00000e+00 0.00000e+00 0.00000e+00 0.00000e+00]\n",
      "1332314.0\n",
      "0.659013673664\n"
     ]
    },
    {
     "name": "stderr",
     "output_type": "stream",
     "text": [
      "/cluster/bh0085/anaconda27/lib/python2.7/site-packages/ipykernel_launcher.py:9: DeprecationWarning: `comb` is deprecated!\n",
      "Importing `comb` from scipy.misc is deprecated in scipy 1.0.0. Use `scipy.special.comb` instead.\n",
      "  if __name__ == '__main__':\n"
     ]
    }
   ],
   "source": [
    "n = len(umis)\n",
    "d = 1000000\n",
    "expected_collisions = n-d+d*(float((d-1))/d)**n\n",
    "print round(expected_collisions)\n",
    "\n",
    "print round(n - expected_collisions)\n",
    "\n",
    "from scipy.misc import comb\n",
    "n_observed_collisions =comb(range(2,50),2+np.zeros(48)) *np.array([lens.count(i) for i in range(2,50)])\n",
    "print n_observed_collisions\n",
    "print sum(n_observed_collisions)\n",
    "\n",
    "print float(expected_collisions)/n"
   ]
  },
  {
   "cell_type": "code",
   "execution_count": 120,
   "metadata": {},
   "outputs": [],
   "source": [
    "\n",
    "#1857\n",
    "#2744076\n",
    "#[0, 1198476, 428194, 140372, 41909, 12257, 3738, 1172, 417, 148]\n",
    "#428194\n",
    "#13 umis observed 20x or more\n",
    "#2 umis observed 100x or more\n",
    "\n",
    "#1.99M for 291608 collisions (only including the pairwise collisions)\n",
    "x =1990000\n",
    "print 2277470 - 291608 -x + ((x-1)/x)**2277470\n",
    "\n",
    "#1.7M for 577570 collisions (this includes the tail of the distribution, using nC2 to compute the number of pairs for each)\n",
    "#approximate combined matches = 577470\n",
    "2277470 - 1700000 + ((1700000-1)/1700000)**2277470\n"
   ]
  },
  {
   "cell_type": "code",
   "execution_count": 318,
   "metadata": {},
   "outputs": [
    {
     "name": "stdout",
     "output_type": "stream",
     "text": [
      "272071.924199\n",
      "1073998.46975068\n"
     ]
    }
   ],
   "source": [
    "\n",
    "#for DLD1_WT_BR2\n",
    "#max lens: 1120\n",
    "#sum lens: 2277470 (- n UMIs)\n",
    "#length distribution: [0, 1454994, 291608, 57761, 11567, 2524, 598, 163, 56, 32]\n",
    "\n",
    "#3 umis observed 20x or more\n",
    "#1 umis observed 100x or more\n",
    "\n",
    "#1.99M for 291608 collisions (only including the pairwise collisions)\n",
    "x =float(700156) #library size\n",
    "coll = 1332314.0 #number of matches\n",
    "n = float(2277470) # n_umis\n",
    "\n",
    "print n - coll -x + x*((x-1)/x)**n\n",
    "\n",
    "root = findroot(lambda y:n - coll -y + y*((y-1)/y)**n, 500000)\n",
    "print root\n",
    "\n",
    "#1.7M for 577570 collisions (this includes the tail of the distribution, using nC2 to compute the number of pairs for each)\n",
    "#approximate combined matches = 577470\n",
    "#2277470 - 1700000 + ((1700000-1)/1700000)**2277470\n"
   ]
  },
  {
   "cell_type": "code",
   "execution_count": 337,
   "metadata": {},
   "outputs": [
    {
     "name": "stdout",
     "output_type": "stream",
     "text": [
      "7424461.38703947\n",
      "0.000431166961789131\n"
     ]
    }
   ],
   "source": [
    "import sympy\n",
    "from sympy import *\n",
    "from mpmath import *\n",
    "\n",
    "#x = Symbol('x')\n",
    "#y = Symbol('y')\n",
    "#sympy.solve(x-1,x)\n",
    "\n",
    "#FOR THE GEM CELL LINE\n",
    "\n",
    "collisions = 450000 #number of matches\n",
    "n = 2744076 # n_umis\n",
    "#soln = sympy.solve(n - coll -x + x*((x-1)/x)**n,x)\n",
    "#print soln\n",
    "\n",
    "root = findroot(lambda y: n - collisions -y + y*((y-1)/y)**n, 10000000)\n",
    "print root\n",
    "\n",
    "print n - collisions - root + root*((root-1)/root)**n\n",
    "\n"
   ]
  },
  {
   "cell_type": "code",
   "execution_count": 333,
   "metadata": {},
   "outputs": [
    {
     "data": {
      "text/plain": [
       "-2444076"
      ]
     },
     "execution_count": 333,
     "metadata": {},
     "output_type": "execute_result"
    }
   ],
   "source": [
    "collisions - n"
   ]
  },
  {
   "cell_type": "code",
   "execution_count": 331,
   "metadata": {},
   "outputs": [
    {
     "data": {
      "text/plain": [
       "-2444075.999052163"
      ]
     },
     "execution_count": 331,
     "metadata": {},
     "output_type": "execute_result"
    }
   ],
   "source": [
    "11617510.3802176* ((11617510.3802176 -1) / (11617510.3802176))**n - 11617510.3802176"
   ]
  },
  {
   "cell_type": "code",
   "execution_count": 336,
   "metadata": {},
   "outputs": [
    {
     "data": {
      "text/plain": [
       "428194"
      ]
     },
     "execution_count": 336,
     "metadata": {},
     "output_type": "execute_result"
    }
   ],
   "source": [
    "len([e for e in lens if e == 2])"
   ]
  }
 ],
 "metadata": {
  "kernelspec": {
   "display_name": "Python 2",
   "language": "python",
   "name": "python2"
  },
  "language_info": {
   "codemirror_mode": {
    "name": "ipython",
    "version": 2
   },
   "file_extension": ".py",
   "mimetype": "text/x-python",
   "name": "python",
   "nbconvert_exporter": "python",
   "pygments_lexer": "ipython2",
   "version": "2.7.15"
  }
 },
 "nbformat": 4,
 "nbformat_minor": 2
}
