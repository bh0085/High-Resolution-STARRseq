{
 "cells": [
  {
   "cell_type": "code",
   "execution_count": 1,
   "metadata": {},
   "outputs": [],
   "source": [
    "import os, re, sys, json\n",
    "import numpy as np, pandas as pd\n",
    "import _config\n",
    "reload (_config)\n",
    "from _config import SHE3202_FQ_FILES, EXP_DESIGN_2901, OLIGO_LIBRARY, SHE3202_DIR, A_BC_OLIGOS_OUT, POSITIVE_CONTROLS_FILE\n",
    "\n",
    "\n"
   ]
  },
  {
   "cell_type": "code",
   "execution_count": null,
   "metadata": {},
   "outputs": [
    {
     "name": "stdout",
     "output_type": "stream",
     "text": [
      "loading transcripts\n",
      "getting oligos\n",
      "computing keys\n",
      "done with keys\n"
     ]
    }
   ],
   "source": [
    "\n",
    "\n",
    "\n",
    "#load oligo library from experimental design\n",
    "oligos_lib = OLIGO_LIBRARY\n",
    "oligos_lib[\"id\"] = oligos_lib.index\n",
    "positive_controls = pd.read_csv(POSITIVE_CONTROLS_FILE)\n",
    "\n",
    "#load barcode-matched umis from dictionary reads\n",
    "a_output = pd.read_csv(A_BC_OLIGOS_OUT)\n",
    "\n",
    "#recover the list of bc_umi edges from the transcription data\n",
    "#this takes a long time\n",
    "print \"loading transcripts\"\n",
    "#with open(\"../data/all_bcs2umis.json\") as f:\n",
    "#    umi_bcs_json = json.load(f)\n",
    "    \n",
    "    \n",
    "print \"getting oligos\"\n",
    "unique_oligos = a_output.oligo.unique()   t \n",
    "print \"computing keys\"\n",
    "print \"done with keys\"\n",
    "#this command takes a very long time...\n",
    "unique_bcs =  [k for k,g in a_output.groupby(\"bc\",) if len(g) == 1]\n",
    "unique_bcs_set = set(unique_bcs)\n",
    "unique_bc_oligos = a_output.loc[a_output.bc.isin(unique_bcs_set) ]"
   ]
  },
  {
   "cell_type": "code",
   "execution_count": null,
   "metadata": {},
   "outputs": [],
   "source": [
    "sxs = 0\n",
    "fails = 0\n",
    "\n",
    "all_shared_bcs = set()\n",
    "exps = [e.strip() for e in \"\"\"DLD1_WT_BR2\n",
    "DLD1_WT_BR1\n",
    "HCT116_WT_BR2\n",
    "HCT116_WT_BR1\n",
    "U2OS_WT_BR1\n",
    "other\n",
    "U2OS_WT_BR2\n",
    "HCT116_Gemcitabine2uM_BR2\n",
    "HCT116_Gemcitabine2uM_BR1\"\"\".splitlines()]\n",
    "oligo_info = pd.DataFrame(index=[(exp,o) for o in unique_oligos for exp in exps])\n",
    "\n",
    "oligos = unique_bc_oligos.groupby(\"oligo\")\n",
    "for exp in exps:\n",
    "    print exp\n",
    "    print \"loading\"\n",
    "    with open(\"../data/all_{}_bcs2umis.json\".format(exp)) as f:\n",
    "        vals = json.load(f)\n",
    "    \n",
    "\n",
    "    \n",
    "    print \"done loading\"\n",
    "    cnt = 0 \n",
    "    if exp ==\"other\": continue\n",
    "    for o, rows in oligos:\n",
    "        obcs_set = set(rows.bc)\n",
    "        shared_bcs = [b for b in obcs_set if b in vals]\n",
    "        all_shared_bcs.update(shared_bcs)\n",
    "        count_transcripts = len(set([t for b in shared_bcs for t in vals[b]]))\n",
    "        oligo_info.at[(exp,o),\"n_transcripts\"] = count_transcripts\n",
    "        oligo_info.at[(exp,o),\"n_total_bcs\"] = len(obcs_set)\n",
    "        oligo_info.at[(exp,o),\"n_observed_bcs\"] = len(shared_bcs)\n",
    "        \n",
    "        cnt+= 1\n",
    "        #if cnt > 1000: break\n",
    "        #break\n",
    "        if len(shared_bcs) > 0:\n",
    "            oligo_info.at[(exp,o),\"argmax_transcriptions_per_bcs\"] = sorted(list(shared_bcs),key = lambda x: len(set(vals[x])))[-1]\n",
    "            oligo_info.at[(exp,o),\"max_transcriptions_per_bcs\"] = len(set(vals[sorted(list(shared_bcs),key = lambda x: len(set(vals[x])))[-1]]))\n",
    "            #sxs +=1\n",
    "        else:\n",
    "            pass\n",
    "                #fails+=1\n",
    "        #print fails, sxs\n",
    "        \n",
    "oligo_info[\"oligo\"] = oligo_info.index.map(lambda x:x[1])\n",
    "oligo_info[\"exp\"] = oligo_info.index.map(lambda x:x[0])\n",
    "oligo_info.to_csv(\"../data/0304_oligo_statistics.csv\")\n"
   ]
  },
  {
   "cell_type": "code",
   "execution_count": null,
   "metadata": {},
   "outputs": [],
   "source": [
    "oligos_lib = OLIGO_LIBRARY\n",
    "oligos_lib[\"id\"] = oligos_lib.index"
   ]
  },
  {
   "cell_type": "code",
   "execution_count": 20,
   "metadata": {},
   "outputs": [
    {
     "data": {
      "text/plain": [
       "90135"
      ]
     },
     "execution_count": 20,
     "metadata": {},
     "output_type": "execute_result"
    }
   ],
   "source": [
    "len(oligo_info)"
   ]
  },
  {
   "cell_type": "markdown",
   "metadata": {},
   "source": [
    "# PLOTS #"
   ]
  },
  {
   "cell_type": "code",
   "execution_count": null,
   "metadata": {},
   "outputs": [],
   "source": [
    "import matplotlib\n",
    "%matplotlib inline\n",
    "from matplotlib import pyplot as plt\n"
   ]
  },
  {
   "cell_type": "code",
   "execution_count": null,
   "metadata": {},
   "outputs": [],
   "source": [
    "oligos_lib = OLIGO_LIBRARY\n",
    "oligos_lib[\"id\"] = oligos_lib.index\n",
    "oligo_info2 = oligo_info.copy().join(oligos_lib, on =\"oligo\").dropna()"
   ]
  },
  {
   "cell_type": "code",
   "execution_count": null,
   "metadata": {},
   "outputs": [],
   "source": [
    "positive_controls\n",
    "positive_control_rows = oligo_info2.loc[oligo_info2.RefSeqID.isin(positive_controls.Name)]"
   ]
  },
  {
   "cell_type": "markdown",
   "metadata": {},
   "source": [
    "Q: Given the list of positive control oligos which are known to be expressed, do we see these in the transcript data? Are they transcribed abundantly?"
   ]
  },
  {
   "cell_type": "code",
   "execution_count": null,
   "metadata": {},
   "outputs": [],
   "source": [
    "oligo_info2.n_"
   ]
  },
  {
   "cell_type": "code",
   "execution_count": null,
   "metadata": {},
   "outputs": [],
   "source": [
    "\n",
    "f, subs = plt.subplots(1,1)\n",
    "\n",
    "s = subs\n",
    "s.semilogy()\n",
    "positive_control_info = oligo_info.loc[oligo_info.oligo.isin(positive_control_rows.id)]\n",
    "bins = np.linspace(0,150,75)\n",
    "s.hist(oligo_info2.n_transcripts, density=True, bins = bins, label=\"all oligos\")\n",
    "s.hist(positive_control_rows.n_transcripts, density=True, bins = bins, label=\"positive controls\")\n",
    "s.set_title(\"total transcript abundance distribution\")\n",
    "s.set_xlabel(\"transcript count\")\n",
    "s.set_ylabel(\"p(x)\")\n",
    "s.legend()\n",
    "\n",
    "\n",
    "\n",
    "pass"
   ]
  },
  {
   "cell_type": "code",
   "execution_count": null,
   "metadata": {},
   "outputs": [],
   "source": [
    "#test = oligo_info2\n",
    "candid_regex = re.compile(\"candid_(\\d+)\")\n",
    "neg_regex = re.compile(\"Neg_(\\d+)\")\n",
    "\n",
    "mutant_regex = re.compile(\"mut(\\d+)$\")\n",
    "oligo_info2[\"locus_ids\"] = oligo_info2.RefSeqID.apply(lambda x: int(candid_regex.search(x).groups()[0]) if candid_regex.search(x) else neg_regex.search(x).groups()[0] )\n",
    "oligo_info2[\"mutant_num\"] = oligo_info2.RefSeqID.apply(lambda x: int(mutant_regex.search(x).groups()[0]) if mutant_regex.search(x) else 0 )\n",
    "oligo_info2[\"is_cand\"] = oligo_info2.RefSeqID.apply(lambda x: True if candid_regex.search(x) else False )\n",
    "oligo_info2[\"is_neg\"] = oligo_info2.RefSeqID.apply(lambda x: True if neg_regex.search(x) else False )\n"
   ]
  },
  {
   "cell_type": "code",
   "execution_count": null,
   "metadata": {},
   "outputs": [],
   "source": [
    "oligo_info2.mutant_num.unique()"
   ]
  },
  {
   "cell_type": "code",
   "execution_count": null,
   "metadata": {},
   "outputs": [],
   "source": [
    "transcript_groups = oligo_info2.groupby(\"mutant_num\").n_transcripts\n",
    "\n",
    "h = plt.hist([e[1].values for e in transcript_groups], bins = np.linspace(0,20,10),density=True,label = [k for k,v in transcript_groups])\n",
    "plt.legend()\n",
    "#plt.hist([list(v for v in grp) for grp in transcript_groups], bins = np.linspace(0,20), density = True)\n",
    "#plt.legend()"
   ]
  },
  {
   "cell_type": "markdown",
   "metadata": {},
   "source": [
    "#TABLE 1#\n",
    "Enrichment counts for each oligo in each cell conditioned, in a table"
   ]
  },
  {
   "cell_type": "code",
   "execution_count": null,
   "metadata": {},
   "outputs": [],
   "source": [
    "enrichments = pd.DataFrame()\n",
    "enrichments_vs_all = pd.DataFrame()\n",
    "observations_vs_all = pd.DataFrame()\n",
    "#enrichments.index =pd.Series( oligo_info2.oligo.unique())\n",
    "for k,g in oligo_info2.groupby(\"exp\"):\n",
    "    #print  g.apply(lambda x:x.n_transcripts / x.n_observed_bcs)\n",
    "    enrichments[k] = pd.Series(g.apply(lambda x:x.n_transcripts / x.n_observed_bcs, axis = 1).values,index = g.apply(lambda x:x.id,axis=1))\n",
    "    enrichments_vs_all[k] = pd.Series(g.apply(lambda x:x.n_transcripts / x.n_total_bcs, axis = 1).values,index = g.apply(lambda x:x.id,axis=1))\n",
    "    observations_vs_all[k] = pd.Series(g.apply(lambda x:x.n_observed_bcs / x.n_total_bcs, axis = 1).values,index = g.apply(lambda x:x.id,axis=1))\n",
    "    #enrichments[k+\"_vs_bcs\"] = g.apply(lambda x:x.n_transcripts / x.n_observed_bcs, axis = 1)\n"
   ]
  },
  {
   "cell_type": "code",
   "execution_count": null,
   "metadata": {},
   "outputs": [],
   "source": [
    "f,subs = plt.subplots(3,1)\n",
    "f.set_size_inches(8,12)\n",
    "subs[0].hist(enrichments.values.transpose(), density = True)"
   ]
  },
  {
   "cell_type": "code",
   "execution_count": null,
   "metadata": {},
   "outputs": [],
   "source": [
    "print \"hi\""
   ]
  },
  {
   "cell_type": "code",
   "execution_count": null,
   "metadata": {},
   "outputs": [],
   "source": [
    "g.apply(lambda x:x.n_transcripts / x.n_observed_bcs, axis = 1).values"
   ]
  },
  {
   "cell_type": "code",
   "execution_count": null,
   "metadata": {},
   "outputs": [],
   "source": [
    "pd.Series(g.apply(lambda x:x.n_transcripts / x.n_observed_bcs, axis = 1).values,index = g.apply(lambda x:x.id,axis=1))"
   ]
  }
 ],
 "metadata": {
  "kernelspec": {
   "display_name": "Python 2",
   "language": "python",
   "name": "python2"
  },
  "language_info": {
   "codemirror_mode": {
    "name": "ipython",
    "version": 2
   },
   "file_extension": ".py",
   "mimetype": "text/x-python",
   "name": "python",
   "nbconvert_exporter": "python",
   "pygments_lexer": "ipython2",
   "version": "2.7.15"
  }
 },
 "nbformat": 4,
 "nbformat_minor": 2
}
