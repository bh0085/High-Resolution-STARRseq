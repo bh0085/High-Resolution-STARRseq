{
 "cells": [
  {
   "cell_type": "code",
   "execution_count": 6,
   "metadata": {},
   "outputs": [
    {
     "data": {
      "text/plain": [
       "14195083"
      ]
     },
     "execution_count": 6,
     "metadata": {},
     "output_type": "execute_result"
    }
   ],
   "source": [
    "len(alldict)"
   ]
  },
  {
   "cell_type": "code",
   "execution_count": null,
   "metadata": {},
   "outputs": [
    {
     "name": "stdout",
     "output_type": "stream",
     "text": [
      "0 SHE3202-STARRseqNextera-PE_AHGTJWAFXY_S1_L004_14.json\n",
      "1 SHE3202-STARRseqNextera-PE_AHGTJWAFXY_S1_L004_8.json\n",
      "2 SHE3202-STARRseqNextera-PE_AHGTJWAFXY_S1_L002_10.json\n",
      "3 SHE3202-STARRseqNextera-PE_AHGTJWAFXY_S1_L002_11.json\n",
      "4 SHE3202-STARRseqNextera-PE_AHGTJWAFXY_S1_L004_9.json\n",
      "5 SHE3202-STARRseqNextera-PE_AHGTJWAFXY_S1_L002_12.json\n",
      "6 SHE3202-STARRseqNextera-PE_AHGTJWAFXY_S1_L002_1.json\n",
      "7 SHE3202-STARRseqNextera-PE_AHGTJWAFXY_S1_L004_7.json\n",
      "8 SHE3202-STARRseqNextera-PE_AHGTJWAFXY_S1_L001_7.json\n",
      "9 SHE3202-STARRseqNextera-PE_AHGTJWAFXY_S1_L003_4.json\n",
      "10 SHE3202-STARRseqNextera-PE_AHGTJWAFXY_S1_L002_2.json\n",
      "11 SHE3202-STARRseqNextera-PE_AHGTJWAFXY_S1_L002_3.json\n",
      "12 SHE3202-STARRseqNextera-PE_AHGTJWAFXY_S1_L001_9.json\n",
      "13 SHE3202-STARRseqNextera-PE_AHGTJWAFXY_S1_L004_0.json\n",
      "14 SHE3202-STARRseqNextera-PE_AHGTJWAFXY_S1_L001_8.json\n",
      "15 SHE3202-STARRseqNextera-PE_AHGTJWAFXY_S1_L001_2.json\n",
      "16 SHE3202-STARRseqNextera-PE_AHGTJWAFXY_S1_L003_14.json\n",
      "17 SHE3202-STARRseqNextera-PE_AHGTJWAFXY_S1_L003_13.json\n",
      "18 SHE3202-STARRseqNextera-PE_AHGTJWAFXY_S1_L003_5.json\n"
     ]
    }
   ],
   "source": [
    "import os\n",
    "import pandas as pd\n",
    "\n",
    "\n",
    "alldict = {}\n",
    "allcsv = pd.DataFrame()\n",
    "allseries =None\n",
    "\n",
    "alldict = {}\n",
    "\n",
    "outdir = \"../out/b_demultiplex_3202\"\n",
    "for i,fn in enumerate(os.listdir(outdir)):\n",
    "    print i, fn\n",
    "    csv = pd.read_csv(os.path.join(outdir,fn), index_col=[\"umi\",\"oligo\"])\n",
    "    #if allseries is not None:\n",
    "    #    allseries = pd.Series.add(allseries,csv[\"count\"])\n",
    "    #else:\n",
    "    #    allseries = csv[\"count\"]\n",
    "    for k,r in csv.iterrows():\n",
    "           alldict[k] = alldict.get(k,0) + r[\"count\"]\n",
    "    \n",
    "\n",
    "    "
   ]
  },
  {
   "cell_type": "code",
   "execution_count": 13,
   "metadata": {},
   "outputs": [],
   "source": [
    "import numpy as np"
   ]
  },
  {
   "cell_type": "code",
   "execution_count": 16,
   "metadata": {},
   "outputs": [
    {
     "data": {
      "text/plain": [
       "76424620"
      ]
     },
     "execution_count": 16,
     "metadata": {},
     "output_type": "execute_result"
    }
   ],
   "source": [
    "np.sum(v for v in alldict.values())"
   ]
  },
  {
   "cell_type": "code",
   "execution_count": 21,
   "metadata": {},
   "outputs": [
    {
     "data": {
      "text/plain": [
       "3.0"
      ]
     },
     "execution_count": 21,
     "metadata": {},
     "output_type": "execute_result"
    }
   ],
   "source": [
    "np.median([v for v in alldict.values()])"
   ]
  },
  {
   "cell_type": "code",
   "execution_count": 18,
   "metadata": {},
   "outputs": [],
   "source": [
    "import matplotlib.pyplot as plt"
   ]
  },
  {
   "cell_type": "code",
   "execution_count": 20,
   "metadata": {},
   "outputs": [
    {
     "data": {
      "text/plain": [
       "(array([1.6939992e+07, 3.0733000e+04, 1.4210000e+03, 4.8700000e+02,\n",
       "        1.9000000e+02, 5.1000000e+01, 1.9000000e+01, 1.1000000e+01,\n",
       "        0.0000000e+00, 2.0000000e+00]),\n",
       " array([  1. ,  25.5,  50. ,  74.5,  99. , 123.5, 148. , 172.5, 197. ,\n",
       "        221.5, 246. ]),\n",
       " <a list of 10 Patch objects>)"
      ]
     },
     "execution_count": 20,
     "metadata": {},
     "output_type": "execute_result"
    },
    {
     "data": {
      "image/png": "[encoded data removed]",
      "text/plain": [
       "<Figure size 432x288 with 1 Axes>"
      ]
     },
     "metadata": {},
     "output_type": "display_data"
    }
   ],
   "source": [
    "plt.hist([v for v in alldict.values(),bins ])"
   ]
  },
  {
   "cell_type": "code",
   "execution_count": 20,
   "metadata": {},
   "outputs": [
    {
     "data": {
      "text/plain": [
       "umi              oligo\n",
       "AAAATTGGGAAACAT  4893     1.0\n",
       "AAACGCTAGGTGACC  911      1.0\n",
       "AAATGATTTGGAGCT  7510     1.0\n",
       "AACATCGTTGCTGAC  1381     1.0\n",
       "AAGCAGAAGAGCTTA  5556     1.0\n",
       "AAGTTAGTAGTTAAT  7305     1.0\n",
       "AATCCAGGGCTAGGA  3283     1.0\n",
       "AATGCTGATTCTCCG  2589     1.0\n",
       "AATTTACGTCTATCT  1882     1.0\n",
       "ACACCGGTCGTTTGG  9336     1.0\n",
       "ACATCGTTTATGGCC  9913     1.0\n",
       "ACCGATCCGCGCTTC  9997     1.0\n",
       "ACGCTCCACGTGGG   9112     1.0\n",
       "ACGGGCCGAGGTGGG  8714     1.0\n",
       "ACGTGGACGTCTGTA  9818     1.0\n",
       "ACTGAACTTTGGTAC  2798     1.0\n",
       "ACTGCGGCAGTGTGG  3972     1.0\n",
       "AGATACCTCGGGGGA  1594     1.0\n",
       "AGATGCTCCGCTCGT  9615     1.0\n",
       "AGCTATGATTATTTC  6890     1.0\n",
       "AGGATCTTATATCAG  1147     1.0\n",
       "AGGGGCAGTAGCCGG  6496     1.0\n",
       "AGGGTCCGGGGGGCA  4087     1.0\n",
       "AGGTACGTGAGACGG  3683     1.0\n",
       "AGTACGCACATAGAG  3561     1.0\n",
       "AGTACGCTAGTGTAT  734      1.0\n",
       "AGTCCGGACTTACCT  5043     1.0\n",
       "ATAGGCGCAACAGCT  3945     1.0\n",
       "ATAGTACGTTAGAAG  4424     1.0\n",
       "ATCCCGGCTAAAGGA  1044     1.0\n",
       "                         ... \n",
       "TCTTCAAATTTGGGG  9073     1.0\n",
       "TCTTTTGATAATCTA  3779     1.0\n",
       "TGATACATCTTCCAC  8666     1.0\n",
       "TGCAATGATGGGGCG  1922     1.0\n",
       "TGCGTCGTTCGCGCT  2535     1.0\n",
       "TGCTATAGAACGCTG  8132     1.0\n",
       "TGCTCCGGCGGGTAC  3547     1.0\n",
       "TGGCGAAATCCTCTA  2758     1.0\n",
       "TGGGGGCCACTAGGC  1800     1.0\n",
       "TGGTAAGTTGTGCAA  7408     1.0\n",
       "TGGTGTTATAGTCAG  1383     1.0\n",
       "TGGTTTGGCGGGGCG  202      1.0\n",
       "TGTCTCTTCTAGTGT  915      1.0\n",
       "TGTCTGGCTTTTGTA  7476     1.0\n",
       "TGTCTGTTCGGGGTG  61       1.0\n",
       "TGTGGTTGGGCATTC  2518     1.0\n",
       "TTAATACGCGCTCCG  3518     1.0\n",
       "TTACGGGATATGGGG  349      1.0\n",
       "TTCGTTTAGTTCGTC  1039     2.0\n",
       "TTCTTCAAATTTCGC  789      1.0\n",
       "TTGAGGAAGGTCTAG  7328     1.0\n",
       "TTGCTGGTCTGGGGA  551      1.0\n",
       "TTGGCGAGATCGCGA  511      1.0\n",
       "TTGGCGCACGGTTCG  2535     1.0\n",
       "TTGTACTCATATTGT  8840     1.0\n",
       "TTGTGACTCTGTCCT  553      1.0\n",
       "TTTATGTGTCGGAAG  501      1.0\n",
       "TTTGAACGGATATGT  7317     1.0\n",
       "TTTGTTTTGTTTGCC  7356     1.0\n",
       "TTTTATGCATGCTAA  271      1.0\n",
       "Name: count, Length: 200, dtype: float64"
      ]
     },
     "execution_count": 20,
     "metadata": {},
     "output_type": "execute_result"
    }
   ],
   "source": [
    "pd.Series.add(csv.iloc[:100][\"count\"] , csv.iloc[200:300][\"count\"], fill_value=0)"
   ]
  },
  {
   "cell_type": "code",
   "execution_count": 16,
   "metadata": {},
   "outputs": [
    {
     "ename": "ValueError",
     "evalue": "cannot join with no level specified and no overlapping names",
     "output_type": "error",
     "traceback": [
      "\u001b[0;31m---------------------------------------------------------------------------\u001b[0m",
      "\u001b[0;31mValueError\u001b[0m                                Traceback (most recent call last)",
      "\u001b[0;32m<ipython-input-16-893900348266>\u001b[0m in \u001b[0;36m<module>\u001b[0;34m()\u001b[0m\n\u001b[1;32m      1\u001b[0m \u001b[0msnew\u001b[0m \u001b[0;34m=\u001b[0m \u001b[0mpd\u001b[0m\u001b[0;34m.\u001b[0m\u001b[0mSeries\u001b[0m\u001b[0;34m(\u001b[0m\u001b[0;34m)\u001b[0m\u001b[0;34m\u001b[0m\u001b[0m\n\u001b[0;32m----> 2\u001b[0;31m \u001b[0msnew\u001b[0m \u001b[0;34m+\u001b[0m \u001b[0mcsv\u001b[0m\u001b[0;34m[\u001b[0m\u001b[0;34m\"count\"\u001b[0m\u001b[0;34m]\u001b[0m\u001b[0;34m\u001b[0m\u001b[0m\n\u001b[0m",
      "\u001b[0;32m/cluster/bh0085/anaconda27/lib/python2.7/site-packages/pandas/core/ops.pyc\u001b[0m in \u001b[0;36mwrapper\u001b[0;34m(left, right)\u001b[0m\n\u001b[1;32m   1040\u001b[0m             \u001b[0;32mreturn\u001b[0m \u001b[0mNotImplemented\u001b[0m\u001b[0;34m\u001b[0m\u001b[0m\n\u001b[1;32m   1041\u001b[0m \u001b[0;34m\u001b[0m\u001b[0m\n\u001b[0;32m-> 1042\u001b[0;31m         \u001b[0mleft\u001b[0m\u001b[0;34m,\u001b[0m \u001b[0mright\u001b[0m \u001b[0;34m=\u001b[0m \u001b[0m_align_method_SERIES\u001b[0m\u001b[0;34m(\u001b[0m\u001b[0mleft\u001b[0m\u001b[0;34m,\u001b[0m \u001b[0mright\u001b[0m\u001b[0;34m)\u001b[0m\u001b[0;34m\u001b[0m\u001b[0m\n\u001b[0m\u001b[1;32m   1043\u001b[0m         \u001b[0mres_name\u001b[0m \u001b[0;34m=\u001b[0m \u001b[0mget_op_result_name\u001b[0m\u001b[0;34m(\u001b[0m\u001b[0mleft\u001b[0m\u001b[0;34m,\u001b[0m \u001b[0mright\u001b[0m\u001b[0;34m)\u001b[0m\u001b[0;34m\u001b[0m\u001b[0m\n\u001b[1;32m   1044\u001b[0m \u001b[0;34m\u001b[0m\u001b[0m\n",
      "\u001b[0;32m/cluster/bh0085/anaconda27/lib/python2.7/site-packages/pandas/core/ops.pyc\u001b[0m in \u001b[0;36m_align_method_SERIES\u001b[0;34m(left, right, align_asobject)\u001b[0m\n\u001b[1;32m    964\u001b[0m                 \u001b[0mright\u001b[0m \u001b[0;34m=\u001b[0m \u001b[0mright\u001b[0m\u001b[0;34m.\u001b[0m\u001b[0mastype\u001b[0m\u001b[0;34m(\u001b[0m\u001b[0mobject\u001b[0m\u001b[0;34m)\u001b[0m\u001b[0;34m\u001b[0m\u001b[0m\n\u001b[1;32m    965\u001b[0m \u001b[0;34m\u001b[0m\u001b[0m\n\u001b[0;32m--> 966\u001b[0;31m             \u001b[0mleft\u001b[0m\u001b[0;34m,\u001b[0m \u001b[0mright\u001b[0m \u001b[0;34m=\u001b[0m \u001b[0mleft\u001b[0m\u001b[0;34m.\u001b[0m\u001b[0malign\u001b[0m\u001b[0;34m(\u001b[0m\u001b[0mright\u001b[0m\u001b[0;34m,\u001b[0m \u001b[0mcopy\u001b[0m\u001b[0;34m=\u001b[0m\u001b[0mFalse\u001b[0m\u001b[0;34m)\u001b[0m\u001b[0;34m\u001b[0m\u001b[0m\n\u001b[0m\u001b[1;32m    967\u001b[0m \u001b[0;34m\u001b[0m\u001b[0m\n\u001b[1;32m    968\u001b[0m     \u001b[0;32mreturn\u001b[0m \u001b[0mleft\u001b[0m\u001b[0;34m,\u001b[0m \u001b[0mright\u001b[0m\u001b[0;34m\u001b[0m\u001b[0m\n",
      "\u001b[0;32m/cluster/bh0085/anaconda27/lib/python2.7/site-packages/pandas/core/series.pyc\u001b[0m in \u001b[0;36malign\u001b[0;34m(self, other, join, axis, level, copy, fill_value, method, limit, fill_axis, broadcast_axis)\u001b[0m\n\u001b[1;32m   3246\u001b[0m                                          \u001b[0mfill_value\u001b[0m\u001b[0;34m=\u001b[0m\u001b[0mfill_value\u001b[0m\u001b[0;34m,\u001b[0m \u001b[0mmethod\u001b[0m\u001b[0;34m=\u001b[0m\u001b[0mmethod\u001b[0m\u001b[0;34m,\u001b[0m\u001b[0;34m\u001b[0m\u001b[0m\n\u001b[1;32m   3247\u001b[0m                                          \u001b[0mlimit\u001b[0m\u001b[0;34m=\u001b[0m\u001b[0mlimit\u001b[0m\u001b[0;34m,\u001b[0m \u001b[0mfill_axis\u001b[0m\u001b[0;34m=\u001b[0m\u001b[0mfill_axis\u001b[0m\u001b[0;34m,\u001b[0m\u001b[0;34m\u001b[0m\u001b[0m\n\u001b[0;32m-> 3248\u001b[0;31m                                          broadcast_axis=broadcast_axis)\n\u001b[0m\u001b[1;32m   3249\u001b[0m \u001b[0;34m\u001b[0m\u001b[0m\n\u001b[1;32m   3250\u001b[0m     \u001b[0;32mdef\u001b[0m \u001b[0mrename\u001b[0m\u001b[0;34m(\u001b[0m\u001b[0mself\u001b[0m\u001b[0;34m,\u001b[0m \u001b[0mindex\u001b[0m\u001b[0;34m=\u001b[0m\u001b[0mNone\u001b[0m\u001b[0;34m,\u001b[0m \u001b[0;34m**\u001b[0m\u001b[0mkwargs\u001b[0m\u001b[0;34m)\u001b[0m\u001b[0;34m:\u001b[0m\u001b[0;34m\u001b[0m\u001b[0m\n",
      "\u001b[0;32m/cluster/bh0085/anaconda27/lib/python2.7/site-packages/pandas/core/generic.pyc\u001b[0m in \u001b[0;36malign\u001b[0;34m(self, other, join, axis, level, copy, fill_value, method, limit, fill_axis, broadcast_axis)\u001b[0m\n\u001b[1;32m   7364\u001b[0m                                       \u001b[0mcopy\u001b[0m\u001b[0;34m=\u001b[0m\u001b[0mcopy\u001b[0m\u001b[0;34m,\u001b[0m \u001b[0mfill_value\u001b[0m\u001b[0;34m=\u001b[0m\u001b[0mfill_value\u001b[0m\u001b[0;34m,\u001b[0m\u001b[0;34m\u001b[0m\u001b[0m\n\u001b[1;32m   7365\u001b[0m                                       \u001b[0mmethod\u001b[0m\u001b[0;34m=\u001b[0m\u001b[0mmethod\u001b[0m\u001b[0;34m,\u001b[0m \u001b[0mlimit\u001b[0m\u001b[0;34m=\u001b[0m\u001b[0mlimit\u001b[0m\u001b[0;34m,\u001b[0m\u001b[0;34m\u001b[0m\u001b[0m\n\u001b[0;32m-> 7366\u001b[0;31m                                       fill_axis=fill_axis)\n\u001b[0m\u001b[1;32m   7367\u001b[0m         \u001b[0;32melse\u001b[0m\u001b[0;34m:\u001b[0m  \u001b[0;31m# pragma: no cover\u001b[0m\u001b[0;34m\u001b[0m\u001b[0m\n\u001b[1;32m   7368\u001b[0m             \u001b[0;32mraise\u001b[0m \u001b[0mTypeError\u001b[0m\u001b[0;34m(\u001b[0m\u001b[0;34m'unsupported type: %s'\u001b[0m \u001b[0;34m%\u001b[0m \u001b[0mtype\u001b[0m\u001b[0;34m(\u001b[0m\u001b[0mother\u001b[0m\u001b[0;34m)\u001b[0m\u001b[0;34m)\u001b[0m\u001b[0;34m\u001b[0m\u001b[0m\n",
      "\u001b[0;32m/cluster/bh0085/anaconda27/lib/python2.7/site-packages/pandas/core/generic.pyc\u001b[0m in \u001b[0;36m_align_series\u001b[0;34m(self, other, join, axis, level, copy, fill_value, method, limit, fill_axis)\u001b[0m\n\u001b[1;32m   7433\u001b[0m                 join_index, lidx, ridx = self.index.join(other.index, how=join,\n\u001b[1;32m   7434\u001b[0m                                                          \u001b[0mlevel\u001b[0m\u001b[0;34m=\u001b[0m\u001b[0mlevel\u001b[0m\u001b[0;34m,\u001b[0m\u001b[0;34m\u001b[0m\u001b[0m\n\u001b[0;32m-> 7435\u001b[0;31m                                                          return_indexers=True)\n\u001b[0m\u001b[1;32m   7436\u001b[0m \u001b[0;34m\u001b[0m\u001b[0m\n\u001b[1;32m   7437\u001b[0m             \u001b[0mleft\u001b[0m \u001b[0;34m=\u001b[0m \u001b[0mself\u001b[0m\u001b[0;34m.\u001b[0m\u001b[0m_reindex_indexer\u001b[0m\u001b[0;34m(\u001b[0m\u001b[0mjoin_index\u001b[0m\u001b[0;34m,\u001b[0m \u001b[0mlidx\u001b[0m\u001b[0;34m,\u001b[0m \u001b[0mcopy\u001b[0m\u001b[0;34m)\u001b[0m\u001b[0;34m\u001b[0m\u001b[0m\n",
      "\u001b[0;32m/cluster/bh0085/anaconda27/lib/python2.7/site-packages/pandas/core/indexes/base.pyc\u001b[0m in \u001b[0;36mjoin\u001b[0;34m(self, other, how, level, return_indexers, sort)\u001b[0m\n\u001b[1;32m   3716\u001b[0m             \u001b[0;32melse\u001b[0m\u001b[0;34m:\u001b[0m\u001b[0;34m\u001b[0m\u001b[0m\n\u001b[1;32m   3717\u001b[0m                 return self._join_multi(other, how=how,\n\u001b[0;32m-> 3718\u001b[0;31m                                         return_indexers=return_indexers)\n\u001b[0m\u001b[1;32m   3719\u001b[0m \u001b[0;34m\u001b[0m\u001b[0m\n\u001b[1;32m   3720\u001b[0m         \u001b[0;31m# join on the level\u001b[0m\u001b[0;34m\u001b[0m\u001b[0;34m\u001b[0m\u001b[0m\n",
      "\u001b[0;32m/cluster/bh0085/anaconda27/lib/python2.7/site-packages/pandas/core/indexes/base.pyc\u001b[0m in \u001b[0;36m_join_multi\u001b[0;34m(self, other, how, return_indexers)\u001b[0m\n\u001b[1;32m   3811\u001b[0m         \u001b[0;31m# need at least 1 in common, but not more than 1\u001b[0m\u001b[0;34m\u001b[0m\u001b[0;34m\u001b[0m\u001b[0m\n\u001b[1;32m   3812\u001b[0m         \u001b[0;32mif\u001b[0m \u001b[0;32mnot\u001b[0m \u001b[0mlen\u001b[0m\u001b[0;34m(\u001b[0m\u001b[0moverlap\u001b[0m\u001b[0;34m)\u001b[0m\u001b[0;34m:\u001b[0m\u001b[0;34m\u001b[0m\u001b[0m\n\u001b[0;32m-> 3813\u001b[0;31m             raise ValueError(\"cannot join with no level specified and no \"\n\u001b[0m\u001b[1;32m   3814\u001b[0m                              \"overlapping names\")\n\u001b[1;32m   3815\u001b[0m         \u001b[0;32mif\u001b[0m \u001b[0mlen\u001b[0m\u001b[0;34m(\u001b[0m\u001b[0moverlap\u001b[0m\u001b[0;34m)\u001b[0m \u001b[0;34m>\u001b[0m \u001b[0;36m1\u001b[0m\u001b[0;34m:\u001b[0m\u001b[0;34m\u001b[0m\u001b[0m\n",
      "\u001b[0;31mValueError\u001b[0m: cannot join with no level specified and no overlapping names"
     ]
    }
   ],
   "source": [
    "snew = pd.Series()\n",
    "snew + csv[\"count\"]"
   ]
  },
  {
   "cell_type": "code",
   "execution_count": 15,
   "metadata": {},
   "outputs": [
    {
     "data": {
      "text/plain": [
       "umi              oligo\n",
       "CCAAGGATGAGGCGC  7582     2\n",
       "CGTACGTTGAGAAAA  9524     2\n",
       "AGCTATGATTATTTC  6890     2\n",
       "GTATTACCACTTGAA  2578     2\n",
       "TGTGGTTGGGCATTC  2518     2\n",
       "TGGCGAAATCCTCTA  2758     2\n",
       "CGTTGGGACGCGCGA  9614     2\n",
       "TCATCCACGCGGATT  6323     2\n",
       "GACAAATTCTAGATT  3708     2\n",
       "GACTTAATGCGGCGG  9697     2\n",
       "GGGGTCGGGTGGGGG  7293     2\n",
       "CTTTTAAATCACGGG  9062     2\n",
       "GTTATGGATGAGAGT  4536     2\n",
       "TAACGCACTATTGTG  4059     2\n",
       "GTGGGGGCCCGATTA  8716     2\n",
       "TATGCACCCGTAAGC  5237     2\n",
       "CGCACAGGGGTAGAA  5199     2\n",
       "AGTACGCTAGTGTAT  734      2\n",
       "TCCTTACAAAAAACA  1849     2\n",
       "CTGCCTAAAAAGCAA  7089     2\n",
       "GTTACTGCAATTTGA  1266     2\n",
       "ATGACCGGACTAGTG  7859     2\n",
       "GCAGCTTCGTTATGC  5834     2\n",
       "TAGTCATAATAGGTC  45       2\n",
       "CGGGGGGCGGTGCGG  8455     2\n",
       "ACCGATCCGCGCTTC  9997     2\n",
       "TATAATGTCTGCTTG  4928     2\n",
       "CGTAGCCTGTTTCCC  5589     2\n",
       "AAACGCTAGGTGACC  911      2\n",
       "TAGGTCCTAGTGTAG  7983     2\n",
       "                         ..\n",
       "TAGTTCCTTAAATTC  47       2\n",
       "AGCGTACGGGGCGCG  9400     2\n",
       "TGATATTCAGTTCGG  3827     2\n",
       "TACGCCCCTGTACTG  2758     2\n",
       "GGTAGCGGGCAAGAG  4961     4\n",
       "CACTTCGTGTTATTT  8276     2\n",
       "TCGTTGCAAGCTCCA  500      2\n",
       "TGTGAGGTAGAGACG  3174     2\n",
       "GCAGTGTACACTATC  8292     2\n",
       "AAATCTTTCTACTAA  2553     2\n",
       "TACGCTTCCTAGGGA  5512     2\n",
       "ACTCCATTAGCTTGG  312      2\n",
       "GTGGGGCCAAGTCGG  6960     2\n",
       "GTAATCTGTTTGACG  1770     2\n",
       "GCTCTGGCTTCTGTT  4198     2\n",
       "TGTGTCCTATTTTGT  1927     2\n",
       "ACATCTCGCCACCCT  8885     2\n",
       "TGTTAGCTTCTGCTC  9433     2\n",
       "GCTCGTGTGGGGCGG  3951     2\n",
       "GATTCTAGTTTTCGA  1037     4\n",
       "TAGCGGGCATGTCAT  824      2\n",
       "AGTCTCGGAGGGATG  8644     2\n",
       "TTGACATAGGGTGAT  4043     2\n",
       "GGCTCAGTTTTGCGG  9161     2\n",
       "CAACCTTTAGGAACC  9360     2\n",
       "ATCCCCCCACGTGAG  6010     2\n",
       "GTCACGCTGTAGAGA  1454     4\n",
       "ACCGGGTGCATATTT  8240     2\n",
       "TCACAGTGTGGCCCG  2136     2\n",
       "CTGCTAGGAGTGTGT  8943     2\n",
       "Name: count, Length: 1085107, dtype: int64"
      ]
     },
     "execution_count": 15,
     "metadata": {},
     "output_type": "execute_result"
    }
   ],
   "source": [
    "allcsv[\"count\"] + allcsv[\"count\"]"
   ]
  },
  {
   "cell_type": "code",
   "execution_count": 12,
   "metadata": {},
   "outputs": [
    {
     "name": "stdout",
     "output_type": "stream",
     "text": [
      "hi\n"
     ]
    }
   ],
   "source": [
    "print \"hi\""
   ]
  }
 ],
 "metadata": {
  "kernelspec": {
   "display_name": "Python 2",
   "language": "python",
   "name": "python2"
  },
  "language_info": {
   "codemirror_mode": {
    "name": "ipython",
    "version": 2
   },
   "file_extension": ".py",
   "mimetype": "text/x-python",
   "name": "python",
   "nbconvert_exporter": "python",
   "pygments_lexer": "ipython2",
   "version": "2.7.15"
  }
 },
 "nbformat": 4,
 "nbformat_minor": 2
}
