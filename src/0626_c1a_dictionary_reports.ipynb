{
 "cells": [
  {
   "cell_type": "code",
   "execution_count": 48,
   "metadata": {},
   "outputs": [],
   "source": [
    "#!/cluster/bh0085/anaconda27/envs/py3/bin/python\n",
    "##\n",
    "# IMPORTS BOILERPLATE\n",
    "##\n",
    "import pandas as pd\n",
    "import numpy as np\n",
    "import itertools as it\n",
    "import os,re, sys\n",
    "from collections import defaultdict\n",
    "\n",
    "sys.path.append(\"/cluster/bh0085\")\n",
    "from mybio import util\n",
    "from _config import DATA_DIR, OUT_PLACE, N_SPLITS, QSUBS_DIR, EXP_NAMES, OLIGO_LIBRARY, POSITIVE_CONTROLS_FILE\n",
    "import _config\n",
    "\n",
    "#IO DIRECTORY CONFIG\n",
    "try:NAME = util.get_fn(__file__)\n",
    "except NameError:NAME=\"0626_c1a_dictionary_reports\"\n",
    "\n",
    "OUT_DIR = os.path.join(OUT_PLACE, NAME)\n",
    "util.ensure_dir_exists(OUT_DIR)\n",
    "\n",
    "##\n",
    "# CUSTOM CODE\n",
    "##\n",
    "\n",
    "\n",
    "#load oligo library from experimental design\n",
    "oligos_lib = OLIGO_LIBRARY\n",
    "oligos_lib[\"id\"] = oligos_lib.index\n",
    "positive_controls = pd.read_csv(POSITIVE_CONTROLS_FILE)\n",
    "\n",
    "\n",
    "from _config import DATA_DIR, OUT_PLACE, N_SPLITS, QSUBS_DIR, EXP_NAMES\n",
    "TX_INP_DIR = os.path.join(OUT_PLACE, \"c0_bin_transcript_umis\")\n",
    "OLIGO_INP_DIR = os.path.join(OUT_PLACE, \"b1_demultiplex_oligos\")\n",
    "\n",
    "\n",
    "#load oligo library from experimental design\n",
    "oligos_lib = OLIGO_LIBRARY\n",
    "oligos_lib[\"id\"] = oligos_lib.index\n",
    "positive_controls = pd.read_csv(POSITIVE_CONTROLS_FILE)\n",
    "\n",
    "\n",
    "\n",
    "\n",
    "bc_substr_ids = dict([((s1+s2+s3) ,sum([     {\"A\":0,\"T\":1,\"C\":2,\"G\":3}[(s1+s2+s3)[i]]*(4**i) for i in range(3)])) for s1 in \"ATGC\" for s2 in \"ATGC\" for s3 in \"ATGC\"])\n",
    "                     \n",
    "#bc_id_substrs = dict([[(s1+s2+s3) ,sum([ {\"A\":0,\"T\":1,\"C\":2,\"G\":3}[(s1+s2+s3)[i]*(4**i)] for i in range(3)])] for s1 in \"ATGC\" for s2 in \"ATGC\" for s3 in \"ATGC\"])\n",
    "bc_substr_inc = 4\n",
    "bc_substr_max = len(bc_substr_ids)\n"
   ]
  },
  {
   "cell_type": "code",
   "execution_count": 49,
   "metadata": {},
   "outputs": [],
   "source": [
    "split=\"0\"\n",
    "bc_substr_idx=0"
   ]
  },
  {
   "cell_type": "code",
   "execution_count": null,
   "metadata": {},
   "outputs": [],
   "source": []
  },
  {
   "cell_type": "code",
   "execution_count": 94,
   "metadata": {},
   "outputs": [
    {
     "name": "stdout",
     "output_type": "stream",
     "text": [
      "AAA\n",
      "oligo file: 20190320-100XSTARRseq-Nextera-PE_HKNM2AFXY_S1_L004_0.json\n",
      "tx_file: /cluster/bh0085/prj/starr_all/starr/out/c0_bin_transcript_umis/U2OS_WT_BR1_AAA.csv\n",
      "0\n",
      "oligo file: 20190320-100XSTARRseq-Nextera-PE_HKNM2AFXY_S1_L004_0.json\n",
      "tx_file: /cluster/bh0085/prj/starr_all/starr/out/c0_bin_transcript_umis/U2OS_WT_BR2_AAA.csv\n",
      "1\n",
      "oligo file: 20190320-100XSTARRseq-Nextera-PE_HKNM2AFXY_S1_L004_0.json\n",
      "tx_file: /cluster/bh0085/prj/starr_all/starr/out/c0_bin_transcript_umis/HCT116_WT_BR1_AAA.csv\n",
      "2\n",
      "oligo file: 20190320-100XSTARRseq-Nextera-PE_HKNM2AFXY_S1_L004_0.json\n",
      "tx_file: /cluster/bh0085/prj/starr_all/starr/out/c0_bin_transcript_umis/HCT116_WT_BR2_AAA.csv\n",
      "3\n",
      "oligo file: 20190320-100XSTARRseq-Nextera-PE_HKNM2AFXY_S1_L004_0.json\n",
      "tx_file: /cluster/bh0085/prj/starr_all/starr/out/c0_bin_transcript_umis/HCT116_Gemcitabine2uM_BR1_AAA.csv\n",
      "4\n",
      "oligo file: 20190320-100XSTARRseq-Nextera-PE_HKNM2AFXY_S1_L004_0.json\n",
      "tx_file: /cluster/bh0085/prj/starr_all/starr/out/c0_bin_transcript_umis/HCT116_Gemcitabine2uM_BR2_AAA.csv\n",
      "5\n",
      "oligo file: 20190320-100XSTARRseq-Nextera-PE_HKNM2AFXY_S1_L004_0.json\n",
      "tx_file: /cluster/bh0085/prj/starr_all/starr/out/c0_bin_transcript_umis/DLD1_WT_BR1_AAA.csv\n",
      "6\n",
      "oligo file: 20190320-100XSTARRseq-Nextera-PE_HKNM2AFXY_S1_L004_0.json\n",
      "tx_file: /cluster/bh0085/prj/starr_all/starr/out/c0_bin_transcript_umis/DLD1_WT_BR2_AAA.csv\n",
      "7\n",
      "oligo file: 20190320-100XSTARRseq-Nextera-PE_HKNM2AFXY_S1_L004_0.json\n",
      "tx_file: /cluster/bh0085/prj/starr_all/starr/out/c0_bin_transcript_umis/U2OS_NFKB1KO_Sorted_GFPpos_BR1_AAA.csv\n",
      "8\n",
      "oligo file: 20190320-100XSTARRseq-Nextera-PE_HKNM2AFXY_S1_L004_0.json\n",
      "tx_file: /cluster/bh0085/prj/starr_all/starr/out/c0_bin_transcript_umis/U2OS_NFKB1KO_Sorted_GFPpos_BR2_AAA.csv\n",
      "9\n",
      "oligo file: 20190320-100XSTARRseq-Nextera-PE_HKNM2AFXY_S1_L004_0.json\n",
      "tx_file: /cluster/bh0085/prj/starr_all/starr/out/c0_bin_transcript_umis/U2OS_NFKB2KO_Sorted_GFPpos_BR1_AAA.csv\n",
      "10\n",
      "oligo file: 20190320-100XSTARRseq-Nextera-PE_HKNM2AFXY_S1_L004_0.json\n",
      "tx_file: /cluster/bh0085/prj/starr_all/starr/out/c0_bin_transcript_umis/U2OS_NFKB2KO_Sorted_GFPpos_BR2_AAA.csv\n",
      "11\n",
      "oligo file: 20190320-100XSTARRseq-Nextera-PE_HKNM2AFXY_S1_L004_0.json\n",
      "tx_file: /cluster/bh0085/prj/starr_all/starr/out/c0_bin_transcript_umis/U2OS_NFKB1KO_Sorted_GFPneg_BR1_with_ML120B_20uM_AAA.csv\n",
      "12\n",
      "oligo file: 20190320-100XSTARRseq-Nextera-PE_HKNM2AFXY_S1_L004_0.json\n",
      "tx_file: /cluster/bh0085/prj/starr_all/starr/out/c0_bin_transcript_umis/U2OS_NFKB1KO_Sorted_GFPneg_BR2_with_ML120B_20uM_AAA.csv\n",
      "13\n",
      "oligo file: 20190320-100XSTARRseq-Nextera-PE_HKNM2AFXY_S1_L004_0.json\n",
      "tx_file: /cluster/bh0085/prj/starr_all/starr/out/c0_bin_transcript_umis/U2OS_NFKB2KO_Sorted_GFPneg_BR1_with_ML120B_20uM_AAA.csv\n",
      "14\n",
      "oligo file: 20190320-100XSTARRseq-Nextera-PE_HKNM2AFXY_S1_L004_0.json\n",
      "tx_file: /cluster/bh0085/prj/starr_all/starr/out/c0_bin_transcript_umis/U2OS_NFKB2KO_Sorted_GFPneg_BR2_with_ML120B_20uM_AAA.csv\n",
      "15\n",
      "oligo file: 20190320-100XSTARRseq-Nextera-PE_HKNM2AFXY_S1_L004_0.json\n",
      "tx_file: /cluster/bh0085/prj/starr_all/starr/out/c0_bin_transcript_umis/other_AAA.csv\n",
      "16\n",
      "[3.3696969696969696, 6.293006993006993, 8.258275058275059, 9.973659673659673, 10.5997668997669, 11.325407925407925, 14.384848484848485, 17.415617715617717, 18.47948717948718, 19.5986013986014, 21.835897435897436, 23.757342657342658, 24.967599067599068, 26.255944055944056, 27.713752913752913, 28.816083916083915, 34.944522144522146]\n",
      "[0.032832010756253666, 0.026610902810048527, 0.015514531877385329, 0.014309019601742983, 0.005619752404505008, 0.006545278694728874, 0.03419126266704874, 0.026897369221316816, 0.040447008569732094, 0.03163172528297909, 0.028940409531821486, 0.025547965584785896, 0.02918231075338924, 0.036407591117786166, 0.02345502141480209, 0.02257807315314799, 0.0030462483790264796]\n",
      "<json>{\"oligo_mapping_success_rates\": [3.3696969696969696, 2.923310023310023, 1.9652680652680652, 1.7153846153846153, 0.6261072261072261, 0.7256410256410256, 3.0594405594405596, 3.0307692307692307, 1.063869463869464, 1.1191142191142192, 2.237296037296037, 1.9214452214452213, 1.2102564102564102, 1.2883449883449885, 1.4578088578088577, 1.1023310023310022, 6.128438228438228], \"tx_discovery_rates\": [0.032832010756253666, 0.026610902810048527, 0.015514531877385329, 0.014309019601742983, 0.005619752404505008, 0.006545278694728874, 0.03419126266704874, 0.026897369221316816, 0.040447008569732094, 0.03163172528297909, 0.028940409531821486, 0.025547965584785896, 0.02918231075338924, 0.036407591117786166, 0.02345502141480209, 0.02257807315314799, 0.0030462483790264796]}</json>\n"
     ]
    }
   ],
   "source": [
    "all_oligos = pd.DataFrame()\n",
    "all_tx_bcs = set()\n",
    "all_oligo_bcs = set()\n",
    "\n",
    "bc_substr_idx = int(bc_substr_idx)\n",
    "\n",
    "merged_results = pd.DataFrame()\n",
    "tx_discovery_rates = []\n",
    "oligo_mapping_multiplicity = []\n",
    "total_txs = 0\n",
    "total_oligos = 0\n",
    "#load barcode-matched umis from dictionary reads\n",
    "\n",
    "cnt = -1\n",
    "for oligo_file in os.listdir(OLIGO_INP_DIR):\n",
    "    #file_format = \"../out/b1_demultiplex_oligos/20190320-100XSTARRseq-Nextera-PE_HKNM2AFXY_S1_L001_3.json\"\n",
    "    if not (\"_\"+split+\".json\" in oligo_file):\n",
    "        continue\n",
    "    if \"SHE3202-STAR\" in oligo_file: continue\n",
    "\n",
    "\n",
    "\n",
    "    a_output2 = pd.read_csv(os.path.join(OLIGO_INP_DIR,oligo_file))\n",
    "    a_output2 = a_output2.rename({\"umi\":\"bc\"}, axis = \"columns\")\n",
    "    a_output_15 = a_output2.loc[a_output2.bc.str.len() == 15]\n",
    "    \n",
    "    all_oligos.append(a_output_15.assign(fname=oligo_file))\n",
    "    \n",
    "    total_oligos+= len(a_output_15)\n",
    "    all_oligo_bcs.update(list(a_output_15.bc))\n",
    "\n",
    "    \n",
    "\n",
    "    for k, ogroup in a_output_15.groupby(a_output_15.bc.str.slice(0,3)):\n",
    "        print(k)\n",
    "        if \"N\" in k: \n",
    "          continue\n",
    "\n",
    "        if (bc_substr_ids[k] < bc_substr_idx ) or ( bc_substr_ids[k] >= (bc_substr_idx + bc_substr_inc) ) :\n",
    "          continue \n",
    "\n",
    "\n",
    "        for exp in EXP_NAMES:\n",
    "            cnt+=1\n",
    "\n",
    "\n",
    "            \n",
    "            tx_file = os.path.join(TX_INP_DIR,\"{}_{}.csv\".format(exp,k))\n",
    "            \n",
    "            \n",
    "            print(f\"oligo file: {oligo_file}\\ntx_file: {tx_file}\")\n",
    "            tx_subdict_df = pd.read_csv(tx_file)[[\"bc\",\"umi\"]]\n",
    "            tx_subdict_df[\"exp\"] = exp\n",
    "            total_txs += len(tx_subdict_df)\n",
    "            joined = pd.merge(ogroup.rename({\"count\":\"oligo_reads\"},axis=\"columns\"),tx_subdict_df.groupby([\"bc\",\"umi\",\"exp\"]).size().rename(\"dictionary_reads\").reset_index())\n",
    "            merged_results = merged_results.append(joined)\n",
    "            print(cnt)\n",
    "            oligo_mapping_multiplicity.append(float(len(joined)) / len(ogroup))\n",
    "            tx_discovery_rates.append(float(len(joined)) / len(tx_subdict_df))\n",
    "            \n",
    "        break\n",
    "    break\n",
    "        \n",
    "        \n",
    "merged_results.to_csv(os.path.join(OUT_DIR,f\"merged_{bc_substr_idx}_{split}.csv\"),index=False)\n",
    "import json\n",
    "print(oligo_mapping_success_rates)\n",
    "print(tx_discovery_rates)\n",
    "print(f\"\"\"<json>{json.dumps({\n",
    "    \"oligo_mapping_success_rates\":oligo_mapping_multiplicity,\n",
    "    \"tx_discovery_rates\":tx_discovery_rates\n",
    "})}</json>\"\"\")\n"
   ]
  },
  {
   "cell_type": "code",
   "execution_count": 95,
   "metadata": {},
   "outputs": [
    {
     "data": {
      "text/plain": [
       "149912"
      ]
     },
     "execution_count": 95,
     "metadata": {},
     "output_type": "execute_result"
    }
   ],
   "source": [
    "len(merged_results)"
   ]
  },
  {
   "cell_type": "code",
   "execution_count": 97,
   "metadata": {},
   "outputs": [
    {
     "data": {
      "text/plain": [
       "exp\n",
       "DLD1_WT_BR1                                        13125\n",
       "DLD1_WT_BR2                                        13002\n",
       "HCT116_Gemcitabine2uM_BR1                           2686\n",
       "HCT116_Gemcitabine2uM_BR2                           3113\n",
       "HCT116_WT_BR1                                       8431\n",
       "HCT116_WT_BR2                                       7359\n",
       "U2OS_NFKB1KO_Sorted_GFPneg_BR1_with_ML120B_20uM     5192\n",
       "U2OS_NFKB1KO_Sorted_GFPneg_BR2_with_ML120B_20uM     5527\n",
       "U2OS_NFKB1KO_Sorted_GFPpos_BR1                      4564\n",
       "U2OS_NFKB1KO_Sorted_GFPpos_BR2                      4801\n",
       "U2OS_NFKB2KO_Sorted_GFPneg_BR1_with_ML120B_20uM     6254\n",
       "U2OS_NFKB2KO_Sorted_GFPneg_BR2_with_ML120B_20uM     4729\n",
       "U2OS_NFKB2KO_Sorted_GFPpos_BR1                      9598\n",
       "U2OS_NFKB2KO_Sorted_GFPpos_BR2                      8243\n",
       "U2OS_WT_BR1                                        14456\n",
       "U2OS_WT_BR2                                        12541\n",
       "other                                              26291\n",
       "dtype: int64"
      ]
     },
     "execution_count": 97,
     "metadata": {},
     "output_type": "execute_result"
    }
   ],
   "source": [
    "merged_results.groupby(\"exp\").size()"
   ]
  },
  {
   "cell_type": "code",
   "execution_count": 96,
   "metadata": {},
   "outputs": [
    {
     "data": {
      "text/plain": [
       "26291"
      ]
     },
     "execution_count": 96,
     "metadata": {},
     "output_type": "execute_result"
    }
   ],
   "source": [
    "len(merged_results.loc[merged_results.exp==\"other\"])"
   ]
  },
  {
   "cell_type": "code",
   "execution_count": 83,
   "metadata": {},
   "outputs": [
    {
     "data": {
      "text/plain": [
       "149912"
      ]
     },
     "execution_count": 83,
     "metadata": {},
     "output_type": "execute_result"
    }
   ],
   "source": [
    "len(merged_results)"
   ]
  },
  {
   "cell_type": "code",
   "execution_count": 85,
   "metadata": {},
   "outputs": [
    {
     "data": {
      "text/plain": [
       "115541"
      ]
     },
     "execution_count": 85,
     "metadata": {},
     "output_type": "execute_result"
    }
   ],
   "source": [
    "merged_results.umi.nunique()"
   ]
  },
  {
   "cell_type": "code",
   "execution_count": 74,
   "metadata": {},
   "outputs": [],
   "source": [
    "merged = pd.merge(ogroup.rename({\"count\":\"oligo_reads\"},axis=\"columns\"),tx_subdict_df.groupby([\"bc\",\"umi\"]).size().rename(\"dictionary_reads\").reset_index())"
   ]
  },
  {
   "cell_type": "code",
   "execution_count": 75,
   "metadata": {},
   "outputs": [
    {
     "data": {
      "text/plain": [
       "26291"
      ]
     },
     "execution_count": 75,
     "metadata": {},
     "output_type": "execute_result"
    }
   ],
   "source": [
    "len(merged)"
   ]
  },
  {
   "cell_type": "code",
   "execution_count": 76,
   "metadata": {},
   "outputs": [
    {
     "data": {
      "text/plain": [
       "938278"
      ]
     },
     "execution_count": 76,
     "metadata": {},
     "output_type": "execute_result"
    }
   ],
   "source": [
    "len(merged_results)"
   ]
  },
  {
   "cell_type": "code",
   "execution_count": 90,
   "metadata": {},
   "outputs": [
    {
     "data": {
      "text/plain": [
       "181"
      ]
     },
     "execution_count": 90,
     "metadata": {},
     "output_type": "execute_result"
    }
   ],
   "source": [
    "len(merged_results.loc[merged_results.umi.str.contains(\"N\")])"
   ]
  },
  {
   "cell_type": "code",
   "execution_count": 58,
   "metadata": {},
   "outputs": [
    {
     "data": {
      "text/plain": [
       "115541"
      ]
     },
     "execution_count": 58,
     "metadata": {},
     "output_type": "execute_result"
    }
   ],
   "source": [
    "merged_results.umi.nunique()"
   ]
  },
  {
   "cell_type": "code",
   "execution_count": null,
   "metadata": {},
   "outputs": [],
   "source": [
    "os.path.join(OUT_DIR,f\"merged_{bc_substr_idx}_{split}.csv\")"
   ]
  },
  {
   "cell_type": "code",
   "execution_count": null,
   "metadata": {},
   "outputs": [],
   "source": [
    "48 * 64"
   ]
  },
  {
   "cell_type": "code",
   "execution_count": null,
   "metadata": {},
   "outputs": [],
   "source": [
    "len(merged_results)"
   ]
  },
  {
   "cell_type": "code",
   "execution_count": null,
   "metadata": {},
   "outputs": [],
   "source": [
    "len(tx_subdict_df.umi.unique())"
   ]
  },
  {
   "cell_type": "code",
   "execution_count": null,
   "metadata": {},
   "outputs": [],
   "source": [
    "unique_bcs = set(tx_subdict_df.bc)"
   ]
  },
  {
   "cell_type": "code",
   "execution_count": null,
   "metadata": {},
   "outputs": [],
   "source": [
    "unique_oligo_bcs = set(ogroup.bc)"
   ]
  },
  {
   "cell_type": "code",
   "execution_count": null,
   "metadata": {},
   "outputs": [],
   "source": [
    "len(unique_oligo_bcs) * 64"
   ]
  },
  {
   "cell_type": "code",
   "execution_count": null,
   "metadata": {},
   "outputs": [],
   "source": [
    "len(unique_bcs)"
   ]
  },
  {
   "cell_type": "code",
   "execution_count": null,
   "metadata": {},
   "outputs": [],
   "source": [
    "len(unique_oligo_bcs)"
   ]
  },
  {
   "cell_type": "code",
   "execution_count": null,
   "metadata": {},
   "outputs": [],
   "source": [
    "4608*64"
   ]
  },
  {
   "cell_type": "code",
   "execution_count": null,
   "metadata": {},
   "outputs": [],
   "source": [
    "len(unique_bcs.intersection(unique_oligo_bcs))"
   ]
  },
  {
   "cell_type": "code",
   "execution_count": null,
   "metadata": {},
   "outputs": [],
   "source": [
    "print(total_txs)"
   ]
  },
  {
   "cell_type": "code",
   "execution_count": null,
   "metadata": {},
   "outputs": [],
   "source": [
    "print(total_oligos)"
   ]
  },
  {
   "cell_type": "code",
   "execution_count": null,
   "metadata": {},
   "outputs": [],
   "source": [
    "len(all_oligo_bcs)"
   ]
  },
  {
   "cell_type": "code",
   "execution_count": null,
   "metadata": {},
   "outputs": [],
   "source": [
    "len(all_tx_bcs)"
   ]
  },
  {
   "cell_type": "code",
   "execution_count": null,
   "metadata": {},
   "outputs": [],
   "source": [
    "len(merged_results)"
   ]
  },
  {
   "cell_type": "code",
   "execution_count": null,
   "metadata": {},
   "outputs": [],
   "source": [
    "len(tx_subdict_df.loc[tx_subdict_df.bc.str.slice(0,3)==\"AAA\"])"
   ]
  },
  {
   "cell_type": "code",
   "execution_count": null,
   "metadata": {},
   "outputs": [],
   "source": []
  },
  {
   "cell_type": "code",
   "execution_count": null,
   "metadata": {},
   "outputs": [],
   "source": [
    "len(ogroup)"
   ]
  },
  {
   "cell_type": "code",
   "execution_count": null,
   "metadata": {},
   "outputs": [],
   "source": []
  },
  {
   "cell_type": "code",
   "execution_count": null,
   "metadata": {},
   "outputs": [],
   "source": [
    "len(ogroup.loc[ogroup.bc.str.slice(0,3)==\"AAA\"])"
   ]
  },
  {
   "cell_type": "code",
   "execution_count": null,
   "metadata": {},
   "outputs": [],
   "source": [
    "len(merged_results)"
   ]
  },
  {
   "cell_type": "code",
   "execution_count": null,
   "metadata": {},
   "outputs": [],
   "source": [
    "len(merged_results)"
   ]
  },
  {
   "cell_type": "code",
   "execution_count": null,
   "metadata": {},
   "outputs": [],
   "source": [
    "len(ogroup)"
   ]
  },
  {
   "cell_type": "code",
   "execution_count": null,
   "metadata": {},
   "outputs": [],
   "source": []
  },
  {
   "cell_type": "code",
   "execution_count": null,
   "metadata": {},
   "outputs": [],
   "source": [
    "import matplotlib.pyplot as plt"
   ]
  },
  {
   "cell_type": "code",
   "execution_count": null,
   "metadata": {},
   "outputs": [],
   "source": []
  },
  {
   "cell_type": "code",
   "execution_count": null,
   "metadata": {},
   "outputs": [],
   "source": [
    "ogroup.bc.nunique()"
   ]
  },
  {
   "cell_type": "code",
   "execution_count": null,
   "metadata": {},
   "outputs": [],
   "source": [
    "oligo_mapping_success_rates"
   ]
  },
  {
   "cell_type": "code",
   "execution_count": null,
   "metadata": {},
   "outputs": [],
   "source": [
    "plt.plot(oligo_mapping_success_rates)"
   ]
  },
  {
   "cell_type": "code",
   "execution_count": null,
   "metadata": {},
   "outputs": [],
   "source": [
    "merged_results.bc.nunique()"
   ]
  },
  {
   "cell_type": "code",
   "execution_count": null,
   "metadata": {},
   "outputs": [],
   "source": [
    "len(merged_results)"
   ]
  },
  {
   "cell_type": "code",
   "execution_count": null,
   "metadata": {},
   "outputs": [],
   "source": [
    "len(all_tx_bcs)"
   ]
  },
  {
   "cell_type": "code",
   "execution_count": null,
   "metadata": {},
   "outputs": [],
   "source": [
    "tx_subdict_df.bc.nunique()"
   ]
  },
  {
   "cell_type": "code",
   "execution_count": null,
   "metadata": {},
   "outputs": [],
   "source": [
    "ogroup.bc.nunique()"
   ]
  },
  {
   "cell_type": "code",
   "execution_count": null,
   "metadata": {},
   "outputs": [],
   "source": [
    "merged_results.umi.nunique()"
   ]
  },
  {
   "cell_type": "code",
   "execution_count": null,
   "metadata": {},
   "outputs": [],
   "source": [
    "merged_results.bc.nunique()"
   ]
  },
  {
   "cell_type": "code",
   "execution_count": null,
   "metadata": {},
   "outputs": [],
   "source": [
    "len(merged_results)"
   ]
  },
  {
   "cell_type": "code",
   "execution_count": null,
   "metadata": {},
   "outputs": [],
   "source": [
    "len(os.listdir(OLIGO_INP_DIR))"
   ]
  },
  {
   "cell_type": "code",
   "execution_count": null,
   "metadata": {},
   "outputs": [],
   "source": [
    "len(ogroup)"
   ]
  },
  {
   "cell_type": "code",
   "execution_count": null,
   "metadata": {},
   "outputs": [],
   "source": [
    "len(ogroup.bc.unique())"
   ]
  },
  {
   "cell_type": "code",
   "execution_count": null,
   "metadata": {},
   "outputs": [],
   "source": [
    "len(EXP_NAMES)"
   ]
  },
  {
   "cell_type": "code",
   "execution_count": null,
   "metadata": {},
   "outputs": [],
   "source": [
    "len(oligo_mapping_success_rates)"
   ]
  },
  {
   "cell_type": "code",
   "execution_count": null,
   "metadata": {},
   "outputs": [],
   "source": [
    "tx_discovery_rates"
   ]
  },
  {
   "cell_type": "code",
   "execution_count": null,
   "metadata": {},
   "outputs": [],
   "source": []
  },
  {
   "cell_type": "code",
   "execution_count": null,
   "metadata": {},
   "outputs": [],
   "source": [
    "oligo_mapping_success_rates"
   ]
  }
 ],
 "metadata": {
  "kernelspec": {
   "display_name": "py3",
   "language": "python",
   "name": "py3-test"
  },
  "language_info": {
   "codemirror_mode": {
    "name": "ipython",
    "version": 3
   },
   "file_extension": ".py",
   "mimetype": "text/x-python",
   "name": "python",
   "nbconvert_exporter": "python",
   "pygments_lexer": "ipython3",
   "version": "3.7.3"
  }
 },
 "nbformat": 4,
 "nbformat_minor": 2
}
