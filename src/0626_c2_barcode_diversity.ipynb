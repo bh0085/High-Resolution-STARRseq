{
 "cells": [
  {
   "cell_type": "code",
   "execution_count": 18,
   "metadata": {},
   "outputs": [],
   "source": [
    "import os\n",
    "import pandas as pd\n",
    "out0_dir = \"../out/c0_bin_transcript_umis/\"\n",
    "out1_dir = \"../out/c1_merge_tx_oligos/\""
   ]
  },
  {
   "cell_type": "code",
   "execution_count": 20,
   "metadata": {},
   "outputs": [],
   "source": [
    "os.listdir(out0_dir)\n",
    "test_file0 = os.path.join(out0_dir,\"other_AAC.csv\")\n",
    "test_contents0 = pd.read_csv(test_file0)\n",
    "test_file1 = os.path.join(out1_dir,\"merged_56_6.csv\")\n",
    "test_contents1= pd.read_csv(test_file1)"
   ]
  },
  {
   "cell_type": "code",
   "execution_count": 21,
   "metadata": {},
   "outputs": [],
   "source": [
    "import matplotlib.pyplot as plt\n",
    "%matplotlib inline"
   ]
  },
  {
   "cell_type": "code",
   "execution_count": 23,
   "metadata": {},
   "outputs": [
    {
     "data": {
      "text/plain": [
       "21936894"
      ]
     },
     "execution_count": 23,
     "metadata": {},
     "output_type": "execute_result"
    }
   ],
   "source": [
    "len(test_contents1)"
   ]
  },
  {
   "cell_type": "code",
   "execution_count": 22,
   "metadata": {},
   "outputs": [
    {
     "name": "stdout",
     "output_type": "stream",
     "text": [
      "85340 unique barcodes represented in ../out/c0_bin_transcript_umis/other_AAC.csv\n",
      "183235 unique umis represented in ../out/c0_bin_transcript_umis/other_AAC.csv\n",
      "143530 unique barcodes represented in ../out/c1_merge_tx_oligos/merged_56_6.csv\n",
      "738036 unique umis represented in ../out/c1_merge_tx_oligos/merged_56_6.csv\n"
     ]
    }
   ],
   "source": [
    "print(f\"{test_contents0.bc.nunique()} unique barcodes represented in {test_file0}\")\n",
    "print(f\"{test_contents0.umi.nunique()} unique umis represented in {test_file0}\")\n",
    "print(f\"{test_contents1.bc.nunique()} unique barcodes represented in {test_file1}\")\n",
    "print(f\"{test_contents1.umi.nunique()} unique umis represented in {test_file1}\")\n"
   ]
  }
 ],
 "metadata": {
  "kernelspec": {
   "display_name": "Python 3",
   "language": "python",
   "name": "python3"
  },
  "language_info": {
   "codemirror_mode": {
    "name": "ipython",
    "version": 3
   },
   "file_extension": ".py",
   "mimetype": "text/x-python",
   "name": "python",
   "nbconvert_exporter": "python",
   "pygments_lexer": "ipython3",
   "version": "3.7.4"
  }
 },
 "nbformat": 4,
 "nbformat_minor": 4
}
