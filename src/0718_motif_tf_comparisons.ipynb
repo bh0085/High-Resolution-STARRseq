{
 "cells": [
  {
   "cell_type": "code",
   "execution_count": null,
   "metadata": {},
   "outputs": [],
   "source": [
    "#LOAD AND PROCESS MOTIFS TO CREATE AN ALL MOTIFS DATASET\n",
    "\n",
    "motifs_15 = pd.read_csv(\"../data/0711_motif_manyregions_1.5std.csv\").set_index([\"seq\",\"jaspar_id\"]).assign(m15=1)\n",
    "motifs_05 = pd.read_csv(\"../data/0711_motif_manyregions_.5std.csv\").set_index([\"seq\",\"jaspar_id\"]).assign(m05=1)\n",
    "motifs_10 = pd.read_csv(\"../data/0711_motif_manyregions_1std.csv\").set_index([\"seq\",\"jaspar_id\"]).assign(m10=1)\n",
    "motifs_fewer_allbest = pd.read_csv(\"../data/0711_motif_fewerregions_allbest.csv\").set_index([\"seq\",\"jaspar_id\"]).assign(fewer_allbest=1)\n",
    "motifs_fewer_decent = pd.read_csv(\"../data/0711_motif_fewerregions_decenthits.csv\").set_index([\"seq\",\"jaspar_id\"]).assign(mdecent=1)\n",
    "motifs_fewer_great = pd.read_csv(\"../data/0711_motif_fewerregions_greathits.csv\").set_index([\"seq\",\"jaspar_id\"]).assign(mgreat=1)\n",
    "motifs_fewer_ok = pd.read_csv(\"../data/0711_motif_fewerregions_okhits.csv\").set_index([\"seq\",\"jaspar_id\"]).assign(mok=1)\n",
    "motifs_allbest = pd.read_csv(\"../data/0711_motif_manyregions_allbest.csv\").rename({\"motif_id\":\"jaspar_id\"},axis=\"columns\").set_index([\"seq\",\"jaspar_id\"]).assign(many_allbest=1)\n",
    "all_motifs = pd.concat([motifs_15,motifs_05,motifs_10,motifs_fewer_allbest,motifs_allbest,motifs_fewer_decent,motifs_fewer_great,motifs_fewer_ok],axis=1)\n",
    "all_motifs = all_motifs.filter(regex=\"^[^U]\")\n",
    "\n",
    "\n",
    "\n",
    "#DO CORRELATED TF MOTIFS SHOW UP IN REGIONS SELECTED\n",
    "\n",
    "#link lin's correlations to the jaspar dataset\n",
    "jaspar_hits_by_assay = all_motifs.groupby(level= 1).sum()\n",
    "sequence_motif_counts = all_motifs.groupby(level = 0).sum()\n",
    "\n",
    "tf_correlations = pd.read_csv(\"../data/20181106_APBvs7kTF_correlation.csv\")\n",
    "\n",
    "tf_cor_upper = tf_correlations.set_index(tf_correlations.Gene.str.upper()).rename({\"Correlation_Coefficiency\":\"corr\"},axis=\"columns\")\n",
    "out = jaspar.apply(lambda x: pd.Series(dict([tf_cor_upper.loc[e.upper()] for e in x[\"name\"].split(\"::\") if e in tf_cor_upper.index ])),axis = 1)\n",
    "jaspar_correlations = out.reset_index().melt(id_vars = \"jaspar_id\",value_name=\"corr\",var_name=\"gene\").dropna().reset_index(drop =True)\n",
    "\n",
    "jaspar_max_corrs = jaspar_correlations.groupby(\"jaspar_id\")[\"corr\"].max()\n",
    "all_motif_corrs= all_motifs.join(jaspar_correlations.groupby(\"jaspar_id\")[\"corr\"].max())[[\"corr\"]]\n",
    "\n",
    "#WEIRD AD HOC NORMALIATION\n",
    "normalized_hits = all_motifs.groupby(level=1)\\\n",
    "    .apply(lambda x: x/ jaspar_hits_by_assay.loc[x.name]).sum(axis=1)\n",
    "normalization = normalized_hits.groupby(level=[0,1]).apply(lambda x: jaspar_max_corrs.loc[x.name[1]] if x.name[1] in jaspar_max_corrs.index else 0)\n",
    "normalized_hits_by_seq =(normalized_hits * normalization).groupby(level=0).sum()\n",
    "\n",
    "\n",
    "\n"
   ]
  }
 ],
 "metadata": {
  "kernelspec": {
   "display_name": "Python 3",
   "language": "python",
   "name": "python3"
  },
  "language_info": {
   "codemirror_mode": {
    "name": "ipython",
    "version": 3
   },
   "file_extension": ".py",
   "mimetype": "text/x-python",
   "name": "python",
   "nbconvert_exporter": "python",
   "pygments_lexer": "ipython3",
   "version": "3.7.3"
  }
 },
 "nbformat": 4,
 "nbformat_minor": 2
}
