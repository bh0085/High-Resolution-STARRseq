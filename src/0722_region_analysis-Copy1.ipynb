{
 "cells": [
  {
   "cell_type": "code",
   "execution_count": null,
   "metadata": {},
   "outputs": [],
   "source": [
    "import imp\n",
    "import _config\n",
    "imp.reload(_config)\n",
    "imp.reload(z2_save_jaspar)"
   ]
  },
  {
   "cell_type": "code",
   "execution_count": 3,
   "metadata": {},
   "outputs": [],
   "source": [
    "import pandas as pd\n",
    "import numpy as np\n",
    "\n",
    "import z1_save_oligos, z2_save_jaspar\n",
    "oligos, oligos_by_exp = z1_save_oligos.load_oligos()\n",
    "jaspar = z2_save_jaspar.load_jaspar()\n",
    "\n",
    "\n",
    "wt_oligos = oligos.loc[lambda df: df.mutant_num == 0]\n",
    "starts = wt_oligos.starts.sort_values()\n",
    "diff_prev = pd.Series( (starts - np.roll(starts,1)).values,index = starts.values)\n",
    "diff_nex = pd.Series((starts - np.roll(starts,-1)).values,index = starts.values)\n",
    "firsts = diff_prev.loc[lambda df: abs(df) > 30]\n",
    "lasts = diff_nex.loc[lambda df: abs(df) > 30]\n",
    "\n",
    "#LOADS BIOLOGICAL MOTIFS AND SCANS ALL SUBREGIONS FOR OCCURENCES\n",
    "from pyfaidx import Fasta\n",
    "sequences_fa = Fasta('/Users/ben/genomes/GRCh38.primary_assembly.genome.fa')\n",
    "chrseq = str(sequences_fa[\"chr22\"])\n",
    "region_bounds=[ 38699734, 39291007]\n",
    "chrreg = chrseq[region_bounds[0]:region_bounds[1]]\n",
    "intervals = pd.concat([pd.Series(firsts.index.values).rename(\"start\"), pd.Series(lasts.index.values + 120).rename(\"end\")],axis =1)\n",
    "intervals[\"seq\"] = intervals.apply(lambda x:chrseq[ region_bounds[0]+ x.start: region_bounds[0] +x.end], axis = 1)\n",
    "\n",
    "import Bio\n",
    "from Bio.Alphabet import IUPAC\n",
    "seqseq = intervals.seq.apply(lambda x: Bio.Seq.Seq(x,alphabet = Bio.Alphabet.IUPAC.IUPACUnambiguousDNA))\n",
    "\n",
    "\n"
   ]
  },
  {
   "cell_type": "code",
   "execution_count": 15,
   "metadata": {},
   "outputs": [],
   "source": [
    "seqseq = intervals.seq.apply(lambda x: Bio.Seq.Seq(x,alphabet = Bio.Alphabet.IUPAC.IUPACUnambiguousDNA()))"
   ]
  },
  {
   "cell_type": "code",
   "execution_count": 18,
   "metadata": {},
   "outputs": [],
   "source": [
    "pwm_r60_grid = jaspar.apply(lambda  j: seqseq.apply(lambda x: list( j.pssm.search(x,threshold = j.threshold_patser))),axis=1)\n"
   ]
  },
  {
   "cell_type": "code",
   "execution_count": 23,
   "metadata": {},
   "outputs": [],
   "source": [
    "intervals.to_csv('../out/0729_intervals.csv')"
   ]
  },
  {
   "cell_type": "code",
   "execution_count": 21,
   "metadata": {},
   "outputs": [],
   "source": [
    "\n",
    "interval_motif_hits = pwm_r60_grid.copy()\n",
    "interval_motif_hits.columns = interval_motif_hits.columns.rename(\"interval_id\")\n",
    "interval_motif_hits.index.name = \"jaspar_id\"\n",
    "interval_motif_hits_series = interval_motif_hits.unstack()\n",
    "motif_hits = interval_motif_hits_series.\\\n",
    "    groupby(level =[\"interval_id\", \"jaspar_id\"]).\\\n",
    "    apply(lambda g: pd.Series({intervals.loc[g.name[0]].start + e[0] \n",
    "                                         if e[0] > 0 \n",
    "                                         else intervals.loc[g.name[0]].end + e[0]:e[1]\n",
    "                     for r in g for e in r}))\n",
    "motif_hits_over_threshold = motif_hits.groupby(level=\"jaspar_id\").apply(lambda x: x  - jaspar.loc[x.name].threshold_patser).loc[lambda x: x > 0]\n",
    "motif_hits_over_threshold.index.levels[2].rename(\"position\", inplace=True)\n",
    "motif_info = motif_hits_over_threshold.rename(\"score\").reset_index()[[\"jaspar_id\",\"position\",\"score\"]]\n",
    "tmp = motif_info.join(jaspar[[\"consensus\",\"len\",\"name\"]],on = \"jaspar_id\")\n",
    "tmp[\"seq_actual\"] = tmp.apply(lambda x: chrreg[x.position:x.position+x[\"len\"]],axis=1)\n"
   ]
  },
  {
   "cell_type": "markdown",
   "metadata": {},
   "source": [
    "## CATEGORIZE OLIGO <--> MOTIF EDGES ##\n",
    "Given a set of all oigos, query for all oligos which either overlap them in wildtype, or as benign / ablating "
   ]
  },
  {
   "cell_type": "code",
   "execution_count": null,
   "metadata": {},
   "outputs": [],
   "source": [
    "#this code is a little clunky because we're trying to work with indexed queries only ...\n",
    "oligos[\"mutant_position\"] = oligos.apply(lambda x: x.starts + x.mutant_num  * 30 if x.mutant_num > 0 else np.nan, axis =1)\n",
    "oligos_by_start_mutant_start = oligos.reset_index().set_index([\"starts\",\"mutant_position\"]).sort_index(level = [\"starts\",\"mutant_position\"])\n",
    "tmp.index.rename(\"motif_hit_idx\",inplace=True)\n",
    "wt_oligos_by_start = oligos.loc[lambda df: df.mutant_num == 0].reset_index().set_index(\"starts\").sort_index()\n",
    "idx = pd.IndexSlice\n"
   ]
  },
  {
   "cell_type": "code",
   "execution_count": null,
   "metadata": {},
   "outputs": [],
   "source": [
    "\n",
    "print(\"WT\")\n",
    "#2d grid representations of relationships b/w motifs & oligos\n",
    "overlapping_wt_grid = tmp.\\\n",
    "    apply(lambda x : pd.Series(1,\n",
    "                               index= wt_oligos_by_start.loc[idx[x.position - 180+x[\"len\"]:x.position -30],:].oligo)\n",
    "          ,axis=1)\n",
    "print(\"AB\")\n",
    "ablation_grid = tmp.\\\n",
    "    apply(lambda x : pd.Series(1,\n",
    "                               index= oligos_by_start_mutant_start.loc[idx[x.position  - 180+x[\"len\"]:x.position ,x.position-29:x.position+x[\"len\"]-1],:].oligo)\n",
    "          ,axis=1)\n",
    "print(\"BE\")\n",
    "mutants_before= \\\n",
    "    tmp.\\\n",
    "    apply(lambda x : pd.Series(1,\n",
    "                               index= oligos_by_start_mutant_start.loc[idx[x.position  - 180+x[\"len\"]:x.position ,:x.position-30],:].oligo)\n",
    "          ,axis=1)\n",
    "mutants_after= \\\n",
    "    tmp.\\\n",
    "    apply(lambda x : pd.Series(1,\n",
    "                               index= oligos_by_start_mutant_start.loc[idx[x.position  - 180+x[\"len\"]:x.position ,x.position+x[\"len\"]:],:].oligo)\n",
    "          ,axis=1)\n",
    "\n",
    "print(\"UNSTACKING\")\n",
    "overlapping_wildtypes = overlapping_wt_grid.unstack().dropna()\n",
    "benign_mutants = pd.concat([mutants_before.unstack().dropna(),mutants_after.unstack().dropna()]).sort_index()\n",
    "ablation_mutants = ablation_grid.unstack().dropna()"
   ]
  },
  {
   "cell_type": "code",
   "execution_count": null,
   "metadata": {},
   "outputs": [],
   "source": [
    "print(\"HI\")"
   ]
  },
  {
   "cell_type": "code",
   "execution_count": null,
   "metadata": {},
   "outputs": [],
   "source": [
    "#merge hit data\n",
    "motif_oligos = pd.concat([overlapping_wildtypes.rename(\"is_overlapping_wt\"),\n",
    "           ablation_mutants.rename(\"is_ablation_mut\"),\n",
    "           benign_mutants.rename(\"is_benign_mut\")],axis=1)\n",
    "motif_oligos_data=motif_oligos.reset_index().set_index(\"motif_hit_idx\").join(motif_info).reset_index()\n",
    "motif_oligos_data.index.rename(\"motif_oligo_idx\", inplace = True)\n",
    "motif_oligos_data = motif_oligos_data.reset_index().set_index(\"oligo\").join(oligos[[\"mu\"]]).reset_index().set_index(\"motif_oligo_idx\")\n",
    "\n",
    "#create an annotation column \"hit_type\" categorizing motif oligo matches according to three types\n",
    "motif_oligos_data =motif_oligos_data[[\"is_ablation_mut\",\"is_overlapping_wt\",\"is_benign_mut\"]].reset_index().\\\n",
    "    melt(id_vars=[\"motif_oligo_idx\"],var_name=\"hit_type\").dropna().\\\n",
    "    set_index(\"motif_oligo_idx\")[[\"hit_type\"]].\\\n",
    "    join(motif_oligos_data)\n",
    "\n",
    "\n",
    "motif_oligos_data[\"seq_actual\"] = motif_oligos_data.join(tmp[[\"seq_actual\"]],on=\"motif_hit_idx\")[\"seq_actual\"]"
   ]
  },
  {
   "cell_type": "code",
   "execution_count": null,
   "metadata": {},
   "outputs": [],
   "source": [
    "#motif_oligos_data.to_csv(\"../out/0722_motif_oligos_data.csv\")"
   ]
  },
  {
   "cell_type": "code",
   "execution_count": 15,
   "metadata": {},
   "outputs": [],
   "source": [
    "motif_oligos_data = pd.read_csv(\"../out/0722_motif_oligos_data.csv\")"
   ]
  },
  {
   "cell_type": "code",
   "execution_count": null,
   "metadata": {},
   "outputs": [],
   "source": [
    "len(q95_starts)"
   ]
  },
  {
   "cell_type": "code",
   "execution_count": null,
   "metadata": {},
   "outputs": [],
   "source": [
    "\n",
    "q95_oligos = oligos.loc[lambda df: df.starts.isin(oligos.loc[ lambda x:x.mu > oligos.mu.quantile(.98)].starts)].index\n",
    "q05_oligos = oligos.loc[lambda df: df.starts.isin(oligos.loc[ lambda x:x.mu < oligos.mu.quantile(.02)].starts)].index"
   ]
  },
  {
   "cell_type": "code",
   "execution_count": null,
   "metadata": {},
   "outputs": [],
   "source": [
    "\n",
    "q99_oligos = oligos.loc[lambda df: df.starts.isin(oligos.loc[ lambda x:x.mu > oligos.mu.quantile(.99)].starts)].index\n",
    "q01_oligos = oligos.loc[lambda df: df.starts.isin(oligos.loc[ lambda x:x.mu < oligos.mu.quantile(.01)].starts)].index"
   ]
  },
  {
   "cell_type": "code",
   "execution_count": null,
   "metadata": {},
   "outputs": [],
   "source": [
    "q95_starts = set(oligos.loc[q95_oligos].starts)\n",
    "q05_starts = set(oligos.loc[q05_oligos].starts)\n",
    "q99_starts = set(oligos.loc[q99_oligos].starts)\n",
    "q01_starts = set(oligos.loc[q01_oligos].starts)"
   ]
  },
  {
   "cell_type": "code",
   "execution_count": null,
   "metadata": {},
   "outputs": [],
   "source": []
  },
  {
   "cell_type": "code",
   "execution_count": null,
   "metadata": {},
   "outputs": [],
   "source": [
    "pwm_score_cutoff = 6\n",
    "\n",
    "q95_wt_hits = motif_oligos_data.\\\n",
    "    loc[lambda df: df.hit_type== \"is_overlapping_wt\"].\\\n",
    "    loc[lambda df: df.oligo.isin(oligos.loc[lambda x: x.starts.isin(oligos.loc[q95_oligos].starts.unique())].index)].\\\n",
    "    loc[lambda df:df.score>pwm_score_cutoff]\n",
    "\n",
    "q05_wt_hits = motif_oligos_data.\\\n",
    "    loc[lambda df: df.hit_type== \"is_overlapping_wt\"].\\\n",
    "    loc[lambda df: df.oligo.isin(oligos.loc[lambda x: x.starts.isin(oligos.loc[q05_oligos].starts.unique())].index)].\\\n",
    "    loc[lambda df:df.score>pwm_score_cutoff]\n"
   ]
  },
  {
   "cell_type": "code",
   "execution_count": null,
   "metadata": {},
   "outputs": [],
   "source": [
    "\n",
    "q99_wt_hits = motif_oligos_data.\\\n",
    "    loc[lambda df: df.hit_type== \"is_overlapping_wt\"].\\\n",
    "    loc[lambda df: df.oligo.isin(oligos.loc[lambda x: x.starts.isin(oligos.loc[q99_oligos].starts.unique())].index)].\\\n",
    "    loc[lambda df:df.score>pwm_score_cutoff]\n",
    "\n",
    "q01_wt_hits = motif_oligos_data.\\\n",
    "    loc[lambda df: df.hit_type== \"is_overlapping_wt\"].\\\n",
    "    loc[lambda df: df.oligo.isin(oligos.loc[lambda x: x.starts.isin(oligos.loc[q01_oligos].starts.unique())].index)].\\\n",
    "    loc[lambda df:df.score>pwm_score_cutoff]\n"
   ]
  },
  {
   "cell_type": "code",
   "execution_count": null,
   "metadata": {},
   "outputs": [],
   "source": [
    "\n",
    "jaspar_all_position_counts = motif_oligos_data.loc[lambda x: x.score> pwm_score_cutoff].groupby(\"jaspar_id\").apply(lambda g:g.position.nunique())\n",
    "\n",
    "jaspar_q95_instance_counts = q95_wt_hits.groupby(\"jaspar_id\").apply(lambda g:g.position.nunique())\n",
    "jaspar_q05_position_counts = q05_wt_hits.groupby(\"jaspar_id\").apply(lambda g:g.position.nunique())\n",
    "\n",
    "q95_jaspar_ids = q95_wt_hits.jaspar_id.unique()\n",
    "q05_jaspar_ids = q05_wt_hits.jaspar_id.unique()\n",
    "\n",
    "q99_jaspar_ids = q99_wt_hits.jaspar_id.unique()\n",
    "q01_jaspar_ids = q01_wt_hits.jaspar_id.unique()\n",
    "                                                    \n",
    "                                                                        "
   ]
  },
  {
   "cell_type": "code",
   "execution_count": null,
   "metadata": {},
   "outputs": [],
   "source": []
  },
  {
   "cell_type": "code",
   "execution_count": null,
   "metadata": {},
   "outputs": [],
   "source": [
    "q95_start_motifs = motif_oligos_data.loc[motif_oligos_data.join(oligos[[\"starts\"]],on=\"oligo\").starts.isin(q95_starts)]\n",
    "q05_start_motifs = motif_oligos_data.loc[motif_oligos_data.join(oligos[[\"starts\"]],on=\"oligo\").starts.isin(q05_starts)]\n",
    "\n",
    "q99_start_motifs = motif_oligos_data.loc[motif_oligos_data.join(oligos[[\"starts\"]],on=\"oligo\").starts.isin(q99_starts)]\n",
    "q01_start_motifs = motif_oligos_data.loc[motif_oligos_data.join(oligos[[\"starts\"]],on=\"oligo\").starts.isin(q01_starts)]\n",
    "\n",
    "\n"
   ]
  },
  {
   "cell_type": "code",
   "execution_count": null,
   "metadata": {},
   "outputs": [],
   "source": [
    "motif_counts = pd.concat([\n",
    "    q95_start_motifs.drop_duplicates([\"jaspar_id\",\"position\"]).jaspar_id.value_counts().rename(\"count_top5\"),\n",
    "    q05_start_motifs.drop_duplicates([\"jaspar_id\",\"position\"]).jaspar_id.value_counts().rename(\"count_bot5\"),\n",
    "    \n",
    "    q99_start_motifs.drop_duplicates([\"jaspar_id\",\"position\"]).jaspar_id.value_counts().rename(\"count_top1\"),\n",
    "    q01_start_motifs.drop_duplicates([\"jaspar_id\",\"position\"]).jaspar_id.value_counts().rename(\"count_bot1\"),\n",
    "    \n",
    "    motif_oligos_data.drop_duplicates([\"jaspar_id\",\"position\"]).jaspar_id.value_counts().rename(\"count_all\"),\n",
    "\n",
    "],axis=1).fillna(0)\n",
    "\n",
    "motif_counts.index.rename(\"jaspar_id\",inplace = True)\n",
    "\n",
    "\n",
    "motif_counts[\"frac_top5\"] = motif_counts.apply(lambda x: x.count_top5 / x.count_all, axis =1)\n",
    "motif_counts[\"frac_bot5\"] = motif_counts.apply(lambda x: x.count_bot5 / x.count_all, axis =1)\n",
    "\n",
    "motif_counts[\"frac_top1\"] = motif_counts.apply(lambda x: x.count_top5 / x.count_all, axis =1)\n",
    "motif_counts[\"frac_bot1\"] = motif_counts.apply(lambda x: x.count_bot5 / x.count_all, axis =1)\n",
    "\n",
    "motif_counts[\"diff_top_bottom\"] = motif_counts.apply(lambda x: x.count_top5 -  x.count_bot5 , axis =1)\n",
    "\n"
   ]
  },
  {
   "cell_type": "code",
   "execution_count": null,
   "metadata": {},
   "outputs": [],
   "source": []
  },
  {
   "cell_type": "code",
   "execution_count": null,
   "metadata": {},
   "outputs": [],
   "source": [
    "import seaborn as sns\n",
    "from matplotlib import pyplot as plt\n",
    "%matplotlib inline"
   ]
  },
  {
   "cell_type": "code",
   "execution_count": null,
   "metadata": {},
   "outputs": [],
   "source": []
  },
  {
   "cell_type": "code",
   "execution_count": null,
   "metadata": {},
   "outputs": [],
   "source": []
  },
  {
   "cell_type": "code",
   "execution_count": null,
   "metadata": {},
   "outputs": [],
   "source": []
  },
  {
   "cell_type": "code",
   "execution_count": null,
   "metadata": {},
   "outputs": [],
   "source": []
  },
  {
   "cell_type": "markdown",
   "metadata": {},
   "source": []
  },
  {
   "cell_type": "markdown",
   "metadata": {},
   "source": [
    "### Q: Looking at all oligos, is there a systematic change in expressionl level based upon motif mutation types? ###"
   ]
  },
  {
   "cell_type": "code",
   "execution_count": null,
   "metadata": {},
   "outputs": [],
   "source": [
    "\n",
    "modata_min_5 = motif_oligos_data.loc[motif_oligos_data.score > 3]\n",
    "modata = modata_min_5\n",
    "bins = np.arange(0,50,5)\n",
    "\n",
    "plt.hist([modata.loc[lambda df:df.hit_type==\"is_benign_mut\"].mu.rename(\"benign\"),\n",
    "          modata.loc[lambda df:df.hit_type==\"is_overlapping_wt\"].mu.rename(\"overlap\"),\n",
    "          modata.loc[lambda df:df.hit_type==\"is_ablation_mut\"].mu.rename(\"ablation\")]\n",
    "         ,bins = bins, density=True,label=[\"b\",\"o\",\"ab\"])\n",
    "\n",
    "plt.legend()\n",
    "ax = plt.gca()\n",
    "ax.set_xlim(0,100)\n",
    "ax.set_yscale(\"log\")"
   ]
  },
  {
   "cell_type": "markdown",
   "metadata": {},
   "source": [
    "A: Visually, yes, probably. Looking at oligos having a motif score of 7 or greater, there appear to be  more benign and overlapping WT oligos falling in the top mu percentiles, 25+."
   ]
  },
  {
   "cell_type": "markdown",
   "metadata": {},
   "source": [
    "### Q: Looking at only those oligos which are expressed within q95, does the above pattern repeat? ###"
   ]
  },
  {
   "cell_type": "code",
   "execution_count": null,
   "metadata": {},
   "outputs": [],
   "source": [
    "\n",
    "modata_q95 = modata_min_5.loc[lambda df: df.oligo.isin(q95_oligos)]\n",
    "\n",
    "these_data = modata_q95\n",
    "bins = np.arange(0,50,5)\n",
    "\n",
    "plt.hist([these_data.loc[lambda df:df.hit_type==\"is_benign_mut\"].mu.rename(\"benign\"),\n",
    "          these_data.loc[lambda df:df.hit_type==\"is_overlapping_wt\"].mu.rename(\"overlap\"),\n",
    "          these_data.loc[lambda df:df.hit_type==\"is_ablation_mut\"].mu.rename(\"ablation\")]\n",
    "         ,bins = bins, density=True,label=[\"b\",\"o\",\"ab\"])\n",
    "\n",
    "plt.legend()\n",
    "ax = plt.gca()\n",
    "ax.set_xlim(0,100)\n",
    "ax.set_yscale(\"log\")"
   ]
  },
  {
   "cell_type": "markdown",
   "metadata": {},
   "source": [
    "A: Well, yes. But this is pretty obvious. It's where we were looking before."
   ]
  },
  {
   "cell_type": "markdown",
   "metadata": {},
   "source": [
    "### Q: Switching to a motif-focused view, can we identify a set of N motifs which have a small number of high-scoring hits, all of which are highly expressed in wildtype oligos? ###"
   ]
  },
  {
   "cell_type": "code",
   "execution_count": null,
   "metadata": {},
   "outputs": [],
   "source": [
    "\n",
    "#bins = np.arange(0,200,5)\n",
    "ax = plt.gca()\n",
    "ax.set_xlabel(\"number of occurences\")\n",
    "ax.set_ylabel(\"count of motifs in range\")\n",
    "\n",
    "ax.set_title(\"occurence counts of motifs in highly expressed oligos and all oligos\")\n",
    "\n",
    "h = plt.hist(jaspar_expressed_position_counts,density = True, label = \"highly expressed\")\n",
    "plt.figure()\n",
    "h = plt.hist(jaspar_all_position_counts ,density = True, label = \"all\")\n",
    "\n"
   ]
  },
  {
   "cell_type": "code",
   "execution_count": null,
   "metadata": {},
   "outputs": [],
   "source": [
    "this_data"
   ]
  },
  {
   "cell_type": "code",
   "execution_count": null,
   "metadata": {},
   "outputs": [],
   "source": [
    "this_data.diff_top_bottom.sort_values().index"
   ]
  },
  {
   "cell_type": "code",
   "execution_count": null,
   "metadata": {},
   "outputs": [],
   "source": [
    "this_data"
   ]
  },
  {
   "cell_type": "code",
   "execution_count": null,
   "metadata": {},
   "outputs": [],
   "source": [
    "f = plt.gcf()\n",
    "f.set_size_inches(12,4)\n",
    "\n",
    "this_data = motif_counts.loc[q95_jaspar_ids]\n",
    "this_data[\"diffrank\"] = (this_data.frac_top5 - this_data.frac_bot5).sort_values().argsort()\n",
    "this_data2= this_data.reset_index().melt(value_name=\"val\", var_name=\"pool\",\n",
    "                                         value_vars = [\"frac_top5\",\"frac_bot5\"], \n",
    "                                         id_vars=[\"jaspar_id\",\"diffrank\",\"diff_top_bottom\",\"count_top5\"])\n",
    "sns.scatterplot( x = \"diffrank\", y=\"val\", hue = \"pool\",size=\"count_top5\", data = this_data2)\n",
    "\n",
    "ax =plt.gca()\n",
    "ax.set_title(\"Fraction of motif instances in top 5% and bottom 5% of oligos\")\n",
    "ax.set_xlabel(\"JASPAR motifs, sorted by representation in top & bottom 5% of WT oligos\")\n",
    "\n",
    "\n",
    "jaspar_mu_types = motif_oligos_data.groupby([\"jaspar_id\",\"hit_type\"]).mu.mean().unstack()\n",
    "this_data3 = this_data2.join(jaspar_mu_types, on=\"jaspar_id\")\n",
    "this_data3 = this_data3.melt(  \n",
    "    value_name = \"mu_val\",\n",
    "    var_name=\"mu_type\",\n",
    "    value_vars = [\"is_ablation_mut\", \"is_benign_mut\", \"is_overlapping_wt\"],\n",
    "    id_vars = [\"val\",\"pool\",\"jaspar_id\",\"diffrank\",\"diff_top_bottom\",\"count_top5\"])\n",
    "\n",
    "\n",
    "f = plt.figure()\n",
    "ax = plt.gca()\n",
    "f.set_size_inches(12,4)\n",
    "\n",
    "ax.set_title(\"Expresson rates of motif-ablating and motif-preserving mutant oligos\")\n",
    "sns.scatterplot(x= \"diffrank\",y =\"mu_val\", hue = \"mu_type\", data = this_data3)\n",
    "ax.set_xlabel(\"JASPAR motifs, sorted by representation in top & bottom 5% of WT oligos\")"
   ]
  },
  {
   "cell_type": "code",
   "execution_count": null,
   "metadata": {},
   "outputs": [],
   "source": []
  },
  {
   "cell_type": "code",
   "execution_count": null,
   "metadata": {},
   "outputs": [],
   "source": [
    "f = plt.gcf()\n",
    "f.set_size_inches(12,4)\n",
    "\n",
    "this_data = motif_counts.loc[q99_jaspar_ids]\n",
    "this_data[\"diffrank\"] = (this_data.frac_top1 - this_data.frac_bot1).sort_values().argsort()\n",
    "this_data2= this_data.reset_index().melt(value_name=\"val\", var_name=\"pool\",\n",
    "                                         value_vars = [\"frac_top1\",\"frac_bot1\"], \n",
    "                                         id_vars=[\"jaspar_id\",\"diffrank\",\"diff_top_bottom\",\"count_top1\"])\n",
    "sns.scatterplot( x = \"diffrank\", y=\"val\", hue = \"pool\",size=\"count_top1\", data = this_data2)\n",
    "\n",
    "ax =plt.gca()\n",
    "ax.set_title(\"Fraction of motif instances in top 1% and bottom 1% of oligos\")\n",
    "ax.set_xlabel(\"JASPAR motifs, sorted by representation in top & bottom 1% of WT oligos\")\n",
    "\n",
    "\n",
    "jaspar_mu_types = motif_oligos_data.groupby([\"jaspar_id\",\"hit_type\"]).mu.mean().unstack()\n",
    "this_data3 = this_data2.join(jaspar_mu_types, on=\"jaspar_id\")\n",
    "this_data3 = this_data3.melt(  \n",
    "    value_name = \"mu_val\",\n",
    "    var_name=\"mu_type\",\n",
    "    value_vars = [\"is_ablation_mut\", \"is_benign_mut\", \"is_overlapping_wt\"],\n",
    "    id_vars = [\"val\",\"pool\",\"jaspar_id\",\"diffrank\",\"diff_top_bottom\",\"count_top1\"])\n",
    "\n",
    "\n",
    "f = plt.figure()\n",
    "ax = plt.gca()\n",
    "f.set_size_inches(12,4)\n",
    "\n",
    "ax.set_title(\"Expresson rates of motif-ablating and motif-preserving mutant oligos\")\n",
    "sns.scatterplot(x= \"diffrank\",y =\"mu_val\", hue = \"mu_type\", data = this_data3)\n",
    "ax.set_xlabel(\"JASPAR motifs, sorted by representation in top & bottom 5% of WT oligos\")"
   ]
  },
  {
   "cell_type": "code",
   "execution_count": null,
   "metadata": {},
   "outputs": [],
   "source": [
    "\n",
    "with_effect_size = this_data.join(jaspar_mu_types, on =\"jaspar_id\")\n",
    "with_effect_size[\"effect_size\"] = with_effect_size[\"is_ablation_mut\"] - with_effect_size[[\"is_benign_mut\",\"is_overlapping_wt\"]].mean(axis=1) \n",
    "selected =with_effect_size.loc[lambda x:np.abs( x.effect_size) > .5]\n",
    "selected.join(jaspar)[[\"name\"]]\n"
   ]
  },
  {
   "cell_type": "code",
   "execution_count": null,
   "metadata": {},
   "outputs": [],
   "source": [
    "out_722_lin = selected[[\"count_top5\",\"count_bot5\"]].\\\n",
    "    join(this_data7).\\\n",
    "    join(jaspar[[\"name\",\"consensus\"]]).\\\n",
    "    rename({\"delta_HCT\":\"ablation_effect_size_HCT116\",\n",
    "           \"delta_OTHER\":\"ablation_effect_size_NON_HCT116\",\n",
    "           \"count_top5\":\"motif_incidence_top_oligos\",\n",
    "        \"count_bot5\":\"motif_incidence_negative_controls\",\n",
    "           },axis=\"columns\")"
   ]
  },
  {
   "cell_type": "code",
   "execution_count": null,
   "metadata": {},
   "outputs": [],
   "source": [
    "out_722_lin.to_csv(\"../out/0722_lin_email_motifs_whole_region_search.csv\")"
   ]
  },
  {
   "cell_type": "code",
   "execution_count": null,
   "metadata": {},
   "outputs": [],
   "source": [
    "mdata = motif_oligos_data.loc[lambda df: df.score > pwm_score_cutoff]\n"
   ]
  },
  {
   "cell_type": "code",
   "execution_count": null,
   "metadata": {},
   "outputs": [],
   "source": [
    "all_motifs_with_experiments = motif_oligos_data.join(oligos_by_exp[[\"exp_norm_mu\"]].reset_index(level=0),on=\"oligo\").\\\n",
    "    groupby([\"jaspar_id\",\"hit_type\",\"exp\"])[\"exp_norm_mu\"].mean().\\\n",
    "    reorder_levels([\"jaspar_id\",\"exp\",\"hit_type\"]).unstack()"
   ]
  },
  {
   "cell_type": "code",
   "execution_count": null,
   "metadata": {},
   "outputs": [],
   "source": []
  },
  {
   "cell_type": "code",
   "execution_count": null,
   "metadata": {},
   "outputs": [],
   "source": []
  },
  {
   "cell_type": "code",
   "execution_count": null,
   "metadata": {},
   "outputs": [],
   "source": [
    "all_motifs_with_experiments[\"delta\"] =   all_motifs_with_experiments[\"is_ablation_mut\"] - all_motifs_with_experiments[[\"is_benign_mut\",\"is_overlapping_wt\"]].mean(axis=1)\n",
    "\n",
    "\n"
   ]
  },
  {
   "cell_type": "code",
   "execution_count": null,
   "metadata": {},
   "outputs": [],
   "source": [
    "import re\n",
    "\n",
    "this_data6 = all_motifs_with_experiments.reset_index(\"exp\")\n",
    "this_data6[\"rep\"] = this_data6[\"exp\"].apply(lambda x:int(re.compile(\"BR([12])\").search(x).group(1)))\n",
    "this_data6[\"exp_nm\"] = this_data6[\"exp\"].apply(lambda x:re.compile(\"(.*)_BR([12])\").search(x).group(1))\n"
   ]
  },
  {
   "cell_type": "code",
   "execution_count": null,
   "metadata": {},
   "outputs": [],
   "source": [
    "f,subs = plt.subplots(1,3)\n",
    "f.set_size_inches(14,5)\n",
    "plt.sca(subs[0])\n",
    "this_data7 = pd.concat(\n",
    "    [this_data6.loc[lambda x:x.exp_nm==\"HCT116_WT\"].groupby(\"jaspar_id\").delta.mean().rename(\"delta_HCT\"),\n",
    "     this_data6.loc[lambda x:x.exp_nm==\"DLD1_WT\"].groupby(\"jaspar_id\").delta.mean().rename(\"delta_DLD1\")\n",
    "    ],axis=1)\n",
    "\n",
    "\n",
    "ax = plt.gca()\n",
    "ax.set_title(\"visualizing expression change ablated\\n motifs in HCT116 & DLD1\")\n",
    "ax.set_xlim([-2,2])\n",
    "ax.set_ylim([-2,2])\n",
    "\n",
    "\n",
    "sns.scatterplot(x = \"delta_HCT\", y=\"delta_DLD1\", data = this_data7)\n",
    "\n",
    "\n",
    "plt.sca(subs[1])\n",
    "\n",
    "this_data7 = pd.concat(\n",
    "    [this_data6.loc[lambda x:x.exp_nm==\"HCT116_WT\"].groupby(\"jaspar_id\").delta.mean().rename(\"delta_HCT\"),\n",
    "     this_data6.loc[lambda x:x.exp_nm==\"U2OS_WT\"].groupby(\"jaspar_id\").delta.mean().rename(\"delta_U2OS\")\n",
    "    ],axis=1)\n",
    "\n",
    "ax = plt.gca()\n",
    "ax.set_title(\"visualizing expression change ablated\\n motifs in HCT116 & U2OS\")\n",
    "ax.set_xlim([-2,2])\n",
    "ax.set_ylim([-2,2])\n",
    "\n",
    "sns.scatterplot(x = \"delta_HCT\", y=\"delta_U2OS\", data = this_data7)\n",
    "plt.sca(subs[2])\n",
    "\n",
    "this_data7 = pd.concat(\n",
    "    [this_data6.loc[lambda x:x.exp_nm==\"DLD1_WT\"].groupby(\"jaspar_id\").delta.mean().rename(\"delta_DLD1\"),\n",
    "     this_data6.loc[lambda x:x.exp_nm==\"U2OS_WT\"].groupby(\"jaspar_id\").delta.mean().rename(\"delta_U2OS\")\n",
    "    ],axis=1)\n",
    "\n",
    "ax = plt.gca()\n",
    "ax.set_title(\"visualizing expression change ablated\\n motifs in DLD1 & U2OS\")\n",
    "\n",
    "sns.scatterplot(x = \"delta_DLD1\", y=\"delta_U2OS\", data = this_data7)\n",
    "\n",
    "ax.set_xlim([-2,2])\n",
    "ax.set_ylim([-2,2])\n",
    "\n",
    "plt.tight_layout()"
   ]
  },
  {
   "cell_type": "code",
   "execution_count": null,
   "metadata": {},
   "outputs": [],
   "source": [
    "f,subs = plt.subplots(2,2)\n",
    "f.set_size_inches(9,9)\n",
    "plt.sca(subs[1][1])\n",
    "this_data7 = pd.concat(\n",
    "    [this_data6.loc[lambda x:x.exp_nm==\"HCT116_WT\"].groupby(\"jaspar_id\").delta.mean().rename(\"delta_HCT\"),\n",
    "     this_data6.loc[lambda x:x.exp_nm!=\"HCT116_WT\"].groupby(\"jaspar_id\").delta.mean().rename(\"delta_OTHER\")\n",
    "    ],axis=1)\n",
    "\n",
    "\n",
    "ax = plt.gca()\n",
    "ax.set_title(\"visualizing expression change ablated\\n motifs in HCT116 & OTHER CELL TYPES\")\n",
    "\n",
    "\n",
    "sns.scatterplot(x = \"delta_HCT\", y=\"delta_OTHER\", data = this_data7)\n",
    "\n",
    "\n",
    "plt.sca(subs[1][0])\n",
    "\n",
    "this_data7 = pd.concat(\n",
    "    [this_data6.loc[lambda x:x.exp_nm==\"HCT116_WT\"].groupby(\"jaspar_id\").delta.mean().rename(\"delta_HCT\"),\n",
    "     this_data6.loc[lambda x:x.exp_nm==\"HCT116_Gemcitabine2uM\"].groupby(\"jaspar_id\").delta.mean().rename(\"delta_HCT_GEM\")\n",
    "    ],axis=1)\n",
    "\n",
    "ax = plt.gca()\n",
    "ax.set_title(\"visualizing expression change ablated\\n motifs in HCT116 & HCT116 GEM\")\n",
    "\n",
    "sns.scatterplot(x = \"delta_HCT\", y=\"delta_HCT_GEM\", data = this_data7)\n",
    "\n",
    "\n",
    "\n",
    "plt.sca(subs[0][0])\n",
    "\n",
    "this_data7 = pd.concat(\n",
    "    [this_data6.loc[lambda x:x.exp_nm==\"U2OS_NFKB1KO_Sorted_GFPpos\"].groupby(\"jaspar_id\").delta.mean().rename(\"delta_NFKB1_pos\"),\n",
    "     this_data6.loc[lambda x:x.exp_nm==\"U2OS_NFKB1KO_Sorted_GFPneg\"].groupby(\"jaspar_id\").delta.mean().rename(\"delta_NFKB1_neg\")\n",
    "    ],axis=1)\n",
    "\n",
    "ax = plt.gca()\n",
    "ax.set_title(\"NFKB1 KO, GFP Pos vs Neg\")\n",
    "\n",
    "sns.scatterplot(x = \"delta_NFKB1_pos\", y=\"delta_NFKB1_neg\", data = this_data7)\n",
    "\n",
    "\n",
    "\n",
    "plt.sca(subs[0][1])\n",
    "\n",
    "this_data7 = pd.concat(\n",
    "    [this_data6.loc[lambda x:x.exp_nm==\"U2OS_WT\"].groupby(\"jaspar_id\").delta.mean().rename(\"delta_U2OS\"),\n",
    "     this_data6.loc[lambda x:x.exp_nm==\"U2OS_NFKB1KO_Sorted_GFPneg\"].groupby(\"jaspar_id\").delta.mean().rename(\"delta_U2OS_NFKB1\")\n",
    "    ],axis=1)\n",
    "\n",
    "ax = plt.gca()\n",
    "ax.set_title(\"U2OS Wildtype vs. NFKB1 KO\")\n",
    "sns.scatterplot(x = \"delta_U2OS\", y=\"delta_U2OS_NFKB1\", data = this_data7)\n",
    "plt.tight_layout()\n",
    "\n"
   ]
  },
  {
   "cell_type": "code",
   "execution_count": null,
   "metadata": {},
   "outputs": [],
   "source": [
    "this_data7 = pd.concat(\n",
    "    [this_data6.loc[lambda x:x.exp_nm==\"HCT116_WT\"].groupby(\"jaspar_id\").delta.mean().rename(\"delta_HCT\"),\n",
    "     this_data6.loc[lambda x:x.exp_nm!=\"HCT116_WT\"].groupby(\"jaspar_id\").delta.mean().rename(\"delta_OTHER\")\n",
    "    ],axis=1)\n",
    "\n",
    "\n",
    "ax = plt.gca()\n",
    "ax.set_title(\"visualizing expression change ablated\\n motifs in HCT116 & OTHER CELL TYPES\")\n",
    "\n",
    "\n",
    "sns.scatterplot(x = \"delta_HCT\", y=\"delta_OTHER\", hue = \"frac_top5\", data = motif_counts.join(this_data7))\n"
   ]
  },
  {
   "cell_type": "code",
   "execution_count": null,
   "metadata": {},
   "outputs": [],
   "source": []
  },
  {
   "cell_type": "markdown",
   "metadata": {},
   "source": [
    "### Standard deviations change very much ###"
   ]
  },
  {
   "cell_type": "code",
   "execution_count": null,
   "metadata": {},
   "outputs": [],
   "source": [
    "plt.scatter(this_data6.groupby(\"jaspar_id\").delta.std(),this_data6.groupby(\"jaspar_id\").delta.mean())"
   ]
  },
  {
   "cell_type": "code",
   "execution_count": null,
   "metadata": {},
   "outputs": [],
   "source": [
    "jaspar_exp_data = mdata.join(oligos_by_exp[[\"exp_norm_mu\"]].reset_index(level=0),on=\"oligo\").\\\n",
    "    groupby([\"jaspar_id\",\"hit_type\",\"exp\"])[\"exp_norm_mu\"].mean().\\\n",
    "    reorder_levels([\"jaspar_id\",\"exp\",\"hit_type\"]).unstack()"
   ]
  },
  {
   "cell_type": "code",
   "execution_count": null,
   "metadata": {},
   "outputs": [],
   "source": [
    "jaspar_exp_delta =   jaspar_exp_data[\"is_ablation_mut\"] - jaspar_exp_data[[\"is_benign_mut\",\"is_overlapping_wt\"]].mean(axis=1)"
   ]
  },
  {
   "cell_type": "code",
   "execution_count": null,
   "metadata": {},
   "outputs": [],
   "source": []
  },
  {
   "cell_type": "code",
   "execution_count": null,
   "metadata": {},
   "outputs": [],
   "source": [
    "import re"
   ]
  },
  {
   "cell_type": "code",
   "execution_count": null,
   "metadata": {},
   "outputs": [],
   "source": [
    "\n",
    "this_data4 = top1_mutypes.join(jaspar_exp_delta.rename(\"delta\").reset_index().set_index(\"jaspar_id\"),on=\"jaspar_id\")\n",
    "this_data4[\"rep\"] = this_data4[\"exp\"].apply(lambda x:int(re.compile(\"BR([12])\").search(x).group(1)))\n",
    "this_data4[\"exp_nm\"] = this_data4[\"exp\"].apply(lambda x:re.compile(\"(.*)_BR([12])\").search(x).group(1))\n"
   ]
  },
  {
   "cell_type": "code",
   "execution_count": null,
   "metadata": {},
   "outputs": [],
   "source": [
    "f = plt.gcf()\n",
    "f.set_size_inches(10,5)\n",
    "\n",
    "\n",
    "sns.scatterplot(x = \"diffrank\",y =\"delta\", hue = \"exp\",data = this_data4)\n",
    "\n",
    "# Put the legend out of the figure\n",
    "plt.legend(bbox_to_anchor=(1.05, 1), loc=2, borderaxespad=0.)\n",
    "ax = plt.gca()\n",
    "ax.set_title(\"effects of ablative mutations on oligo expression in different cell types\")\n",
    "ax.set_ylabel(\"motif effect\\n ABLATED expression vs. mean of WILDTYPE & BENIGN)\")\n",
    "\n",
    "f = plt.figure()\n",
    "f.set_size_inches(10,5)\n",
    "sns.lineplot(x = \"diffrank\", y = \"delta\", hue = \"exp_nm\", data = this_data4.loc[lambda x:x.diffrank>25])\n",
    "plt.legend(bbox_to_anchor=(1.05, 1), loc=2, borderaxespad=0.)\n",
    "\n",
    "plt.tight_layout()\n"
   ]
  },
  {
   "cell_type": "code",
   "execution_count": null,
   "metadata": {},
   "outputs": [],
   "source": [
    "this_data4a = this_data4.join(selected.apply(lambda x:\"selected\",axis=1).rename(\"is_selected\"),on=\"jaspar_id\")\n",
    "this_data4a.is_selected.fillna(\"not\",inplace=True)\n",
    "sns.scatterplot( x = \"diffrank\",y=\"delta\", hue = \"is_selected\", data = this_data4a)"
   ]
  },
  {
   "cell_type": "code",
   "execution_count": null,
   "metadata": {},
   "outputs": [],
   "source": [
    "this_data7 = pd.concat(\n",
    "    [this_data6.loc[lambda x:x.exp_nm==\"HCT116_WT\"].groupby(\"jaspar_id\").delta.mean().rename(\"delta_HCT\"),\n",
    "     this_data6.loc[lambda x:x.exp_nm!=\"HCT116_WT\"].groupby(\"jaspar_id\").delta.mean().rename(\"delta_OTHER\")\n",
    "    ],axis=1)\n",
    "\n",
    "\n",
    "ax = plt.gca()\n",
    "ax.set_title(\"visualizing expression change ablated\\n motifs in HCT116 & OTHER CELL TYPES\")\n",
    "\n",
    "\n",
    "sns.scatterplot(x = \"delta_HCT\", y=\"delta_OTHER\",alpha=.2,color=\"lightgray\", data = motif_counts.join(this_data7))\n",
    "\n",
    "\n",
    "this_data7 = pd.concat(\n",
    "    [this_data6.loc[lambda x:x.exp_nm==\"HCT116_WT\"].groupby(\"jaspar_id\").delta.mean().rename(\"delta_HCT\"),\n",
    "     this_data6.loc[lambda x:x.exp_nm!=\"HCT116_WT\"].groupby(\"jaspar_id\").delta.mean().rename(\"delta_OTHER\")\n",
    "    ],axis=1)\n",
    "\n",
    "\n",
    "ax = plt.gca()\n",
    "ax.set_title(\"visualizing expression change ablated\\n motifs in HCT116 & OTHER CELL TYPES\")\n",
    "\n",
    "\n",
    "sns.scatterplot(x = \"delta_HCT\", y=\"delta_OTHER\", hue = \"is_selected\", data = motif_counts.join(this_data7).join(this_data4a.set_index(\"jaspar_id\")[[\"is_selected\"]],on=\"jaspar_id\"))\n"
   ]
  }
 ],
 "metadata": {
  "kernelspec": {
   "display_name": "Python 3",
   "language": "python",
   "name": "python3"
  },
  "language_info": {
   "codemirror_mode": {
    "name": "ipython",
    "version": 3
   },
   "file_extension": ".py",
   "mimetype": "text/x-python",
   "name": "python",
   "nbconvert_exporter": "python",
   "pygments_lexer": "ipython3",
   "version": "3.7.3"
  }
 },
 "nbformat": 4,
 "nbformat_minor": 4
}
