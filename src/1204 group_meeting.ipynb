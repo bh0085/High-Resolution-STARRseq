{
 "cells": [
  {
   "cell_type": "code",
   "execution_count": 1,
   "metadata": {},
   "outputs": [],
   "source": [
    "import pandas as pd, numpy as np\n",
    "import imp, re\n",
    "\n",
    "import z2_save_jaspar, z1_save_oligos, z3_transformations\n",
    "from scipy.stats import ks_2samp\n",
    "import scipy.stats as stats\n",
    "idx = pd.IndexSlice\n",
    "\n",
    "import matplotlib.pyplot as plt\n",
    "import seaborn as sns\n",
    "%matplotlib inline\n",
    "\n"
   ]
  },
  {
   "cell_type": "code",
   "execution_count": 2,
   "metadata": {},
   "outputs": [],
   "source": [
    "\n",
    "#LOAD JASPAR & OLIGO DATA\n",
    "jaspar = z2_save_jaspar.load_jaspar()\n",
    "oligos,oligos_by_exp = z1_save_oligos.load_oligos_plus()\n",
    "oligos_by_exp[\"analysis_group_key\"] = oligos_by_exp.exp.copy()\n",
    "all_obe = oligos_by_exp.reset_index().loc[lambda x:x.mutant_num<5].groupby([\"starts\",\"mutant_num\",\"analysis_group_key\"]).norm_mu.mean()\n"
   ]
  },
  {
   "cell_type": "code",
   "execution_count": 186,
   "metadata": {},
   "outputs": [],
   "source": []
  },
  {
   "cell_type": "code",
   "execution_count": 3,
   "metadata": {},
   "outputs": [
    {
     "name": "stderr",
     "output_type": "stream",
     "text": [
      "/usr/local/Caskroom/miniconda/base/lib/python3.7/site-packages/numpy/lib/nanfunctions.py:1666: RuntimeWarning: Degrees of freedom <= 0 for slice.\n",
      "  keepdims=keepdims)\n"
     ]
    }
   ],
   "source": [
    "filters =  z3_transformations.compute_filters(all_obe, hq = False)\n"
   ]
  },
  {
   "cell_type": "code",
   "execution_count": 4,
   "metadata": {},
   "outputs": [
    {
     "name": "stdout",
     "output_type": "stream",
     "text": [
      "6698373 barcodes,  15778869 total UMIs. \n",
      "2.3556271052686975 umis per barcode\n",
      "85.35023692068026\n",
      "\n"
     ]
    }
   ],
   "source": [
    "print(f\"\"\"{oligos_by_exp.n_bcs.sum()} barcodes,  {oligos_by_exp.n_transcripts.sum()} total UMIs. \n",
    "{oligos_by_exp.n_transcripts.sum() / oligos_by_exp.n_bcs.sum()} umis per barcode\n",
    "{oligos_by_exp.groupby([\"oligo\",\"analysis_group_key\"]).n_transcripts.sum().mean()}\n",
    "\"\"\")\n",
    "\n"
   ]
  },
  {
   "cell_type": "code",
   "execution_count": 5,
   "metadata": {},
   "outputs": [
    {
     "name": "stdout",
     "output_type": "stream",
     "text": [
      "average normalized mu over all tile sets in all experiments 2.294850676420863\n",
      "average normalized my over all wildtype tiles 2.3237568953694314\n",
      "\n",
      "the 95th percentile value of enmu over all wildtype tiles is 3.026028017721101\n",
      "the 99th percentile value of enmu over all wiltype tiles is 6.562644394613727\n",
      "\n",
      "the 95th percentile value of enmu over all tiles is 2.951008743282446\n",
      "the 99th percentile value of enmu over all tiles is 5.371244117961561\n",
      "\n",
      "We will define the e5 and e1 groups using the average expression levels of wild type oligos\n",
      "being over the 95th and 99th percentiles respectively.\n",
      "\n",
      "99 and 20 of 2091 were identified in \n",
      "the e5 and e1 sets respectively.\n",
      "\n"
     ]
    }
   ],
   "source": [
    "tile_sets_nmu = oligos_by_exp.groupby([\"starts\"]).mean().norm_mu\n",
    "wt_tiles_nmu = oligos_by_exp.loc[lambda x: x.mutant_num == 0].groupby([\"starts\"]).mean().norm_mu\n",
    "\n",
    "e5_tile_starts = oligos_by_exp.loc[lambda x: x.mutant_num == 0]\\\n",
    "    .groupby([\"starts\"]).mean().loc[lambda x: x.norm_mu >= x.norm_mu.quantile(.95) ].index\n",
    "e1_tile_starts = oligos_by_exp.loc[lambda x: x.mutant_num == 0]\\\n",
    "    .groupby([\"starts\"]).mean().loc[lambda x: x.norm_mu > x.norm_mu.quantile(.99) ].index\n",
    "\n",
    "print(f\"\"\"average normalized mu over all tile sets in all experiments {tile_sets_nmu.mean()}\n",
    "average normalized my over all wildtype tiles {wt_tiles_nmu.mean()}\n",
    "\n",
    "the 95th percentile value of enmu over all wildtype tiles is {wt_tiles_nmu.quantile(.95)}\n",
    "the 99th percentile value of enmu over all wiltype tiles is {wt_tiles_nmu.quantile(.99)}\n",
    "\n",
    "the 95th percentile value of enmu over all tiles is {tile_sets_nmu.quantile(.95)}\n",
    "the 99th percentile value of enmu over all tiles is {tile_sets_nmu.quantile(.99)}\n",
    "\n",
    "We will define the e5 and e1 groups using the average expression levels of wild type oligos\n",
    "being over the 95th and 99th percentiles respectively.\n",
    "\n",
    "{len(e5_tile_starts)} and {len(e1_tile_starts)} of {oligos_by_exp.starts.nunique()} were identified in \n",
    "the e5 and e1 sets respectively.\n",
    "\"\"\")"
   ]
  },
  {
   "cell_type": "code",
   "execution_count": 6,
   "metadata": {},
   "outputs": [],
   "source": [
    "obe_by_start = oligos_by_exp.reset_index().set_index(\"starts\").sort_index()"
   ]
  },
  {
   "cell_type": "code",
   "execution_count": 7,
   "metadata": {},
   "outputs": [],
   "source": [
    "\n",
    "oligo_types =pd.concat([pd.concat([\n",
    "obe_by_start.loc[max(mutant_start_position-150,0):mutant_start_position].loc[lambda x: x.mutant_start == mutant_start_position].assign(tile_class=\"ablation\"),\n",
    "obe_by_start.loc[max(mutant_start_position-150,0):mutant_start_position].loc[lambda x: (x.mutant_num > 0) &(x.mutant_num < 5) & (x.mutant_start != mutant_start_position)].assign(tile_class=\"other\"),    \n",
    "obe_by_start.loc[max(mutant_start_position-150,0):max(0,mutant_start_position-30)].loc[lambda x: x.mutant_num ==0].assign(tile_class=\"wildtype\"),\n",
    "obe_by_start.loc[max(mutant_start_position-150,0):mutant_start_position+30].loc[lambda x: (x.mutant_start == mutant_start_position) | \n",
    "                                                                                ( (x.mutant_start+30) == mutant_start_position)].assign(tile_class=\"ablation60\"),    \n",
    "obe_by_start.loc[max(mutant_start_position-150,0):mutant_start_position+30].loc[lambda x: (x.mutant_num > 0) &(x.mutant_num < 5) &\n",
    "                                                                                ( (x.mutant_start != mutant_start_position) & \n",
    "                                                                                ( (x.mutant_start+30) != mutant_start_position))].assign(tile_class=\"other60\"),    \n",
    "obe_by_start.loc[max(mutant_start_position-150,0):max(0,mutant_start_position)].loc[lambda x: x.mutant_num ==0].assign(tile_class=\"wildtype60\"),\n",
    "    \n",
    "    ], ignore_index =True).assign(mutant_tile_start = mutant_start_position) for mutant_start_position in oligos_by_exp.mutant_start.unique()]).set_index([\"mutant_tile_start\",\"tile_class\"])\n"
   ]
  },
  {
   "cell_type": "code",
   "execution_count": 9,
   "metadata": {},
   "outputs": [],
   "source": [
    "oligo_types[\"starts\"] = oligo_types.join(oligos_by_exp.reset_index().drop_duplicates(\"oligo\").set_index(\"oligo\")[[\"starts\"]],on=\"oligo\").starts"
   ]
  },
  {
   "cell_type": "code",
   "execution_count": 10,
   "metadata": {},
   "outputs": [],
   "source": [
    "oligo_types = oligo_types.sort_index(level=[0,1])"
   ]
  },
  {
   "cell_type": "code",
   "execution_count": 13,
   "metadata": {},
   "outputs": [
    {
     "data": {
      "text/plain": [
       "array(['DLD1_WT_BR1', 'DLD1_WT_BR2', 'HCT116_Gemcitabine2uM_BR1',\n",
       "       'HCT116_Gemcitabine2uM_BR2', 'HCT116_WT_BR1', 'HCT116_WT_BR2',\n",
       "       'U2OS_NFKB1KO_Sorted_GFPneg_BR1_with_ML120B_20uM',\n",
       "       'U2OS_NFKB1KO_Sorted_GFPneg_BR2_with_ML120B_20uM',\n",
       "       'U2OS_NFKB1KO_Sorted_GFPpos_BR1', 'U2OS_NFKB1KO_Sorted_GFPpos_BR2',\n",
       "       'U2OS_NFKB2KO_Sorted_GFPneg_BR1_with_ML120B_20uM',\n",
       "       'U2OS_NFKB2KO_Sorted_GFPneg_BR2_with_ML120B_20uM',\n",
       "       'U2OS_NFKB2KO_Sorted_GFPpos_BR1', 'U2OS_NFKB2KO_Sorted_GFPpos_BR2',\n",
       "       'U2OS_WT_BR1', 'U2OS_WT_BR2'], dtype=object)"
      ]
     },
     "execution_count": 13,
     "metadata": {},
     "output_type": "execute_result"
    }
   ],
   "source": [
    "oligos_by_exp[\"exp\"].unique()"
   ]
  },
  {
   "cell_type": "code",
   "execution_count": 14,
   "metadata": {},
   "outputs": [],
   "source": [
    "\n",
    "#means = pd.Series(mutant_starts).apply(lambda s: oligo_types.loc[idx[s,:],:].groupby(\"tile_class\").norm_mu.mean())\n",
    "\n",
    "def get_stats(s):\n",
    "    tile_groups = oligo_types.loc[idx[s,:],:].groupby(\"tile_class\")\n",
    "    if not set([\"ablation\",\"other\",\"wildtype\",\n",
    "                \"ablation60\",\"other60\",\"wildtype60\"]).issubset(tile_groups.groups.keys()): \n",
    "        print (f\"skipping position {s}\")\n",
    "        return pd.Series().rename(s)\n",
    "\n",
    "    ablations = tile_groups.get_group(\"ablation\")\n",
    "    others = tile_groups.get_group(\"other\")\n",
    "    wildtypes = tile_groups.get_group(\"wildtype\")\n",
    "    \n",
    "    ab1_dld1 = tile_groups.get_group(\"ablation\").loc[lambda x: x.exp==\"DLD1_WT_BR1\"]\n",
    "    ot1_dld1 = tile_groups.get_group(\"other\").loc[lambda x: x.exp==\"DLD1_WT_BR1\"]\n",
    "    wt1_dld1 = tile_groups.get_group(\"wildtype\").loc[lambda x: x.exp==\"DLD1_WT_BR1\"]\n",
    "    \n",
    "    ab2_dld1 = tile_groups.get_group(\"ablation\").loc[lambda x: x.exp==\"DLD1_WT_BR2\"]\n",
    "    ot2_dld1 = tile_groups.get_group(\"other\").loc[lambda x: x.exp==\"DLD1_WT_BR2\"]\n",
    "    wt2_dld1 = tile_groups.get_group(\"wildtype\").loc[lambda x: x.exp==\"DLD1_WT_BR2\"]\n",
    "\n",
    "\n",
    "    ablations60 = tile_groups.get_group(\"ablation60\")\n",
    "    others60 = tile_groups.get_group(\"other60\")\n",
    "    wildtypes60 = tile_groups.get_group(\"wildtype60\")\n",
    "    \n",
    "    wt_tt = stats.ttest_ind( ablations.norm_mu, wildtypes.norm_mu)\n",
    "    all_tt = stats.ttest_ind( ablations.norm_mu, pd.concat([wildtypes.norm_mu,others.norm_mu]))\n",
    "    \n",
    "    r1_tt = stats.ttest_ind( ab1_dld1.norm_mu, wt1_dld1.norm_mu)\n",
    "    r2_tt = stats.ttest_ind( ab2_dld1.norm_mu, wt2_dld1.norm_mu)\n",
    "    \n",
    "    r1_aott = stats.ttest_ind( ab1_dld1.norm_mu, pd.concat([wt1_dld1.norm_mu,ot1_dld1.norm_mu]))\n",
    "    r2_aott = stats.ttest_ind( ab2_dld1.norm_mu, pd.concat([wt2_dld1.norm_mu,ot2_dld1.norm_mu]))\n",
    "            \n",
    "        \n",
    "#     wt_rep_tt = stats.ttest_ind( ablations.norm_mu, wildtypes.norm_mu)\n",
    "#     all_rep_tt = stats.ttest_ind( ablations.norm_mu, pd.concat([wildtypes.norm_mu,others.norm_mu]))\n",
    "    \n",
    "    \n",
    "    return pd.Series({\n",
    "\n",
    "        \"mu_wt\":wildtypes.norm_mu.mean(),\n",
    "        \"mu_ot\":others.norm_mu.mean(),\n",
    "        \"mu_ab\":ablations.norm_mu.mean(),\n",
    "\n",
    "        \"mu_wt60\":wildtypes60.norm_mu.mean(),\n",
    "        \"mu_ot60\":others60.norm_mu.mean(),\n",
    "        \"mu_ab60\":ablations60.norm_mu.mean(),\n",
    "        \n",
    "        \"tt_wt_pval\":-1 * np.log(wt_tt[1]),\n",
    "        \"tt_all_pval\":-1 * np.log(all_tt[1]),\n",
    "        \n",
    "                \n",
    "        \"tt_wt_ttstat\":wt_tt[0],\n",
    "        \"tt_all_ttstat\":all_tt[0],\n",
    "        \n",
    "                        \n",
    "        \"tt_r1_ttstat\":r1_tt[0],\n",
    "        \"tt_r2_ttstat\":r2_tt[0],\n",
    "                                \n",
    "        \"tt_r1_aottstat\":r1_aott[0],\n",
    "        \"tt_r2_aottstat\":r2_aott[0],\n",
    "        \n",
    "        \"tt_r1_aott_pval\":-1 * np.log(r1_aott[1]),\n",
    "        \"tt_r2_aott_pval\":-1 * np.log(r2_aott[1]),\n",
    "        \n",
    "                \n",
    "\n",
    "    }).rename(s)\n",
    "\n",
    "\n",
    "\n"
   ]
  },
  {
   "cell_type": "code",
   "execution_count": 15,
   "metadata": {},
   "outputs": [
    {
     "name": "stdout",
     "output_type": "stream",
     "text": [
      "skipping position 397513\n"
     ]
    },
    {
     "name": "stderr",
     "output_type": "stream",
     "text": [
      "/usr/local/Caskroom/miniconda/base/lib/python3.7/site-packages/numpy/core/fromnumeric.py:3506: RuntimeWarning: Degrees of freedom <= 0 for slice\n",
      "  **kwargs)\n"
     ]
    },
    {
     "name": "stdout",
     "output_type": "stream",
     "text": [
      "skipping position 254312\n",
      "skipping position 397513\n",
      "skipping position 401413\n",
      "skipping position 431620\n",
      "skipping position 445396\n",
      "skipping position 452392\n",
      "skipping position 534582\n"
     ]
    }
   ],
   "source": [
    "enriched_starts = e1_tile_starts\n",
    "mutant_starts = oligos_by_exp.loc[lambda x: x.starts.isin(enriched_starts)].mutant_start.unique()\n",
    "e1_stats = pd.Series(mutant_starts, index = mutant_starts).apply(get_stats)\n",
    "\n",
    "\n",
    "enriched_starts = e5_tile_starts\n",
    "mutant_starts = oligos_by_exp.loc[lambda x: x.starts.isin(enriched_starts)].mutant_start.unique()\n",
    "e5_stats = pd.Series(mutant_starts, index = mutant_starts).apply(get_stats)\n"
   ]
  },
  {
   "cell_type": "code",
   "execution_count": 16,
   "metadata": {},
   "outputs": [],
   "source": [
    "import seaborn as sns\n",
    "%matplotlib inline"
   ]
  },
  {
   "cell_type": "code",
   "execution_count": 457,
   "metadata": {},
   "outputs": [
    {
     "data": {
      "text/plain": [
       "<seaborn.axisgrid.JointGrid at 0x11ed06240>"
      ]
     },
     "execution_count": 457,
     "metadata": {},
     "output_type": "execute_result"
    },
    {
     "data": {
      "image/png": "[encoded data removed]",
      "text/plain": [
       "<Figure size 432x432 with 3 Axes>"
      ]
     },
     "metadata": {
      "needs_background": "light"
     },
     "output_type": "display_data"
    }
   ],
   "source": [
    "sns.jointplot( x = \"tt_r1_ttstat\", y = \"tt_r2_ttstat\", data = pd.concat([\n",
    "    e5_stats.assign(enrichment=0),\n",
    "    e1_stats.assign(enrichment=1)]))"
   ]
  },
  {
   "cell_type": "code",
   "execution_count": 19,
   "metadata": {},
   "outputs": [
    {
     "data": {
      "text/plain": [
       "<seaborn.axisgrid.JointGrid at 0x130443278>"
      ]
     },
     "execution_count": 19,
     "metadata": {},
     "output_type": "execute_result"
    },
    {
     "data": {
      "image/png": "[encoded data removed]",
      "text/plain": [
       "<Figure size 432x432 with 3 Axes>"
      ]
     },
     "metadata": {
      "needs_background": "light"
     },
     "output_type": "display_data"
    }
   ],
   "source": [
    "sns.jointplot( x = \"tt_wt_ttstat\", y = \"tt_all_ttstat\", data = pd.concat([\n",
    "    e5_stats.assign(enrichment=0),\n",
    "    e1_stats.assign(enrichment=1)]))"
   ]
  },
  {
   "cell_type": "code",
   "execution_count": 437,
   "metadata": {},
   "outputs": [
    {
     "data": {
      "text/plain": [
       "<matplotlib.axes._subplots.AxesSubplot at 0x127ccef28>"
      ]
     },
     "execution_count": 437,
     "metadata": {},
     "output_type": "execute_result"
    },
    {
     "data": {
      "image/png": "[encoded data removed]",
      "text/plain": [
       "<Figure size 432x288 with 1 Axes>"
      ]
     },
     "metadata": {
      "needs_background": "light"
     },
     "output_type": "display_data"
    }
   ],
   "source": [
    "\n",
    "f = plt.gca()\n",
    "\n",
    "sns.jointplot( x = \"tt_wt_pval\", y = \"tt_all_pval\", data = pd.concat([\n",
    "    e5_stats.assign(enrichment=0),\n",
    "    e1_stats.assign(enrichment=1)]))"
   ]
  },
  {
   "cell_type": "code",
   "execution_count": 20,
   "metadata": {},
   "outputs": [
    {
     "name": "stdout",
     "output_type": "stream",
     "text": [
      "skipping position 1526\n",
      "skipping position 8765\n",
      "skipping position 18665\n",
      "skipping position 27323\n",
      "skipping position 28482\n",
      "skipping position 33406\n",
      "skipping position 36590\n",
      "skipping position 37858\n",
      "skipping position 39927\n",
      "skipping position 45650\n",
      "skipping position 48608\n",
      "skipping position 51607\n",
      "skipping position 52516\n",
      "skipping position 55123\n",
      "skipping position 56239\n",
      "skipping position 64877\n",
      "skipping position 65976\n",
      "skipping position 76831\n",
      "skipping position 77697\n",
      "skipping position 79793\n",
      "skipping position 82883\n",
      "skipping position 83130\n",
      "skipping position 88519\n",
      "skipping position 90394\n",
      "skipping position 128438\n",
      "skipping position 144036\n",
      "skipping position 153383\n",
      "skipping position 159713\n",
      "skipping position 163665\n",
      "skipping position 168686\n",
      "skipping position 170376\n",
      "skipping position 172627\n",
      "skipping position 221467\n",
      "skipping position 235292\n",
      "skipping position 247170\n",
      "skipping position 248652\n",
      "skipping position 250023\n",
      "skipping position 252768\n",
      "skipping position 253678\n",
      "skipping position 254312\n",
      "skipping position 257239\n",
      "skipping position 259285\n",
      "skipping position 264021\n",
      "skipping position 267782\n",
      "skipping position 274701\n",
      "skipping position 282320\n",
      "skipping position 285197\n",
      "skipping position 286442\n",
      "skipping position 288461\n",
      "skipping position 314348\n",
      "skipping position 348590\n",
      "skipping position 380355\n",
      "skipping position 383345\n",
      "skipping position 390804\n",
      "skipping position 395391\n",
      "skipping position 397513\n",
      "skipping position 399609\n",
      "skipping position 401413\n",
      "skipping position 423265\n",
      "skipping position 424316\n",
      "skipping position 431620\n",
      "skipping position 434446\n",
      "skipping position 437186\n",
      "skipping position 438004\n",
      "skipping position 440590\n",
      "skipping position 444223\n",
      "skipping position 445396\n",
      "skipping position 449644\n",
      "skipping position 452392\n",
      "skipping position 471090\n",
      "skipping position 475318\n",
      "skipping position 481629\n",
      "skipping position 484233\n",
      "skipping position 514413\n",
      "skipping position 522781\n",
      "skipping position 530936\n",
      "skipping position 534582\n",
      "skipping position 536149\n",
      "skipping position 538878\n",
      "skipping position 541093\n",
      "skipping position 554960\n",
      "skipping position 557505\n",
      "skipping position 560590\n",
      "skipping position 565345\n",
      "skipping position 578226\n",
      "skipping position 583803\n",
      "skipping position 590463\n",
      "skipping position 25178\n",
      "skipping position 87123\n",
      "skipping position 97800\n",
      "skipping position 401383\n",
      "skipping position 489422\n",
      "skipping position 83670\n",
      "skipping position 1020\n",
      "skipping position 2066\n",
      "skipping position 9245\n",
      "skipping position 19055\n",
      "skipping position 28193\n",
      "skipping position 29172\n",
      "skipping position 33886\n",
      "skipping position 37070\n",
      "skipping position 39028\n",
      "skipping position 42027\n",
      "skipping position 46340\n",
      "skipping position 49328\n",
      "skipping position 51997\n",
      "skipping position 52726\n",
      "skipping position 55813\n",
      "skipping position 56899\n",
      "skipping position 65117\n",
      "skipping position 66186\n",
      "skipping position 77371\n",
      "skipping position 78117\n",
      "skipping position 81383\n",
      "skipping position 83093\n",
      "skipping position 89209\n",
      "skipping position 90604\n",
      "skipping position 129128\n",
      "skipping position 144726\n",
      "skipping position 153803\n",
      "skipping position 161153\n",
      "skipping position 164025\n",
      "skipping position 169046\n",
      "skipping position 171036\n",
      "skipping position 172897\n",
      "skipping position 221827\n",
      "skipping position 235712\n",
      "skipping position 248190\n",
      "skipping position 248982\n",
      "skipping position 250653\n",
      "skipping position 253368\n",
      "skipping position 254308\n",
      "skipping position 255302\n",
      "skipping position 258409\n",
      "skipping position 260935\n",
      "skipping position 265161\n",
      "skipping position 269252\n",
      "skipping position 275181\n",
      "skipping position 283130\n",
      "skipping position 285857\n",
      "skipping position 287966\n",
      "skipping position 290471\n",
      "skipping position 315218\n",
      "skipping position 349610\n",
      "skipping position 382005\n",
      "skipping position 384245\n",
      "skipping position 391374\n",
      "skipping position 396321\n",
      "skipping position 399103\n",
      "skipping position 400179\n",
      "skipping position 401803\n",
      "skipping position 424045\n",
      "skipping position 424856\n",
      "skipping position 432340\n",
      "skipping position 434746\n",
      "skipping position 437996\n",
      "skipping position 438934\n",
      "skipping position 442210\n",
      "skipping position 445093\n",
      "skipping position 446506\n",
      "skipping position 450304\n",
      "skipping position 453952\n",
      "skipping position 471690\n",
      "skipping position 476128\n",
      "skipping position 483549\n",
      "skipping position 485103\n",
      "skipping position 490202\n",
      "skipping position 515073\n",
      "skipping position 523861\n",
      "skipping position 531536\n",
      "skipping position 535242\n",
      "skipping position 537739\n",
      "skipping position 539808\n",
      "skipping position 542263\n",
      "skipping position 555740\n",
      "skipping position 558165\n",
      "skipping position 561880\n",
      "skipping position 565945\n",
      "skipping position 578706\n",
      "skipping position 584613\n",
      "skipping position 591333\n",
      "skipping position 25688\n",
      "skipping position 87453\n",
      "skipping position 98130\n"
     ]
    }
   ],
   "source": [
    "\n",
    "for enriched_starts in [ oligos_by_exp.starts.unique() ]: \n",
    "    mutant_starts = oligos_by_exp.loc[lambda x: x.starts.isin(enriched_starts)].mutant_start.unique()\n",
    "    \n",
    "    #means = pd.Series(mutant_starts).apply(lambda s: oligo_types.loc[idx[s,:],:].groupby(\"tile_class\").norm_mu.mean())\n",
    "    \n",
    "    def get_stats(s):\n",
    "        tile_groups = oligo_types.loc[idx[s,:],:].groupby(\"tile_class\")\n",
    "        if not set([\"ablation\",\"other\",\"wildtype\",\n",
    "                    \"ablation60\",\"other60\",\"wildtype60\"]).issubset(tile_groups.groups.keys()): \n",
    "            print (f\"skipping position {s}\")\n",
    "            return pd.Series().rename(s)\n",
    "        \n",
    "        ablations = tile_groups.get_group(\"ablation\")\n",
    "        others = tile_groups.get_group(\"other\")\n",
    "        wildtypes = tile_groups.get_group(\"wildtype\")\n",
    "        ablations60 = tile_groups.get_group(\"ablation60\")\n",
    "        others60 = tile_groups.get_group(\"other60\")\n",
    "        wildtypes60 = tile_groups.get_group(\"wildtype60\")\n",
    "        wt_tt = stats.ttest_ind( ablations.norm_mu, wildtypes.norm_mu)\n",
    "        all_tt = stats.ttest_ind( ablations.norm_mu, pd.concat([wildtypes.norm_mu,others.norm_mu]))\n",
    "\n",
    "        return pd.Series({\n",
    "            \"mu_wt\":wildtypes.norm_mu.mean(),\n",
    "            \"mu_ot\":others.norm_mu.mean(),\n",
    "            \"mu_ab\":ablations.norm_mu.mean(),\n",
    "\n",
    "            \"mu_wt60\":wildtypes60.norm_mu.mean(),\n",
    "            \"mu_ot60\":others60.norm_mu.mean(),\n",
    "            \"mu_ab60\":ablations60.norm_mu.mean(),\n",
    "\n",
    "            \"tt_wt_pval\":wt_tt[1],\n",
    "            \"tt_all_pval\":wt_tt[1],\n",
    "\n",
    "            }).rename(s)\n",
    "\n",
    "    stats2 = pd.Series(mutant_starts, index = mutant_starts).apply(get_stats)\n",
    "\n",
    "        \n",
    "  "
   ]
  },
  {
   "cell_type": "code",
   "execution_count": 23,
   "metadata": {},
   "outputs": [
    {
     "data": {
      "text/plain": [
       "other         607646\n",
       "other60       602324\n",
       "ablation60    337354\n",
       "wildtype60    186170\n",
       "ablation      184888\n",
       "wildtype      155137\n",
       "Name: tile_class, dtype: int64"
      ]
     },
     "execution_count": 23,
     "metadata": {},
     "output_type": "execute_result"
    }
   ],
   "source": [
    "oligo_types.reset_index().tile_class.value_counts()"
   ]
  },
  {
   "cell_type": "code",
   "execution_count": 24,
   "metadata": {},
   "outputs": [],
   "source": [
    "quantiles_more = z3_transformations.compute_quantiles(filters)"
   ]
  },
  {
   "cell_type": "code",
   "execution_count": 26,
   "metadata": {},
   "outputs": [],
   "source": [
    "quantiles_more.to_csv(\"../out/1204_quantiles.csv\")"
   ]
  },
  {
   "cell_type": "code",
   "execution_count": null,
   "metadata": {},
   "outputs": [],
   "source": []
  }
 ],
 "metadata": {
  "kernelspec": {
   "display_name": "Python 3",
   "language": "python",
   "name": "python3"
  },
  "language_info": {
   "codemirror_mode": {
    "name": "ipython",
    "version": 3
   },
   "file_extension": ".py",
   "mimetype": "text/x-python",
   "name": "python",
   "nbconvert_exporter": "python",
   "pygments_lexer": "ipython3",
   "version": "3.7.3"
  }
 },
 "nbformat": 4,
 "nbformat_minor": 4
}
