{
 "cells": [
  {
   "cell_type": "code",
   "execution_count": 2,
   "metadata": {},
   "outputs": [],
   "source": [
    "import pandas as pd\n",
    "import os"
   ]
  },
  {
   "cell_type": "code",
   "execution_count": 4,
   "metadata": {},
   "outputs": [],
   "source": [
    "segway = pd.read_csv(\"../data/segway_encyclopedia.bed\",delimiter = \"\\t\")"
   ]
  },
  {
   "cell_type": "code",
   "execution_count": 14,
   "metadata": {},
   "outputs": [],
   "source": [
    "sfilt =segway.loc[segway.chrom==\"chr22\"]"
   ]
  },
  {
   "cell_type": "code",
   "execution_count": 15,
   "metadata": {},
   "outputs": [],
   "source": [
    "sfilt = sfilt.loc[(sfilt.start > 38699734 ) & (sfilt.end< 39291007)]"
   ]
  },
  {
   "cell_type": "code",
   "execution_count": 36,
   "metadata": {},
   "outputs": [],
   "source": [
    "domains = pd.read_csv(\"../data/gbr_hg19_ann/A549.bed\", delimiter = \"\\t\", names=[\"chrom\",\"start\",\"end\",\"annotation\",\"\",\"\",\"\",\"\",\"\"] )"
   ]
  },
  {
   "cell_type": "code",
   "execution_count": 23,
   "metadata": {},
   "outputs": [
    {
     "data": {
      "text/plain": [
       "{'active': ['5SPC', '4BRD'], 'repressive': ['3FAC', '1QUI', '2CON']}"
      ]
     },
     "execution_count": 23,
     "metadata": {},
     "output_type": "execute_result"
    }
   ],
   "source": [
    "{\"active\":[\"5SPC\",\"4BRD\"],\n",
    "    \"repressive\":[\"3FAC\",\"1QUI\",\"2CON\"]}"
   ]
  },
  {
   "cell_type": "code",
   "execution_count": 42,
   "metadata": {},
   "outputs": [],
   "source": [
    "import matplotlib.pyplot as plt\n",
    "%matplotlib inline"
   ]
  },
  {
   "cell_type": "code",
   "execution_count": 47,
   "metadata": {},
   "outputs": [
    {
     "data": {
      "text/plain": [
       "<matplotlib.legend.Legend at 0x7fa197425518>"
      ]
     },
     "execution_count": 47,
     "metadata": {},
     "output_type": "execute_result"
    },
    {
     "data": {
      "image/png": "[encoded data removed]",
      "text/plain": [
       "<Figure size 432x288 with 1 Axes>"
      ]
     },
     "metadata": {
      "needs_background": "light"
     },
     "output_type": "display_data"
    }
   ],
   "source": [
    "cnt = 0\n",
    "for k, g in sfilt.groupby(\"A549\"):\n",
    "    cnt+=1\n",
    "    plt.scatter(g.start, g.start * 0 + cnt,label = k)\n",
    "plt.legend()"
   ]
  },
  {
   "cell_type": "code",
   "execution_count": 71,
   "metadata": {},
   "outputs": [
    {
     "data": {
      "text/plain": [
       "(96, 169)"
      ]
     },
     "execution_count": 71,
     "metadata": {},
     "output_type": "execute_result"
    }
   ],
   "source": [
    "sfilt.shape"
   ]
  },
  {
   "cell_type": "code",
   "execution_count": 72,
   "metadata": {},
   "outputs": [
    {
     "data": {
      "text/plain": [
       "Index(['chrom', 'start', 'end', 'sum_score', 'mean_score', 'A549',\n",
       "       'ADIPOSE_NUCLEI', 'ADULT_LIVER', 'AG04449', 'AG04450',\n",
       "       ...\n",
       "       'SK-N-MC', 'SK-N-SH', 'SK-N-SH_RA', 'SMALL_INTESTINE_OC',\n",
       "       'STOMACH_MUCOSA', 'STOMACH_SMOOTH_MUSCLE', 'T-47D', 'THYMUS',\n",
       "       'WERI-RB-1', 'WI-38'],\n",
       "      dtype='object', length=169)"
      ]
     },
     "execution_count": 72,
     "metadata": {},
     "output_type": "execute_result"
    }
   ],
   "source": [
    "sfilt"
   ]
  },
  {
   "cell_type": "code",
   "execution_count": 69,
   "metadata": {},
   "outputs": [
    {
     "data": {
      "text/plain": [
       "<matplotlib.image.AxesImage at 0x7fa172d910b8>"
      ]
     },
     "execution_count": 69,
     "metadata": {},
     "output_type": "execute_result"
    },
    {
     "data": {
      "image/png": "[encoded data removed]",
      "text/plain": [
       "<Figure size 432x288 with 1 Axes>"
      ]
     },
     "metadata": {
      "needs_background": "light"
     },
     "output_type": "display_data"
    }
   ],
   "source": [
    "plt.imshow((sfilt[[\"start\",\"A549\"]].reset_index().set_index([\"start\",\"A549\"],append=False).unstack(level=1) * 0 + 1).T)"
   ]
  },
  {
   "cell_type": "code",
   "execution_count": 40,
   "metadata": {},
   "outputs": [
    {
     "data": {
      "text/html": [
       "<div>\n",
       "<style scoped>\n",
       "    .dataframe tbody tr th:only-of-type {\n",
       "        vertical-align: middle;\n",
       "    }\n",
       "\n",
       "    .dataframe tbody tr th {\n",
       "        vertical-align: top;\n",
       "    }\n",
       "\n",
       "    .dataframe thead th {\n",
       "        text-align: right;\n",
       "    }\n",
       "</style>\n",
       "<table border=\"1\" class=\"dataframe\">\n",
       "  <thead>\n",
       "    <tr style=\"text-align: right;\">\n",
       "      <th></th>\n",
       "      <th>chrom</th>\n",
       "      <th>start</th>\n",
       "      <th>end</th>\n",
       "      <th>annotation</th>\n",
       "      <th></th>\n",
       "      <th>.1</th>\n",
       "      <th>.2</th>\n",
       "      <th>.3</th>\n",
       "      <th>.4</th>\n",
       "    </tr>\n",
       "  </thead>\n",
       "  <tbody>\n",
       "    <tr>\n",
       "      <th>3082</th>\n",
       "      <td>chr22</td>\n",
       "      <td>38220000</td>\n",
       "      <td>38610000</td>\n",
       "      <td>4BRD</td>\n",
       "      <td>1000</td>\n",
       "      <td>.</td>\n",
       "      <td>38220000</td>\n",
       "      <td>38610000</td>\n",
       "      <td>231,41,138</td>\n",
       "    </tr>\n",
       "    <tr>\n",
       "      <th>3083</th>\n",
       "      <td>chr22</td>\n",
       "      <td>38610000</td>\n",
       "      <td>38720000</td>\n",
       "      <td>5SPC</td>\n",
       "      <td>1000</td>\n",
       "      <td>.</td>\n",
       "      <td>38610000</td>\n",
       "      <td>38720000</td>\n",
       "      <td>102,166,30</td>\n",
       "    </tr>\n",
       "    <tr>\n",
       "      <th>3084</th>\n",
       "      <td>chr22</td>\n",
       "      <td>38720000</td>\n",
       "      <td>39540000</td>\n",
       "      <td>4BRD</td>\n",
       "      <td>1000</td>\n",
       "      <td>.</td>\n",
       "      <td>38720000</td>\n",
       "      <td>39540000</td>\n",
       "      <td>231,41,138</td>\n",
       "    </tr>\n",
       "    <tr>\n",
       "      <th>3085</th>\n",
       "      <td>chr22</td>\n",
       "      <td>39540000</td>\n",
       "      <td>39750000</td>\n",
       "      <td>5SPC</td>\n",
       "      <td>1000</td>\n",
       "      <td>.</td>\n",
       "      <td>39540000</td>\n",
       "      <td>39750000</td>\n",
       "      <td>102,166,30</td>\n",
       "    </tr>\n",
       "    <tr>\n",
       "      <th>3086</th>\n",
       "      <td>chr22</td>\n",
       "      <td>39750000</td>\n",
       "      <td>39930000</td>\n",
       "      <td>4BRD</td>\n",
       "      <td>1000</td>\n",
       "      <td>.</td>\n",
       "      <td>39750000</td>\n",
       "      <td>39930000</td>\n",
       "      <td>231,41,138</td>\n",
       "    </tr>\n",
       "  </tbody>\n",
       "</table>\n",
       "</div>"
      ],
      "text/plain": [
       "      chrom     start       end annotation       .1        .2        .3  \\\n",
       "3082  chr22  38220000  38610000       4BRD  1000  .  38220000  38610000   \n",
       "3083  chr22  38610000  38720000       5SPC  1000  .  38610000  38720000   \n",
       "3084  chr22  38720000  39540000       4BRD  1000  .  38720000  39540000   \n",
       "3085  chr22  39540000  39750000       5SPC  1000  .  39540000  39750000   \n",
       "3086  chr22  39750000  39930000       4BRD  1000  .  39750000  39930000   \n",
       "\n",
       "              .4  \n",
       "3082  231,41,138  \n",
       "3083  102,166,30  \n",
       "3084  231,41,138  \n",
       "3085  102,166,30  \n",
       "3086  231,41,138  "
      ]
     },
     "execution_count": 40,
     "metadata": {},
     "output_type": "execute_result"
    }
   ],
   "source": [
    "dfilt =domains.loc[domains.chrom==\"chr22\"]\n",
    "dfilt = dfilt.loc[(dfilt.start > 38699734-1e6 ) & (dfilt.end< 39291007+1e6)]\n",
    "dfilt"
   ]
  }
 ],
 "metadata": {
  "kernelspec": {
   "display_name": "py3",
   "language": "python",
   "name": "py3-test"
  },
  "language_info": {
   "codemirror_mode": {
    "name": "ipython",
    "version": 3
   },
   "file_extension": ".py",
   "mimetype": "text/x-python",
   "name": "python",
   "nbconvert_exporter": "python",
   "pygments_lexer": "ipython3",
   "version": "3.7.3"
  }
 },
 "nbformat": 4,
 "nbformat_minor": 2
}
