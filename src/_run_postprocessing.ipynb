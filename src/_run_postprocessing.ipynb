{
 "cells": [
  {
   "cell_type": "code",
   "execution_count": 3,
   "metadata": {},
   "outputs": [
    {
     "name": "stdout",
     "output_type": "stream",
     "text": [
      "running postprocessing analysis step 1: load jaspar motifs\n",
      "done, loaded 579 motifs from jaspar database\n"
     ]
    }
   ],
   "source": [
    "print(\"\"\"running postprocessing analysis step 1: load jaspar motifs\"\"\")\n",
    "import z2_save_jaspar\n",
    "#z2_save_jaspar.save_jaspar()\n",
    "jaspar = z2_save_jaspar.load_jaspar()\n",
    "print(f\"\"\"done, loaded {len(jaspar)} motifs from jaspar database\"\"\")\n"
   ]
  },
  {
   "cell_type": "code",
   "execution_count": null,
   "metadata": {},
   "outputs": [],
   "source": [
    "print(\"\"\"running postprocessing analysis 2: load oligos and oligos by exp\"\"\")\n",
    "import z1_save_oligos\n",
    "#z1_save_oligos.save_oligos()\n",
    "oligos, oligos_by_exp = z1_save_oligos.load_oligos()\n",
    "print(f\"\"\"done, loaded {len(oligos)} pooled oligos and {len((oligos_by_exp))} sample datapoints\"\"\")"
   ]
  }
 ],
 "metadata": {
  "kernelspec": {
   "display_name": "py3",
   "language": "python",
   "name": "py3-test"
  },
  "language_info": {
   "codemirror_mode": {
    "name": "ipython",
    "version": 3
   },
   "file_extension": ".py",
   "mimetype": "text/x-python",
   "name": "python",
   "nbconvert_exporter": "python",
   "pygments_lexer": "ipython3",
   "version": "3.7.3"
  }
 },
 "nbformat": 4,
 "nbformat_minor": 2
}
