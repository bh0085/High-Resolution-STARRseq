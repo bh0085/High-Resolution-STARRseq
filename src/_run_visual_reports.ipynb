{
 "cells": [
  {
   "cell_type": "code",
   "execution_count": 54,
   "metadata": {},
   "outputs": [],
   "source": [
    "import imp\n",
    "import _run_parsers\n",
    "imp.reload(_run_parsers)\n",
    "from _run_parsers import read_last_output_logs, read_last_error_logs, get_last_runtime"
   ]
  },
  {
   "cell_type": "markdown",
   "metadata": {},
   "source": [
    "## STARRSEQ JUNE PIPELINE ##"
   ]
  },
  {
   "cell_type": "markdown",
   "metadata": {},
   "source": [
    "### STEP B0: Transcript sequencing demultiplexing. ###  \n",
    "DESCRIPTION:   \n",
    "Transcript library sequencing reads, SHE2955 and SHE3447 contain relevant information in reads 1 and 2.  \n",
    "READ 1 contains 10 bp transcript umis  \n",
    "READ 2 contains 16 bp reads with REVERSE COMPLIMENTED oligo dictionary barcodes\n",
    "\n",
    "Header information indicates experimental conditions, with 2955 and 3447 demultiplexed using different libraries, loaded in \\_config. This file uses header information from EXP\\_DESIGN\\_* to split reads by experiment, for each split writing all R1 and R2s to .fa files which will be parsed into bins in the next step. \n",
    "\n",
    "OUTPUT:  \n",
    "`out/b0_demultiplex_transcripts/[POOL]/[EXP]/R[1 or 2]_[SPLIT]`"
   ]
  },
  {
   "cell_type": "code",
   "execution_count": 70,
   "metadata": {},
   "outputs": [
    {
     "name": "stdout",
     "output_type": "stream",
     "text": [
      "RUN INFO:   \n",
      "b0_demultiplex_transcripts  \n",
      "\n",
      "Total number of reads evaluated: 5.43E+08\n",
      "Total number of transcript reads mapped with headers to experimental conditions: 4.62E+08\n",
      "Total number reads mapped to \"other\": 1.67E+08\n",
      "Total number of quality fails: 8.16E+07\n",
      "\n"
     ]
    }
   ],
   "source": [
    "nm=\"b0_demultiplex_transcripts\"\n",
    "\n",
    "outputs = read_last_output_logs(nm)\n",
    "errors = read_last_error_logs(nm)\n",
    "\n",
    "print(f\"\"\"RUN INFO:   \n",
    "{nm}  \n",
    "\n",
    "Total number of reads evaluated: {outputs.num_tot.sum():.2E}\n",
    "Total number of transcript reads mapped with headers to experimental conditions: {outputs.num_mapped.sum():.2E}\n",
    "Total number reads mapped to \"other\": {outputs.num_other.sum():.2E}\n",
    "Total number of quality fails: {outputs.num_bad_q.sum():.2E}\n",
    "\"\"\")\n"
   ]
  },
  {
   "cell_type": "code",
   "execution_count": 71,
   "metadata": {},
   "outputs": [
    {
     "name": "stdout",
     "output_type": "stream",
     "text": [
      "RUN INFO:\n",
      "b1_demultiplex_oligos\n",
      "\n",
      "Total number of\n",
      "\n"
     ]
    }
   ],
   "source": [
    "nm = \"b1_demultiplex_oligos\"\n",
    "\n",
    "print(f\"\"\"RUN INFO:\n",
    "{nm}\n",
    "\n",
    "\"\"\")"
   ]
  }
 ],
 "metadata": {
  "kernelspec": {
   "display_name": "py3",
   "language": "python",
   "name": "py3-test"
  },
  "language_info": {
   "codemirror_mode": {
    "name": "ipython",
    "version": 3
   },
   "file_extension": ".py",
   "mimetype": "text/x-python",
   "name": "python",
   "nbconvert_exporter": "python",
   "pygments_lexer": "ipython3",
   "version": "3.7.3"
  }
 },
 "nbformat": 4,
 "nbformat_minor": 2
}
