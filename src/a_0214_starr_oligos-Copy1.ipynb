{
 "cells": [
  {
   "cell_type": "code",
   "execution_count": 1,
   "metadata": {},
   "outputs": [],
   "source": [
    "import os, re, sys, json\n",
    "from collections import defaultdict\n",
    "import numpy as np, pandas as pd\n",
    "import _config\n",
    "reload (_config)\n",
    "from _config import SHE3202_FQ_FILES, EXP_DESIGN_2901, OLIGO_LIBRARY, SHE3202_DIR, A_BC_OLIGOS_OUT\n"
   ]
  },
  {
   "cell_type": "code",
   "execution_count": 2,
   "metadata": {},
   "outputs": [],
   "source": [
    "##\n",
    "# Locality sensitive hashing\n",
    "##\n",
    "\n",
    "global names_targets \n",
    "names_targets = dict([(k,v.Sequences) for k,v in OLIGO_LIBRARY.iterrows()])\n",
    "\n",
    "def build_targets_better_lsh():\n",
    "  global names_targets\n",
    "  lsh_dict = defaultdict(list)\n",
    "  for nm in names_targets:\n",
    "    target = names_targets[nm]\n",
    "    kmers = get_lsh_kmers(target)\n",
    "    for kmer in kmers:\n",
    "      lsh_dict[kmer].append(nm)\n",
    "  return lsh_dict\n",
    "\n",
    "def get_lsh_kmers(target):\n",
    "  kmer_len = 10\n",
    "  kmers = []\n",
    "  for idx in range(len(target) - kmer_len):\n",
    "    kmer = target[idx : idx + kmer_len]\n",
    "    kmers.append(kmer)\n",
    "  return kmers\n",
    "\n",
    "def find_best_designed_target(read, lsh_dict):\n",
    "  kmers = get_lsh_kmers(read)\n",
    "  scores = dict()\n",
    "  for kmer in kmers:\n",
    "    for exp in lsh_dict[kmer]:\n",
    "      if exp not in scores:\n",
    "        scores[exp] = 0\n",
    "      scores[exp] += 1\n",
    "\n",
    "  if len(scores) == 0:\n",
    "    return []\n",
    "\n",
    "  sorted_scores = sorted(scores, key = scores.get, reverse = True)\n",
    "  best_score = scores[sorted_scores[0]]\n",
    "  secondbest_score = scores[sorted_scores[1]]\n",
    "  # cand_idxs = []\n",
    "  # for exp in sorted_scores:\n",
    "  #   if scores[exp] + 5 < best_score:\n",
    "  #     break\n",
    "  #   cand_idxs.append(exp)\n",
    "  cand_idxs = sorted_scores[0]\n",
    "  return cand_idxs, best_score,secondbest_score"
   ]
  },
  {
   "cell_type": "code",
   "execution_count": 13,
   "metadata": {},
   "outputs": [
    {
     "name": "stdout",
     "output_type": "stream",
     "text": [
      "<open file '/cluster/bh0085/shortreads/190206_NS500413_0539_AHGTJWAFXY/Data/Intensities/BaseCalls/NGEI036/SHE3202A1/SHE3202-STARRseqNextera-PE_AHGTJWAFXY_S1_L001_R1_001.fastq', mode 'r' at 0x7fb0c9a4ded0>\n",
      "0.0\n",
      "1.0\n",
      "2.0\n",
      "3.0\n",
      "4.0\n",
      "<open file '/cluster/bh0085/shortreads/190206_NS500413_0539_AHGTJWAFXY/Data/Intensities/BaseCalls/NGEI036/SHE3202A1/SHE3202-STARRseqNextera-PE_AHGTJWAFXY_S1_L002_R1_001.fastq', mode 'r' at 0x7fb0c9a4d5d0>\n",
      "0.0\n",
      "1.0\n",
      "2.0\n",
      "3.0\n",
      "4.0\n",
      "<open file '/cluster/bh0085/shortreads/190206_NS500413_0539_AHGTJWAFXY/Data/Intensities/BaseCalls/NGEI036/SHE3202A1/SHE3202-STARRseqNextera-PE_AHGTJWAFXY_S1_L003_R1_001.fastq', mode 'r' at 0x7fb0c87bc0c0>\n",
      "0.0\n",
      "1.0\n",
      "2.0\n",
      "3.0\n",
      "4.0\n",
      "<open file '/cluster/bh0085/shortreads/190206_NS500413_0539_AHGTJWAFXY/Data/Intensities/BaseCalls/NGEI036/SHE3202A1/SHE3202-STARRseqNextera-PE_AHGTJWAFXY_S1_L004_R1_001.fastq', mode 'r' at 0x7fb0c9a4df60>\n",
      "0.0\n",
      "1.0\n",
      "2.0\n",
      "3.0\n",
      "4.0\n"
     ]
    }
   ],
   "source": [
    "#scan the fastq file for reads\n",
    "#OUTPUT\n",
    "#  matched_reads -- a list of all matched forward reads\n",
    "#  qualities -- quality scores for all matched reads\n",
    "num_tot = 0\n",
    "num_bad_q = 0\n",
    "matched_reads = []\n",
    "qualities = []\n",
    "notfound = 0\n",
    "num_valerr = 0\n",
    "\n",
    "umis_by_oligo = dict()\n",
    "poorly_aligned = 0\n",
    "\n",
    "#print difflib.get_close_matches(oligo_seq, OLIGO_LIBRARY.Sequences.values[:100] , n=1, cutoff=.01)\n",
    "\n",
    "def featurize0(s):\n",
    "    return np.array([s.count(l) for l in \"ATGC\"],dtype=np.float)\n",
    "\n",
    "def featurize(s):\n",
    "    return np.array([{\"A\":0.0,\"T\":1.0,\"G\":2.0,\"C\":3.0,\"N\":4.0}[l] for l in s])\n",
    "\n",
    "def featurize_dict(s):\n",
    "    return dict([(l,s.count(l)) for l in \"ATGC\"])\n",
    "def selectbest(query, subjects, subject_features):\n",
    "    qcounts0 = featurize(query)\n",
    "    norm = np.sqrt(np.sum(qcounts0**2))\n",
    "    qcounts = qcounts0 / norm\n",
    "    dotprod = np.sum(qcounts*subject_features,1)\n",
    "    second ,cand = np.argsort(dotprod)[-2:]\n",
    "    \n",
    "    return cand, dotprod[cand], dotprod[second]\n",
    "\n",
    "\n",
    "lsh_dict = build_targets_better_lsh()\n",
    "\n",
    "   \n",
    "\n",
    "subject_features0 = np.array([featurize(s) for s in  OLIGO_LIBRARY.Sequences.values]) / len(OLIGO_LIBRARY.Sequences[0])\n",
    "subject_features = subject_features0 / np.sqrt(np.sum(subject_features0**2,1))[:,np.newaxis]\n",
    "subjects = OLIGO_LIBRARY.Sequences.values\n",
    "\n",
    "umi_oligo_pairs = set({})\n",
    "flush_number = 0\n",
    "\n",
    "umi_oligo_counts = {}\n",
    "#loop over all files (R1 only)\n",
    "for lane in [1,2,3,4]:\n",
    "    i = -1\n",
    "    r1fn =os.path.join(SHE3202_DIR,\"SHE3202-STARRseqNextera-PE_AHGTJWAFXY_S1_L00{0}_R1_001.fastq\".format(lane))\n",
    "    r2fn =os.path.join(SHE3202_DIR,\"SHE3202-STARRseqNextera-PE_AHGTJWAFXY_S1_L00{0}_R2_001.fastq\".format(lane))\n",
    "    with open(r1fn) as f1:\n",
    "      with open(r2fn) as f2:\n",
    "        print f1\n",
    "        while 1:\n",
    "            if i %10000 == 0: print float(i) / 10000\n",
    "            \n",
    "            i+=1\n",
    "            try:\n",
    "                for j in range(1+4*1000):\n",
    "                    l1 = f1.next()\n",
    "                    l2 = f2.next()\n",
    "            except StopIteration:\n",
    "                break\n",
    "\n",
    "\n",
    "            if i % 4 == 0:\n",
    "                h1 = l1.strip()\n",
    "                h2 = l2.strip()\n",
    "            if i % 4 == 1:\n",
    "                r1 = l1.strip()\n",
    "                r2 = l2.strip()\n",
    "            if i % 4 == 3:\n",
    "                num_tot += 1\n",
    "                qs1 =l1.strip()\n",
    "                qs2 =l2.strip()\n",
    "                \n",
    "                #...RIGHT NOW, ONLY CHECK R2 FOR QUALITY... R1 TENDS TO STINK. TOO LONG\n",
    "                quals = [ord(s)-33 for s in qs2]\n",
    "                if np.mean(quals) < 30:\n",
    "                      num_bad_q += 1\n",
    "                      continue\n",
    "   \n",
    "                try:\n",
    "                    oligo_offset = r1.index(\"TGCACCGG\")\n",
    "                except ValueError,v:\n",
    "                    notfound+=1\n",
    "                    continue\n",
    "                    \n",
    "                oligo_start = oligo_offset + len(\"TGCACCGG\")\n",
    "                oligo_seq = r1[oligo_start:oligo_start+150]\n",
    "                \n",
    "                r2_consensus = \"AATTCGTCGA\"\n",
    "                try:\n",
    "                     umi_offset = r2.index(r2_consensus)\n",
    "                except ValueError:\n",
    "                    notfound+=1\n",
    "                    continue\n",
    "                umi_start = umi_offset + len(r2_consensus)\n",
    "                umi_seq = r2[umi_start:umi_start + 15]\n",
    "                #best_oligo,score,secondbest = selectbest(oligo_seq,subjects,subject_features)\n",
    "                try:\n",
    "                    best,score2,secondbest_score2 = find_best_designed_target(oligo_seq,lsh_dict)\n",
    "                except ValueError:\n",
    "                    num_valerr+=1\n",
    "                    continue\n",
    "                    \n",
    "                if score2 < 100 or ( score2-secondbest_score2) <10:\n",
    "                    poorly_aligned += 1\n",
    "                else:\n",
    "                    #umi_oligo_pairs.add((umi_seq,best))\n",
    "                    #print score2, secondbest_score2\n",
    "                    #break\n",
    "                    umi_oligo_counts[(umi_seq,best)]= umi_oligo_counts.get((umi_seq,best),0)+1\n",
    "                \n"
   ]
  },
  {
   "cell_type": "code",
   "execution_count": 14,
   "metadata": {},
   "outputs": [
    {
     "name": "stdout",
     "output_type": "stream",
     "text": [
      "11954\n",
      "4497\n",
      "40912\n",
      "7622\n",
      "16819\n",
      "40892\n",
      "40912\n",
      "0\n"
     ]
    }
   ],
   "source": [
    "print notfound\n",
    "print poorly_aligned\n",
    "print num_tot\n",
    "print num_bad_q\n",
    "print len(umi_oligo_counts)\n",
    "\n",
    "\n",
    "print len(umi_oligo_counts) + notfound + poorly_aligned + num_bad_q\n",
    "print num_tot\n",
    "print num_valerr"
   ]
  },
  {
   "cell_type": "code",
   "execution_count": 11,
   "metadata": {},
   "outputs": [
    {
     "name": "stdout",
     "output_type": "stream",
     "text": [
      "124610\n",
      "43445\n"
     ]
    }
   ],
   "source": [
    "print notfound\n",
    "print poorly_aligned"
   ]
  },
  {
   "cell_type": "code",
   "execution_count": 10,
   "metadata": {},
   "outputs": [
    {
     "data": {
      "text/plain": [
       "(array([1.61879e+05, 0.00000e+00, 0.00000e+00, 0.00000e+00, 0.00000e+00,\n",
       "        1.25200e+03, 0.00000e+00, 0.00000e+00, 0.00000e+00, 1.20000e+01]),\n",
       " array([1. , 1.2, 1.4, 1.6, 1.8, 2. , 2.2, 2.4, 2.6, 2.8, 3. ]),\n",
       " <a list of 10 Patch objects>)"
      ]
     },
     "execution_count": 10,
     "metadata": {},
     "output_type": "execute_result"
    },
    {
     "data": {
      "image/png": "[encoded data removed]",
      "text/plain": [
       "<Figure size 432x288 with 1 Axes>"
      ]
     },
     "metadata": {},
     "output_type": "display_data"
    }
   ],
   "source": [
    "from matplotlib import pyplot as plt\n",
    "%matplotlib inline\n",
    "plt.hist(umi_oligo_counts.values())"
   ]
  },
  {
   "cell_type": "code",
   "execution_count": null,
   "metadata": {},
   "outputs": [],
   "source": [
    "print \"hi\""
   ]
  },
  {
   "cell_type": "code",
   "execution_count": null,
   "metadata": {},
   "outputs": [],
   "source": [
    "print num_tot\n",
    "print poorly_aligned\n",
    "print num_bad_q\n",
    "print notfound"
   ]
  },
  {
   "cell_type": "code",
   "execution_count": 195,
   "metadata": {},
   "outputs": [
    {
     "data": {
      "text/plain": [
       "16901137"
      ]
     },
     "execution_count": 195,
     "metadata": {},
     "output_type": "execute_result"
    }
   ],
   "source": [
    "#print len(set(e[0] for e in umi_oligo_counts))\n",
    "#print len(set(e[1] for e in umi_oligo_counts))\n",
    "\n",
    "#set(v for v in umi_oligo_counts.values())\n",
    "#umi_oligo_counts.keys()[0]\n",
    "\n",
    "#\":\".join(umi_oligo_counts.keys()[0])\n",
    "\n",
    "#umi_oligo_counts.keys()[0]\n",
    "#poorly_aligned\n",
    "\n",
    "len(umi_oligo_pairs)"
   ]
  },
  {
   "cell_type": "code",
   "execution_count": 202,
   "metadata": {},
   "outputs": [
    {
     "data": {
      "text/plain": [
       "('TGGCGGTGGGGGGGG', 9959)"
      ]
     },
     "execution_count": 202,
     "metadata": {},
     "output_type": "execute_result"
    }
   ],
   "source": [
    "list(umi_oligo_pairs)[0]"
   ]
  },
  {
   "cell_type": "code",
   "execution_count": 5,
   "metadata": {},
   "outputs": [
    {
     "ename": "NameError",
     "evalue": "name 'A_BC_OLIGOS_OUT' is not defined",
     "output_type": "error",
     "traceback": [
      "\u001b[0;31m---------------------------------------------------------------------------\u001b[0m",
      "\u001b[0;31mNameError\u001b[0m                                 Traceback (most recent call last)",
      "\u001b[0;32m<ipython-input-5-879a432b2030>\u001b[0m in \u001b[0;36m<module>\u001b[0;34m()\u001b[0m\n\u001b[0;32m----> 1\u001b[0;31m \u001b[0mA_BC_OLIGOS_OUT\u001b[0m\u001b[0;34m\u001b[0m\u001b[0m\n\u001b[0m",
      "\u001b[0;31mNameError\u001b[0m: name 'A_BC_OLIGOS_OUT' is not defined"
     ]
    }
   ],
   "source": [
    "A_BC_OLIGOS_OUT"
   ]
  },
  {
   "cell_type": "code",
   "execution_count": 230,
   "metadata": {},
   "outputs": [],
   "source": [
    "with open(A_BC_OLIGOS_OUT, \"w\") as f:\n",
    "    f.write(\"\\n\".join([\"bc,oligo\"]+[\"{0}, {1}\".format(u,o) for u,o in list(umi_oligo_pairs )]))"
   ]
  },
  {
   "cell_type": "code",
   "execution_count": 222,
   "metadata": {},
   "outputs": [],
   "source": [
    "bc_oligos = list(umi_oligo_pairs)\n",
    "bcs = [e[0] for e in bc_oligos]\n",
    "oligos = [e[1] for e in bc_oligos]\n",
    "df = pd.DataFrame([pd.Series(bcs, name=\"bc\"), pd.Series(oligos,name=\"oligoid\")])\n",
    "\n"
   ]
  },
  {
   "cell_type": "code",
   "execution_count": 219,
   "metadata": {},
   "outputs": [],
   "source": [
    "import pandas as pd\n",
    "positive_controls = pd.read_csv(\"../data/starrseq_transcript_positive_control.csv\")\n"
   ]
  },
  {
   "cell_type": "code",
   "execution_count": 231,
   "metadata": {},
   "outputs": [
    {
     "data": {
      "text/html": [
       "<div>\n",
       "<style scoped>\n",
       "    .dataframe tbody tr th:only-of-type {\n",
       "        vertical-align: middle;\n",
       "    }\n",
       "\n",
       "    .dataframe tbody tr th {\n",
       "        vertical-align: top;\n",
       "    }\n",
       "\n",
       "    .dataframe thead th {\n",
       "        text-align: right;\n",
       "    }\n",
       "</style>\n",
       "<table border=\"1\" class=\"dataframe\">\n",
       "  <thead>\n",
       "    <tr style=\"text-align: right;\">\n",
       "      <th></th>\n",
       "      <th>0</th>\n",
       "      <th>1</th>\n",
       "      <th>2</th>\n",
       "      <th>3</th>\n",
       "      <th>4</th>\n",
       "      <th>5</th>\n",
       "      <th>6</th>\n",
       "      <th>7</th>\n",
       "      <th>8</th>\n",
       "      <th>9</th>\n",
       "      <th>...</th>\n",
       "      <th>16901127</th>\n",
       "      <th>16901128</th>\n",
       "      <th>16901129</th>\n",
       "      <th>16901130</th>\n",
       "      <th>16901131</th>\n",
       "      <th>16901132</th>\n",
       "      <th>16901133</th>\n",
       "      <th>16901134</th>\n",
       "      <th>16901135</th>\n",
       "      <th>16901136</th>\n",
       "    </tr>\n",
       "  </thead>\n",
       "  <tbody>\n",
       "    <tr>\n",
       "      <th>bc</th>\n",
       "      <td>TGGCGGTGGGGGGGG</td>\n",
       "      <td>TGGCGACCGGCCGAG</td>\n",
       "      <td>ATTTGGAGGTGGGGA</td>\n",
       "      <td>GCTTTCATCTCTGAC</td>\n",
       "      <td>GTGGCAAGGTTCAAA</td>\n",
       "      <td>GGATATAAATCGTGG</td>\n",
       "      <td>TCTGATATTTGCGGT</td>\n",
       "      <td>CGACGCATAGTTTCC</td>\n",
       "      <td>CCCTCGGGGCCGATG</td>\n",
       "      <td>TAATAGCTCGCGCGT</td>\n",
       "      <td>...</td>\n",
       "      <td>ACACAACCGCACGCA</td>\n",
       "      <td>TGTTAGCTTCTGCTC</td>\n",
       "      <td>TTGTACTCCTGGTTA</td>\n",
       "      <td>TTTTTCGAGTGTGGC</td>\n",
       "      <td>GTTTACGATCAGTGG</td>\n",
       "      <td>ACGAGCGTCAACGAG</td>\n",
       "      <td>ACGGTAGCTGCGGTG</td>\n",
       "      <td>GCTAGGACAGAGTCG</td>\n",
       "      <td>GGAACACCGGGAATG</td>\n",
       "      <td>ATGTGAGTGGGCGGC</td>\n",
       "    </tr>\n",
       "    <tr>\n",
       "      <th>oligoid</th>\n",
       "      <td>9959</td>\n",
       "      <td>8117</td>\n",
       "      <td>5589</td>\n",
       "      <td>7886</td>\n",
       "      <td>7512</td>\n",
       "      <td>2268</td>\n",
       "      <td>1381</td>\n",
       "      <td>421</td>\n",
       "      <td>687</td>\n",
       "      <td>558</td>\n",
       "      <td>...</td>\n",
       "      <td>687</td>\n",
       "      <td>9433</td>\n",
       "      <td>930</td>\n",
       "      <td>1389</td>\n",
       "      <td>482</td>\n",
       "      <td>9512</td>\n",
       "      <td>4912</td>\n",
       "      <td>310</td>\n",
       "      <td>1990</td>\n",
       "      <td>6457</td>\n",
       "    </tr>\n",
       "  </tbody>\n",
       "</table>\n",
       "<p>2 rows × 16901137 columns</p>\n",
       "</div>"
      ],
      "text/plain": [
       "                0                1                2                3         \\\n",
       "bc       TGGCGGTGGGGGGGG  TGGCGACCGGCCGAG  ATTTGGAGGTGGGGA  GCTTTCATCTCTGAC   \n",
       "oligoid             9959             8117             5589             7886   \n",
       "\n",
       "                4                5                6                7         \\\n",
       "bc       GTGGCAAGGTTCAAA  GGATATAAATCGTGG  TCTGATATTTGCGGT  CGACGCATAGTTTCC   \n",
       "oligoid             7512             2268             1381              421   \n",
       "\n",
       "                8                9              ...                16901127  \\\n",
       "bc       CCCTCGGGGCCGATG  TAATAGCTCGCGCGT       ...         ACACAACCGCACGCA   \n",
       "oligoid              687              558       ...                     687   \n",
       "\n",
       "                16901128         16901129         16901130         16901131  \\\n",
       "bc       TGTTAGCTTCTGCTC  TTGTACTCCTGGTTA  TTTTTCGAGTGTGGC  GTTTACGATCAGTGG   \n",
       "oligoid             9433              930             1389              482   \n",
       "\n",
       "                16901132         16901133         16901134         16901135  \\\n",
       "bc       ACGAGCGTCAACGAG  ACGGTAGCTGCGGTG  GCTAGGACAGAGTCG  GGAACACCGGGAATG   \n",
       "oligoid             9512             4912              310             1990   \n",
       "\n",
       "                16901136  \n",
       "bc       ATGTGAGTGGGCGGC  \n",
       "oligoid             6457  \n",
       "\n",
       "[2 rows x 16901137 columns]"
      ]
     },
     "execution_count": 231,
     "metadata": {},
     "output_type": "execute_result"
    }
   ],
   "source": [
    "df"
   ]
  },
  {
   "cell_type": "code",
   "execution_count": 221,
   "metadata": {},
   "outputs": [
    {
     "data": {
      "text/plain": [
       "66"
      ]
     },
     "execution_count": 221,
     "metadata": {},
     "output_type": "execute_result"
    }
   ],
   "source": [
    "len(positive_controls)"
   ]
  },
  {
   "cell_type": "code",
   "execution_count": 2,
   "metadata": {},
   "outputs": [
    {
     "ename": "NameError",
     "evalue": "name 'positive_controls' is not defined",
     "output_type": "error",
     "traceback": [
      "\u001b[0;31m---------------------------------------------------------------------------\u001b[0m",
      "\u001b[0;31mNameError\u001b[0m                                 Traceback (most recent call last)",
      "\u001b[0;32m<ipython-input-2-5b5a34622c32>\u001b[0m in \u001b[0;36m<module>\u001b[0;34m()\u001b[0m\n\u001b[0;32m----> 1\u001b[0;31m \u001b[0mlen\u001b[0m\u001b[0;34m(\u001b[0m\u001b[0mpositive_controls\u001b[0m\u001b[0;34m)\u001b[0m\u001b[0;34m\u001b[0m\u001b[0m\n\u001b[0m",
      "\u001b[0;31mNameError\u001b[0m: name 'positive_controls' is not defined"
     ]
    }
   ],
   "source": [
    "len(positive_controls)"
   ]
  },
  {
   "cell_type": "code",
   "execution_count": 218,
   "metadata": {},
   "outputs": [
    {
     "name": "stdout",
     "output_type": "stream",
     "text": [
      "30393805\n",
      "163697739\n",
      "41052358\n"
     ]
    },
    {
     "data": {
      "text/plain": [
       "16502676"
      ]
     },
     "execution_count": 218,
     "metadata": {},
     "output_type": "execute_result"
    }
   ],
   "source": [
    "umi_oligo_counts\n",
    "print num_bad_q\n",
    "print num_tot\n",
    "print notfound\n",
    "poorly_aligned\n"
   ]
  },
  {
   "cell_type": "code",
   "execution_count": null,
   "metadata": {},
   "outputs": [],
   "source": []
  }
 ],
 "metadata": {
  "kernelspec": {
   "display_name": "Python 2",
   "language": "python",
   "name": "python2"
  },
  "language_info": {
   "codemirror_mode": {
    "name": "ipython",
    "version": 2
   },
   "file_extension": ".py",
   "mimetype": "text/x-python",
   "name": "python",
   "nbconvert_exporter": "python",
   "pygments_lexer": "ipython2",
   "version": "2.7.15"
  }
 },
 "nbformat": 4,
 "nbformat_minor": 2
}
