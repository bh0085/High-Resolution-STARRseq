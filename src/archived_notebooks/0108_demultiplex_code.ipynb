{
 "cells": [
  {
   "cell_type": "code",
   "execution_count": 32,
   "metadata": {},
   "outputs": [
    {
     "data": {
      "text/plain": [
       "{'DLD1_WT_BR1': 'CTGAAGCT+GCCTCTAT',\n",
       " 'DLD1_WT_BR2': 'TAATGCGC +GCCTCTAT',\n",
       " 'HCT116_Gemcitabine2uM_BR1': 'CGGCTATG+AGGCTATA ',\n",
       " 'HCT116_Gemcitabine2uM_BR2': 'TCCGCGAA+AGGCTATA ',\n",
       " 'HCT116_WT_BR1': 'CTGAAGCT+AGGCTATA ',\n",
       " 'HCT116_WT_BR2': 'TAATGCGC +AGGCTATA ',\n",
       " 'U2OS_WT_BR1': 'CGGCTATG+GCCTCTAT',\n",
       " 'U2OS_WT_BR2': 'TCCGCGAA+GCCTCTAT'}"
      ]
     },
     "execution_count": 32,
     "metadata": {},
     "output_type": "execute_result"
    }
   ],
   "source": [
    "exp_test_strs"
   ]
  },
  {
   "cell_type": "code",
   "execution_count": 13,
   "metadata": {},
   "outputs": [],
   "source": [
    "# \n",
    "from __future__ import division\n",
    "import _config\n",
    "from _config import OUT_PLACE, EXP_DESIGN_2955\n",
    "import sys, os, fnmatch, datetime, subprocess, imp\n",
    "sys.path.append('/cluster/mshen/')\n",
    "import numpy as np\n",
    "from collections import defaultdict\n",
    "from mylib import util, compbio\n",
    "import pandas as pd\n",
    "\n",
    "import itertools as it\n",
    "import re\n",
    "\n",
    "__file__ = \"b_dm_test2\"\n",
    "\n",
    "# Default params\n",
    "inp_dir = OUT_PLACE + 'a_split/'\n",
    "NAME = util.get_fn(__file__)\n",
    "out_dir = OUT_PLACE + NAME + '/'\n",
    "util.ensure_dir_exists(out_dir)\n",
    "\n",
    "exp_design=EXP_DESIGN_2955\n",
    "\n",
    "exp_test_strs = {}\n",
    "for k,r in exp_design.iterrows():\n",
    "    exp_test_strs[r.Name] = \"{0}+{1}\".format(r[\"i7 Index reads\"].strip(),r[\"i5 Index reads\"].strip())\n",
    "\n",
    "##\n",
    "# Functions\n",
    "##\n",
    "def match(r1,r2, h1,h2):   \n",
    "  for k, v in exp_test_strs.items():\n",
    "    try:\n",
    "        idx = h1.index(v)\n",
    "        return k,r1\n",
    "    except ValueError, e:\n",
    "        continue\n",
    "  return \"other\",r1\n",
    "\n",
    "##\n",
    "# primary\n",
    "##\n",
    "def demultiplex(split):\n",
    "  print(\"dm\")\n",
    "  #for inp_fn in [inp_dir + 'Undetermined_AH3W5GBGX9_S0_L00{0}_R1_001_{1}.fastq'.format(k2, split) for k in range(1,5)]:\n",
    "  for name in list(exp_design[\"Name\"]) + ['other']:\n",
    "        util.ensure_dir_exists(out_dir + name)\n",
    "        util.exists_empty_fn(out_dir + name + '/R1_%s.fa' % (split))\n",
    "        util.exists_empty_fn(out_dir + name + '/R2_%s.fa' % (split))\n",
    "\n",
    "    \n",
    "  for snum, sgroup in it.groupby(\n",
    "          sorted(os.listdir(inp_dir),key=lambda x:re.compile(\"(\\d+)\\.fastq\").search(x).groups()[0])\n",
    "      , key=lambda x:re.compile(\"(\\d+)\\.fastq\").search(x).groups()[0]):\n",
    "    \n",
    "\n",
    "    if snum != split: continue\n",
    "    for lnum,lgroup in it.groupby(\n",
    "        sorted(list(sgroup), key=lambda x:int(re.compile(\"_L(\\d+)\").search(x).group(1)))\n",
    "        , key=lambda x:int(re.compile(\"_L(\\d+)\").search(x).group(1))):\n",
    "    \n",
    "\n",
    "        \n",
    "        fns = list(lgroup)\n",
    "        #print fns\n",
    "        #print lnum\n",
    "        read_files =dict([[ int(re.compile(\"R(\\d+)\").search(e).group(1)),e] for e in fns])\n",
    "\n",
    "        inp_fn1 = os.path.join(inp_dir, read_files[1])\n",
    "        inp_fn2 = os.path.join(inp_dir, read_files[2])\n",
    "        \n",
    "        \n",
    "        print \"LANE: {0}, FILES: {1}\".format(lnum, fns)\n",
    "        print(inp_fn1,inp_fn2)\n",
    "        break\n",
    "    \n",
    "        lc = util.line_count(inp_fn1)\n",
    "        num_bad_q, num_tot, num_other = 0, 0, 0\n",
    "        timer = util.Timer(total = lc)\n",
    "        i = -1\n",
    "\n",
    "        \n",
    "        with open(inp_fn1) as f1:\n",
    "          with open(inp_fn2) as f2:\n",
    "            while 1:\n",
    "              i+=1\n",
    "              if i % 1000000 ==0 : print \"{0} records, ({1}%) [{2} bad] [{3} other]\".format(i/4 , 100*float(i) / lc, num_bad_q,num_other)\n",
    "              try: \n",
    "                line1 = f1.next()\n",
    "                line2 = f2.next()\n",
    "              except StopIteration, e:\n",
    "                break\n",
    "            \n",
    "              if i % 4 == 0:\n",
    "                h1 = line1.strip()\n",
    "                h2 = line2.strip()\n",
    "              if i % 4 == 1:\n",
    "                r1 = line1.strip()\n",
    "                r2 = line2.strip()\n",
    "              if i % 4 == 3:\n",
    "                num_tot += 1\n",
    "                qs1 = line1.strip()\n",
    "                qs2 = line2.strip()\n",
    "                for qs in [qs1,qs2]:\n",
    "                    quals = [ord(s)-33 for s in qs]\n",
    "                    if np.mean(quals) < 30:\n",
    "                      num_bad_q += 1\n",
    "                      continue\n",
    "    \n",
    "                demultiplex_id, trimmed_read = match(r1,r2, h1,h2)\n",
    "    \n",
    "                #raise Exception()\n",
    "            \n",
    "                #print demultiplex_id\n",
    "                if demultiplex_id == 'other':\n",
    "                  num_other += 1\n",
    "              \n",
    "                #break\n",
    "             \n",
    "                out1_fn = out_dir +  '%s/R1_%s.fa' % (demultiplex_id, split)\n",
    "                with open(out1_fn, 'a') as f:\n",
    "                  f.write('>' + h1[1:] + '\\n' + r1 + '\\n')\n",
    "                  \n",
    "                out2_fn = out_dir +  '%s/R2_%s.fa' % (demultiplex_id, split)\n",
    "                with open(out2_fn, 'a') as f:\n",
    "                  f.write('>' + h2[1:] + '\\n' + r2 + '\\n')\n",
    "          \n",
    "              #timer.update()\n",
    "    \n",
    "        print 'Rejected %s fraction of reads' % (num_bad_q / num_tot)\n",
    "  return\n",
    "\n",
    "\n"
   ]
  },
  {
   "cell_type": "code",
   "execution_count": 14,
   "metadata": {},
   "outputs": [
    {
     "name": "stdout",
     "output_type": "stream",
     "text": [
      "\n",
      "2019-06-10 12:42:52.154633\n",
      "dm\n",
      "LANE: 1, FILES: ['Undetermined_AH3W5GBGX9_S0_L001_R1_001_1.fastq', 'Undetermined_AH3W5GBGX9_S0_L001_R2_001_1.fastq']\n",
      "('/cluster/bh0085/prj/starr_all/starr/out/a_split/Undetermined_AH3W5GBGX9_S0_L001_R1_001_1.fastq', '/cluster/bh0085/prj/starr_all/starr/out/a_split/Undetermined_AH3W5GBGX9_S0_L001_R2_001_1.fastq')\n",
      "2019-06-10 12:42:52.169898\n",
      "Completed in 0:00:00.015368 \n",
      "\n"
     ]
    },
    {
     "data": {
      "text/plain": [
       "'/cluster/bh0085/prj/starr_all/starr/out/b_dm_test2/'"
      ]
     },
     "execution_count": 14,
     "metadata": {},
     "output_type": "execute_result"
    }
   ],
   "source": [
    "main(split='1')"
   ]
  },
  {
   "cell_type": "code",
   "execution_count": 4,
   "metadata": {},
   "outputs": [
    {
     "name": "stdout",
     "output_type": "stream",
     "text": [
      "\n",
      "2019-06-10 12:35:57.107417\n",
      "2019-06-10 12:35:57.182342\n",
      "Completed in 0:00:00.075249 \n",
      "\n"
     ]
    }
   ],
   "source": [
    "\n",
    "##\n",
    "# Main\n",
    "##\n",
    "@util.time_dec\n",
    "def main(split = ''):\n",
    "  if split == '':\n",
    "    gen_qsubs()\n",
    "    return\n",
    "\n",
    "  demultiplex(split)\n",
    "  return out_dir\n",
    "\n",
    "\n",
    "\n",
    "\n",
    "if __name__ == '__main__':\n",
    "  if len(sys.argv) > 1:\n",
    "   main(sys.argv[1])\n",
    "  else:\n",
    "    main()"
   ]
  }
 ],
 "metadata": {
  "kernelspec": {
   "display_name": "Python 2",
   "language": "python",
   "name": "python2"
  },
  "language_info": {
   "codemirror_mode": {
    "name": "ipython",
    "version": 2
   },
   "file_extension": ".py",
   "mimetype": "text/x-python",
   "name": "python",
   "nbconvert_exporter": "python",
   "pygments_lexer": "ipython2",
   "version": "2.7.15"
  }
 },
 "nbformat": 4,
 "nbformat_minor": 2
}
