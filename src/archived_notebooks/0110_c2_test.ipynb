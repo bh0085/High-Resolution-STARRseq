{
 "cells": [
  {
   "cell_type": "code",
   "execution_count": 3,
   "metadata": {},
   "outputs": [],
   "source": [
    "import pandas as pd\n",
    "import numpy as np\n",
    "import itertools as it\n",
    "import os,re\n",
    "from collections import defaultdict"
   ]
  },
  {
   "cell_type": "code",
   "execution_count": 8,
   "metadata": {},
   "outputs": [],
   "source": [
    "import sys\n",
    "sys.path.append(\"/cluster/bh0085/mybio\")\n",
    "import ipnb_utils\n",
    "\n",
    "#dependencies from elsewhere in the C libraries\n",
    "#from c_create_dictionaries import list_umis\n",
    "from _config import DATA_DIR, OUT_DIR\n",
    "\n",
    "inp_dir = os.path.join(OUT_DIR, \"b_demultiplex\")\n"
   ]
  },
  {
   "cell_type": "code",
   "execution_count": 46,
   "metadata": {},
   "outputs": [
    {
     "name": "stdout",
     "output_type": "stream",
     "text": [
      "1 HCT116_WT_BR1\n"
     ]
    }
   ],
   "source": [
    "split = \"1\"\n",
    "exp = exps[0]\n",
    "f_infos = dict([[fn,re.compile(\"(?P<exp>[^/]*)/R(?P<rnum>[12])_(?P<split>\\d+).fa\").search(fn).groupdict()] \n",
    "                 for fn in fa_found])\n",
    "\n",
    "print split,  exp\n",
    "f1 = [k for k,v in f_infos.items() if v[\"rnum\"] == \"1\" and v[\"split\"]==split and v[\"exp\"]==exp][0] \n",
    "f2 = [k for k,v in f_infos.items() if v[\"rnum\"] == \"2\" and v[\"split\"]==split and v[\"exp\"]==exp][0] \n",
    "\n",
    "\n",
    "nl = 0\n",
    "nacc = 0\n",
    "nnreject = 0\n",
    "umis = []\n",
    "t_umis = []\n",
    "with open(f1) as f1open:\n",
    "  with open(f2) as f2open:\n",
    "    i = -1\n",
    "    while 1:\n",
    "        i+=1\n",
    "        try:\n",
    "            l1 = f1open.next()\n",
    "            l2 = f2open.next()\n",
    "        except StopIteration:\n",
    "            break\n",
    "\n",
    "        if i %2 == 0: continue\n",
    "        if \"N\" in l2[:16]:\n",
    "            nnreject +=1\n",
    "            continue\n",
    "        umi = l2[:15].strip()\n",
    "        umis.append(umi)          \n",
    "        t_umi = l1[:10].strip()\n",
    "        t_umis.append(t_umi)\n",
    "        nacc+=1\n"
   ]
  },
  {
   "cell_type": "code",
   "execution_count": 51,
   "metadata": {},
   "outputs": [
    {
     "data": {
      "text/plain": [
       "'GTCATGCAGACTTGC'"
      ]
     },
     "execution_count": 51,
     "metadata": {},
     "output_type": "execute_result"
    }
   ],
   "source": [
    "umis[0]"
   ]
  },
  {
   "cell_type": "code",
   "execution_count": 13,
   "metadata": {},
   "outputs": [],
   "source": [
    "\n",
    "fa_found = []\n",
    "def wfun(arg,dirname,fnames):\n",
    "    for f in fnames:\n",
    "        if f[-2:]==\"fa\":\n",
    "            fa_found.append(os.path.join(dirname,f))\n",
    "os.path.walk(\"../out/b_demultiplex/\",wfun,None)\n",
    "  \n",
    "\n",
    "def list_umis(split=\"0\",exp=\"HCT116_Gemcitabine2uM_BR2\"):\n",
    "    f_infos = dict([[fn,re.compile(\"(?P<exp>[^/]*)/R(?P<rnum>[12])_(?P<split>\\d+).fa\").search(fn).groupdict()] \n",
    "                     for fn in fa_found])\n",
    "    f1 = [k for k,v in f_infos.items() if v[\"rnum\"] == \"1\" and v[\"split\"]==split and v[\"exp\"]==exp][0] \n",
    "    f2 = [k for k,v in f_infos.items() if v[\"rnum\"] == \"2\" and v[\"split\"]==split and v[\"exp\"]==exp][0] \n",
    "\n",
    "\n",
    "    nl = 0\n",
    "    nacc = 0\n",
    "    nnreject = 0\n",
    "    umis = []\n",
    "    t_umis = []\n",
    "    with open(f1) as f1open:\n",
    "      with open(f2) as f2open:\n",
    "        i = -1\n",
    "        while 1:\n",
    "            i+=1\n",
    "            try:\n",
    "                l1 = f1open.next()\n",
    "                l2 = f2open.next()\n",
    "            except StopIteration:\n",
    "                break\n",
    "\n",
    "            if i %2 == 0: continue\n",
    "            if \"N\" in l2[:16]:\n",
    "                nnreject +=1\n",
    "                continue\n",
    "            umi = l2[:15].strip()\n",
    "            umis.append(umi)          \n",
    "            t_umi = l1[:10].strip()\n",
    "            t_umis.append(t_umi)\n",
    "            nacc+=1\n",
    "    return umis, t_umis, {\"nacc\":nacc, \"nnreject\":nnreject}"
   ]
  },
  {
   "cell_type": "code",
   "execution_count": 55,
   "metadata": {},
   "outputs": [
    {
     "data": {
      "text/plain": [
       "499603549"
      ]
     },
     "execution_count": 55,
     "metadata": {},
     "output_type": "execute_result"
    }
   ],
   "source": [
    "sum([len(e) for v in all_bcs2umis.values() for e in v.values()])\n",
    "#40m for one experiment\n",
    "#499m for all?"
   ]
  },
  {
   "cell_type": "code",
   "execution_count": 31,
   "metadata": {},
   "outputs": [
    {
     "name": "stdout",
     "output_type": "stream",
     "text": [
      "11455850\n",
      "3085892\n"
     ]
    }
   ],
   "source": [
    "print len(umis)\n",
    "print len(t_umis)"
   ]
  },
  {
   "cell_type": "code",
   "execution_count": null,
   "metadata": {},
   "outputs": [],
   "source": []
  },
  {
   "cell_type": "code",
   "execution_count": 19,
   "metadata": {},
   "outputs": [
    {
     "name": "stdout",
     "output_type": "stream",
     "text": [
      "HCT116_WT_BR1\n",
      "0\n",
      "1\n",
      "2\n",
      "3\n",
      "4\n",
      "5\n",
      "6\n",
      "7\n",
      "8\n",
      "9\n",
      "10\n",
      "11\n",
      "12\n",
      "13\n",
      "14\n",
      "HCT116_WT_BR2\n",
      "0\n",
      "1\n",
      "2\n",
      "3\n",
      "4\n",
      "5\n",
      "6\n",
      "7\n",
      "8\n",
      "9\n",
      "10\n",
      "11\n",
      "12\n",
      "13\n",
      "14\n",
      "HCT116_Gemcitabine2uM_BR1\n",
      "0\n",
      "1\n",
      "2\n",
      "3\n",
      "4\n",
      "5\n",
      "6\n",
      "7\n",
      "8\n",
      "9\n",
      "10\n",
      "11\n",
      "12\n",
      "13\n",
      "14\n",
      "HCT116_Gemcitabine2uM_BR2\n",
      "0\n",
      "1\n",
      "2\n",
      "3\n",
      "4\n",
      "5\n",
      "6\n",
      "7\n",
      "8\n",
      "9\n",
      "10\n",
      "11\n",
      "12\n",
      "13\n",
      "14\n",
      "DLD1_WT_BR1\n",
      "0\n",
      "1\n",
      "2\n",
      "3\n",
      "4\n",
      "5\n",
      "6\n",
      "7\n",
      "8\n",
      "9\n",
      "10\n",
      "11\n",
      "12\n",
      "13\n",
      "14\n",
      "DLD1_WT_BR2\n",
      "0\n",
      "1\n",
      "2\n",
      "3\n",
      "4\n",
      "5\n",
      "6\n",
      "7\n",
      "8\n",
      "9\n",
      "10\n",
      "11\n",
      "12\n",
      "13\n",
      "14\n",
      "U2OS_WT_BR1\n",
      "0\n",
      "1\n",
      "2\n",
      "3\n",
      "4\n",
      "5\n",
      "6\n",
      "7\n",
      "8\n",
      "9\n",
      "10\n",
      "11\n",
      "12\n",
      "13\n",
      "14\n",
      "U2OS_WT_BR2\n",
      "0\n",
      "1\n",
      "2\n",
      "3\n",
      "4\n",
      "5\n",
      "6\n",
      "7\n",
      "8\n",
      "9\n",
      "10\n",
      "11\n",
      "12\n",
      "13\n",
      "14\n",
      "other\n",
      "0\n",
      "1\n",
      "2\n",
      "3\n",
      "4\n",
      "5\n",
      "6\n",
      "7\n",
      "8\n",
      "9\n",
      "10\n",
      "11\n",
      "12\n",
      "13\n",
      "14\n"
     ]
    }
   ],
   "source": [
    "all_bcs2umis = dict()\n",
    "\n",
    "exps = os.listdir(inp_dir)\n",
    "total_count = 0 \n",
    "for exp in exps:\n",
    "    print exp\n",
    "    all_bcs2umis[exp] = defaultdict(list)\n",
    "    for split in [str(e) for e in range(15)]:\n",
    "        print split\n",
    "        \n",
    "\n",
    "        bcs,umis,stats = list_umis(split = split, exp =exp)\n",
    "        for i,bc in enumerate(bcs):\n",
    "            all_bcs2umis[exp][bc].append(umis[i])"
   ]
  },
  {
   "cell_type": "code",
   "execution_count": 27,
   "metadata": {},
   "outputs": [
    {
     "data": {
      "text/plain": [
       "9"
      ]
     },
     "execution_count": 27,
     "metadata": {},
     "output_type": "execute_result"
    }
   ],
   "source": [
    "len(all_bcs2umis)"
   ]
  },
  {
   "cell_type": "code",
   "execution_count": 30,
   "metadata": {},
   "outputs": [
    {
     "data": {
      "text/plain": [
       "9"
      ]
     },
     "execution_count": 30,
     "metadata": {},
     "output_type": "execute_result"
    }
   ],
   "source": [
    "len(all_bcs2umis)"
   ]
  },
  {
   "cell_type": "code",
   "execution_count": 33,
   "metadata": {},
   "outputs": [
    {
     "data": {
      "text/plain": [
       "7961056"
      ]
     },
     "execution_count": 33,
     "metadata": {},
     "output_type": "execute_result"
    }
   ],
   "source": [
    "len(all_bcs2umis.values()[0])"
   ]
  },
  {
   "cell_type": "code",
   "execution_count": 29,
   "metadata": {},
   "outputs": [
    {
     "name": "stdout",
     "output_type": "stream",
     "text": [
      "DLD1_WT_BR2\n",
      "DLD1_WT_BR1\n",
      "HCT116_WT_BR2\n",
      "HCT116_WT_BR1\n",
      "U2OS_WT_BR1\n",
      "other\n",
      "U2OS_WT_BR2\n",
      "HCT116_Gemcitabine2uM_BR2\n",
      "HCT116_Gemcitabine2uM_BR1\n"
     ]
    }
   ],
   "source": [
    "for k,v in all_bcs2umis.iteritems():\n",
    "    print k\n",
    "    with open(\"../data/all_{}_bcs2umis.json\".format(k), \"w\") as f:\n",
    "        f.write(json.dumps(v))\n",
    "    "
   ]
  },
  {
   "cell_type": "code",
   "execution_count": null,
   "metadata": {},
   "outputs": [],
   "source": [
    "import json\n",
    "with open(\"../data/all_bcs2umis.json\", \"w\") as f:\n",
    "    f.write(json.dumps(all_bcs2umis))"
   ]
  },
  {
   "cell_type": "code",
   "execution_count": null,
   "metadata": {},
   "outputs": [],
   "source": [
    "print \"HI\""
   ]
  },
  {
   "cell_type": "markdown",
   "metadata": {},
   "source": [
    "# PLOTTING"
   ]
  }
 ],
 "metadata": {
  "kernelspec": {
   "display_name": "Python 2",
   "language": "python",
   "name": "python2"
  },
  "language_info": {
   "codemirror_mode": {
    "name": "ipython",
    "version": 2
   },
   "file_extension": ".py",
   "mimetype": "text/x-python",
   "name": "python",
   "nbconvert_exporter": "python",
   "pygments_lexer": "ipython2",
   "version": "2.7.15"
  }
 },
 "nbformat": 4,
 "nbformat_minor": 2
}
