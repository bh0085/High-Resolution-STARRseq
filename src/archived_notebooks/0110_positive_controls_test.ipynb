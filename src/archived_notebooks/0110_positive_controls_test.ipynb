{
 "cells": [
  {
   "cell_type": "code",
   "execution_count": 40,
   "metadata": {},
   "outputs": [
    {
     "data": {
      "text/plain": [
       "<module '_config' from '_config.pyc'>"
      ]
     },
     "execution_count": 40,
     "metadata": {},
     "output_type": "execute_result"
    }
   ],
   "source": [
    "import _config\n",
    "reload(_config)"
   ]
  },
  {
   "cell_type": "code",
   "execution_count": 103,
   "metadata": {},
   "outputs": [
    {
     "name": "stdout",
     "output_type": "stream",
     "text": [
      "R1_1.fa\n",
      "R2_1.fa\n",
      "2 729478\n",
      "R1_1.fa\n",
      "R2_1.fa\n",
      "0 672434\n",
      "R1_1.fa\n",
      "R2_1.fa\n",
      "0 661295\n",
      "R1_1.fa\n",
      "R2_1.fa\n",
      "0 669492\n",
      "R1_1.fa\n",
      "R2_1.fa\n",
      "2 508167\n",
      "R1_1.fa\n",
      "R2_1.fa\n",
      "0 652064\n",
      "R1_1.fa\n",
      "R2_1.fa\n",
      "0 668459\n",
      "R1_1.fa\n",
      "R2_1.fa\n",
      "1 719404\n",
      "R1_1.fa\n",
      "R2_1.fa\n",
      "0 0\n"
     ]
    }
   ],
   "source": [
    "import os, sys, re\n",
    "import pandas as pd\n",
    "import numpy as np\n",
    "\n",
    "from _config import OUT_DIR, UMI_OLIGO_CORRECTED_DICT_FILE\n",
    "\n",
    "#TEST ONLY\n",
    "__file__ = \"c_test\"\n",
    "\n",
    "inp_script = \"b_demultiplex\"\n",
    "inp_dir = os.path.join(OUT_DIR,inp_script)\n",
    "out_dir = os.path.join(OUT_DIR,__file__)\n",
    "\n",
    "umi_oligo_df_1 = pd.read_csv(UMI_OLIGO_CORRECTED_DICT_FILE,index_col=0)\n",
    "positive_controls = pd.read_csv(\"../data/SHE2901_positive_controls_barcoded.csv\")\n",
    "umi_oligo_df = pd.DataFrame(columns=[\"oligo_seq\"])\n",
    "for k,r in positive_controls.iterrows():\n",
    "    try:\n",
    "        barcodes = r.barcode.split(\",\")\n",
    "    except AttributeError:\n",
    "        continue\n",
    "    for b in barcodes:\n",
    "        umi_oligo_df = umi_oligo_df.append(pd.Series({\"oligo_seq\":r.Sequence},name=b))\n",
    "                        \n",
    "\n",
    "umi_counts = dict([(k,0) for k in umi_oligo_df.index])\n",
    "\n",
    "def rc(seq):\n",
    "    return \"\".join([{\"A\":\"T\",\n",
    "                   \"T\":\"A\",\n",
    "                   \"G\":\"C\",\n",
    "                   \"C\":\"G\"}[s] for s in seq][::-1])\n",
    "\n",
    "#def map_oligos(split):\n",
    "split =1\n",
    "for exp_name in os.listdir(inp_dir):\n",
    "        exp_dir = os.path.join(inp_dir, exp_name)\n",
    "        exp_files = os.listdir(exp_dir)\n",
    "        fns_plus = dict([[fn, re.compile(\"R(\\d)_(\\d+).fa\").search(fn).groups()] for fn in exp_files])\n",
    "        fns_plus = dict([[k,v] for k,v in  fns_plus.items() if int(v[1]) == int(split) ])\n",
    "        R1_file = [k for k,v in fns_plus.items() if int(v[0])==1][0]                              \n",
    "        R2_file = [k for k,v in fns_plus.items() if int(v[0])==2][0]                             \n",
    "        \n",
    "        badKeys = 0\n",
    "        goodKeys = 0\n",
    "        i = -1\n",
    "        print R1_file\n",
    "        print R2_file\n",
    "        with open(os.path.join(exp_dir,R1_file)) as f1:\n",
    "          with open(os.path.join(exp_dir,R2_file)) as f2:\n",
    "            while 1:\n",
    "                if i > 10000000: \n",
    "                    print goodKeys, badKeys\n",
    "                    break\n",
    "                i +=1\n",
    "                if i %2 == 0:                    \n",
    "                    try:\n",
    "                        h1 = f1.next().strip()\n",
    "                        h2 = f2.next().strip()\n",
    "                    except StopIteration:\n",
    "                        print goodKeys, badKeys\n",
    "                        break\n",
    "                    \n",
    "                if i %2 == 1:\n",
    "                    try:\n",
    "                        l1 = f1.next().strip()\n",
    "                        l2 = f2.next().strip()\n",
    "                    except StopIteration:\n",
    "                        print goodKeys, badKeys\n",
    "                        break\n",
    "                    \n",
    "                    if \"N\" in l2: continue\n",
    "                    umi = rc(l2[0:15])\n",
    "                    \n",
    "                    \n",
    "\n",
    "                    #print umi\n",
    "                    #print umi_oligo_df[\"umi\"]\n",
    "                    try:\n",
    "                        #umi_row = umi_oligo_df.loc[umi]\n",
    "                        if umi in umi_counts:\n",
    "                            umi_counts[umi] += 1\n",
    "                            goodKeys+=1\n",
    "                        else:\n",
    "                            badKeys+=1\n",
    "                        continue\n",
    "                    except KeyError, e:\n",
    "                        badKeys += 1\n",
    "                        continue\n",
    "                    \n",
    "                    #print umi_row()\n",
    "                    #raise Exception()\n",
    "                    #break"
   ]
  },
  {
   "cell_type": "code",
   "execution_count": 90,
   "metadata": {},
   "outputs": [
    {
     "data": {
      "text/plain": [
       "29.336661100387573"
      ]
     },
     "execution_count": 90,
     "metadata": {},
     "output_type": "execute_result"
    }
   ],
   "source": [
    "float(45000) / 4**15 * 700000"
   ]
  }
 ],
 "metadata": {
  "kernelspec": {
   "display_name": "Python 2",
   "language": "python",
   "name": "python2"
  },
  "language_info": {
   "codemirror_mode": {
    "name": "ipython",
    "version": 2
   },
   "file_extension": ".py",
   "mimetype": "text/x-python",
   "name": "python",
   "nbconvert_exporter": "python",
   "pygments_lexer": "ipython2",
   "version": "2.7.15"
  }
 },
 "nbformat": 4,
 "nbformat_minor": 2
}
