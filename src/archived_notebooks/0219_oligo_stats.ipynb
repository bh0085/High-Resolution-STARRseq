{
 "cells": [
  {
   "cell_type": "code",
   "execution_count": 15,
   "metadata": {},
   "outputs": [],
   "source": [
    "import os, re, sys, json\n",
    "import numpy as np, pandas as pd\n",
    "import _config\n",
    "reload (_config)\n",
    "from _config import SHE3202_FQ_FILES, EXP_DESIGN_2901, OLIGO_LIBRARY, SHE3202_DIR, A_BC_OLIGOS_OUT, POSITIVE_CONTROLS_FILE\n",
    "\n",
    "\n"
   ]
  },
  {
   "cell_type": "code",
   "execution_count": null,
   "metadata": {},
   "outputs": [],
   "source": [
    "prnt OLI"
   ]
  },
  {
   "cell_type": "code",
   "execution_count": 126,
   "metadata": {},
   "outputs": [
    {
     "name": "stdout",
     "output_type": "stream",
     "text": [
      "SHE3202-STARRseqNextera-PE_AHGTJWAFXY_S1_L002_1.json\n"
     ]
    }
   ],
   "source": [
    "\n",
    "\n",
    "from _config import DATA_DIR, OUT_PLACE, N_SPLITS, QSUBS_DIR, EXP_NAMES\n",
    "TX_INP_DIR = os.path.join(OUT_PLACE, \"c0_bin_transcript_umis\")\n",
    "OLIGO_INP_DIR = os.path.join(OUT_PLACE, \"b1_demultiplex_oligos\")\n",
    "\n",
    "\n",
    "#load oligo library from experimental design\n",
    "oligos_lib = OLIGO_LIBRARY\n",
    "oligos_lib[\"id\"] = oligos_lib.index\n",
    "positive_controls = pd.read_csv(POSITIVE_CONTROLS_FILE)\n",
    "\n",
    "\n",
    "split = \"1\"\n",
    "inp_dir = \"../out/b1_demultiplex_oligos/\"\n",
    "merged_results = pd.DataFrame()\n",
    "tx_discovery_rates = []\n",
    "oligo_mapping_success_rates = []\n",
    "total_txs = 0\n",
    "total_oligos = 0\n",
    "\n",
    "\n",
    "\n",
    "\n",
    "#load barcode-matched umis from dictionary reads\n",
    "for oligo_file in os.listdir(OLIGO_INP_DIR):\n",
    "    #file_format = \"../out/b1_demultiplex_oligos/20190320-100XSTARRseq-Nextera-PE_HKNM2AFXY_S1_L001_3.json\"\n",
    "    if not (\"_\"+split+\".json\" in oligo_file):\n",
    "        continue\n",
    "    \n",
    "\n",
    "    \n",
    "    print(oligo_file)\n",
    "    \n",
    "    a_output2 = pd.read_csv(os.path.join(inp_dir,oligo_file))\n",
    "    a_output2 = a_output2.rename({\"umi\":\"bc\"}, axis = \"columns\")\n",
    "    a_output_15 = a_output2.loc[a_output2.bc.str.len() == 15]\n",
    "    total_oligos+= len(a_output2)\n",
    "    \n",
    "    for k, ogroup in a_output_15.groupby(a_output_15.bc.str.slice(0,3)):\n",
    "        for exp in EXP_NAMES:\n",
    "    \n",
    "            tx_file = os.path.join(TX_INP_PATH,\"{}_{}.csv\".format(exp,k))\n",
    "            tx_subdict_df = pd.read_csv(tx_file)\n",
    "            tx_subdict_df[\"exp\"] = exp\n",
    "            total_txs += len(tx_subdict_df)\n",
    "            merged_results = merged_results.append(pd.merge(tx_subdict_df,ogroup,on=\"bc\"))\n",
    "                                      \n",
    "\n",
    "            oligo_mapping_success_rates.append(float(len(merged_results)) / len(ogroup))\n",
    "            tx_discovery_rates.append(float(len(merged_results)) / len(tx_subdict_df))\n",
    "        \n",
    "            break\n",
    "        break\n",
    "    merged_results.to_csv(os.path.join(OUT_DIR,OLIGO_FILE))\n",
    "    break"
   ]
  },
  {
   "cell_type": "code",
   "execution_count": 14,
   "metadata": {},
   "outputs": [],
   "source": [
    "\n",
    "OLIGO_INP_DIR = os.path.join(OUT_PLACE, \"c0_bin_transcript_umis\")\n",
    "TX_INP_DIR = os.path.join(OUT_PLACE, \"b1_demultiplex_transcripts\")\n",
    "\n",
    "\n",
    "#load oligo library from experimental design\n",
    "oligos_lib = OLIGO_LIBRARY\n",
    "oligos_lib[\"id\"] = oligos_lib.index\n",
    "positive_controls = pd.read_csv(POSITIVE_CONTROLS_FILE)\n",
    "\n",
    "\n",
    "split = \"1\"\n",
    "inp_dir = \"../out/b1_demultiplex_oligos/\"\n",
    "\n",
    "#load barcode-matched umis from dictionary reads\n",
    "for oligo_file in os.listdir(OLIGO_INP_DIR):\n",
    "    #file_format = \"../out/b1_demultiplex_oligos/20190320-100XSTARRseq-Nextera-PE_HKNM2AFXY_S1_L001_3.json\"\n",
    "    if !(\"_\"+split+\".json\" in oligo_file):\n",
    "        continue\n",
    "    \n",
    "    \n",
    "    a_output2 = pd.read_csv(os.path.join(inp_dir,oligo_file))\n",
    "    a_output_15 = a_output2.loc[a_output2.bc.str.len() == 15]\n",
    "    \n",
    "    for k, ogroup in a_output_15.groupby(a_output_15.bc.str.slice(0,3)):\n",
    "        for exp in EXP_NAMES:\n",
    "\n",
    "            tx_file = os.path.join(TX_INP_PATH,\"{}_{}.csv\".format(exp,k))\n",
    "            tx_subdict_df = pd.read_csv(tx_file)\n",
    "            tx_subdict_df[\"exp\"] = exp\n",
    "\n",
    "            break\n",
    "        break\n",
    "    break\n",
    "\n",
    "        \n",
    "    #recover the list of bc_umi edges from the transcription data\n",
    "    #this takes a long time\n",
    "    print \"loading transcripts\"\n",
    "    #with open(\"../data/all_bcs2umis.json\") as f:\n",
    "    #    umi_bcs_json = json.load(f)\n",
    "\n",
    "    print \"getting oligos\"\n",
    "    unique_oligos = a_output.oligo.unique()   \n",
    "    print \"computing keys\"\n",
    "    print \"done with keys\"\n",
    "    #this command takes a very long time...\n",
    "    unique_bcs =  [k for k,g in a_output.groupby(\"bc\",) if len(g) == 1]\n",
    "    unique_bcs_set = set(unique_bcs)\n",
    "    unique_bc_oligos = a_output.loc[a_output.bc.isin(unique_bcs_set) ]\n",
    "\n"
   ]
  },
  {
   "cell_type": "code",
   "execution_count": null,
   "metadata": {},
   "outputs": [],
   "source": [
    "a_"
   ]
  },
  {
   "cell_type": "code",
   "execution_count": 68,
   "metadata": {},
   "outputs": [
    {
     "data": {
      "text/plain": [
       "15    408548\n",
       "14      2342\n",
       "13       285\n",
       "12        86\n",
       "11        42\n",
       "9         29\n",
       "10        23\n",
       "7         14\n",
       "8         13\n",
       "6          6\n",
       "4          4\n",
       "5          3\n",
       "3          2\n",
       "2          1\n",
       "1          1\n",
       "Name: bc, dtype: int64"
      ]
     },
     "execution_count": 68,
     "metadata": {},
     "output_type": "execute_result"
    }
   ],
   "source": [
    "a_output.bc.apply(lambda x: len(x)).value_counts()"
   ]
  },
  {
   "cell_type": "code",
   "execution_count": null,
   "metadata": {},
   "outputs": [],
   "source": [
    "a_output.bc.str.len"
   ]
  },
  {
   "cell_type": "code",
   "execution_count": 73,
   "metadata": {},
   "outputs": [
    {
     "data": {
      "text/plain": [
       "<bound method StringMethods.len of <pandas.core.strings.StringMethods object at 0x7fa950cd7450>>"
      ]
     },
     "execution_count": 73,
     "metadata": {},
     "output_type": "execute_result"
    }
   ],
   "source": [
    "a_output.bc.str.len"
   ]
  },
  {
   "cell_type": "code",
   "execution_count": 75,
   "metadata": {},
   "outputs": [],
   "source": [
    "reload(_config)\n",
    "\n",
    "\n",
    "from _config import EXP_NAMES\n",
    "TX_INP_PATH = \"../out/c0_bin_transcript_umis/\"\n",
    "\n",
    "a_output_15 = a_output.loc[a_output.bc.str.len() == 15]\n",
    "for k, ogroup in a_output_15.groupby(a_output_15.bc.str.slice(0,3)):\n",
    "    for exp in EXP_NAMES:\n",
    "        \n",
    "        tx_file = os.path.join(TX_INP_PATH,\"{}_{}.csv\".format(exp,k))\n",
    "        tx_subdict_df = pd.read_csv(tx_file)\n",
    "        tx_subdict_df[\"exp\"] = exp\n",
    "        \n",
    "        break"
   ]
  },
  {
   "cell_type": "code",
   "execution_count": null,
   "metadata": {},
   "outputs": [],
   "source": [
    "tx_subdict_df"
   ]
  },
  {
   "cell_type": "code",
   "execution_count": null,
   "metadata": {},
   "outputs": [],
   "source": []
  },
  {
   "cell_type": "code",
   "execution_count": 22,
   "metadata": {},
   "outputs": [],
   "source": [
    "a_output= a_output.rename({\"umi\":\"bc\"}, axis = \"columns\")"
   ]
  },
  {
   "cell_type": "code",
   "execution_count": 24,
   "metadata": {},
   "outputs": [],
   "source": [
    "\n",
    "#this command takes a very long time...\n",
    "unique_bcs =  [k for k,g in a_output.groupby(\"bc\",) if len(g) == 1]\n",
    "unique_bcs_set = set(unique_bcs)\n",
    "unique_bc_oligos = a_output.loc[a_output.bc.isin(unique_bcs_set) ]"
   ]
  },
  {
   "cell_type": "code",
   "execution_count": 45,
   "metadata": {},
   "outputs": [],
   "source": [
    "\n",
    "#THIS FUNCTION GETS TRANSCRIPTS!!!!\n",
    "fa_found = []\n",
    "def wfun(arg,dirname,fnames):\n",
    "    for f in fnames:\n",
    "        if f[-2:]==\"fa\":\n",
    "            fa_found.append(os.path.join(dirname,f))\n",
    "            \n",
    "walkeroo = os.walk(\"../out/b0_demultiplex_transcripts/\",wfun, None)\n",
    "  \n"
   ]
  },
  {
   "cell_type": "code",
   "execution_count": 47,
   "metadata": {},
   "outputs": [],
   "source": []
  },
  {
   "cell_type": "code",
   "execution_count": 51,
   "metadata": {},
   "outputs": [],
   "source": []
  },
  {
   "cell_type": "code",
   "execution_count": 50,
   "metadata": {},
   "outputs": [
    {
     "data": {
      "text/plain": [
       "['../out/b0_demultiplex_transcripts/Undetermined_AH3W5GBGX9_S0_L001/HCT116_WT_BR1/R1_0.fa',\n",
       " '../out/b0_demultiplex_transcripts/Undetermined_AH3W5GBGX9_S0_L001/HCT116_WT_BR1/R2_0.fa',\n",
       " '../out/b0_demultiplex_transcripts/Undetermined_AH3W5GBGX9_S0_L001/HCT116_WT_BR1/R1_3.fa',\n",
       " '../out/b0_demultiplex_transcripts/Undetermined_AH3W5GBGX9_S0_L001/HCT116_WT_BR1/R2_3.fa',\n",
       " '../out/b0_demultiplex_transcripts/Undetermined_AH3W5GBGX9_S0_L001/HCT116_WT_BR1/R1_11.fa',\n",
       " '../out/b0_demultiplex_transcripts/Undetermined_AH3W5GBGX9_S0_L001/HCT116_WT_BR1/R2_11.fa',\n",
       " '../out/b0_demultiplex_transcripts/Undetermined_AH3W5GBGX9_S0_L001/HCT116_WT_BR1/R1_2.fa',\n",
       " '../out/b0_demultiplex_transcripts/Undetermined_AH3W5GBGX9_S0_L001/HCT116_WT_BR1/R2_2.fa',\n",
       " '../out/b0_demultiplex_transcripts/Undetermined_AH3W5GBGX9_S0_L001/HCT116_WT_BR1/R1_14.fa',\n",
       " '../out/b0_demultiplex_transcripts/Undetermined_AH3W5GBGX9_S0_L001/HCT116_WT_BR1/R1_8.fa']"
      ]
     },
     "execution_count": 50,
     "metadata": {},
     "output_type": "execute_result"
    }
   ],
   "source": []
  },
  {
   "cell_type": "code",
   "execution_count": null,
   "metadata": {},
   "outputs": [],
   "source": [
    "for o in walkeroo:\n",
    "    print(o)"
   ]
  },
  {
   "cell_type": "code",
   "execution_count": 25,
   "metadata": {},
   "outputs": [
    {
     "name": "stdout",
     "output_type": "stream",
     "text": [
      "DLD1_WT_BR2\n",
      "loading\n",
      "done loading\n",
      "DLD1_WT_BR1\n",
      "loading\n",
      "done loading\n",
      "HCT116_WT_BR2\n",
      "loading\n",
      "done loading\n",
      "HCT116_WT_BR1\n",
      "loading\n",
      "done loading\n",
      "U2OS_WT_BR1\n",
      "loading\n",
      "done loading\n",
      "other\n",
      "loading\n",
      "done loading\n",
      "U2OS_WT_BR2\n",
      "loading\n",
      "done loading\n",
      "HCT116_Gemcitabine2uM_BR2\n",
      "loading\n",
      "done loading\n",
      "HCT116_Gemcitabine2uM_BR1\n",
      "loading\n",
      "done loading\n"
     ]
    }
   ],
   "source": [
    "sxs = 0\n",
    "fails = 0\n",
    "\n",
    "all_shared_bcs = set()\n",
    "exps = [e.strip() for e in \"\"\"DLD1_WT_BR2\n",
    "DLD1_WT_BR1\n",
    "HCT116_WT_BR2\n",
    "HCT116_WT_BR1\n",
    "U2OS_WT_BR1\n",
    "other\n",
    "U2OS_WT_BR2\n",
    "HCT116_Gemcitabine2uM_BR2\n",
    "HCT116_Gemcitabine2uM_BR1\"\"\".splitlines()]\n",
    "oligo_info = pd.DataFrame(index=[(exp,o) for o in unique_oligos for exp in exps])\n",
    "\n",
    "oligos = unique_bc_oligos.groupby(\"oligo\")\n",
    "for exp in exps:\n",
    "    print exp\n",
    "    print \"loading\"\n",
    "    with open(\"../data/all_{}_bcs2umis.json\".format(exp)) as f:\n",
    "        vals = json.load(f)\n",
    "    \n",
    "\n",
    "    \n",
    "    print \"done loading\"\n",
    "    cnt = 0 \n",
    "    if exp ==\"other\": continue\n",
    "    for o, rows in oligos:\n",
    "        obcs_set = set(rows.bc)\n",
    "        shared_bcs = [b for b in obcs_set if b in vals]\n",
    "        all_shared_bcs.update(shared_bcs)\n",
    "        count_transcripts = len(set([t for b in shared_bcs for t in vals[b]]))\n",
    "        oligo_info.at[(exp,o),\"n_transcripts\"] = count_transcripts\n",
    "        oligo_info.at[(exp,o),\"n_total_bcs\"] = len(obcs_set)\n",
    "        oligo_info.at[(exp,o),\"n_observed_bcs\"] = len(shared_bcs)\n",
    "        \n",
    "        cnt+= 1\n",
    "        if len(shared_bcs) > 0:\n",
    "            oligo_info.at[(exp,o),\"argmax_transcriptions_per_bcs\"] = sorted(list(shared_bcs),key = lambda x: len(set(vals[x])))[-1]\n",
    "            oligo_info.at[(exp,o),\"max_transcriptions_per_bcs\"] = len(set(vals[sorted(list(shared_bcs),key = lambda x: len(set(vals[x])))[-1]]))\n",
    "            #sxs +=1\n",
    "        else:\n",
    "            pass\n",
    "                #fails+=1\n",
    "        #print fails, sxs\n",
    "        \n",
    "oligo_info[\"oligo\"] = oligo_info.index.map(lambda x:x[1])\n",
    "oligo_info[\"exp\"] = oligo_info.index.map(lambda x:x[0])\n",
    "oligo_info.to_csv(\"../data/0304_oligo_statistics.csv\")\n"
   ]
  },
  {
   "cell_type": "code",
   "execution_count": 253,
   "metadata": {},
   "outputs": [],
   "source": [
    "split = 2\n",
    "MERGED_INP_DIR = os.path.join(OUT_PLACE,\"c1_merge_tx_oligos\")\n",
    "INP_FILE = os.path.join(MERGED_INP_DIR,\"merged_{}_{}.csv\".format(28,split))\n",
    "merged_results = pd.read_csv(INP_FILE)\n",
    "oligo_info = pd.DataFrame(index=list(set(merged_results.apply(lambda x:(x.exp, x.oligo),axis=1))))\n",
    "#oligo_info.at[(exp,o),\"n_transcripts\"] = count_transcripts\n",
    "oligo_info[\"n_transcripts\"] = merged_results.groupby([\"exp\",\"oligo\"]).apply(lambda x:x.umi.nunique())\n",
    "oligo_info[\"n_observed_bcs\"] = merged_results.groupby([\"exp\",\"oligo\"]).apply(lambda x:x.bc.nunique())\n",
    "oligo_info[\"oligo\"] = oligo_info.index.map(lambda x:x[1])\n",
    "oligo_info[\"exp\"] = oligo_info.index.map(lambda x:x[0])\n",
    "oligo_info.to_csv(\"../data/0612_oligo_statistics.csv\")"
   ]
  },
  {
   "cell_type": "markdown",
   "metadata": {},
   "source": [
    "# PLOTS #"
   ]
  },
  {
   "cell_type": "code",
   "execution_count": 254,
   "metadata": {},
   "outputs": [],
   "source": [
    "import matplotlib\n",
    "%matplotlib inline\n",
    "from matplotlib import pyplot as plt\n"
   ]
  },
  {
   "cell_type": "code",
   "execution_count": 255,
   "metadata": {},
   "outputs": [],
   "source": [
    "oligos_lib = OLIGO_LIBRARY\n",
    "oligos_lib[\"id\"] = oligos_lib.index\n",
    "oligo_info2 = oligo_info.copy().join(oligos_lib, on =\"oligo\").dropna()"
   ]
  },
  {
   "cell_type": "code",
   "execution_count": 256,
   "metadata": {},
   "outputs": [],
   "source": [
    "positive_controls\n",
    "positive_control_rows = oligo_info2.loc[oligo_info2.RefSeqID.isin(positive_controls.Name)]"
   ]
  },
  {
   "cell_type": "markdown",
   "metadata": {},
   "source": [
    "Q: Given the list of positive control oligos which are known to be expressed, do we see these in the transcript data? Are they transcribed abundantly?"
   ]
  },
  {
   "cell_type": "code",
   "execution_count": 257,
   "metadata": {},
   "outputs": [
    {
     "data": {
      "image/png": "[encoded data removed]",
      "text/plain": [
       "<Figure size 432x288 with 1 Axes>"
      ]
     },
     "metadata": {},
     "output_type": "display_data"
    }
   ],
   "source": [
    "\n",
    "f, subs = plt.subplots(1,1)\n",
    "\n",
    "s = subs\n",
    "s.semilogy()\n",
    "positive_control_info = oligo_info.loc[oligo_info.oligo.isin(positive_control_rows.id)]\n",
    "bins = np.linspace(0,150,75)\n",
    "s.hist(oligo_info2.n_transcripts, density=True, bins = bins, label=\"all oligos\")\n",
    "s.hist(positive_control_rows.n_transcripts, density=True, bins = bins, label=\"positive controls\")\n",
    "s.set_title(\"total transcript abundance distribution\")\n",
    "s.set_xlabel(\"transcript count\")\n",
    "s.set_ylabel(\"p(x)\")\n",
    "s.legend()\n",
    "\n",
    "\n",
    "\n",
    "pass"
   ]
  },
  {
   "cell_type": "code",
   "execution_count": 258,
   "metadata": {},
   "outputs": [],
   "source": [
    "#test = oligo_info2\n",
    "candid_regex = re.compile(\"candid_(\\d+)\")\n",
    "neg_regex = re.compile(\"Neg_(\\d+)\")\n",
    "\n",
    "mutant_regex = re.compile(\"mut(\\d+)$\")\n",
    "oligo_info2[\"locus_ids\"] = oligo_info2.RefSeqID.apply(lambda x: int(candid_regex.search(x).groups()[0]) if candid_regex.search(x) else neg_regex.search(x).groups()[0] )\n",
    "oligo_info2[\"mutant_num\"] = oligo_info2.RefSeqID.apply(lambda x: int(mutant_regex.search(x).groups()[0]) if mutant_regex.search(x) else 0 )\n",
    "oligo_info2[\"is_cand\"] = oligo_info2.RefSeqID.apply(lambda x: True if candid_regex.search(x) else False )\n",
    "oligo_info2[\"is_neg\"] = oligo_info2.RefSeqID.apply(lambda x: True if neg_regex.search(x) else False )\n"
   ]
  },
  {
   "cell_type": "code",
   "execution_count": 259,
   "metadata": {},
   "outputs": [
    {
     "data": {
      "text/plain": [
       "array([0, 3, 2, 4, 1, 5])"
      ]
     },
     "execution_count": 259,
     "metadata": {},
     "output_type": "execute_result"
    }
   ],
   "source": [
    "oligo_info2.mutant_num.unique()"
   ]
  },
  {
   "cell_type": "code",
   "execution_count": 260,
   "metadata": {},
   "outputs": [
    {
     "data": {
      "text/plain": [
       "<matplotlib.legend.Legend at 0x7fa969a883d0>"
      ]
     },
     "execution_count": 260,
     "metadata": {},
     "output_type": "execute_result"
    },
    {
     "data": {
      "image/png": "[encoded data removed]",
      "text/plain": [
       "<Figure size 432x288 with 1 Axes>"
      ]
     },
     "metadata": {},
     "output_type": "display_data"
    }
   ],
   "source": [
    "transcript_groups = oligo_info2.groupby(\"mutant_num\").n_transcripts\n",
    "\n",
    "h = plt.hist([e[1].values for e in transcript_groups], bins = np.linspace(0,20,10),density=True,label = [k for k,v in transcript_groups])\n",
    "plt.legend()\n",
    "#plt.hist([list(v for v in grp) for grp in transcript_groups], bins = np.linspace(0,20), density = True)\n",
    "#plt.legend()"
   ]
  },
  {
   "cell_type": "markdown",
   "metadata": {},
   "source": [
    "#TABLE 1#\n",
    "Enrichment counts for each oligo in each cell conditioned, in a table"
   ]
  },
  {
   "cell_type": "code",
   "execution_count": 261,
   "metadata": {},
   "outputs": [],
   "source": [
    "enrichments = pd.DataFrame()\n",
    "# enrichments_vs_all = pd.DataFrame()\n",
    "# observations_vs_all = pd.DataFrame()\n",
    "#enrichments.index =pd.Series( oligo_info2.oligo.unique())\n",
    "for k,g in oligo_info2.groupby(\"exp\"):\n",
    "    #print  g.apply(lambda x:x.n_transcripts / x.n_observed_bcs)\n",
    "    enrichments[k] = pd.Series(g.apply(lambda x:x.n_transcripts / x.n_observed_bcs, axis = 1).values,index = g.apply(lambda x:x.id,axis=1))\n",
    "    #enrichments_vs_all[k] = pd.Series(g.apply(lambda x:x.n_transcripts / x.n_total_bcs, axis = 1).values,index = g.apply(lambda x:x.id,axis=1))\n",
    "    #observations_vs_all[k] = pd.Series(g.apply(lambda x:x.n_observed_bcs / x.n_total_bcs, axis = 1).values,index = g.apply(lambda x:x.id,axis=1))\n",
    "    #enrichments[k+\"_vs_bcs\"] = g.apply(lambda x:x.n_transcripts / x.n_observed_bcs, axis = 1)\n"
   ]
  },
  {
   "cell_type": "code",
   "execution_count": 267,
   "metadata": {},
   "outputs": [
    {
     "data": {
      "text/plain": [
       "<matplotlib.legend.Legend at 0x7fa9db330bd0>"
      ]
     },
     "execution_count": 267,
     "metadata": {},
     "output_type": "execute_result"
    },
    {
     "data": {
      "image/png": "[encoded data removed]",
      "text/plain": [
       "<Figure size 576x864 with 1 Axes>"
      ]
     },
     "metadata": {},
     "output_type": "display_data"
    }
   ],
   "source": [
    "bins = np.linspace(0,10,50)\n",
    "f,ax = plt.subplots(1,1)\n",
    "\n",
    "f.set_size_inches(8,12)\n",
    "plt.sca(ax)\n",
    "for k in enrichments.columns:\n",
    "    ax.hist(enrichments[k].dropna(), density = True, bins = bins)\n",
    "plt.legend()"
   ]
  }
 ],
 "metadata": {
  "kernelspec": {
   "display_name": "Python 2",
   "language": "python",
   "name": "python2"
  },
  "language_info": {
   "codemirror_mode": {
    "name": "ipython",
    "version": 2
   },
   "file_extension": ".py",
   "mimetype": "text/x-python",
   "name": "python",
   "nbconvert_exporter": "python",
   "pygments_lexer": "ipython2",
   "version": "2.7.15"
  }
 },
 "nbformat": 4,
 "nbformat_minor": 2
}
