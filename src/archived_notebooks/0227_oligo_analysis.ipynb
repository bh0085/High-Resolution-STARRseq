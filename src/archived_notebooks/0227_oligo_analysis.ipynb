{
 "cells": [
  {
   "cell_type": "code",
   "execution_count": 31,
   "metadata": {},
   "outputs": [],
   "source": [
    "import os, re, sys, json\n",
    "import numpy as np, pandas as pd\n",
    "import _config\n",
    "reload (_config)\n",
    "from _config import SHE3202_FQ_FILES, EXP_DESIGN_2901, OLIGO_LIBRARY, SHE3202_DIR, A_BC_OLIGOS_OUT, POSITIVE_CONTROLS_FILE\n"
   ]
  },
  {
   "cell_type": "code",
   "execution_count": 32,
   "metadata": {},
   "outputs": [],
   "source": [
    "oligo_info = pd.read_csv(\"../data/0612_oligo_statistics.csv\")"
   ]
  },
  {
   "cell_type": "code",
   "execution_count": 33,
   "metadata": {},
   "outputs": [],
   "source": [
    "\n",
    "oligos_lib = OLIGO_LIBRARY\n",
    "oligos_lib[\"id\"] = oligos_lib.index\n",
    "oligo_info2 = oligo_info.copy().join(oligos_lib, on =\"oligo\")#.dropna()\n"
   ]
  },
  {
   "cell_type": "code",
   "execution_count": null,
   "metadata": {},
   "outputs": [],
   "source": []
  },
  {
   "cell_type": "code",
   "execution_count": 35,
   "metadata": {},
   "outputs": [],
   "source": []
  },
  {
   "cell_type": "code",
   "execution_count": 29,
   "metadata": {},
   "outputs": [],
   "source": [
    "\n",
    "oligos_lib = OLIGO_LIBRARY\n",
    "oligos_lib[\"id\"] = oligos_lib.index\n",
    "oligo_info2 = oligo_info.copy().join(oligos_lib, on =\"oligo\")#.dropna()\n",
    "\n",
    "#test = oligo_info2\n",
    "candid_regex = re.compile(\"candid_(\\d+)\")\n",
    "neg_regex = re.compile(\"Neg_(\\d+)\")\n",
    "\n",
    "mutant_regex = re.compile(\"mut(\\d+)$\")\n",
    "\n",
    "oligos_lib[\"locus_ids\"] = oligos_lib.RefSeqID.apply(lambda x: int(candid_regex.search(x).groups()[0]) if candid_regex.search(x) else neg_regex.search(x).groups()[0] )\n",
    "oligos_lib[\"mutant_num\"] = oligos_lib.RefSeqID.apply(lambda x: int(mutant_regex.search(x).groups()[0]) if mutant_regex.search(x) else 0 )\n",
    "oligos_lib[\"is_cand\"] = oligos_lib.RefSeqID.apply(lambda x: True if candid_regex.search(x) else False )\n",
    "oligos_lib[\"is_neg\"] = oligos_lib.RefSeqID.apply(lambda x: True if neg_regex.search(x) else False )\n"
   ]
  },
  {
   "cell_type": "code",
   "execution_count": null,
   "metadata": {},
   "outputs": [],
   "source": []
  },
  {
   "cell_type": "code",
   "execution_count": null,
   "metadata": {},
   "outputs": [],
   "source": []
  },
  {
   "cell_type": "code",
   "execution_count": 38,
   "metadata": {},
   "outputs": [],
   "source": [
    "\n",
    "oligos_lib = OLIGO_LIBRARY\n",
    "oligos_lib[\"id\"] = oligos_lib.index\n",
    "oligo_info2 = oligo_info.copy().join(oligos_lib, on =\"oligo\")#.dropna()\n",
    "\n",
    "#test = oligo_info2\n",
    "candid_regex = re.compile(\"candid_(\\d+)\")\n",
    "neg_regex = re.compile(\"Neg_(\\d+)\")\n",
    "mutant_regex = re.compile(\"mut(\\d+)$\")\n",
    "\n",
    "\n",
    "oligos_lib[\"locus_ids\"] = oligos_lib.RefSeqID.apply(lambda x: int(candid_regex.search(x).groups()[0]) if candid_regex.search(x) else neg_regex.search(x).groups()[0] )\n",
    "oligos_lib[\"mutant_num\"] = oligos_lib.RefSeqID.apply(lambda x: int(mutant_regex.search(x).groups()[0]) if mutant_regex.search(x) else 0 )\n",
    "oligos_lib[\"is_cand\"] = oligos_lib.RefSeqID.apply(lambda x: True if candid_regex.search(x) else False )\n",
    "oligos_lib[\"is_neg\"] = oligos_lib.RefSeqID.apply(lambda x: True if neg_regex.search(x) else False )\n",
    "\n",
    "\n",
    "oligo_info2 = oligo_info2.join(oligos_lib[[\"locus_ids\",\"mutant_num\",\"is_cand\",\"is_neg\"]],on=\"oligo\")\n",
    "#oligo_info2[\"locus_ids\"] = oligo_info2.join(oligos_lib[[\"locus_ids\",\"mutant_num\",\"is_cand\",\"is_neg\"]],on=\"oligo\")\n",
    "oligo_info2[\"mutant_num\"] = oligo_info2.RefSeqID.apply(lambda x: int(mutant_regex.search(x).groups()[0]) if mutant_regex.search(x) else 0 )\n",
    "oligo_info2[\"is_cand\"] = oligo_info2.RefSeqID.apply(lambda x: True if candid_regex.search(x) else False )\n",
    "oligo_info2[\"is_neg\"] = oligo_info2.RefSeqID.apply(lambda x: True if neg_regex.search(x) else False )\n"
   ]
  },
  {
   "cell_type": "code",
   "execution_count": null,
   "metadata": {},
   "outputs": [],
   "source": [
    "oligo_info2 = oligo_info2.join(oligos_lib[[\"locus_ids\"]],on=\"oligo\")"
   ]
  },
  {
   "cell_type": "code",
   "execution_count": 39,
   "metadata": {},
   "outputs": [],
   "source": [
    "\n",
    "oi2 = oligo_info2\n",
    "oligos_lib[\"starts\"] = oligos_lib.chromosome_info.apply(lambda x: int(re.compile(\"(\\d+)-(\\d+)\").search(x).groups()[0]))\n",
    "oligos_lib[\"starts\"] = oligos_lib.starts-oligos_lib.starts.min()\n",
    "enrichments[\"starts\"] = oligos_lib.starts\n"
   ]
  },
  {
   "cell_type": "code",
   "execution_count": 46,
   "metadata": {},
   "outputs": [],
   "source": [
    "oligo_info2 = oligo_info2.join(oligos_lib[[\"starts\"]],on=\"oligo\")"
   ]
  },
  {
   "cell_type": "code",
   "execution_count": 40,
   "metadata": {},
   "outputs": [],
   "source": [
    "enrichments = pd.DataFrame()\n",
    "#enrichments_vs_all = pd.DataFrame()\n",
    "#observations_vs_all = pd.DataFrame()\n",
    "#enrichments.index =pd.Series( oligo_info2.oligo.unique())\n",
    "for k,g in oligo_info2.groupby(\"exp\"):\n",
    "    #print  g.apply(lambda x:x.n_transcripts / x.n_observed_bcs)\n",
    "    g = g.dropna()\n",
    "    if len(g) == 0: continue\n",
    "    enrichments[k] = pd.Series(g.apply(lambda x:x.n_transcripts / x.n_observed_bcs, axis = 1).values,index = g.apply(lambda x:x.id,axis=1))\n",
    "    #enrichments_vs_all[k] = pd.Series(g.apply(lambda x:x.n_transcripts / x.n_total_bcs, axis = 1).values,index = g.apply(lambda x:x.id,axis=1))\n",
    "    #observations_vs_all[k] = pd.Series(g.apply(lambda x:x.n_observed_bcs / x.n_total_bcs, axis = 1).values,index = g.apply(lambda x:x.id,axis=1))\n",
    "    #enrichments[k+\"_vs_bcs\"] = g.apply(lambda x:x.n_transcripts / x.n_observed_bcs, axis = 1)\n"
   ]
  },
  {
   "cell_type": "markdown",
   "metadata": {},
   "source": [
    "# PLOTS #"
   ]
  },
  {
   "cell_type": "code",
   "execution_count": 41,
   "metadata": {},
   "outputs": [],
   "source": [
    "from matplotlib import pyplot as plt\n",
    "%matplotlib inline"
   ]
  },
  {
   "cell_type": "code",
   "execution_count": null,
   "metadata": {},
   "outputs": [],
   "source": []
  },
  {
   "cell_type": "code",
   "execution_count": 51,
   "metadata": {},
   "outputs": [],
   "source": [
    "oligo_info2[\"n_total_bcs\"] = oligo_info2[\"n_observed_bcs\"]"
   ]
  },
  {
   "cell_type": "code",
   "execution_count": 59,
   "metadata": {},
   "outputs": [],
   "source": [
    "for k,rows in grps:\n",
    "    print(rows)\n",
    "    print(len(rows))\n",
    "    \n",
    "    break"
   ]
  },
  {
   "cell_type": "code",
   "execution_count": 55,
   "metadata": {},
   "outputs": [
    {
     "ename": "AxisError",
     "evalue": "axis 1 is out of bounds for array of dimension 1",
     "output_type": "error",
     "traceback": [
      "\u001b[0;31m---------------------------------------------------------------------------\u001b[0m",
      "\u001b[0;31mAxisError\u001b[0m                                 Traceback (most recent call last)",
      "\u001b[0;32m<ipython-input-55-d5850cf69216>\u001b[0m in \u001b[0;36m<module>\u001b[0;34m()\u001b[0m\n\u001b[0;32m----> 1\u001b[0;31m \u001b[0mnp\u001b[0m\u001b[0;34m.\u001b[0m\u001b[0msum\u001b[0m\u001b[0;34m(\u001b[0m\u001b[0mnp\u001b[0m\u001b[0;34m.\u001b[0m\u001b[0marray\u001b[0m\u001b[0;34m(\u001b[0m\u001b[0;34m[\u001b[0m\u001b[0;34m(\u001b[0m\u001b[0mrows\u001b[0m\u001b[0;34m.\u001b[0m\u001b[0mn_transcripts\u001b[0m \u001b[0;34m/\u001b[0m \u001b[0mrows\u001b[0m\u001b[0;34m.\u001b[0m\u001b[0mn_total_bcs\u001b[0m\u001b[0;34m)\u001b[0m\u001b[0;34m.\u001b[0m\u001b[0mfillna\u001b[0m\u001b[0;34m(\u001b[0m\u001b[0;36m0\u001b[0m\u001b[0;34m)\u001b[0m  \u001b[0;32mfor\u001b[0m \u001b[0mk\u001b[0m\u001b[0;34m,\u001b[0m\u001b[0mrows\u001b[0m \u001b[0;32min\u001b[0m \u001b[0mgrps\u001b[0m \u001b[0;32mif\u001b[0m \u001b[0mlen\u001b[0m\u001b[0;34m(\u001b[0m\u001b[0mrows\u001b[0m\u001b[0;34m)\u001b[0m\u001b[0;34m>\u001b[0m\u001b[0;36m0\u001b[0m\u001b[0;34m]\u001b[0m\u001b[0;34m)\u001b[0m\u001b[0;34m,\u001b[0m\u001b[0maxis\u001b[0m\u001b[0;34m=\u001b[0m\u001b[0;36m1\u001b[0m\u001b[0;34m)\u001b[0m\u001b[0;34m[\u001b[0m\u001b[0;34m:\u001b[0m\u001b[0;34m,\u001b[0m\u001b[0mnp\u001b[0m\u001b[0;34m.\u001b[0m\u001b[0mnewaxis\u001b[0m\u001b[0;34m]\u001b[0m\u001b[0;34m\u001b[0m\u001b[0m\n\u001b[0m",
      "\u001b[0;32m/cluster/bh0085/anaconda27/lib/python2.7/site-packages/numpy/core/fromnumeric.pyc\u001b[0m in \u001b[0;36msum\u001b[0;34m(a, axis, dtype, out, keepdims)\u001b[0m\n\u001b[1;32m   1880\u001b[0m             \u001b[0;32mreturn\u001b[0m \u001b[0msum\u001b[0m\u001b[0;34m(\u001b[0m\u001b[0maxis\u001b[0m\u001b[0;34m=\u001b[0m\u001b[0maxis\u001b[0m\u001b[0;34m,\u001b[0m \u001b[0mdtype\u001b[0m\u001b[0;34m=\u001b[0m\u001b[0mdtype\u001b[0m\u001b[0;34m,\u001b[0m \u001b[0mout\u001b[0m\u001b[0;34m=\u001b[0m\u001b[0mout\u001b[0m\u001b[0;34m,\u001b[0m \u001b[0;34m**\u001b[0m\u001b[0mkwargs\u001b[0m\u001b[0;34m)\u001b[0m\u001b[0;34m\u001b[0m\u001b[0m\n\u001b[1;32m   1881\u001b[0m     return _methods._sum(a, axis=axis, dtype=dtype,\n\u001b[0;32m-> 1882\u001b[0;31m                          out=out, **kwargs)\n\u001b[0m\u001b[1;32m   1883\u001b[0m \u001b[0;34m\u001b[0m\u001b[0m\n\u001b[1;32m   1884\u001b[0m \u001b[0;34m\u001b[0m\u001b[0m\n",
      "\u001b[0;32m/cluster/bh0085/anaconda27/lib/python2.7/site-packages/numpy/core/_methods.pyc\u001b[0m in \u001b[0;36m_sum\u001b[0;34m(a, axis, dtype, out, keepdims)\u001b[0m\n\u001b[1;32m     30\u001b[0m \u001b[0;34m\u001b[0m\u001b[0m\n\u001b[1;32m     31\u001b[0m \u001b[0;32mdef\u001b[0m \u001b[0m_sum\u001b[0m\u001b[0;34m(\u001b[0m\u001b[0ma\u001b[0m\u001b[0;34m,\u001b[0m \u001b[0maxis\u001b[0m\u001b[0;34m=\u001b[0m\u001b[0mNone\u001b[0m\u001b[0;34m,\u001b[0m \u001b[0mdtype\u001b[0m\u001b[0;34m=\u001b[0m\u001b[0mNone\u001b[0m\u001b[0;34m,\u001b[0m \u001b[0mout\u001b[0m\u001b[0;34m=\u001b[0m\u001b[0mNone\u001b[0m\u001b[0;34m,\u001b[0m \u001b[0mkeepdims\u001b[0m\u001b[0;34m=\u001b[0m\u001b[0mFalse\u001b[0m\u001b[0;34m)\u001b[0m\u001b[0;34m:\u001b[0m\u001b[0;34m\u001b[0m\u001b[0m\n\u001b[0;32m---> 32\u001b[0;31m     \u001b[0;32mreturn\u001b[0m \u001b[0mumr_sum\u001b[0m\u001b[0;34m(\u001b[0m\u001b[0ma\u001b[0m\u001b[0;34m,\u001b[0m \u001b[0maxis\u001b[0m\u001b[0;34m,\u001b[0m \u001b[0mdtype\u001b[0m\u001b[0;34m,\u001b[0m \u001b[0mout\u001b[0m\u001b[0;34m,\u001b[0m \u001b[0mkeepdims\u001b[0m\u001b[0;34m)\u001b[0m\u001b[0;34m\u001b[0m\u001b[0m\n\u001b[0m\u001b[1;32m     33\u001b[0m \u001b[0;34m\u001b[0m\u001b[0m\n\u001b[1;32m     34\u001b[0m \u001b[0;32mdef\u001b[0m \u001b[0m_prod\u001b[0m\u001b[0;34m(\u001b[0m\u001b[0ma\u001b[0m\u001b[0;34m,\u001b[0m \u001b[0maxis\u001b[0m\u001b[0;34m=\u001b[0m\u001b[0mNone\u001b[0m\u001b[0;34m,\u001b[0m \u001b[0mdtype\u001b[0m\u001b[0;34m=\u001b[0m\u001b[0mNone\u001b[0m\u001b[0;34m,\u001b[0m \u001b[0mout\u001b[0m\u001b[0;34m=\u001b[0m\u001b[0mNone\u001b[0m\u001b[0;34m,\u001b[0m \u001b[0mkeepdims\u001b[0m\u001b[0;34m=\u001b[0m\u001b[0mFalse\u001b[0m\u001b[0;34m)\u001b[0m\u001b[0;34m:\u001b[0m\u001b[0;34m\u001b[0m\u001b[0m\n",
      "\u001b[0;31mAxisError\u001b[0m: axis 1 is out of bounds for array of dimension 1"
     ]
    }
   ],
   "source": [
    "np.sum(np.array([(rows.n_transcripts / rows.n_total_bcs).fillna(0)  for k,rows in grps if len(rows)>0]),axis=1)[:,np.newaxis]"
   ]
  },
  {
   "cell_type": "code",
   "execution_count": 68,
   "metadata": {},
   "outputs": [
    {
     "data": {
      "text/plain": [
       "array([25887, 26067, 12634, 12754,  5963,  7991,  2748,  7631, 28909,\n",
       "       24094,  2756,   480,   420,   360,  6340, 63103, 57123,  9257,\n",
       "       26370, 17293,  1921,  1861, 62725, 75113, 12538, 10099, 11425,\n",
       "        1626,   870,   900,   300,  7387, 25957, 21729, 62208, 92074,\n",
       "       35415,  9249, 11356,  7489,  3142,  1376,  1436, 37757, 41071,\n",
       "        7127,  4476,   963,   120,  4338,  6996,  2898,   570, 18308,\n",
       "       17978,   270,  4438,  4468,  6551,  8465,  2664, 52786, 52576,\n",
       "        2009, 17881, 18537,  6350,  7690, 22193, 25358])"
      ]
     },
     "execution_count": 68,
     "metadata": {},
     "output_type": "execute_result"
    }
   ],
   "source": [
    "(allstarts[wid:] - allstarts[:-wid]) "
   ]
  },
  {
   "cell_type": "code",
   "execution_count": 69,
   "metadata": {},
   "outputs": [
    {
     "data": {
      "text/plain": [
       "90"
      ]
     },
     "execution_count": 69,
     "metadata": {},
     "output_type": "execute_result"
    }
   ],
   "source": [
    " 30*(wid+1)"
   ]
  },
  {
   "cell_type": "code",
   "execution_count": 72,
   "metadata": {},
   "outputs": [],
   "source": [
    "wid_multiplier = 20"
   ]
  },
  {
   "cell_type": "code",
   "execution_count": 73,
   "metadata": {},
   "outputs": [],
   "source": [
    "peak_ids = np.nonzero((allstarts[wid:] - allstarts[:-wid]) < 30*(wid+wid_multiplier))[0]\n"
   ]
  },
  {
   "cell_type": "code",
   "execution_count": 77,
   "metadata": {},
   "outputs": [
    {
     "data": {
      "text/plain": [
       "450     3\n",
       "2327    3\n",
       "2153    2\n",
       "3385    2\n",
       "1752    1\n",
       "425     3\n",
       "3097    1\n",
       "Name: n_transcripts, dtype: int64"
      ]
     },
     "execution_count": 77,
     "metadata": {},
     "output_type": "execute_result"
    }
   ],
   "source": [
    "rows.n_transcripts"
   ]
  },
  {
   "cell_type": "code",
   "execution_count": 78,
   "metadata": {},
   "outputs": [
    {
     "data": {
      "text/plain": [
       "450     3.0\n",
       "2327    3.0\n",
       "2153    2.0\n",
       "3385    2.0\n",
       "1752    1.0\n",
       "425     3.0\n",
       "3097    1.0\n",
       "dtype: float64"
      ]
     },
     "execution_count": 78,
     "metadata": {},
     "output_type": "execute_result"
    }
   ],
   "source": [
    "(rows.n_transcripts / rows.n_total_bcs).fillna(0)"
   ]
  },
  {
   "cell_type": "code",
   "execution_count": 76,
   "metadata": {},
   "outputs": [
    {
     "ename": "AxisError",
     "evalue": "axis 1 is out of bounds for array of dimension 1",
     "output_type": "error",
     "traceback": [
      "\u001b[0;31m---------------------------------------------------------------------------\u001b[0m",
      "\u001b[0;31mAxisError\u001b[0m                                 Traceback (most recent call last)",
      "\u001b[0;32m<ipython-input-76-890ce9465c89>\u001b[0m in \u001b[0;36m<module>\u001b[0;34m()\u001b[0m\n\u001b[0;32m----> 1\u001b[0;31m \u001b[0mnp\u001b[0m\u001b[0;34m.\u001b[0m\u001b[0msum\u001b[0m\u001b[0;34m(\u001b[0m\u001b[0mnp\u001b[0m\u001b[0;34m.\u001b[0m\u001b[0marray\u001b[0m\u001b[0;34m(\u001b[0m\u001b[0;34m[\u001b[0m\u001b[0;34m(\u001b[0m\u001b[0mrows\u001b[0m\u001b[0;34m.\u001b[0m\u001b[0mn_transcripts\u001b[0m \u001b[0;34m/\u001b[0m \u001b[0mrows\u001b[0m\u001b[0;34m.\u001b[0m\u001b[0mn_total_bcs\u001b[0m\u001b[0;34m)\u001b[0m\u001b[0;34m.\u001b[0m\u001b[0mfillna\u001b[0m\u001b[0;34m(\u001b[0m\u001b[0;36m0\u001b[0m\u001b[0;34m)\u001b[0m  \u001b[0;32mfor\u001b[0m \u001b[0mk\u001b[0m\u001b[0;34m,\u001b[0m\u001b[0mrows\u001b[0m \u001b[0;32min\u001b[0m \u001b[0mgrps\u001b[0m\u001b[0;34m]\u001b[0m\u001b[0;34m)\u001b[0m\u001b[0;34m,\u001b[0m\u001b[0maxis\u001b[0m \u001b[0;34m=\u001b[0m\u001b[0;36m1\u001b[0m\u001b[0;34m)\u001b[0m\u001b[0;34m\u001b[0m\u001b[0m\n\u001b[0m",
      "\u001b[0;32m/cluster/bh0085/anaconda27/lib/python2.7/site-packages/numpy/core/fromnumeric.pyc\u001b[0m in \u001b[0;36msum\u001b[0;34m(a, axis, dtype, out, keepdims)\u001b[0m\n\u001b[1;32m   1880\u001b[0m             \u001b[0;32mreturn\u001b[0m \u001b[0msum\u001b[0m\u001b[0;34m(\u001b[0m\u001b[0maxis\u001b[0m\u001b[0;34m=\u001b[0m\u001b[0maxis\u001b[0m\u001b[0;34m,\u001b[0m \u001b[0mdtype\u001b[0m\u001b[0;34m=\u001b[0m\u001b[0mdtype\u001b[0m\u001b[0;34m,\u001b[0m \u001b[0mout\u001b[0m\u001b[0;34m=\u001b[0m\u001b[0mout\u001b[0m\u001b[0;34m,\u001b[0m \u001b[0;34m**\u001b[0m\u001b[0mkwargs\u001b[0m\u001b[0;34m)\u001b[0m\u001b[0;34m\u001b[0m\u001b[0m\n\u001b[1;32m   1881\u001b[0m     return _methods._sum(a, axis=axis, dtype=dtype,\n\u001b[0;32m-> 1882\u001b[0;31m                          out=out, **kwargs)\n\u001b[0m\u001b[1;32m   1883\u001b[0m \u001b[0;34m\u001b[0m\u001b[0m\n\u001b[1;32m   1884\u001b[0m \u001b[0;34m\u001b[0m\u001b[0m\n",
      "\u001b[0;32m/cluster/bh0085/anaconda27/lib/python2.7/site-packages/numpy/core/_methods.pyc\u001b[0m in \u001b[0;36m_sum\u001b[0;34m(a, axis, dtype, out, keepdims)\u001b[0m\n\u001b[1;32m     30\u001b[0m \u001b[0;34m\u001b[0m\u001b[0m\n\u001b[1;32m     31\u001b[0m \u001b[0;32mdef\u001b[0m \u001b[0m_sum\u001b[0m\u001b[0;34m(\u001b[0m\u001b[0ma\u001b[0m\u001b[0;34m,\u001b[0m \u001b[0maxis\u001b[0m\u001b[0;34m=\u001b[0m\u001b[0mNone\u001b[0m\u001b[0;34m,\u001b[0m \u001b[0mdtype\u001b[0m\u001b[0;34m=\u001b[0m\u001b[0mNone\u001b[0m\u001b[0;34m,\u001b[0m \u001b[0mout\u001b[0m\u001b[0;34m=\u001b[0m\u001b[0mNone\u001b[0m\u001b[0;34m,\u001b[0m \u001b[0mkeepdims\u001b[0m\u001b[0;34m=\u001b[0m\u001b[0mFalse\u001b[0m\u001b[0;34m)\u001b[0m\u001b[0;34m:\u001b[0m\u001b[0;34m\u001b[0m\u001b[0m\n\u001b[0;32m---> 32\u001b[0;31m     \u001b[0;32mreturn\u001b[0m \u001b[0mumr_sum\u001b[0m\u001b[0;34m(\u001b[0m\u001b[0ma\u001b[0m\u001b[0;34m,\u001b[0m \u001b[0maxis\u001b[0m\u001b[0;34m,\u001b[0m \u001b[0mdtype\u001b[0m\u001b[0;34m,\u001b[0m \u001b[0mout\u001b[0m\u001b[0;34m,\u001b[0m \u001b[0mkeepdims\u001b[0m\u001b[0;34m)\u001b[0m\u001b[0;34m\u001b[0m\u001b[0m\n\u001b[0m\u001b[1;32m     33\u001b[0m \u001b[0;34m\u001b[0m\u001b[0m\n\u001b[1;32m     34\u001b[0m \u001b[0;32mdef\u001b[0m \u001b[0m_prod\u001b[0m\u001b[0;34m(\u001b[0m\u001b[0ma\u001b[0m\u001b[0;34m,\u001b[0m \u001b[0maxis\u001b[0m\u001b[0;34m=\u001b[0m\u001b[0mNone\u001b[0m\u001b[0;34m,\u001b[0m \u001b[0mdtype\u001b[0m\u001b[0;34m=\u001b[0m\u001b[0mNone\u001b[0m\u001b[0;34m,\u001b[0m \u001b[0mout\u001b[0m\u001b[0;34m=\u001b[0m\u001b[0mNone\u001b[0m\u001b[0;34m,\u001b[0m \u001b[0mkeepdims\u001b[0m\u001b[0;34m=\u001b[0m\u001b[0mFalse\u001b[0m\u001b[0;34m)\u001b[0m\u001b[0;34m:\u001b[0m\u001b[0;34m\u001b[0m\u001b[0m\n",
      "\u001b[0;31mAxisError\u001b[0m: axis 1 is out of bounds for array of dimension 1"
     ]
    }
   ],
   "source": [
    "np.sum(np.array([(rows.n_transcripts / rows.n_total_bcs).fillna(0)  for k,rows in grps]),axis =1)"
   ]
  },
  {
   "cell_type": "code",
   "execution_count": null,
   "metadata": {},
   "outputs": [],
   "source": [
    "np.sum(np.array([(rows.n_transcripts / rows.n_total_bcs).fillna(0)  for k,rows in grps if len(rows) > 0] ),axis=1)"
   ]
  },
  {
   "cell_type": "code",
   "execution_count": 83,
   "metadata": {},
   "outputs": [
    {
     "ename": "AxisError",
     "evalue": "axis 1 is out of bounds for array of dimension 1",
     "output_type": "error",
     "traceback": [
      "\u001b[0;31m---------------------------------------------------------------------------\u001b[0m",
      "\u001b[0;31mAxisError\u001b[0m                                 Traceback (most recent call last)",
      "\u001b[0;32m<ipython-input-83-99175172274a>\u001b[0m in \u001b[0;36m<module>\u001b[0;34m()\u001b[0m\n\u001b[1;32m     45\u001b[0m plt.hist([rows.starts for k,rows in grps],\n\u001b[1;32m     46\u001b[0m  weights = [e for e in np.array([(rows.n_transcripts / rows.n_total_bcs).fillna(0)  for k,rows in grps if len(rows)> 0]) /\\\n\u001b[0;32m---> 47\u001b[0;31m      np.sum(np.array([(rows.n_transcripts / rows.n_total_bcs).fillna(0)  for k,rows in grps if len(rows) > 0] ),axis=1)[:,np.newaxis]],\n\u001b[0m\u001b[1;32m     48\u001b[0m density = False, bins = np.linspace(0,600000,15), label = [k for k,rows in grps if len(rows )> 0])\n\u001b[1;32m     49\u001b[0m \u001b[0mplt\u001b[0m\u001b[0;34m.\u001b[0m\u001b[0mlegend\u001b[0m\u001b[0;34m(\u001b[0m\u001b[0;34m)\u001b[0m\u001b[0;34m\u001b[0m\u001b[0m\n",
      "\u001b[0;32m/cluster/bh0085/anaconda27/lib/python2.7/site-packages/numpy/core/fromnumeric.pyc\u001b[0m in \u001b[0;36msum\u001b[0;34m(a, axis, dtype, out, keepdims)\u001b[0m\n\u001b[1;32m   1880\u001b[0m             \u001b[0;32mreturn\u001b[0m \u001b[0msum\u001b[0m\u001b[0;34m(\u001b[0m\u001b[0maxis\u001b[0m\u001b[0;34m=\u001b[0m\u001b[0maxis\u001b[0m\u001b[0;34m,\u001b[0m \u001b[0mdtype\u001b[0m\u001b[0;34m=\u001b[0m\u001b[0mdtype\u001b[0m\u001b[0;34m,\u001b[0m \u001b[0mout\u001b[0m\u001b[0;34m=\u001b[0m\u001b[0mout\u001b[0m\u001b[0;34m,\u001b[0m \u001b[0;34m**\u001b[0m\u001b[0mkwargs\u001b[0m\u001b[0;34m)\u001b[0m\u001b[0;34m\u001b[0m\u001b[0m\n\u001b[1;32m   1881\u001b[0m     return _methods._sum(a, axis=axis, dtype=dtype,\n\u001b[0;32m-> 1882\u001b[0;31m                          out=out, **kwargs)\n\u001b[0m\u001b[1;32m   1883\u001b[0m \u001b[0;34m\u001b[0m\u001b[0m\n\u001b[1;32m   1884\u001b[0m \u001b[0;34m\u001b[0m\u001b[0m\n",
      "\u001b[0;32m/cluster/bh0085/anaconda27/lib/python2.7/site-packages/numpy/core/_methods.pyc\u001b[0m in \u001b[0;36m_sum\u001b[0;34m(a, axis, dtype, out, keepdims)\u001b[0m\n\u001b[1;32m     30\u001b[0m \u001b[0;34m\u001b[0m\u001b[0m\n\u001b[1;32m     31\u001b[0m \u001b[0;32mdef\u001b[0m \u001b[0m_sum\u001b[0m\u001b[0;34m(\u001b[0m\u001b[0ma\u001b[0m\u001b[0;34m,\u001b[0m \u001b[0maxis\u001b[0m\u001b[0;34m=\u001b[0m\u001b[0mNone\u001b[0m\u001b[0;34m,\u001b[0m \u001b[0mdtype\u001b[0m\u001b[0;34m=\u001b[0m\u001b[0mNone\u001b[0m\u001b[0;34m,\u001b[0m \u001b[0mout\u001b[0m\u001b[0;34m=\u001b[0m\u001b[0mNone\u001b[0m\u001b[0;34m,\u001b[0m \u001b[0mkeepdims\u001b[0m\u001b[0;34m=\u001b[0m\u001b[0mFalse\u001b[0m\u001b[0;34m)\u001b[0m\u001b[0;34m:\u001b[0m\u001b[0;34m\u001b[0m\u001b[0m\n\u001b[0;32m---> 32\u001b[0;31m     \u001b[0;32mreturn\u001b[0m \u001b[0mumr_sum\u001b[0m\u001b[0;34m(\u001b[0m\u001b[0ma\u001b[0m\u001b[0;34m,\u001b[0m \u001b[0maxis\u001b[0m\u001b[0;34m,\u001b[0m \u001b[0mdtype\u001b[0m\u001b[0;34m,\u001b[0m \u001b[0mout\u001b[0m\u001b[0;34m,\u001b[0m \u001b[0mkeepdims\u001b[0m\u001b[0;34m)\u001b[0m\u001b[0;34m\u001b[0m\u001b[0m\n\u001b[0m\u001b[1;32m     33\u001b[0m \u001b[0;34m\u001b[0m\u001b[0m\n\u001b[1;32m     34\u001b[0m \u001b[0;32mdef\u001b[0m \u001b[0m_prod\u001b[0m\u001b[0;34m(\u001b[0m\u001b[0ma\u001b[0m\u001b[0;34m,\u001b[0m \u001b[0maxis\u001b[0m\u001b[0;34m=\u001b[0m\u001b[0mNone\u001b[0m\u001b[0;34m,\u001b[0m \u001b[0mdtype\u001b[0m\u001b[0;34m=\u001b[0m\u001b[0mNone\u001b[0m\u001b[0;34m,\u001b[0m \u001b[0mout\u001b[0m\u001b[0;34m=\u001b[0m\u001b[0mNone\u001b[0m\u001b[0;34m,\u001b[0m \u001b[0mkeepdims\u001b[0m\u001b[0;34m=\u001b[0m\u001b[0mFalse\u001b[0m\u001b[0;34m)\u001b[0m\u001b[0;34m:\u001b[0m\u001b[0;34m\u001b[0m\u001b[0m\n",
      "\u001b[0;31mAxisError\u001b[0m: axis 1 is out of bounds for array of dimension 1"
     ]
    },
    {
     "data": {
      "image/png": "[encoded data removed]",
      "text/plain": [
       "<Figure size 432x288 with 1 Axes>"
      ]
     },
     "metadata": {},
     "output_type": "display_data"
    },
    {
     "data": {
      "image/png": "[encoded data removed]",
      "text/plain": [
       "<Figure size 432x288 with 1 Axes>"
      ]
     },
     "metadata": {},
     "output_type": "display_data"
    },
    {
     "data": {
      "image/png": "[encoded data removed]",
      "text/plain": [
       "<Figure size 432x288 with 1 Axes>"
      ]
     },
     "metadata": {},
     "output_type": "display_data"
    },
    {
     "data": {
      "text/plain": [
       "<Figure size 432x288 with 0 Axes>"
      ]
     },
     "metadata": {},
     "output_type": "display_data"
    }
   ],
   "source": [
    "from scipy.stats import zscore\n",
    "ematrix = enrichments\n",
    "arr = ematrix.iloc[:,:8].fillna(ematrix.iloc[:,:8].mean())\n",
    "\n",
    "zs = zscore(arr,axis = 0)\n",
    "\n",
    "\n",
    "#plt.plot(zs)\n",
    "\n",
    "plt.hist(zs,bins=np.linspace(0,50))\n",
    "plt.gca().set_yscale(\"log\")\n",
    "\n",
    "highz = np.nonzero(np.max(zs,axis=1)>4)[0]\n",
    "#zs[highz,:]\n",
    "#print highz\n",
    "#print len(arr)\n",
    "#print arr.values[highz,:]\n",
    "\n",
    "hz_enriched = ematrix.iloc[highz,:]\n",
    "hze_idxs = hz_enriched.index.values\n",
    "hz_infos = oligo_info2.loc[oligo_info2.id.isin(hze_idxs)]\n",
    "\n",
    "plt.figure()\n",
    "allstarts = np.sort(hz_infos.starts.unique())\n",
    "\n",
    "wid = 2\n",
    "peak_ids = np.nonzero((allstarts[wid:] - allstarts[:-wid]) < 30*(wid+wid_multiplier))[0]\n",
    "startvals = allstarts[peak_ids]\n",
    "\n",
    "simple_peaks = oligo_info2.loc[oligo_info2.starts.isin(startvals)]\n",
    "plt.plot(simple_peaks.n_transcripts / simple_peaks.n_observed_bcs)\n",
    "\n",
    "plt.figure()\n",
    "h = plt.hist(simple_peaks.mutant_num)\n",
    "\n",
    "#plot transcript counts for all oligos located at the peaks\n",
    "plt.plot(simple_peaks.starts,(simple_peaks.n_transcripts / simple_peaks.n_observed_bcs).fillna(0), \"x\")\n",
    "plt.gca().set_ylim(0,.1)\n",
    "plt.gca().set_title(\"expression peak positions,\\n showing all experiments\")\n",
    "plt.gca().set_xlabel(\"position of peak\")\n",
    "\n",
    "plt.figure()\n",
    "   \n",
    "grps = simple_peaks.sort_values(\"exp\").groupby(\"exp\")\n",
    "plt.hist([rows.starts for k,rows in grps],\n",
    " weights = [e for e in np.array([(rows.n_transcripts / rows.n_total_bcs).fillna(0)  for k,rows in grps if len(rows)> 0]) /\\\n",
    "     np.sum(np.array([(rows.n_transcripts / rows.n_total_bcs).fillna(0)  for k,rows in grps if len(rows) > 0] ),axis=1)[:,np.newaxis]],\n",
    "density = False, bins = np.linspace(0,600000,15), label = [k for k,rows in grps if len(rows )> 0])\n",
    "plt.legend()\n",
    "plt.gcf().set_size_inches(12,6)\n",
    "\n",
    "plt.figure()\n",
    "f= plt.gcf()\n",
    "efilled = ematrix.fillna(ematrix.mean())\n",
    "f.set_size_inches(16,8)\n",
    "plt.imshow(zscore(efilled.loc[simple_peaks.oligo.unique()[:64],:],axis=1).transpose())\n",
    "\n",
    "\n",
    "#simple_peaks\n",
    "#oligo_info2.loc[oligo_info2.id==690]\n",
    "\n",
    "\n",
    "#enrichments.n_\n",
    "#enrichments.iloc[highz,:]\n",
    "\n",
    "\n",
    "\n"
   ]
  },
  {
   "cell_type": "code",
   "execution_count": null,
   "metadata": {},
   "outputs": [],
   "source": [
    "simple_peaks.to_csv(\"../data/peaks_zscore4.csv\")"
   ]
  },
  {
   "cell_type": "code",
   "execution_count": null,
   "metadata": {},
   "outputs": [],
   "source": [
    "enrichments_vs_all.loc[simple_peaks.oligo.unique()].to_csv(\"peak\")"
   ]
  },
  {
   "cell_type": "code",
   "execution_count": null,
   "metadata": {},
   "outputs": [],
   "source": [
    "np.shape(enrichments_vs_all.values.flatten())"
   ]
  },
  {
   "cell_type": "code",
   "execution_count": null,
   "metadata": {},
   "outputs": [],
   "source": [
    "oligo_info2"
   ]
  },
  {
   "cell_type": "code",
   "execution_count": null,
   "metadata": {},
   "outputs": [],
   "source": [
    "plt.hist([e for e in enrichments_vs_all.values.flatten() if e !=0],density=True, bins = np.linspace(0,.2,100),histtype=\"step\", label=\"all regions\")\n",
    "plt.hist([e for e in enrichments_vs_all.loc[simple_peaks.oligo.unique()].values.flatten() if e!=0],density=True,bins = np.linspace(0,.2,100),histtype=\"step\", label=\"peaks\")\n",
    "plt.gca().set_title(\"Histogram of enrichment values for peak regions\")\n",
    "plt.gca().set_xlabel(\"enrichment value (fraction of oligo barcodes in transcript dataset)\")\n",
    "plt.gca().set_yscale(\"log\")\n",
    "plt.legend()\n",
    "\n"
   ]
  },
  {
   "cell_type": "code",
   "execution_count": null,
   "metadata": {},
   "outputs": [],
   "source": [
    "mut_counts.append(pd.Series(0,name=1)).fillna(0)"
   ]
  },
  {
   "cell_type": "code",
   "execution_count": null,
   "metadata": {},
   "outputs": [],
   "source": [
    "baseline_df"
   ]
  },
  {
   "cell_type": "code",
   "execution_count": null,
   "metadata": {},
   "outputs": [],
   "source": [
    "mut_counts"
   ]
  },
  {
   "cell_type": "code",
   "execution_count": null,
   "metadata": {},
   "outputs": [],
   "source": [
    "mut_counts"
   ]
  },
  {
   "cell_type": "code",
   "execution_count": null,
   "metadata": {},
   "outputs": [],
   "source": [
    "mut_counts"
   ]
  },
  {
   "cell_type": "code",
   "execution_count": null,
   "metadata": {},
   "outputs": [],
   "source": [
    "list(mut_counts.iloc[:,0])"
   ]
  },
  {
   "cell_type": "code",
   "execution_count": null,
   "metadata": {},
   "outputs": [],
   "source": [
    "colors"
   ]
  },
  {
   "cell_type": "code",
   "execution_count": null,
   "metadata": {},
   "outputs": [],
   "source": [
    "plt.hist([list(e) for e in xvals], weights =[list(e) for e in weighted_yvals], \n",
    "                 bins = range(0, max(max(xs) for xs in xvals)+2),histtype=\"barstacked\", color=colors,\n",
    "                \n",
    "                )"
   ]
  },
  {
   "cell_type": "code",
   "execution_count": null,
   "metadata": {},
   "outputs": [],
   "source": [
    "plt.hist([list(e) for e in xvals], weights =[list(e) for e in weighted_yvals], \n",
    "                 bins = range(0, max(max(xs) for xs in xvals)+2),histtype=\"barstacked\", color=colors,\n",
    "                \n",
    "                )"
   ]
  },
  {
   "cell_type": "code",
   "execution_count": null,
   "metadata": {},
   "outputs": [],
   "source": [
    "import itertools as it\n",
    "\n",
    "\n",
    "oifinite = oligo_info2.fillna(0).loc[oligo_info2.exp != \"other\"]\n",
    "peakrows = simple_peaks.fillna(0).loc[simple_peaks.exp != \"other\"]\n",
    "print len(peakrows.groupby(\"starts\"))\n",
    "\n",
    "startgroups =[(int( k) / 600,k) for k,rows in peakrows.groupby(\"starts\")]\n",
    "startgroups_dict = dict([[k, list([r[1] for r in g])] for k, g in it.groupby(sorted(startgroups, key = lambda x: x[0] ),key = lambda x:x[0])])\n",
    "\n",
    "\n",
    "f1, allsubs = plt.subplots(2,6, sharex=True, sharey=True)\n",
    "for s in allsubs:\n",
    "  for s2 in s:\n",
    "    s2.set_xlim(0,15)\n",
    "f1.set_size_inches(12,6)\n",
    "plt.tight_layout()\n",
    "\n",
    "\n",
    "peak_oligos = pd.DataFrame()\n",
    "start_delta = 5\n",
    "cnt = 0\n",
    "for k,starts in startgroups_dict.items()[:-1]:\n",
    "    plt.figure()\n",
    "    \n",
    "    augmented_starts = list(np.arange(-start_delta,-1)*30 + starts[0]) + starts  + list(np.arange(len(starts),len(starts)+start_delta)*30+starts[0])\n",
    "    \n",
    "    yvals= []\n",
    "    xvals= []\n",
    "    yvals_norm =[]\n",
    "    colors = []\n",
    "    baselines = []\n",
    "    baseline_is = []\n",
    "    \n",
    "    #f, subs = plt.subplots(2,1)\n",
    "    #f.set_size_inches(12,6)\n",
    "    for i,s in enumerate(augmented_starts):\n",
    "        all_df =  oifinite.loc[(oifinite.starts == s)]\n",
    "        peak_oligos = peak_oligos.append(all_df.copy())\n",
    "        peak_oligos.loc[all_df.index,\"peakid\"] = cnt\n",
    "        \n",
    "        if len(all_df) == 0: continue\n",
    "        baseline_df =all_df.loc[(all_df.mutant_num==0)]\n",
    "        mutated_df = all_df.loc[all_df.mutant_num>0]\n",
    "        \n",
    "        baseline_expr = (baseline_df.n_transcripts/ baseline_df.n_total_bcs).mean()\n",
    "        mut_counts  = mutated_df.groupby(\"mutant_num\").agg(lambda x: (x.n_transcripts/x.n_total_bcs ).mean(),)\n",
    "        for j in range(1,5):\n",
    "           if not j in mut_counts.index:\n",
    "               mut_counts = mut_counts.append(pd.Series(0,name=i)).fillna(0)\n",
    "                \n",
    "        if len(mut_counts) == 0: continue\n",
    "        if len(baseline_df) == 0: continue\n",
    "        if baseline_expr == 0: continue\n",
    "\n",
    "        baselines += [baseline_expr*4]\n",
    "        baseline_is +=[i]\n",
    "        yvals_norm += [list(mut_counts.iloc[:,0] / baseline_expr)]\n",
    "#        print (baseline_df.n_transcripts/ baseline_df.n_total_bcs).mean(), mut_counts\n",
    "#        print  yvals_norm\n",
    "        yvals += [list(mut_counts.iloc[:,0])]\n",
    "        xvals += [list(mut_counts.index +i)]\n",
    "        colors += [\"C{}\".format(i%10)]\n",
    "\n",
    "        \n",
    "        #subs[0].plot(mut_counts.index +i, mut_counts )\n",
    "        #subs[1].scatter(i, (baseline_df.n_transcripts / baseline_df.n_total_bcs).mean(),color = colors[-1])\n",
    "        \n",
    "    f,subs = plt.subplots(1,2)\n",
    "    f.set_size_inches(12,4)\n",
    "    xvals = np.array(xvals)\n",
    "    yvals = np.array(yvals)\n",
    "    totals = dict([(idx, [  e for xv in xvals  for e in xv ].count(idx)) for idx in set(x for xv in xvals for x in xv)]) #[dict([e, list(xv).count(e)] for e in set(xv) ) for xv in xvals]\n",
    "    #weighted_yvals = [[y / totals[i][xvals[i][j]]  for j,y in enumerate(yv) if totals[i][xvals[i][j]] != 0 ] for i, yv in enumerate( yvals)]\n",
    "    #totals =[dict([e, list(xv).count(e)] for e in set(xv) ) for xv in xvals]\n",
    "    weighted_yvals = [[y / totals[xvals[i][j]]  for j,y in enumerate(yv) if totals[xvals[i][j]] != 0 ] for i, yv in enumerate( yvals)]\n",
    "       \n",
    "    \n",
    "        \n",
    "    subs[0].hist([list(e) for e in xvals], weights =[list(e) for e in weighted_yvals], \n",
    "                 bins = range(0, max(max(xs) for xs in xvals)+2),histtype=\"barstacked\", color=colors,\n",
    "                \n",
    "                )\n",
    "\n",
    "    allsubs[cnt/6,cnt%6].hist([list(e) for e in xvals], weights =[list(e) for e in weighted_yvals], \n",
    "                 bins = range(0, max(max(xs) for xs in xvals)+2),histtype=\"barstacked\", color=colors,\n",
    "                \n",
    "                )\n",
    "    allsubs[cnt/6,cnt%6].set_title(\"P{0}: {1}-{2}\".format(cnt,augmented_starts[0],augmented_starts[-1]))\n",
    "    cnt+=1\n",
    "    subs[1].hist([list(e) for e in xvals], \n",
    "                 weights =yvals_norm, bins = range(0, max(max(xs) for xs in xvals)+2),\n",
    "                 histtype=\"barstacked\", color=colors)\n",
    "    \n",
    "    subs[1].set_ylabel(\"ratio of mutant enrichment to WT\")\n",
    "    subs[0].set_title(\"transcript for mutants position\\n for range {} - {}\".format(augmented_starts[0],augmented_starts[-1]))\n",
    "    subs[1].set_title(\"mutant depletion vs wildtype oligo\\n for range {} - {}\".format(augmented_starts[0],augmented_starts[-1]))\n",
    "\n",
    "                                \n",
    "    f = plt.figure()\n",
    "    f,subs = plt.subplots(1,2)\n",
    "    subs[0].scatter(totals.keys(),totals.values())\n",
    "    #plt.scatter(totals.keys(),totals.value[s())\n",
    "    for i, b in enumerate(baselines):\n",
    "        subs[1].scatter(baseline_is[i],[b], c = \"C{}\".format((baseline_is[i])%10))\n",
    "    subs[1].set_ylim(0, max(baselines))\n",
    "        \n",
    "        #print baseline_exp\n",
    "\n",
    "print len(set([k[0] for k in startgroups]))"
   ]
  },
  {
   "cell_type": "code",
   "execution_count": null,
   "metadata": {},
   "outputs": [],
   "source": [
    "len(peak_oligos.loc[rows.index])"
   ]
  },
  {
   "cell_type": "code",
   "execution_count": null,
   "metadata": {},
   "outputs": [],
   "source": [
    "peak_oligos[\"mutation_start\"] = peak_oligos.starts + (peak_oligos.mutant_num-1)*30\n",
    "peak_oligos.loc[peak_oligos.mutant_num == 0, \"mutation_start\"] = None\n",
    "peak_oligos[\"enrichment\"] = peak_oligos.n_transcripts / peak_oligos.n_total_bcs\n",
    "\n"
   ]
  },
  {
   "cell_type": "code",
   "execution_count": null,
   "metadata": {},
   "outputs": [],
   "source": [
    "po.loc[pd.notna(po.mutation_start)].mutation_start.unique()"
   ]
  },
  {
   "cell_type": "code",
   "execution_count": null,
   "metadata": {},
   "outputs": [],
   "source": [
    "len(po.loc[po.mutation_start.notnull()])\n",
    "po.loc[po.mutation_start.notnull()].duplicated().sum()\n",
    "po.loc[po.mutation_start.notnull()].groupby(po.loc[po.mutation_start.notnull()]\\\n",
    "                                            .apply(lambda x: x.mutation_start - 30,axis = 1))\n"
   ]
  },
  {
   "cell_type": "code",
   "execution_count": null,
   "metadata": {},
   "outputs": [],
   "source": [
    "po.loc[po.mutation_start.notnull()].groupby(po.mutation_start)"
   ]
  },
  {
   "cell_type": "code",
   "execution_count": null,
   "metadata": {},
   "outputs": [],
   "source": [
    "\n",
    "f1,subs1 = plt.subplots(1,3,sharex=False,sharey=True)\n",
    "f1.set_size_inches(12,4)\n",
    "f3,subs3 = plt.subplots(1,3,sharex=False,sharey=False)\n",
    "f3.set_size_inches(12,4)\n",
    "selections = pd.DataFrame()\n",
    "\n",
    "cnt = -1\n",
    "for i in [4,5,8]:\n",
    "    cnt+=1\n",
    "    po = peak_oligos.loc[(peak_oligos.peakid == i) & (peak_oligos.n_transcripts >=0)].copy()\n",
    "\n",
    "    #print po.mutation_start.unique()\n",
    "    enrichments = po.loc[pd.notnull(po.mutation_start)].groupby(\"mutation_start\").enrichment.median()\n",
    "    \n",
    "    wtvals = pd.DataFrame()\n",
    "    #print po.mutation_start.unique()\n",
    "    for s in po.loc[pd.notna(po.mutation_start)].mutation_start.unique():\n",
    "        wtoverlaps = po.loc[(po.mutant_num ==0 ) & (po.starts > s-151 ) & (po.starts < s+1)]\n",
    "        wtvals.at[s,\"wtval\"] = wtoverlaps.enrichment.mean()\n",
    "        \n",
    "    enrichments = po.loc[pd.notnull(po.mutation_start)].groupby(\"mutation_start\").enrichment.median()\n",
    "    #enrichments = po.loc[pd.notnull(po.mutation_start)].groupby(\"mutation_start\").enrichment.median()\n",
    "    \n",
    "    #po.loc[po.mutation_start.notnull()].groupby(po.mutation_start)\n",
    "    #po.loc[po.mutation_start.notnull()].groupby(po.mutation_start - 30)\n",
    "    #po.loc[po.mutation_start.notnull()].groupby(po.apply(lambda x: x.mutation_start - 30,axis = 1))\n",
    "    enrichments2 = po.loc[po.mutation_start.notnull()].groupby(po.loc[po.mutation_start.notnull()]\\\n",
    "                                            .apply(lambda x: x.mutation_start - 30,axis = 1)).enrichment.median()\n",
    "   \n",
    "    \n",
    "    esmooth = (enrichments+enrichments2) / 2\n",
    "    selections = selections.append(peak_oligos.loc[peak_oligos.starts.isin(esmooth.loc[esmooth < .005].index)])\n",
    "    wts = po.loc[po.mutant_num == 0].groupby(\"peakid\").enrichment.agg(\"median\")\n",
    "    wtstarts = po.loc[po.mutant_num == 0].groupby(\"peakid\").starts.agg(\"first\")\n",
    "\n",
    "    muts = po.loc[po.mutant_num != 0].groupby(\"peakid\").enrichment.agg(\"median\")\n",
    "    mutstarts = po.loc[po.mutant_num != 0].groupby(\"peakid\").starts.agg(\"first\")\n",
    "\n",
    "    \n",
    "    \n",
    "    subs1[cnt].set_ylabel(\"Expression (fraction umis observed)\")\n",
    "    subs1[cnt].set_xlabel(\"Mutation position\")\n",
    "\n",
    "    subs1[cnt].scatter(enrichments.index, enrichments, label =\"mutations\")\n",
    "    subs1[cnt].scatter(wtvals.index, wtvals, label=\"wild type\")\n",
    "    subs1[cnt].scatter(esmooth.index, esmooth, label=\"box smoothed mutant\")\n",
    "\n",
    "    subs3[cnt].boxplot([r.enrichment \n",
    "                 for k,r in po.loc[pd.notnull(po.mutation_start)]\\\n",
    "                 .groupby(\"mutation_start\")])\n",
    "    subs1[cnt].scatter( wtstarts, wts,label= None)\n",
    "    subs1[cnt].scatter( mutstarts, muts, label = None)\n",
    "    #print max(wtvals.max()+enrichments.max())\n",
    "\n",
    "    #print max([enrichments.max(),wtvals.max()])\n",
    "    #subs[0].set_ylim([0,max([enrichments.max(),wtvals.max()])])\n",
    "    subs1[cnt].set_ylim([-.000,.025])\n",
    "    subs1[cnt].set_title(\"mutant vs wt-expression for peak: {}\".format(i))\n",
    "    #subs3[cnt].set_yscale(\"log\")\n",
    "    subs1[cnt].legend()\n",
    "    #subs[0].autoscale(enable=True, axis='y', tight=True)\n",
    "\n",
    "f1.suptitle(\"expression rates for selected peaks\")\n",
    "\n",
    "f2,subs2 = plt.subplots(1,1)\n",
    "f2.set_size_inches(12,6)\n",
    "subs2.set_xlim(0,600000)\n",
    "subs2.scatter(peak_oligos.groupby(\"peakid\").starts.agg(\"first\"),\n",
    "              np.zeros(len(peak_oligos.groupby(\"peakid\").starts.agg(\"first\"))),\n",
    "              150,label=\"all peaks\")\n",
    "subs2.scatter(selections.groupby(\"peakid\").starts.agg(\"first\"),\n",
    "              [0]*3,\n",
    "              selections.groupby(\"peakid\").n_transcripts.sum(),edgecolor=\"black\",color=\"none\")\n",
    "\n",
    "subs2.set_xlim(0,600000)\n",
    "subs2.set_ylim(-.15,.15)\n",
    "\n",
    "subs2.scatter(selections.groupby(\"peakid\").starts.agg(\"first\"),\n",
    "              [0]*3,150,label=\"selected peaks\")\n",
    "\n",
    "subs2.legend(loc=4)\n",
    "\n"
   ]
  },
  {
   "cell_type": "code",
   "execution_count": null,
   "metadata": {},
   "outputs": [],
   "source": []
  },
  {
   "cell_type": "code",
   "execution_count": null,
   "metadata": {},
   "outputs": [],
   "source": [
    "len([peakgroups.loc[:,l] for l in  peakgroups.index.levels[1][:]])"
   ]
  },
  {
   "cell_type": "code",
   "execution_count": null,
   "metadata": {},
   "outputs": [],
   "source": [
    "len(peakgroups.index.levels[0])"
   ]
  },
  {
   "cell_type": "code",
   "execution_count": null,
   "metadata": {},
   "outputs": [],
   "source": [
    "peak_expressions"
   ]
  },
  {
   "cell_type": "code",
   "execution_count": null,
   "metadata": {},
   "outputs": [],
   "source": [
    "plt.hist(peak_expressions.dropna().loc[ex,0])"
   ]
  },
  {
   "cell_type": "code",
   "execution_count": null,
   "metadata": {},
   "outputs": [],
   "source": [
    "peak_expressions = peak_oligos.groupby([\"exp\",\"peakid\"]).apply(lambda x:x.enrichment)\n",
    "\n",
    "\n",
    "plt.hist([ [l + v*0 \n",
    "             for l in peak_expressions.index.levels[1]  \n",
    "   for v in peak_expressions.fillna(0).loc[ex,l].values ]\n",
    " for ex in  peak_expressions.index.levels[0] \n",
    "\n",
    "         ],\n",
    "         weights =[ [v/len(peak_expressions.fillna(0).loc[ex,l].values)  #normalize the weights by # of oligos\n",
    "                     for l in peak_expressions.index.levels[1]  \n",
    "           for v in peak_expressions.fillna(0).loc[ex,l].values ]\n",
    "         for ex in  peak_expressions.index.levels[0] \n",
    "         ]  ,label = peak_expressions.index.levels[0],\n",
    "         density=True\n",
    "        )\n",
    "plt.gcf().set_size_inches(8,5)\n",
    "plt.legend()\n",
    "\n",
    "plt.figure()\n",
    "plt.hist([ [len(peak_expressions.loc[ex,l])  #normalize the weights by # of oligos\n",
    "                     for l in peak_expressions.index.levels[1]  \n",
    "           for v in peak_expressions.fillna(0).loc[ex,l].values ]\n",
    "         for ex in  peak_expressions.index.levels[0] \n",
    "         ],label =peak_expressions.index.levels[0] )\n",
    "plt.legend()\n",
    "pass\n",
    "\n",
    "\n"
   ]
  },
  {
   "cell_type": "code",
   "execution_count": null,
   "metadata": {},
   "outputs": [],
   "source": [
    "exps = peak_oligos.exp.unique()\n",
    "peakgroups = peak_oligos.groupby([\"exp\",\"peakid\"]).enrichment.sum()\n",
    "\n",
    "\n",
    "\n",
    "\n",
    "#subs2.scatter(peak_oligos.groupby(\"peakid\").starts.agg(\"first\"),\n",
    "#              np.zeros(len(peak_oligos.groupby(\"peakid\").starts.agg(\"first\"))),\n",
    "#              150,label=\"all peaks\")"
   ]
  },
  {
   "cell_type": "code",
   "execution_count": null,
   "metadata": {},
   "outputs": [],
   "source": [
    "p8 = selections.loc[selections.peakid == 8]\n",
    "\n",
    "len(selections)\n",
    "rangesel = peak_oligos.loc[(peak_oligos.starts> p8.starts.min()) & (peak_oligos.starts<= p8.starts.max())]\n",
    "print len(rangesel)\n",
    "plt.scatter(rangesel.loc[rangesel.mutant_num==0].starts, \n",
    "            rangesel.loc[rangesel.mutant_num ==0].enrichment)\n",
    "\n",
    "plt.scatter(rangesel.loc[rangesel.mutant_num!=0].starts, \n",
    "            rangesel.loc[rangesel.mutant_num !=0].enrichment)\n",
    "plt.scatter(p8.loc[p8.mutant_num ==0].starts, p8.loc[p8.mutant_num ==0].enrichment)\n",
    "plt.figure()\n",
    "\n",
    "plt.hist([selections.loc[selections.mutant_num!=0].enrichment,\n",
    "          selections.loc[selections.mutant_num==0].enrichment],density = True,bins = np.linspace(0,.25,25))\n",
    "#plt.hist(selections.loc[selections.mutant_num!=0].enrichment,density = True,bins = np.linspace(0,.15,25))\n",
    "#plt.gca().set_yscale(\"log\")\n",
    "\n",
    "\n",
    "plt.figure()\n",
    "plt.autoscale(enable=True, tight=True)\n",
    "\n",
    "plt.gca().set_yscale(\"log\")\n",
    "plt.scatter(p8.starts, p8.enrichment+.001,color = p8.mutant_num.apply(lambda x:\"red\" if x == 0 else \"blue\"))\n",
    "\n",
    "\n",
    "plt.figure()\n",
    "mgroup2 = (p8.loc[p8.mutant_num!=0]).groupby(\"mutation_start\").enrichment.agg('median')\n",
    "mgroup = (p8.loc[p8.mutant_num==0]).groupby(\"starts\").enrichment.agg('median')\n",
    "\n",
    "print mgroup\n",
    "plt.scatter(mgroup.index, mgroup, 200)\n",
    "plt.scatter(mgroup2.index, mgroup2)\n",
    "\n",
    "plt.gca().set_ylim(0, mgroup.max()+mgroup2.max()) #rangesel.enrichment.max())\n",
    "\n"
   ]
  },
  {
   "cell_type": "code",
   "execution_count": null,
   "metadata": {},
   "outputs": [],
   "source": [
    "peakofinterest = 4,5,8,10"
   ]
  },
  {
   "cell_type": "code",
   "execution_count": null,
   "metadata": {},
   "outputs": [],
   "source": [
    "oligo_info2.mutant_num.unique()"
   ]
  },
  {
   "cell_type": "code",
   "execution_count": null,
   "metadata": {},
   "outputs": [],
   "source": [
    "[\"C{}\".format(i) for i in range(len(baselines))]"
   ]
  },
  {
   "cell_type": "code",
   "execution_count": null,
   "metadata": {},
   "outputs": [],
   "source": [
    "xvals"
   ]
  },
  {
   "cell_type": "code",
   "execution_count": null,
   "metadata": {},
   "outputs": [],
   "source": [
    "totals"
   ]
  },
  {
   "cell_type": "code",
   "execution_count": null,
   "metadata": {},
   "outputs": [],
   "source": [
    "    weighted_yvals = [[y / totals[xvals[i][j]]  for j,y in enumerate(yv) if totals[[i][j]] != 0 ] for i, yv in enumerate( yvals)]\n"
   ]
  },
  {
   "cell_type": "code",
   "execution_count": null,
   "metadata": {},
   "outputs": [],
   "source": [
    "#[[yv for j,y in enumerate(yv) if totals[xvals[i][j]] != 0 ] for i, yv in enumerate( yvals)]\n",
    "#[yv for i,yv in enumerate( yvals)]\n",
    "xvals[0]"
   ]
  },
  {
   "cell_type": "code",
   "execution_count": null,
   "metadata": {},
   "outputs": [],
   "source": [
    "totals"
   ]
  },
  {
   "cell_type": "code",
   "execution_count": null,
   "metadata": {},
   "outputs": [],
   "source": [
    "y"
   ]
  },
  {
   "cell_type": "code",
   "execution_count": null,
   "metadata": {},
   "outputs": [],
   "source": [
    "xvals"
   ]
  },
  {
   "cell_type": "code",
   "execution_count": null,
   "metadata": {},
   "outputs": [],
   "source": [
    "dict([(idx, [  e for xv in xvals  for e in xv ].count(idx)) for idx in set(x for xv in xvals for x in xv)])"
   ]
  },
  {
   "cell_type": "code",
   "execution_count": null,
   "metadata": {},
   "outputs": [],
   "source": [
    "[e for e1 in totals for e in e1.values()]"
   ]
  },
  {
   "cell_type": "code",
   "execution_count": null,
   "metadata": {},
   "outputs": [],
   "source": [
    "[e for e1 in totals for e in e1.values()]"
   ]
  },
  {
   "cell_type": "code",
   "execution_count": null,
   "metadata": {},
   "outputs": [],
   "source": [
    "mut_counts.index.levels[0]"
   ]
  },
  {
   "cell_type": "code",
   "execution_count": null,
   "metadata": {},
   "outputs": [],
   "source": [
    "startgroups_dict"
   ]
  },
  {
   "cell_type": "code",
   "execution_count": null,
   "metadata": {},
   "outputs": [],
   "source": [
    "baseline_df"
   ]
  },
  {
   "cell_type": "code",
   "execution_count": null,
   "metadata": {},
   "outputs": [],
   "source": [
    "list([v for k,v in startgroups_dict.iteritems()])"
   ]
  },
  {
   "cell_type": "code",
   "execution_count": null,
   "metadata": {},
   "outputs": [],
   "source": [
    "#oligo_info2.starts.isin([e for k,v in startgroups_dict.iteritems() for e in v]).sum()"
   ]
  },
  {
   "cell_type": "code",
   "execution_count": null,
   "metadata": {},
   "outputs": [],
   "source": []
  },
  {
   "cell_type": "code",
   "execution_count": null,
   "metadata": {},
   "outputs": [],
   "source": [
    "#plt.hist(oifinite.loc[oifinite.starts.isin([e for k,v in startgroups_dict.iteritems() for e in v])].n_observed_bcs ,density =True )\n",
    "#plt.hist(oifinite.n_observed_bcs, density = True)\n",
    "\n",
    "peak_oligos = oifinite.loc[oifinite.starts.isin([e for k,v in startgroups_dict.iteritems() for e in v])]\n",
    "print \"selected peaks mean {}\".format(oifinite.loc\\\n",
    "                                      [oifinite.starts.isin([e for k,v in startgroups_dict.iteritems() for e in v])]\\\n",
    "                                      .apply(lambda x:x.n_transcripts / x.n_total_bcs,axis = 1).mean())\n",
    "print \"all means {}\".format((oifinite.n_transcripts/ oifinite.n_total_bcs).mean())\n",
    "\n"
   ]
  },
  {
   "cell_type": "code",
   "execution_count": null,
   "metadata": {},
   "outputs": [],
   "source": [
    " all_df.groupby(\"mutant_num\").apply(lambda x: x.n_transcripts)"
   ]
  },
  {
   "cell_type": "code",
   "execution_count": null,
   "metadata": {},
   "outputs": [],
   "source": [
    "all_df.groupby(\"mutant_num\").agg(lambda x:x.n_transcripts.sum())"
   ]
  },
  {
   "cell_type": "code",
   "execution_count": null,
   "metadata": {},
   "outputs": [],
   "source": [
    "np.arange(-4,-1)*30 + starts[0]"
   ]
  },
  {
   "cell_type": "code",
   "execution_count": null,
   "metadata": {},
   "outputs": [],
   "source": [
    "np.arange(len(starts),len(starts+3))*30+starts[0]"
   ]
  },
  {
   "cell_type": "code",
   "execution_count": null,
   "metadata": {},
   "outputs": [],
   "source": [
    "mut_counts.index"
   ]
  },
  {
   "cell_type": "code",
   "execution_count": null,
   "metadata": {},
   "outputs": [],
   "source": [
    "mut_counts"
   ]
  },
  {
   "cell_type": "code",
   "execution_count": null,
   "metadata": {},
   "outputs": [],
   "source": [
    "all_df"
   ]
  },
  {
   "cell_type": "code",
   "execution_count": null,
   "metadata": {},
   "outputs": [],
   "source": [
    "mut_counts"
   ]
  },
  {
   "cell_type": "code",
   "execution_count": null,
   "metadata": {},
   "outputs": [],
   "source": [
    "mut_counts"
   ]
  },
  {
   "cell_type": "code",
   "execution_count": null,
   "metadata": {},
   "outputs": [],
   "source": [
    "mut_counts"
   ]
  },
  {
   "cell_type": "code",
   "execution_count": null,
   "metadata": {},
   "outputs": [],
   "source": [
    "mut_counts"
   ]
  },
  {
   "cell_type": "code",
   "execution_count": null,
   "metadata": {},
   "outputs": [],
   "source": []
  },
  {
   "cell_type": "code",
   "execution_count": null,
   "metadata": {},
   "outputs": [],
   "source": [
    "len(xvals)"
   ]
  },
  {
   "cell_type": "code",
   "execution_count": null,
   "metadata": {},
   "outputs": [],
   "source": [
    "len(startgroups_dict)"
   ]
  },
  {
   "cell_type": "code",
   "execution_count": null,
   "metadata": {},
   "outputs": [],
   "source": [
    "import itertools as it\n",
    "\n",
    "peakrows = simple_peaks.dropna()\n",
    "print len(peakrows.groupby(\"starts\"))\n",
    "\n",
    "startgroups =[(int( k) / 600,k) for k,rows in peakrows.groupby(\"starts\")]\n",
    "startgroups_dict = dict([[k, list([r[1] for r in g])] for k, g in it.groupby(sorted(startgroups, key = lambda x: x[0] ),key = lambda x:x[0])])\n",
    "\n",
    "for k,starts in startgroups_dict.items()[:-1]:\n",
    "    plt.figure()\n",
    "    \n",
    "    augmented_starts = list(np.arange(-3,-1)*30 + starts[0]) + starts  + list(np.arange(len(starts),len(starts)+3)*30+starts[0])\n",
    "    \n",
    "    yvals= []\n",
    "    xvals= []\n",
    "    for i,s in enumerate(augmented_starts):\n",
    "        all_df =  oifinite.loc[(oifinite.starts == s)]\n",
    "        if len(all_df) == 0: continue\n",
    "        baseline_df =all_df.loc[(all_df.mutant_num==0)]\n",
    "        mut_counts  = all_df.groupby(\"mutant_num\").agg(lambda x: (x.n_transcripts / x.n_total_bcs).mean(),)\n",
    "        yvals += list(mut_counts.iloc[:,0])\n",
    "        xvals += list(mut_counts.index +i)\n",
    "\n",
    "        plt.plot(mut_counts.index +i, mut_counts )\n",
    "        \n",
    "    plt.figure()\n",
    "    xvals = np.array(xvals)\n",
    "    yvals = np.array(yvals)\n",
    "    totals =dict([e, list(xvals).count(e)] for e in set(xvals) )\n",
    "    weighted_yvals = [y / totals[xvals[i]]  for i,y in enumerate(yvals) if totals[xvals[i]] != 0 ]\n",
    "    plt.hist(xvals, weights =weighted_yvals, bins = range(min(xvals)-3, max(xvals)+3))\n",
    "    \n",
    "\n",
    "                                \n",
    "        \n",
    "        \n",
    "        #print baseline_exp\n",
    "\n",
    "print len(set([k[0] for k in startgroups]))"
   ]
  },
  {
   "cell_type": "code",
   "execution_count": null,
   "metadata": {},
   "outputs": [],
   "source": []
  },
  {
   "cell_type": "code",
   "execution_count": null,
   "metadata": {},
   "outputs": [],
   "source": [
    "[[k, [list([r[1] for r in g])]] for k, g in it.groupby(sorted(startgroups, key = lambda x: x[0] ),key = lambda x:x[0])]"
   ]
  },
  {
   "cell_type": "code",
   "execution_count": null,
   "metadata": {},
   "outputs": [],
   "source": []
  },
  {
   "cell_type": "code",
   "execution_count": null,
   "metadata": {},
   "outputs": [],
   "source": [
    "startgroups_dict"
   ]
  },
  {
   "cell_type": "code",
   "execution_count": null,
   "metadata": {},
   "outputs": [],
   "source": [
    "cols"
   ]
  },
  {
   "cell_type": "code",
   "execution_count": null,
   "metadata": {},
   "outputs": [],
   "source": [
    "cols = enrichments.columns\n",
    "drugs =[ \"HCT116_Gemcitabine2uM_BR1\", \"HCT116_Gemcitabine2uM_BR2\"]\n",
    "nodrugs = [\"HCT116_WT_BR1\",\"HCT116_WT_BR1\"]\n",
    "#for i, loc in enumerate(simple_peaks.locus_ids.unique):\n",
    "plt.scatter(simple_peaks.starts,np.log(\n",
    "    ematrix.loc[simple_peaks.id][drugs].mean(axis=1) /\\\n",
    "    ematrix.loc[simple_peaks.id][nodrugs].mean(axis=1)),color=[\"C{}\".format(int(1) if e ==0 else 0) for e in simple_peaks.mutant_num])\n",
    "\n",
    "\n",
    "celllines = {\"U2OS\":[\"U2OS_WT_BR1\",\"U2OS_WT_BR2\"],\n",
    "             \"DLD1\":[\"DLD1_WT_BR1\",\"DLD1_WT_BR2\"],\n",
    "            \"HCT116\":[\"HCT116_WT_BR1\",\"HCT116_WT_BR2\"]}\n",
    "\n",
    "plt.figure()\n",
    "plt.scatter(simple_peaks.starts,np.log(ematrix.loc[simple_peaks.id][celllines[\"DLD1\"]].mean(axis=1) /\\\n",
    "                                       ematrix.loc[simple_peaks.id][celllines[\"U2OS\"]].mean(axis=1))\n",
    "           ,color=[\"C{}\".format(int(1) if e ==0 else 0) for e in simple_peaks.mutant_num])\n",
    "\n",
    "plt.figure()\n",
    "plt.scatter(simple_peaks.starts,np.log(ematrix.loc[simple_peaks.id][celllines[\"HCT116\"]].mean(axis=1) /\\\n",
    "                                       ematrix.loc[simple_peaks.id][celllines[\"DLD1\"]].mean(axis=1))\n",
    "           ,color=[\"C{}\".format(int(1) if e ==0 else 0) for e in simple_peaks.mutant_num])\n",
    "\n",
    "plt.figure()\n",
    "plt.scatter(simple_peaks.starts,np.log(ematrix.loc[simple_peaks.id][celllines[\"HCT116\"]].mean(axis=1) /\\\n",
    "                                       ematrix.loc[simple_peaks.id][celllines[\"U2OS\"]].mean(axis=1))\n",
    "           ,color=[\"C{}\".format(int(1) if e ==0 else 0) for e in simple_peaks.mutant_num])\n",
    "\n",
    "f = plt.figure()\n",
    "plt.scatter(simple_peaks.starts,\\\n",
    "            [ematrix.loc[simple_peaks.loc[simple_peaks.locus_ids==locid].id].max().max() for locid in simple_peaks.locus_ids])\n",
    "\n",
    "f.set_size_inches(12,6)"
   ]
  },
  {
   "cell_type": "code",
   "execution_count": null,
   "metadata": {},
   "outputs": [],
   "source": [
    "\n",
    "enrichments = pd.DataFrame()\n",
    "enrichments_vs_all = pd.DataFrame()\n",
    "observations_vs_all = pd.DataFrame()\n",
    "#enrichments.index =pd.Series( oligo_info2.oligo.unique())\n",
    "for k,g in oligo_info2.groupby(\"exp\"):\n",
    "    #print  g.apply(lambda x:x.n_transcripts / x.n_observed_bcs)\n",
    "    enrichments[k] = pd.Series(g.apply(lambda x:x.n_transcripts / x.n_observed_bcs if x.n_observed_bcs > 0 else 0, axis = 1).values,index = g.apply(lambda x:x.id,axis=1))\n",
    "    enrichments_vs_all[k] = pd.Series(g.apply(lambda x:x.n_transcripts / x.n_total_bcs if x.n_total_bcs > 0 else 0, axis = 1).values,index = g.apply(lambda x:x.id,axis=1))\n",
    "    observations_vs_all[k] = pd.Series(g.apply(lambda x:x.n_observed_bcs / x.n_total_bcs if x.n_total_bcs > 0 else 0, axis = 1).values,index = g.apply(lambda x:x.id,axis=1))\n",
    "    #enrichments[k+\"_vs_bcs\"] = g.apply(lambda x:x.n_transcripts / x.n_observed_bcs, axis = 1)\n",
    "enrichments = enrichments.drop(columns=[\"other\"])\n",
    "enrichments_vs_all = enrichments_vs_all.drop(columns=[\"other\"])\n",
    "\n",
    "#plt.gca().(\"log\")"
   ]
  },
  {
   "cell_type": "code",
   "execution_count": null,
   "metadata": {},
   "outputs": [],
   "source": []
  },
  {
   "cell_type": "code",
   "execution_count": null,
   "metadata": {},
   "outputs": [],
   "source": []
  },
  {
   "cell_type": "code",
   "execution_count": null,
   "metadata": {},
   "outputs": [],
   "source": [
    "print len(enrichments)\n",
    "print len(oligo_info2.id.unique())"
   ]
  },
  {
   "cell_type": "code",
   "execution_count": null,
   "metadata": {},
   "outputs": [],
   "source": [
    "enrichments.sort_values(\"HCT116_Gemcitabine2uM_BR1\",ascending = False)"
   ]
  },
  {
   "cell_type": "code",
   "execution_count": null,
   "metadata": {},
   "outputs": [],
   "source": [
    "np.percentile((oligo_info2.n_transcripts / oligo_info2.n_observed_bcs),99.9)\n",
    "\n",
    "len(oligo_info2)*.001\n",
    "topset = oligo_info2.iloc[np.nonzero((oligo_info2.n_transcripts / oligo_info2.n_observed_bcs )> 8)[0]]\n",
    "plt.scatter(topset.starts,topset.n_transcripts / topset.n_observed_bcs)"
   ]
  },
  {
   "cell_type": "code",
   "execution_count": null,
   "metadata": {},
   "outputs": [],
   "source": [
    "plt.hist(oligo_info2.n_transcripts / oligo_info2.n_total_bcs, bins = np.logspace(np.log10(0.0001),np.log10(50), 50))\n",
    "\n",
    "plt.gca().set_xscale(\"log\")\n",
    "plt.gca().set_yscale(\"log\")\n",
    "\n",
    "plt.figure()\n",
    "plt.hist(oligo_info2.n_transcripts / oligo_info2.n_observed_bcs, bins = np.logspace(np.log10(.5),np.log10(50), 50))\n",
    "\n",
    "plt.gca().set_xscale(\"log\")\n",
    "plt.gca().set_yscale(\"log\")\n"
   ]
  },
  {
   "cell_type": "code",
   "execution_count": null,
   "metadata": {},
   "outputs": [],
   "source": [
    "plt.plot(sorted(oligos_lib.starts))\n",
    "#oligos_lib.starts\n",
    "oligos_lib.chromosome_info"
   ]
  },
  {
   "cell_type": "code",
   "execution_count": null,
   "metadata": {},
   "outputs": [],
   "source": [
    "import matplotlib\n",
    "%matplotlib inline\n",
    "from matplotlib import pyplot as plt\n"
   ]
  },
  {
   "cell_type": "code",
   "execution_count": null,
   "metadata": {},
   "outputs": [],
   "source": [
    "oligos_lib = OLIGO_LIBRARY\n",
    "oligos_lib[\"id\"] = oligos_lib.index\n",
    "oligo_info2 = oligo_info.copy().join(oligos_lib, on =\"oligo\").dropna()"
   ]
  },
  {
   "cell_type": "code",
   "execution_count": null,
   "metadata": {},
   "outputs": [],
   "source": [
    "positive_controls = pd.read_csv(POSITIVE_CONTROLS_FILE)\n",
    "positive_control_rows = oligo_info2.loc[oligo_info2.RefSeqID.isin(positive_controls.Name)]"
   ]
  },
  {
   "cell_type": "markdown",
   "metadata": {},
   "source": [
    "Q: Given the list of positive control oligos which are known to be expressed, do we see these in the transcript data? Are they transcribed abundantly?"
   ]
  },
  {
   "cell_type": "code",
   "execution_count": null,
   "metadata": {},
   "outputs": [],
   "source": [
    "\n",
    "f, subs = plt.subplots(1,1)\n",
    "\n",
    "s = subs\n",
    "s.semilogy()\n",
    "positive_control_info = oligo_info.loc[oligo_info.oligo.isin(positive_control_rows.id)]\n",
    "bins = np.linspace(0,150,75)\n",
    "s.hist(oligo_info2.n_transcripts, density=True, bins = bins, label=\"all oligos\")\n",
    "s.hist(positive_control_rows.n_transcripts, density=True, bins = bins, label=\"positive controls\")\n",
    "s.set_title(\"total transcript abundance distribution\")\n",
    "s.set_xlabel(\"transcript count\")\n",
    "s.set_ylabel(\"p(x)\")\n",
    "s.legend()\n",
    "\n",
    "\n",
    "\n",
    "pass"
   ]
  },
  {
   "cell_type": "code",
   "execution_count": null,
   "metadata": {},
   "outputs": [],
   "source": [
    "oi2_finite = oligo_info2.dropna()\n",
    "transcript_groups = oi2.groupby(\"mutant_num\").n_transcripts\n",
    "\n",
    "h = plt.hist([e[1].values for e in transcript_groups], bins = np.linspace(0,20,10),density=True,label = [\"Mutation at position {}\".format(k) if k != 0 else \"No mutation\" for k,v in transcript_groups])\n",
    "plt.legend()\n",
    "\n",
    "\n",
    "plt.gca().set_ylabel(\"frequency\")\n",
    "plt.gca().set_xlabel(\"# of transcripts observed / oligo\")\n",
    "\n",
    "#plt.hist([list(v for v in grp) for grp in transcript_groups], bins = np.linspace(0,20), density = True)\n",
    "#plt.legend()\n",
    "\n",
    "plt.title(\"histogram of transcript count,\\n broken down by mutation position\")"
   ]
  },
  {
   "cell_type": "code",
   "execution_count": null,
   "metadata": {},
   "outputs": [],
   "source": [
    "transcript_groups.agg(\"mean\")"
   ]
  },
  {
   "cell_type": "markdown",
   "metadata": {},
   "source": [
    "#TABLE 1#\n",
    "Enrichment counts for each oligo in each cell conditioned, in a table"
   ]
  },
  {
   "cell_type": "code",
   "execution_count": null,
   "metadata": {},
   "outputs": [],
   "source": [
    "import scipy.stats as stats\n",
    "\n",
    "f,subs = plt.subplots(3,1)\n",
    "f.set_size_inches(8,12)\n",
    "\n",
    "label = enrichments.columns\n",
    "\n",
    "subs[0].hist([enrichments.values.transpose()[i,np.nonzero(col>0)[0]] for i,col in  enumerate(enrichments.values.transpose())]\n",
    "             ,bins = np.linspace(0,4,100),\n",
    "             density = True,histtype =\"step\",\n",
    "            label = label)\n",
    "subs[1].hist([enrichments_vs_all.values.transpose()[i,np.nonzero(col>0)[0]] for i,col in  enumerate(enrichments_vs_all.values.transpose())],\n",
    "             bins = np.linspace(0,.025,100),density = True,histtype =\"step\", label = label)\n",
    "subs[2].hist([observations_vs_all.values.transpose()[i,np.nonzero(col>0)[0]] for i,col in  enumerate(observations_vs_all.values.transpose())],\n",
    "             bins = np.linspace(0,.025,100),density=True,histtype =\"step\", label = label)\n",
    "\n",
    "subs[0].set_title(\"number of transcripts / number of umi barcodes observed in transcript sequencing \\nby experimental condition\")\n",
    "subs[1].set_title(\"number of transcripts / number of umi barcodes observed in oligo library sequencing \\nby experimental condition\")\n",
    "subs[2].set_title(\"fraction of transcipt umis matched to\\n barcodes in oligo sequencing\")\n",
    "\n",
    "for s in subs:\n",
    "    s.legend()\n",
    "    s.set_xlabel(\"enrichment\")\n",
    "plt.tight_layout()"
   ]
  },
  {
   "cell_type": "code",
   "execution_count": null,
   "metadata": {},
   "outputs": [],
   "source": [
    "plt.hist(stats.zscore(enrichments_vs_all.values.transpose()[0]))"
   ]
  },
  {
   "cell_type": "code",
   "execution_count": null,
   "metadata": {},
   "outputs": [],
   "source": []
  },
  {
   "cell_type": "code",
   "execution_count": null,
   "metadata": {},
   "outputs": [],
   "source": [
    "bins = np.linspace(0,600000,200)\n",
    "z_2 =enrichments.loc[stats.zscore(col[np.nonzero(col>0)[0]])>4]\n",
    "plt.hist(oligo_info2.loc[oligo_info2.oligo.isin(z_2.index)].starts,bins =bins)\n",
    "pass"
   ]
  },
  {
   "cell_type": "code",
   "execution_count": null,
   "metadata": {},
   "outputs": [],
   "source": [
    "\n",
    "plt.hist([stats.zscore(col[np.nonzero(col>0)[0]]) for i,col in  enumerate(enrichments_vs_all.values.transpose())],   \n",
    "         bins = np.linspace(-2,3,100),\n",
    "         density = True,histtype =\"step\", label = label)\n",
    "plt.legend()\n",
    "pass"
   ]
  },
  {
   "cell_type": "code",
   "execution_count": null,
   "metadata": {},
   "outputs": [],
   "source": []
  },
  {
   "cell_type": "code",
   "execution_count": null,
   "metadata": {},
   "outputs": [],
   "source": [
    "\n",
    "f, subs = plt.subplots(3,1)\n",
    "f.set_size_inches(8,12)\n",
    "s = subs[0]\n",
    "for i in range(len(enrichments.columns)):\n",
    "    s.scatter(enrichments.iloc[:,i].transpose(),enrichments_vs_all.iloc[:,i].transpose())\n",
    "    \n",
    "    \n",
    "s.legend()\n",
    "s.set_title(\"enrichment of transcripts in observed bcs vs in all\")\n",
    "s.set_ylabel(\"vs all barcodes\")\n",
    "s.set_xlabel(\"vs observed bcs only\")\n",
    "\n",
    "s = subs[1]\n",
    "for i in range(len(enrichments.columns)):\n",
    "    s.scatter(enrichments_vs_all.iloc[:,i].transpose(),observations_vs_all.iloc[:,i].transpose())\n",
    "    \n",
    "    \n",
    "s.legend()\n",
    "s.set_title(\"txn counts against all vs umi fraction bc observed\")\n",
    "s.set_ylabel(\"umiobs vs all\")\n",
    "s.set_xlabel(\"txnum vs all\")\n",
    "\n",
    "\n",
    "s = subs[2]\n",
    "for i in range(len(enrichments.columns)):\n",
    "    s.scatter(enrichments.iloc[:,i].transpose(),observations_vs_all.iloc[:,i].transpose())\n",
    "    \n",
    "    \n",
    "s.legend()\n",
    "s.set_title(\"txn counts against all vs umi fraction bc observed\")\n",
    "s.set_ylabel(\"umiobs vs all\")\n",
    "s.set_xlabel(\"txnum vs all\")\n",
    "\n",
    "s.set_xlim([0,5])\n",
    "s.set_ylim([0,.04])\n",
    "\n",
    "\n",
    "plt.tight_layout()\n"
   ]
  },
  {
   "cell_type": "markdown",
   "metadata": {},
   "source": [
    "# QUESTION 2: #\n",
    "what is the genomic distribution of transcript counts?"
   ]
  },
  {
   "cell_type": "code",
   "execution_count": null,
   "metadata": {},
   "outputs": [],
   "source": [
    "expression"
   ]
  },
  {
   "cell_type": "code",
   "execution_count": null,
   "metadata": {},
   "outputs": [],
   "source": [
    "m0series"
   ]
  },
  {
   "cell_type": "code",
   "execution_count": null,
   "metadata": {},
   "outputs": [],
   "source": [
    "m0series"
   ]
  },
  {
   "cell_type": "code",
   "execution_count": null,
   "metadata": {},
   "outputs": [],
   "source": [
    "eva = enrichments_vs_all"
   ]
  },
  {
   "cell_type": "code",
   "execution_count": null,
   "metadata": {},
   "outputs": [],
   "source": []
  },
  {
   "cell_type": "code",
   "execution_count": null,
   "metadata": {},
   "outputs": [],
   "source": [
    "\n",
    "i=5\n",
    "plt.gcf().set_size_inches(12,4)\n",
    "m0 = enrichments_vs_all.loc[oligos_lib.mutant_num == 0]\n",
    "for i in range(8):\n",
    "    m0series = pd.Series(eva.iloc[:,i].values, index = eva.apply(lambda x: oligos_lib.loc[x.name].starts,axis=1).values, )\n",
    "    plt.scatter(m0series.index,m0series, 50,label = eva.columns[i])\n",
    "    \n",
    "plt.legend()\n",
    "plt.legend()"
   ]
  },
  {
   "cell_type": "code",
   "execution_count": null,
   "metadata": {},
   "outputs": [],
   "source": [
    "\n",
    "f,subs = plt.subplots(9,1)\n",
    "f.set_size_inches(16,32)\n",
    "\n",
    "enrichments_vs_all[\"starts\"] = oligos_lib.starts\n",
    "#enrichments_vs_all[\"starts\"] = oligos_lib.starts\n",
    "\n",
    "s1 = subs[0]\n",
    "s2 = subs[1]\n",
    "s3 = subs[2]\n",
    "\n",
    "etype = enrichments\n",
    "\n",
    "#enrichments = enrichments.join(oi2,other=oligos_lib,on=\"id\")\n",
    "for i in range(8):\n",
    "    print i\n",
    "    filter_loc =enrichments.mutant_num == 0\n",
    "    s1.scatter(flt.loc[filter_loc].starts,enrichments_vs_all.loc[filter_loc].iloc[:,i])\n",
    "\n",
    "    \n",
    "m0 = etype.loc[oligos_lib.mutant_num == 0]\n",
    "for k in range(1,6):\n",
    "    m1 = etype.loc[oligos_lib.mutant_num == k]\n",
    "    print(k)\n",
    "    #enr = enrichments_vs_all.iloc[:,]\n",
    "    for i in range(8):\n",
    "        print i\n",
    "\n",
    "        mseries = pd.Series(m1.iloc[:,i].values, index = m1.apply(lambda x: oligos_lib.loc[x.name].starts,axis=1).values)\n",
    "        m0series = pd.Series(m0.iloc[:,i].values, index = m0.apply(lambda x: oligos_lib.loc[x.name].starts,axis=1).values)\n",
    "        \n",
    "        subs[i+1].plot((m0series / mseries).index,np.log(m0series / mseries),\"o\")\n",
    "        subs[i+1].set_xlim(275000,300000)\n",
    "s1.set_title(\"unmutated expression levels\")\n",
    "s2.set_title(\"WT vs mutant expression \")\n",
    "\n"
   ]
  },
  {
   "cell_type": "code",
   "execution_count": null,
   "metadata": {},
   "outputs": [],
   "source": [
    "plt.scatter(m1.starts.values,m1.iloc[:,0])"
   ]
  },
  {
   "cell_type": "code",
   "execution_count": null,
   "metadata": {},
   "outputs": [],
   "source": []
  },
  {
   "cell_type": "code",
   "execution_count": null,
   "metadata": {},
   "outputs": [],
   "source": [
    "enrichments_vs_all.iloc[:,:-1]"
   ]
  },
  {
   "cell_type": "code",
   "execution_count": null,
   "metadata": {},
   "outputs": [],
   "source": [
    "oligo_info2.to_csv(\"../data/0301_oligo_summary_stats.csv\")\n",
    "enrichments_vs_all.iloc[:,:-1].to_csv(\"../data/0301_enrichment_data.csv\")"
   ]
  },
  {
   "cell_type": "code",
   "execution_count": null,
   "metadata": {},
   "outputs": [],
   "source": [
    "ba"
   ]
  },
  {
   "cell_type": "code",
   "execution_count": null,
   "metadata": {},
   "outputs": [],
   "source": [
    "m0vals = enrichments_vs_all.loc[set(oi2.loc[oi2.mutant_num==0].oligo)]\n",
    "\n",
    "#plt.plot(m0vals.starts,m0vals.iloc[:,:8].apply(lambda x:x.iloc[:8].mean(),axis=1),\"o\")\n",
    "m0vals.fillna(0)\n",
    "m0vals = m0vals.sort_values(\"starts\")\n",
    "\n",
    "plt.plot(m0vals.starts,m0vals.iloc[:,:8].apply(lambda x:x.iloc[:8].mean(),axis=1))"
   ]
  },
  {
   "cell_type": "code",
   "execution_count": null,
   "metadata": {},
   "outputs": [],
   "source": [
    "from scipy import signal\n",
    "import scipy\n",
    "import scipy.signal\n",
    "\n",
    "f,subs = plt.subplots(1,1)\n",
    "f.set_size_inches(12,6)\n",
    "#scipy.signal.find_peaks(m0sig.signal)\n",
    "\n",
    "\n",
    "m0vals = enrichments_vs_all.loc[set(oi2.loc[oi2.mutant_num==0].oligo)]\n",
    "m0vals.fillna(0)\n",
    "m0vals = m0vals.sort_values(\"starts\")\n",
    "plt.plot(m0vals.starts,m0vals.iloc[:,:2].apply(lambda x:x.iloc[:8].mean(),axis=1))\n",
    "m0sig = pd.concat([pd.Series(oligos_lib.loc[oligos_lib.mutant_num==0].join(m0vals.iloc[:,:8]).iloc[:,-8:].mean(axis=1),name=\"signal\"),\n",
    "                             oligos_lib.starts.loc[oligos_lib.mutant_num==0]],axis=1)\n",
    "m0sig = m0sig.fillna(0)\n",
    "\n",
    "m0sig = m0sig.sort_values(\"starts\")\n",
    "#newstarts = np.arange(m0sig.starts.min(),m0sig.starts.max(),30)\n",
    "m0sig = m0sig.set_index(m0sig.starts).signal\n",
    "\n",
    "data = m0sig\n",
    "\n",
    "peakwidth =10\n",
    "cwdata = scipy.signal.cwt(data, signal.ricker, np.arange(peakwidth,peakwidth+1))[0]\n",
    "\n",
    "#cwpeaks = scipy.signal.find_peaks_cwt(data,[50,50],signal.ricker)\n",
    "#plt.plot(scipy.signal.cwt(data, signal.ricker, np.arange(10,50)).transpose())\n",
    "#plt.scatter(cwpeaks, cwpeaks*0+.05)\n",
    "\n",
    "peaks,_ = scipy.signal.find_peaks(cwdata)\n",
    "results_half = signal.peak_widths(cwdata, peaks, rel_height=0.5)\n",
    "results_full = signal.peak_widths(cwdata, peaks, rel_height=1)\n",
    "\n",
    "plt.plot(m0sig.index,cwdata)\n",
    "plt.plot(m0sig.index,data)\n",
    "plt.plot(m0sig.index[peaks], cwdata[peaks], \"x\")\n",
    "plt.hlines(*results_half[1:], color=\"C2\")\n",
    "plt.hlines(*results_full[1:], color=\"C3\")\n",
    "#plt.scatter(m0sig.starts/30, m0sig.signal)\n",
    "\n"
   ]
  },
  {
   "cell_type": "code",
   "execution_count": null,
   "metadata": {},
   "outputs": [],
   "source": [
    "plt.gcf().set_size_inches(12,4)\n",
    "plt.plot(m0sig.index,cwdata)\n",
    "plt.plot(m0sig.index,data)\n",
    "plt.plot(m0sig.index[peaks], cwdata[peaks], \"x\")\n",
    "plt.hlines(*results_half[1:], color=\"C2\")\n",
    "plt.hlines(*results_full[1:], color=\"C3\")\n",
    "plt.gca().set_xlim(250000,275000)"
   ]
  },
  {
   "cell_type": "code",
   "execution_count": null,
   "metadata": {},
   "outputs": [],
   "source": []
  },
  {
   "cell_type": "code",
   "execution_count": null,
   "metadata": {},
   "outputs": [],
   "source": [
    "a = h1[0]\n",
    "hr[:100]"
   ]
  },
  {
   "cell_type": "code",
   "execution_count": null,
   "metadata": {},
   "outputs": [],
   "source": [
    "plt.gcf().set_size_inches(12,4)\n",
    "#plt.hist(m0sig.index,np.linspace(0,600000,600000/30/1),weights=m0sig,density=True,histtype=\"step\")\n",
    "#plt.hist(m0sig.index,np.linspace(0,600000,600000/30/1),density=True,histtype=\"step\")\n",
    "\n",
    "h1 = np.histogram(m0sig.index,np.linspace(0,600000,600000/30/2+1),weights=m0sig,density=True)\n",
    "h2 = np.histogram(m0sig.index,np.linspace(0,600000,600000/30/2+1),density=True)\n",
    "\n",
    "hr = h1[0]/h2[0]\n",
    "hr[np.isnan(hr)] = np.percentile(hr[np.isfinite(hr)],10)\n",
    "#hr[np.isnan(hr)] = 0\n",
    "plt.plot(h1[1][:-1],hr)\n",
    "\n",
    "plt.gca().set_xlim(250000,275000)\n",
    "pass"
   ]
  },
  {
   "cell_type": "code",
   "execution_count": null,
   "metadata": {},
   "outputs": [],
   "source": []
  },
  {
   "cell_type": "code",
   "execution_count": null,
   "metadata": {},
   "outputs": [],
   "source": [
    "newdata = pd.Series(hr,name=\"signal\",index = h1[1][:-1])\n",
    "data = newdata\n",
    "peakwidth =5\n",
    "cwdata = scipy.signal.cwt(data, signal.ricker, np.arange(peakwidth,peakwidth+1))[0]\n",
    "\n",
    "\n",
    "#cwpeaks = scipy.signal.find_peaks_cwt(data,[50,50],signal.ricker)\n",
    "#plt.plot(scipy.signal.cwt(data, signal.ricker, np.arange(10,50)).transpose())\n",
    "#plt.scatter(cwpeaks, cwpeaks*0+.05)\n",
    "\n",
    "peaks,_ = scipy.signal.find_peaks(cwdata,prominence=.25)\n",
    "results_half = signal.peak_widths(cwdata, peaks, rel_height=0.5)\n",
    "results_full = signal.peak_widths(cwdata, peaks, rel_height=1)\n",
    "\n",
    "\n",
    "f,subs = plt.subplots(1,1)\n",
    "f.set_size_inches(12,6)\n",
    "\n",
    "plt.plot(data.index,cwdata)\n",
    "plt.plot(data.index,data)\n",
    "plt.plot(data.index[peaks], cwdata[peaks], \"x\")\n",
    "plt.hlines(*results_half[1:], color=\"C2\")\n",
    "plt.hlines(*results_full[1:], color=\"C3\")\n",
    "\n",
    "plt.gca().set_xlim(250000,275000)"
   ]
  },
  {
   "cell_type": "code",
   "execution_count": null,
   "metadata": {},
   "outputs": [],
   "source": [
    "cwdata"
   ]
  },
  {
   "cell_type": "code",
   "execution_count": null,
   "metadata": {},
   "outputs": [],
   "source": [
    "m0sig"
   ]
  },
  {
   "cell_type": "code",
   "execution_count": null,
   "metadata": {},
   "outputs": [],
   "source": [
    "plt.plot(m0sig.starts)"
   ]
  },
  {
   "cell_type": "code",
   "execution_count": null,
   "metadata": {},
   "outputs": [],
   "source": [
    "#m0vals.groupby(\"starts\").mean()\n",
    "#m0vals"
   ]
  },
  {
   "cell_type": "code",
   "execution_count": null,
   "metadata": {},
   "outputs": [],
   "source": [
    "plt.plot(m0vals.groupby(\"starts\").mean())"
   ]
  },
  {
   "cell_type": "code",
   "execution_count": null,
   "metadata": {},
   "outputs": [],
   "source": [
    "plt.plot(mseries.starts,mseries, \"o\")"
   ]
  },
  {
   "cell_type": "code",
   "execution_count": null,
   "metadata": {},
   "outputs": [],
   "source": [
    "oligos_lib.starts"
   ]
  },
  {
   "cell_type": "code",
   "execution_count": null,
   "metadata": {},
   "outputs": [],
   "source": []
  },
  {
   "cell_type": "code",
   "execution_count": null,
   "metadata": {},
   "outputs": [],
   "source": [
    "oi2.groupby(\"locus_ids\")\n",
    "\n",
    "m1 = enrichments_vs_all.loc[oligos_lib.mutant_num == 1].iloc[:,0]\n",
    "m0 = enrichments_vs_all.loc[oligos_lib.mutant_num == 0].iloc[:,0]\n",
    "\n",
    "mseries = pd.Series(m1.values, index = m1.apply(lambda x: oligos_lib.loc[x.name].locus_ids).values)\n",
    "m0series = pd.Series(m0.values, index = m0.apply(lambda x: oligos_lib.loc[x.name].locus_ids).values)\n",
    "\n",
    "#enrichments_vs_all.loc[oligos_lib.mutant_num == 1].iloc[:,1]\n",
    "#m1.apply(lambda x: oligos_lib.loc[x.name].locus_ids,axis=1)\n"
   ]
  },
  {
   "cell_type": "code",
   "execution_count": null,
   "metadata": {},
   "outputs": [],
   "source": [
    "mseries - m0series"
   ]
  },
  {
   "cell_type": "code",
   "execution_count": null,
   "metadata": {},
   "outputs": [],
   "source": [
    "len(enrichments.loc[enrichments.mutant_num == k].iloc[:,i])"
   ]
  },
  {
   "cell_type": "code",
   "execution_count": null,
   "metadata": {},
   "outputs": [],
   "source": [
    "len(enrichments_vs_all.loc[enrichments.mutant_num == k].iloc[:,i] \\\n",
    "                - enrichments_vs_all.loc[enrichments.mutant_num == 0].iloc[:,i])"
   ]
  },
  {
   "cell_type": "code",
   "execution_count": null,
   "metadata": {},
   "outputs": [],
   "source": [
    "len(enrichments_vs_all.loc[enrichments.mutant_num == 0])"
   ]
  },
  {
   "cell_type": "code",
   "execution_count": null,
   "metadata": {},
   "outputs": [],
   "source": []
  }
 ],
 "metadata": {
  "kernelspec": {
   "display_name": "Python 2",
   "language": "python",
   "name": "python2"
  },
  "language_info": {
   "codemirror_mode": {
    "name": "ipython",
    "version": 2
   },
   "file_extension": ".py",
   "mimetype": "text/x-python",
   "name": "python",
   "nbconvert_exporter": "python",
   "pygments_lexer": "ipython2",
   "version": "2.7.15"
  }
 },
 "nbformat": 4,
 "nbformat_minor": 2
}
