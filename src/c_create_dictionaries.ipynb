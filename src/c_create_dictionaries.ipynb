{
 "cells": [
  {
   "cell_type": "code",
   "execution_count": 1,
   "metadata": {},
   "outputs": [],
   "source": [
    "import pandas as pd\n",
    "import numpy as np\n",
    "import itertools as it\n",
    "import os,re\n",
    "\n",
    "fa_found = []\n",
    "def wfun(arg,dirname,fnames):\n",
    "    for f in fnames:\n",
    "        if f[-2:]==\"fa\":\n",
    "            fa_found.append(os.path.join(dirname,f))\n",
    "os.path.walk(\"../out/b_demultiplex/\",wfun,None)\n",
    "            \n",
    "def list_umis(split=\"0\",exp=\"HCT116_Gemcitabine2uM_BR2\"):\n",
    "    f_infos = dict([[fn,re.compile(\"(?P<exp>[^/]*)/R(?P<rnum>[12])_(?P<split>\\d+).fa\").search(fn).groupdict()] \n",
    "                     for fn in fa_found])\n",
    "    f1 = [k for k,v in f_infos.items() if v[\"rnum\"] == \"1\" and v[\"split\"]==split and v[\"exp\"]==exp][0] \n",
    "    f2 = [k for k,v in f_infos.items() if v[\"rnum\"] == \"2\" and v[\"split\"]==split and v[\"exp\"]==exp][0] \n",
    "                \n",
    "    umis = []\n",
    "    t_umis = []\n",
    "    with open(f1) as f1open:\n",
    "      with open(f2) as f2open:\n",
    "        i = -1\n",
    "        while 1:\n",
    "            i+=1\n",
    "            try:\n",
    "                l1 = f1open.next()\n",
    "                l2 = f2open.next()\n",
    "            except StopIteration:\n",
    "                break\n",
    "\n",
    "            if i %2 == 0: continue\n",
    "            if \"N\" in l2[:16]: continue\n",
    "            umi = l2[:15].strip()\n",
    "            umis.append(umi)          \n",
    "            t_umi = l1[:10].strip()\n",
    "            t_umis.append(t_umi)\n",
    "    return umis, t_umis"
   ]
  },
  {
   "cell_type": "code",
   "execution_count": null,
   "metadata": {},
   "outputs": [],
   "source": []
  }
 ],
 "metadata": {
  "kernelspec": {
   "display_name": "Python 2",
   "language": "python",
   "name": "python2"
  },
  "language_info": {
   "codemirror_mode": {
    "name": "ipython",
    "version": 2
   },
   "file_extension": ".py",
   "mimetype": "text/x-python",
   "name": "python",
   "nbconvert_exporter": "python",
   "pygments_lexer": "ipython2",
   "version": "2.7.15"
  }
 },
 "nbformat": 4,
 "nbformat_minor": 2
}
